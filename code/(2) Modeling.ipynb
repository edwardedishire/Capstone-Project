{
 "cells": [
  {
   "cell_type": "markdown",
   "metadata": {},
   "source": [
    "## Imports"
   ]
  },
  {
   "cell_type": "code",
   "execution_count": 51,
   "metadata": {},
   "outputs": [],
   "source": [
    "# Main imports\n",
    "import requests\n",
    "import pandas as pd\n",
    "import numpy as np\n",
    "import matplotlib.pyplot as plt\n",
    "import seaborn as sns\n",
    "import random\n",
    "import string\n",
    "import plotly.graph_objects as go\n",
    "\n",
    "# sklearn models\n",
    "from sklearn.model_selection import train_test_split, cross_val_score\n",
    "from sklearn.linear_model import LinearRegression\n",
    "from sklearn.metrics import r2_score\n",
    "import sklearn.metrics as metrics\n",
    "\n",
    "from sklearn.linear_model import LinearRegression, Lasso, LassoCV, Ridge, RidgeCV\n",
    "from sklearn.model_selection import train_test_split, cross_val_score, KFold, cross_val_predict\n",
    "from sklearn.preprocessing import PolynomialFeatures, StandardScaler\n",
    "\n",
    "\n",
    "from sklearn.feature_selection import SelectFromModel\n",
    "from sklearn.ensemble import RandomForestRegressor\n",
    "from sklearn.metrics import confusion_matrix, plot_confusion_matrix, accuracy_score\n",
    "from sklearn.metrics import roc_auc_score, roc_curve, auc\n",
    "\n",
    "\n",
    "# Other relevant imports\n",
    "import warnings\n",
    "warnings.filterwarnings('ignore')\n",
    "\n",
    "import os\n",
    "os.environ['KMP_DUPLICATE_LIB_OK']='True'\n",
    "\n",
    "pd.set_option('max_rows',None)\n",
    "%matplotlib inline\n",
    "sns.set()"
   ]
  },
  {
   "cell_type": "code",
   "execution_count": 2,
   "metadata": {},
   "outputs": [],
   "source": [
    "# Loading the necessary datasets\n",
    "df = pd.read_csv('../data/df_clean.csv')\n",
    "#XXX = pd.read_csv('./data/XXXX.csv')\n",
    "#XXX = pd.read_csv('./data/XXX.csv')"
   ]
  },
  {
   "cell_type": "code",
   "execution_count": 3,
   "metadata": {},
   "outputs": [
    {
     "data": {
      "text/html": [
       "<div>\n",
       "<style scoped>\n",
       "    .dataframe tbody tr th:only-of-type {\n",
       "        vertical-align: middle;\n",
       "    }\n",
       "\n",
       "    .dataframe tbody tr th {\n",
       "        vertical-align: top;\n",
       "    }\n",
       "\n",
       "    .dataframe thead th {\n",
       "        text-align: right;\n",
       "    }\n",
       "</style>\n",
       "<table border=\"1\" class=\"dataframe\">\n",
       "  <thead>\n",
       "    <tr style=\"text-align: right;\">\n",
       "      <th></th>\n",
       "      <th>0</th>\n",
       "      <th>1</th>\n",
       "      <th>2</th>\n",
       "      <th>3</th>\n",
       "      <th>4</th>\n",
       "    </tr>\n",
       "  </thead>\n",
       "  <tbody>\n",
       "    <tr>\n",
       "      <th>ID</th>\n",
       "      <td>158023</td>\n",
       "      <td>20801</td>\n",
       "      <td>190871</td>\n",
       "      <td>193080</td>\n",
       "      <td>192985</td>\n",
       "    </tr>\n",
       "    <tr>\n",
       "      <th>Name</th>\n",
       "      <td>L. Messi</td>\n",
       "      <td>Cristiano Ronaldo</td>\n",
       "      <td>Neymar Jr</td>\n",
       "      <td>De Gea</td>\n",
       "      <td>K. De Bruyne</td>\n",
       "    </tr>\n",
       "    <tr>\n",
       "      <th>Age</th>\n",
       "      <td>31</td>\n",
       "      <td>33</td>\n",
       "      <td>26</td>\n",
       "      <td>27</td>\n",
       "      <td>27</td>\n",
       "    </tr>\n",
       "    <tr>\n",
       "      <th>Nationality</th>\n",
       "      <td>Argentina</td>\n",
       "      <td>Portugal</td>\n",
       "      <td>Brazil</td>\n",
       "      <td>Spain</td>\n",
       "      <td>Belgium</td>\n",
       "    </tr>\n",
       "    <tr>\n",
       "      <th>Overall</th>\n",
       "      <td>94</td>\n",
       "      <td>94</td>\n",
       "      <td>92</td>\n",
       "      <td>91</td>\n",
       "      <td>91</td>\n",
       "    </tr>\n",
       "    <tr>\n",
       "      <th>Potential</th>\n",
       "      <td>94</td>\n",
       "      <td>94</td>\n",
       "      <td>93</td>\n",
       "      <td>93</td>\n",
       "      <td>92</td>\n",
       "    </tr>\n",
       "    <tr>\n",
       "      <th>Club</th>\n",
       "      <td>FC Barcelona</td>\n",
       "      <td>Juventus</td>\n",
       "      <td>Paris Saint-Germain</td>\n",
       "      <td>Manchester United</td>\n",
       "      <td>Manchester City</td>\n",
       "    </tr>\n",
       "    <tr>\n",
       "      <th>Value</th>\n",
       "      <td>1.105e+08</td>\n",
       "      <td>7.7e+07</td>\n",
       "      <td>1.185e+08</td>\n",
       "      <td>7.2e+07</td>\n",
       "      <td>1.02e+08</td>\n",
       "    </tr>\n",
       "    <tr>\n",
       "      <th>Wage</th>\n",
       "      <td>565000</td>\n",
       "      <td>405000</td>\n",
       "      <td>290000</td>\n",
       "      <td>260000</td>\n",
       "      <td>355000</td>\n",
       "    </tr>\n",
       "    <tr>\n",
       "      <th>Preferred Foot</th>\n",
       "      <td>Left</td>\n",
       "      <td>Right</td>\n",
       "      <td>Right</td>\n",
       "      <td>Right</td>\n",
       "      <td>Right</td>\n",
       "    </tr>\n",
       "    <tr>\n",
       "      <th>International Reputation</th>\n",
       "      <td>5</td>\n",
       "      <td>5</td>\n",
       "      <td>5</td>\n",
       "      <td>4</td>\n",
       "      <td>4</td>\n",
       "    </tr>\n",
       "    <tr>\n",
       "      <th>Weak Foot</th>\n",
       "      <td>4</td>\n",
       "      <td>4</td>\n",
       "      <td>5</td>\n",
       "      <td>3</td>\n",
       "      <td>5</td>\n",
       "    </tr>\n",
       "    <tr>\n",
       "      <th>Skill Moves</th>\n",
       "      <td>4</td>\n",
       "      <td>5</td>\n",
       "      <td>5</td>\n",
       "      <td>1</td>\n",
       "      <td>4</td>\n",
       "    </tr>\n",
       "    <tr>\n",
       "      <th>Work Rate</th>\n",
       "      <td>Medium/ Medium</td>\n",
       "      <td>High/ Low</td>\n",
       "      <td>High/ Medium</td>\n",
       "      <td>Medium/ Medium</td>\n",
       "      <td>High/ High</td>\n",
       "    </tr>\n",
       "    <tr>\n",
       "      <th>Body Type</th>\n",
       "      <td>Lean</td>\n",
       "      <td>Stocky</td>\n",
       "      <td>Lean</td>\n",
       "      <td>Lean</td>\n",
       "      <td>Normal</td>\n",
       "    </tr>\n",
       "    <tr>\n",
       "      <th>Position</th>\n",
       "      <td>RF</td>\n",
       "      <td>ST</td>\n",
       "      <td>LW</td>\n",
       "      <td>GK</td>\n",
       "      <td>RCM</td>\n",
       "    </tr>\n",
       "    <tr>\n",
       "      <th>Contract Valid Until</th>\n",
       "      <td>2021</td>\n",
       "      <td>2022</td>\n",
       "      <td>2022</td>\n",
       "      <td>2020</td>\n",
       "      <td>2023</td>\n",
       "    </tr>\n",
       "    <tr>\n",
       "      <th>Height</th>\n",
       "      <td>5'7</td>\n",
       "      <td>6'2</td>\n",
       "      <td>5'9</td>\n",
       "      <td>6'4</td>\n",
       "      <td>5'11</td>\n",
       "    </tr>\n",
       "    <tr>\n",
       "      <th>Weight</th>\n",
       "      <td>159lbs</td>\n",
       "      <td>183lbs</td>\n",
       "      <td>150lbs</td>\n",
       "      <td>168lbs</td>\n",
       "      <td>154lbs</td>\n",
       "    </tr>\n",
       "    <tr>\n",
       "      <th>Crossing</th>\n",
       "      <td>84</td>\n",
       "      <td>84</td>\n",
       "      <td>79</td>\n",
       "      <td>17</td>\n",
       "      <td>93</td>\n",
       "    </tr>\n",
       "    <tr>\n",
       "      <th>Finishing</th>\n",
       "      <td>95</td>\n",
       "      <td>94</td>\n",
       "      <td>87</td>\n",
       "      <td>13</td>\n",
       "      <td>82</td>\n",
       "    </tr>\n",
       "    <tr>\n",
       "      <th>HeadingAccuracy</th>\n",
       "      <td>70</td>\n",
       "      <td>89</td>\n",
       "      <td>62</td>\n",
       "      <td>21</td>\n",
       "      <td>55</td>\n",
       "    </tr>\n",
       "    <tr>\n",
       "      <th>ShortPassing</th>\n",
       "      <td>90</td>\n",
       "      <td>81</td>\n",
       "      <td>84</td>\n",
       "      <td>50</td>\n",
       "      <td>92</td>\n",
       "    </tr>\n",
       "    <tr>\n",
       "      <th>Volleys</th>\n",
       "      <td>86</td>\n",
       "      <td>87</td>\n",
       "      <td>84</td>\n",
       "      <td>13</td>\n",
       "      <td>82</td>\n",
       "    </tr>\n",
       "    <tr>\n",
       "      <th>Dribbling</th>\n",
       "      <td>97</td>\n",
       "      <td>88</td>\n",
       "      <td>96</td>\n",
       "      <td>18</td>\n",
       "      <td>86</td>\n",
       "    </tr>\n",
       "    <tr>\n",
       "      <th>Curve</th>\n",
       "      <td>93</td>\n",
       "      <td>81</td>\n",
       "      <td>88</td>\n",
       "      <td>21</td>\n",
       "      <td>85</td>\n",
       "    </tr>\n",
       "    <tr>\n",
       "      <th>FKAccuracy</th>\n",
       "      <td>94</td>\n",
       "      <td>76</td>\n",
       "      <td>87</td>\n",
       "      <td>19</td>\n",
       "      <td>83</td>\n",
       "    </tr>\n",
       "    <tr>\n",
       "      <th>LongPassing</th>\n",
       "      <td>87</td>\n",
       "      <td>77</td>\n",
       "      <td>78</td>\n",
       "      <td>51</td>\n",
       "      <td>91</td>\n",
       "    </tr>\n",
       "    <tr>\n",
       "      <th>BallControl</th>\n",
       "      <td>96</td>\n",
       "      <td>94</td>\n",
       "      <td>95</td>\n",
       "      <td>42</td>\n",
       "      <td>91</td>\n",
       "    </tr>\n",
       "    <tr>\n",
       "      <th>Acceleration</th>\n",
       "      <td>91</td>\n",
       "      <td>89</td>\n",
       "      <td>94</td>\n",
       "      <td>57</td>\n",
       "      <td>78</td>\n",
       "    </tr>\n",
       "    <tr>\n",
       "      <th>SprintSpeed</th>\n",
       "      <td>86</td>\n",
       "      <td>91</td>\n",
       "      <td>90</td>\n",
       "      <td>58</td>\n",
       "      <td>76</td>\n",
       "    </tr>\n",
       "    <tr>\n",
       "      <th>Agility</th>\n",
       "      <td>91</td>\n",
       "      <td>87</td>\n",
       "      <td>96</td>\n",
       "      <td>60</td>\n",
       "      <td>79</td>\n",
       "    </tr>\n",
       "    <tr>\n",
       "      <th>Reactions</th>\n",
       "      <td>95</td>\n",
       "      <td>96</td>\n",
       "      <td>94</td>\n",
       "      <td>90</td>\n",
       "      <td>91</td>\n",
       "    </tr>\n",
       "    <tr>\n",
       "      <th>Balance</th>\n",
       "      <td>95</td>\n",
       "      <td>70</td>\n",
       "      <td>84</td>\n",
       "      <td>43</td>\n",
       "      <td>77</td>\n",
       "    </tr>\n",
       "    <tr>\n",
       "      <th>ShotPower</th>\n",
       "      <td>85</td>\n",
       "      <td>95</td>\n",
       "      <td>80</td>\n",
       "      <td>31</td>\n",
       "      <td>91</td>\n",
       "    </tr>\n",
       "    <tr>\n",
       "      <th>Jumping</th>\n",
       "      <td>68</td>\n",
       "      <td>95</td>\n",
       "      <td>61</td>\n",
       "      <td>67</td>\n",
       "      <td>63</td>\n",
       "    </tr>\n",
       "    <tr>\n",
       "      <th>Stamina</th>\n",
       "      <td>72</td>\n",
       "      <td>88</td>\n",
       "      <td>81</td>\n",
       "      <td>43</td>\n",
       "      <td>90</td>\n",
       "    </tr>\n",
       "    <tr>\n",
       "      <th>Strength</th>\n",
       "      <td>59</td>\n",
       "      <td>79</td>\n",
       "      <td>49</td>\n",
       "      <td>64</td>\n",
       "      <td>75</td>\n",
       "    </tr>\n",
       "    <tr>\n",
       "      <th>LongShots</th>\n",
       "      <td>94</td>\n",
       "      <td>93</td>\n",
       "      <td>82</td>\n",
       "      <td>12</td>\n",
       "      <td>91</td>\n",
       "    </tr>\n",
       "    <tr>\n",
       "      <th>Aggression</th>\n",
       "      <td>48</td>\n",
       "      <td>63</td>\n",
       "      <td>56</td>\n",
       "      <td>38</td>\n",
       "      <td>76</td>\n",
       "    </tr>\n",
       "    <tr>\n",
       "      <th>Interceptions</th>\n",
       "      <td>22</td>\n",
       "      <td>29</td>\n",
       "      <td>36</td>\n",
       "      <td>30</td>\n",
       "      <td>61</td>\n",
       "    </tr>\n",
       "    <tr>\n",
       "      <th>Positioning</th>\n",
       "      <td>94</td>\n",
       "      <td>95</td>\n",
       "      <td>89</td>\n",
       "      <td>12</td>\n",
       "      <td>87</td>\n",
       "    </tr>\n",
       "    <tr>\n",
       "      <th>Vision</th>\n",
       "      <td>94</td>\n",
       "      <td>82</td>\n",
       "      <td>87</td>\n",
       "      <td>68</td>\n",
       "      <td>94</td>\n",
       "    </tr>\n",
       "    <tr>\n",
       "      <th>Penalties</th>\n",
       "      <td>75</td>\n",
       "      <td>85</td>\n",
       "      <td>81</td>\n",
       "      <td>40</td>\n",
       "      <td>79</td>\n",
       "    </tr>\n",
       "    <tr>\n",
       "      <th>Composure</th>\n",
       "      <td>96</td>\n",
       "      <td>95</td>\n",
       "      <td>94</td>\n",
       "      <td>68</td>\n",
       "      <td>88</td>\n",
       "    </tr>\n",
       "    <tr>\n",
       "      <th>Marking</th>\n",
       "      <td>33</td>\n",
       "      <td>28</td>\n",
       "      <td>27</td>\n",
       "      <td>15</td>\n",
       "      <td>68</td>\n",
       "    </tr>\n",
       "    <tr>\n",
       "      <th>StandingTackle</th>\n",
       "      <td>28</td>\n",
       "      <td>31</td>\n",
       "      <td>24</td>\n",
       "      <td>21</td>\n",
       "      <td>58</td>\n",
       "    </tr>\n",
       "    <tr>\n",
       "      <th>SlidingTackle</th>\n",
       "      <td>26</td>\n",
       "      <td>23</td>\n",
       "      <td>33</td>\n",
       "      <td>13</td>\n",
       "      <td>51</td>\n",
       "    </tr>\n",
       "    <tr>\n",
       "      <th>GKDiving</th>\n",
       "      <td>6</td>\n",
       "      <td>7</td>\n",
       "      <td>9</td>\n",
       "      <td>90</td>\n",
       "      <td>15</td>\n",
       "    </tr>\n",
       "    <tr>\n",
       "      <th>GKHandling</th>\n",
       "      <td>11</td>\n",
       "      <td>11</td>\n",
       "      <td>9</td>\n",
       "      <td>85</td>\n",
       "      <td>13</td>\n",
       "    </tr>\n",
       "    <tr>\n",
       "      <th>GKKicking</th>\n",
       "      <td>15</td>\n",
       "      <td>15</td>\n",
       "      <td>15</td>\n",
       "      <td>87</td>\n",
       "      <td>5</td>\n",
       "    </tr>\n",
       "    <tr>\n",
       "      <th>GKPositioning</th>\n",
       "      <td>14</td>\n",
       "      <td>14</td>\n",
       "      <td>15</td>\n",
       "      <td>88</td>\n",
       "      <td>10</td>\n",
       "    </tr>\n",
       "    <tr>\n",
       "      <th>GKReflexes</th>\n",
       "      <td>8</td>\n",
       "      <td>11</td>\n",
       "      <td>11</td>\n",
       "      <td>94</td>\n",
       "      <td>13</td>\n",
       "    </tr>\n",
       "  </tbody>\n",
       "</table>\n",
       "</div>"
      ],
      "text/plain": [
       "                                       0                  1  \\\n",
       "ID                                158023              20801   \n",
       "Name                            L. Messi  Cristiano Ronaldo   \n",
       "Age                                   31                 33   \n",
       "Nationality                    Argentina           Portugal   \n",
       "Overall                               94                 94   \n",
       "Potential                             94                 94   \n",
       "Club                        FC Barcelona           Juventus   \n",
       "Value                          1.105e+08            7.7e+07   \n",
       "Wage                              565000             405000   \n",
       "Preferred Foot                      Left              Right   \n",
       "International Reputation               5                  5   \n",
       "Weak Foot                              4                  4   \n",
       "Skill Moves                            4                  5   \n",
       "Work Rate                 Medium/ Medium          High/ Low   \n",
       "Body Type                           Lean             Stocky   \n",
       "Position                              RF                 ST   \n",
       "Contract Valid Until                2021               2022   \n",
       "Height                               5'7                6'2   \n",
       "Weight                            159lbs             183lbs   \n",
       "Crossing                              84                 84   \n",
       "Finishing                             95                 94   \n",
       "HeadingAccuracy                       70                 89   \n",
       "ShortPassing                          90                 81   \n",
       "Volleys                               86                 87   \n",
       "Dribbling                             97                 88   \n",
       "Curve                                 93                 81   \n",
       "FKAccuracy                            94                 76   \n",
       "LongPassing                           87                 77   \n",
       "BallControl                           96                 94   \n",
       "Acceleration                          91                 89   \n",
       "SprintSpeed                           86                 91   \n",
       "Agility                               91                 87   \n",
       "Reactions                             95                 96   \n",
       "Balance                               95                 70   \n",
       "ShotPower                             85                 95   \n",
       "Jumping                               68                 95   \n",
       "Stamina                               72                 88   \n",
       "Strength                              59                 79   \n",
       "LongShots                             94                 93   \n",
       "Aggression                            48                 63   \n",
       "Interceptions                         22                 29   \n",
       "Positioning                           94                 95   \n",
       "Vision                                94                 82   \n",
       "Penalties                             75                 85   \n",
       "Composure                             96                 95   \n",
       "Marking                               33                 28   \n",
       "StandingTackle                        28                 31   \n",
       "SlidingTackle                         26                 23   \n",
       "GKDiving                               6                  7   \n",
       "GKHandling                            11                 11   \n",
       "GKKicking                             15                 15   \n",
       "GKPositioning                         14                 14   \n",
       "GKReflexes                             8                 11   \n",
       "\n",
       "                                            2                  3  \\\n",
       "ID                                     190871             193080   \n",
       "Name                                Neymar Jr             De Gea   \n",
       "Age                                        26                 27   \n",
       "Nationality                            Brazil              Spain   \n",
       "Overall                                    92                 91   \n",
       "Potential                                  93                 93   \n",
       "Club                      Paris Saint-Germain  Manchester United   \n",
       "Value                               1.185e+08            7.2e+07   \n",
       "Wage                                   290000             260000   \n",
       "Preferred Foot                          Right              Right   \n",
       "International Reputation                    5                  4   \n",
       "Weak Foot                                   5                  3   \n",
       "Skill Moves                                 5                  1   \n",
       "Work Rate                        High/ Medium     Medium/ Medium   \n",
       "Body Type                                Lean               Lean   \n",
       "Position                                   LW                 GK   \n",
       "Contract Valid Until                     2022               2020   \n",
       "Height                                    5'9                6'4   \n",
       "Weight                                 150lbs             168lbs   \n",
       "Crossing                                   79                 17   \n",
       "Finishing                                  87                 13   \n",
       "HeadingAccuracy                            62                 21   \n",
       "ShortPassing                               84                 50   \n",
       "Volleys                                    84                 13   \n",
       "Dribbling                                  96                 18   \n",
       "Curve                                      88                 21   \n",
       "FKAccuracy                                 87                 19   \n",
       "LongPassing                                78                 51   \n",
       "BallControl                                95                 42   \n",
       "Acceleration                               94                 57   \n",
       "SprintSpeed                                90                 58   \n",
       "Agility                                    96                 60   \n",
       "Reactions                                  94                 90   \n",
       "Balance                                    84                 43   \n",
       "ShotPower                                  80                 31   \n",
       "Jumping                                    61                 67   \n",
       "Stamina                                    81                 43   \n",
       "Strength                                   49                 64   \n",
       "LongShots                                  82                 12   \n",
       "Aggression                                 56                 38   \n",
       "Interceptions                              36                 30   \n",
       "Positioning                                89                 12   \n",
       "Vision                                     87                 68   \n",
       "Penalties                                  81                 40   \n",
       "Composure                                  94                 68   \n",
       "Marking                                    27                 15   \n",
       "StandingTackle                             24                 21   \n",
       "SlidingTackle                              33                 13   \n",
       "GKDiving                                    9                 90   \n",
       "GKHandling                                  9                 85   \n",
       "GKKicking                                  15                 87   \n",
       "GKPositioning                              15                 88   \n",
       "GKReflexes                                 11                 94   \n",
       "\n",
       "                                        4  \n",
       "ID                                 192985  \n",
       "Name                         K. De Bruyne  \n",
       "Age                                    27  \n",
       "Nationality                       Belgium  \n",
       "Overall                                91  \n",
       "Potential                              92  \n",
       "Club                      Manchester City  \n",
       "Value                            1.02e+08  \n",
       "Wage                               355000  \n",
       "Preferred Foot                      Right  \n",
       "International Reputation                4  \n",
       "Weak Foot                               5  \n",
       "Skill Moves                             4  \n",
       "Work Rate                      High/ High  \n",
       "Body Type                          Normal  \n",
       "Position                              RCM  \n",
       "Contract Valid Until                 2023  \n",
       "Height                               5'11  \n",
       "Weight                             154lbs  \n",
       "Crossing                               93  \n",
       "Finishing                              82  \n",
       "HeadingAccuracy                        55  \n",
       "ShortPassing                           92  \n",
       "Volleys                                82  \n",
       "Dribbling                              86  \n",
       "Curve                                  85  \n",
       "FKAccuracy                             83  \n",
       "LongPassing                            91  \n",
       "BallControl                            91  \n",
       "Acceleration                           78  \n",
       "SprintSpeed                            76  \n",
       "Agility                                79  \n",
       "Reactions                              91  \n",
       "Balance                                77  \n",
       "ShotPower                              91  \n",
       "Jumping                                63  \n",
       "Stamina                                90  \n",
       "Strength                               75  \n",
       "LongShots                              91  \n",
       "Aggression                             76  \n",
       "Interceptions                          61  \n",
       "Positioning                            87  \n",
       "Vision                                 94  \n",
       "Penalties                              79  \n",
       "Composure                              88  \n",
       "Marking                                68  \n",
       "StandingTackle                         58  \n",
       "SlidingTackle                          51  \n",
       "GKDiving                               15  \n",
       "GKHandling                             13  \n",
       "GKKicking                               5  \n",
       "GKPositioning                          10  \n",
       "GKReflexes                             13  "
      ]
     },
     "execution_count": 3,
     "metadata": {},
     "output_type": "execute_result"
    }
   ],
   "source": [
    "df.head().T"
   ]
  },
  {
   "cell_type": "code",
   "execution_count": 4,
   "metadata": {},
   "outputs": [],
   "source": [
    "#df.dtypes"
   ]
  },
  {
   "cell_type": "code",
   "execution_count": 5,
   "metadata": {},
   "outputs": [
    {
     "data": {
      "text/plain": [
       "Index(['ID', 'Name', 'Age', 'Nationality', 'Overall', 'Potential', 'Club',\n",
       "       'Value', 'Wage', 'Preferred Foot', 'International Reputation',\n",
       "       'Weak Foot', 'Skill Moves', 'Work Rate', 'Body Type', 'Position',\n",
       "       'Contract Valid Until', 'Height', 'Weight', 'Crossing', 'Finishing',\n",
       "       'HeadingAccuracy', 'ShortPassing', 'Volleys', 'Dribbling', 'Curve',\n",
       "       'FKAccuracy', 'LongPassing', 'BallControl', 'Acceleration',\n",
       "       'SprintSpeed', 'Agility', 'Reactions', 'Balance', 'ShotPower',\n",
       "       'Jumping', 'Stamina', 'Strength', 'LongShots', 'Aggression',\n",
       "       'Interceptions', 'Positioning', 'Vision', 'Penalties', 'Composure',\n",
       "       'Marking', 'StandingTackle', 'SlidingTackle', 'GKDiving', 'GKHandling',\n",
       "       'GKKicking', 'GKPositioning', 'GKReflexes'],\n",
       "      dtype='object')"
      ]
     },
     "execution_count": 5,
     "metadata": {},
     "output_type": "execute_result"
    }
   ],
   "source": [
    "df.columns"
   ]
  },
  {
   "cell_type": "markdown",
   "metadata": {},
   "source": [
    "### Pre-Processing"
   ]
  },
  {
   "cell_type": "markdown",
   "metadata": {},
   "source": [
    "### Feature Engineering"
   ]
  },
  {
   "cell_type": "code",
   "execution_count": 6,
   "metadata": {},
   "outputs": [],
   "source": [
    "# Categorize players' positions \n",
    "# Adapted from Nitin Datta\n",
    "\n",
    "def main_position(df):\n",
    "    if (df['Position'] == 'GK'):\n",
    "        return 'GK'\n",
    "    elif ((df['Position'] == 'RB') | (df['Position'] == 'LB') | (df['Position'] == 'RWB') | (df['Position'] == 'LWB') ):\n",
    "        return 'FB'\n",
    "    elif ((df['Position'] == 'CB') | (df['Position'] == 'LCB') | (df['Position'] == 'RCB') ):\n",
    "        return 'CB'\n",
    "    elif ((df['Position'] == 'LDM') | (df['Position'] == 'CDM') | (df['Position'] == 'RDM')):\n",
    "        return 'CDM'\n",
    "    elif ((df['Position'] == 'LM') | (df['Position'] == 'RM') | (df['Position'] == 'LW') | (df['Position'] == 'RW')):\n",
    "        return 'WING'\n",
    "    elif ((df['Position'] == 'LCM') | (df['Position'] == 'CM') | (df['Position'] == 'RCM') ):\n",
    "        return 'CM'\n",
    "    elif ((df['Position'] == 'LAM') | (df['Position'] == 'CAM') | (df['Position'] == 'RAM') ):\n",
    "        return 'AM'\n",
    "    elif ((df['Position'] == 'RS') | (df['Position'] == 'ST') | (df['Position'] == 'LS') | (df['Position'] == 'CF') | (df['Position'] == 'LF') | (df['Position'] == 'RF')):\n",
    "        return 'ST'\n",
    "    else:\n",
    "        return df.Position"
   ]
  },
  {
   "cell_type": "code",
   "execution_count": 7,
   "metadata": {},
   "outputs": [],
   "source": [
    "# Binarize Preferred Foot\n",
    "df['Preferred Foot'] = df['Preferred Foot'].apply(lambda x: 1 if x  == 'Right' else 0)"
   ]
  },
  {
   "cell_type": "code",
   "execution_count": 8,
   "metadata": {},
   "outputs": [
    {
     "data": {
      "text/html": [
       "<div>\n",
       "<style scoped>\n",
       "    .dataframe tbody tr th:only-of-type {\n",
       "        vertical-align: middle;\n",
       "    }\n",
       "\n",
       "    .dataframe tbody tr th {\n",
       "        vertical-align: top;\n",
       "    }\n",
       "\n",
       "    .dataframe thead th {\n",
       "        text-align: right;\n",
       "    }\n",
       "</style>\n",
       "<table border=\"1\" class=\"dataframe\">\n",
       "  <thead>\n",
       "    <tr style=\"text-align: right;\">\n",
       "      <th></th>\n",
       "      <th>ID</th>\n",
       "      <th>Name</th>\n",
       "      <th>Age</th>\n",
       "      <th>Nationality</th>\n",
       "      <th>Overall</th>\n",
       "      <th>Potential</th>\n",
       "      <th>Club</th>\n",
       "      <th>Value</th>\n",
       "      <th>Wage</th>\n",
       "      <th>Preferred Foot</th>\n",
       "      <th>...</th>\n",
       "      <th>Penalties</th>\n",
       "      <th>Composure</th>\n",
       "      <th>Marking</th>\n",
       "      <th>StandingTackle</th>\n",
       "      <th>SlidingTackle</th>\n",
       "      <th>GKDiving</th>\n",
       "      <th>GKHandling</th>\n",
       "      <th>GKKicking</th>\n",
       "      <th>GKPositioning</th>\n",
       "      <th>GKReflexes</th>\n",
       "    </tr>\n",
       "  </thead>\n",
       "  <tbody>\n",
       "    <tr>\n",
       "      <th>0</th>\n",
       "      <td>158023</td>\n",
       "      <td>L. Messi</td>\n",
       "      <td>31</td>\n",
       "      <td>Argentina</td>\n",
       "      <td>94</td>\n",
       "      <td>94</td>\n",
       "      <td>FC Barcelona</td>\n",
       "      <td>110500000.0</td>\n",
       "      <td>565000.0</td>\n",
       "      <td>0</td>\n",
       "      <td>...</td>\n",
       "      <td>75.0</td>\n",
       "      <td>96.0</td>\n",
       "      <td>33.0</td>\n",
       "      <td>28.0</td>\n",
       "      <td>26.0</td>\n",
       "      <td>6.0</td>\n",
       "      <td>11.0</td>\n",
       "      <td>15.0</td>\n",
       "      <td>14.0</td>\n",
       "      <td>8.0</td>\n",
       "    </tr>\n",
       "    <tr>\n",
       "      <th>1</th>\n",
       "      <td>20801</td>\n",
       "      <td>Cristiano Ronaldo</td>\n",
       "      <td>33</td>\n",
       "      <td>Portugal</td>\n",
       "      <td>94</td>\n",
       "      <td>94</td>\n",
       "      <td>Juventus</td>\n",
       "      <td>77000000.0</td>\n",
       "      <td>405000.0</td>\n",
       "      <td>1</td>\n",
       "      <td>...</td>\n",
       "      <td>85.0</td>\n",
       "      <td>95.0</td>\n",
       "      <td>28.0</td>\n",
       "      <td>31.0</td>\n",
       "      <td>23.0</td>\n",
       "      <td>7.0</td>\n",
       "      <td>11.0</td>\n",
       "      <td>15.0</td>\n",
       "      <td>14.0</td>\n",
       "      <td>11.0</td>\n",
       "    </tr>\n",
       "    <tr>\n",
       "      <th>2</th>\n",
       "      <td>190871</td>\n",
       "      <td>Neymar Jr</td>\n",
       "      <td>26</td>\n",
       "      <td>Brazil</td>\n",
       "      <td>92</td>\n",
       "      <td>93</td>\n",
       "      <td>Paris Saint-Germain</td>\n",
       "      <td>118500000.0</td>\n",
       "      <td>290000.0</td>\n",
       "      <td>1</td>\n",
       "      <td>...</td>\n",
       "      <td>81.0</td>\n",
       "      <td>94.0</td>\n",
       "      <td>27.0</td>\n",
       "      <td>24.0</td>\n",
       "      <td>33.0</td>\n",
       "      <td>9.0</td>\n",
       "      <td>9.0</td>\n",
       "      <td>15.0</td>\n",
       "      <td>15.0</td>\n",
       "      <td>11.0</td>\n",
       "    </tr>\n",
       "    <tr>\n",
       "      <th>3</th>\n",
       "      <td>193080</td>\n",
       "      <td>De Gea</td>\n",
       "      <td>27</td>\n",
       "      <td>Spain</td>\n",
       "      <td>91</td>\n",
       "      <td>93</td>\n",
       "      <td>Manchester United</td>\n",
       "      <td>72000000.0</td>\n",
       "      <td>260000.0</td>\n",
       "      <td>1</td>\n",
       "      <td>...</td>\n",
       "      <td>40.0</td>\n",
       "      <td>68.0</td>\n",
       "      <td>15.0</td>\n",
       "      <td>21.0</td>\n",
       "      <td>13.0</td>\n",
       "      <td>90.0</td>\n",
       "      <td>85.0</td>\n",
       "      <td>87.0</td>\n",
       "      <td>88.0</td>\n",
       "      <td>94.0</td>\n",
       "    </tr>\n",
       "    <tr>\n",
       "      <th>4</th>\n",
       "      <td>192985</td>\n",
       "      <td>K. De Bruyne</td>\n",
       "      <td>27</td>\n",
       "      <td>Belgium</td>\n",
       "      <td>91</td>\n",
       "      <td>92</td>\n",
       "      <td>Manchester City</td>\n",
       "      <td>102000000.0</td>\n",
       "      <td>355000.0</td>\n",
       "      <td>1</td>\n",
       "      <td>...</td>\n",
       "      <td>79.0</td>\n",
       "      <td>88.0</td>\n",
       "      <td>68.0</td>\n",
       "      <td>58.0</td>\n",
       "      <td>51.0</td>\n",
       "      <td>15.0</td>\n",
       "      <td>13.0</td>\n",
       "      <td>5.0</td>\n",
       "      <td>10.0</td>\n",
       "      <td>13.0</td>\n",
       "    </tr>\n",
       "  </tbody>\n",
       "</table>\n",
       "<p>5 rows × 53 columns</p>\n",
       "</div>"
      ],
      "text/plain": [
       "       ID               Name  Age Nationality  Overall  Potential  \\\n",
       "0  158023           L. Messi   31   Argentina       94         94   \n",
       "1   20801  Cristiano Ronaldo   33    Portugal       94         94   \n",
       "2  190871          Neymar Jr   26      Brazil       92         93   \n",
       "3  193080             De Gea   27       Spain       91         93   \n",
       "4  192985       K. De Bruyne   27     Belgium       91         92   \n",
       "\n",
       "                  Club        Value      Wage  Preferred Foot  ...  Penalties  \\\n",
       "0         FC Barcelona  110500000.0  565000.0               0  ...       75.0   \n",
       "1             Juventus   77000000.0  405000.0               1  ...       85.0   \n",
       "2  Paris Saint-Germain  118500000.0  290000.0               1  ...       81.0   \n",
       "3    Manchester United   72000000.0  260000.0               1  ...       40.0   \n",
       "4      Manchester City  102000000.0  355000.0               1  ...       79.0   \n",
       "\n",
       "   Composure  Marking StandingTackle SlidingTackle GKDiving  GKHandling  \\\n",
       "0       96.0     33.0           28.0          26.0      6.0        11.0   \n",
       "1       95.0     28.0           31.0          23.0      7.0        11.0   \n",
       "2       94.0     27.0           24.0          33.0      9.0         9.0   \n",
       "3       68.0     15.0           21.0          13.0     90.0        85.0   \n",
       "4       88.0     68.0           58.0          51.0     15.0        13.0   \n",
       "\n",
       "  GKKicking GKPositioning  GKReflexes  \n",
       "0      15.0          14.0         8.0  \n",
       "1      15.0          14.0        11.0  \n",
       "2      15.0          15.0        11.0  \n",
       "3      87.0          88.0        94.0  \n",
       "4       5.0          10.0        13.0  \n",
       "\n",
       "[5 rows x 53 columns]"
      ]
     },
     "execution_count": 8,
     "metadata": {},
     "output_type": "execute_result"
    }
   ],
   "source": [
    "df.head()"
   ]
  },
  {
   "cell_type": "code",
   "execution_count": 9,
   "metadata": {},
   "outputs": [],
   "source": [
    "#df1 = df.copy()"
   ]
  },
  {
   "cell_type": "code",
   "execution_count": 10,
   "metadata": {},
   "outputs": [
    {
     "data": {
      "image/png": "[encoded data removed]",
      "text/plain": [
       "<Figure size 720x720 with 2 Axes>"
      ]
     },
     "metadata": {},
     "output_type": "display_data"
    }
   ],
   "source": [
    "plt.figure(figsize=(10,10))\n",
    "sns.heatmap(df.corr()[['Value']].sort_values('Value', ascending=False).head(16), annot=True, cmap='Reds');"
   ]
  },
  {
   "cell_type": "code",
   "execution_count": 11,
   "metadata": {},
   "outputs": [
    {
     "data": {
      "text/plain": [
       "ID                          False\n",
       "Age                         False\n",
       "Overall                      True\n",
       "Potential                    True\n",
       "Value                        True\n",
       "Wage                         True\n",
       "Preferred Foot              False\n",
       "International Reputation     True\n",
       "Weak Foot                   False\n",
       "Skill Moves                  True\n",
       "Contract Valid Until        False\n",
       "Crossing                    False\n",
       "Finishing                    True\n",
       "HeadingAccuracy             False\n",
       "ShortPassing                 True\n",
       "Volleys                      True\n",
       "Dribbling                    True\n",
       "Curve                        True\n",
       "FKAccuracy                   True\n",
       "LongPassing                  True\n",
       "BallControl                  True\n",
       "Acceleration                False\n",
       "SprintSpeed                 False\n",
       "Agility                     False\n",
       "Reactions                    True\n",
       "Balance                     False\n",
       "ShotPower                    True\n",
       "Jumping                     False\n",
       "Stamina                     False\n",
       "Strength                    False\n",
       "LongShots                    True\n",
       "Aggression                  False\n",
       "Interceptions               False\n",
       "Positioning                  True\n",
       "Vision                       True\n",
       "Penalties                   False\n",
       "Composure                    True\n",
       "Marking                     False\n",
       "StandingTackle              False\n",
       "SlidingTackle               False\n",
       "GKDiving                    False\n",
       "GKHandling                  False\n",
       "GKKicking                   False\n",
       "GKPositioning               False\n",
       "GKReflexes                  False\n",
       "Name: Value, dtype: bool"
      ]
     },
     "execution_count": 11,
     "metadata": {},
     "output_type": "execute_result"
    }
   ],
   "source": [
    "high_corr = (abs(df.corr()[['Value']])>0.25)['Value']\n",
    "high_corr"
   ]
  },
  {
   "cell_type": "code",
   "execution_count": 12,
   "metadata": {},
   "outputs": [],
   "source": [
    "high_corr = high_corr"
   ]
  },
  {
   "cell_type": "code",
   "execution_count": null,
   "metadata": {},
   "outputs": [],
   "source": []
  },
  {
   "cell_type": "code",
   "execution_count": null,
   "metadata": {},
   "outputs": [],
   "source": []
  },
  {
   "cell_type": "code",
   "execution_count": 11,
   "metadata": {},
   "outputs": [],
   "source": [
    "# Dummify Categorical Variables\n",
    "# drop_first=True\n",
    "\n",
    "#df = pd.concat([df, pd.get_dummies(df[['Nationality', 'Club', 'Preferred Foot', 'Work Rate', 'Body Type', 'Position',\n",
    "#                                      'Contract Valid Until']])], axis = 1)\n",
    "#df.drop(['ID', 'Name', 'GKDiving', 'GKHandling','GKKicking', 'GKPositioning', 'GKReflexes',\n",
    "#                    'Nationality', 'Club', 'Preferred Foot', 'Work Rate', 'Body Type', 'Position',\n",
    "     #                                 'Contract Valid Until', 'Height', 'Weight', ], axis=1, inplace=True)\n",
    "#df.head()"
   ]
  },
  {
   "cell_type": "markdown",
   "metadata": {},
   "source": [
    "### Modeling\n",
    "### (1) Linear Regression\n",
    "### (1) Random Forest Regression\n",
    "### (1) Lasso Regression\n",
    "### (1) Ridge Regression"
   ]
  },
  {
   "cell_type": "code",
   "execution_count": 31,
   "metadata": {},
   "outputs": [],
   "source": [
    "#https://towardsdatascience.com/feature-selection-correlation-and-p-value-da8921bfb3cf"
   ]
  },
  {
   "cell_type": "code",
   "execution_count": 13,
   "metadata": {},
   "outputs": [
    {
     "data": {
      "text/plain": [
       "2410695.8861976163"
      ]
     },
     "execution_count": 13,
     "metadata": {},
     "output_type": "execute_result"
    }
   ],
   "source": [
    "# baseline accuracy\n",
    "df[\"Value\"].mean()"
   ]
  },
  {
   "cell_type": "code",
   "execution_count": 18,
   "metadata": {},
   "outputs": [],
   "source": [
    "df1 = df[['Wage', 'International Reputation', 'Overall', 'Potential', 'Reactions', 'Composure', 'Vision',\n",
    "         'ShortPassing', 'Skill Moves', 'BallControl', 'LongPassing', 'Volleys', 'Curve', 'ShotPower',\n",
    "         'LongShots']]"
   ]
  },
  {
   "cell_type": "code",
   "execution_count": 19,
   "metadata": {},
   "outputs": [],
   "source": [
    "df2 = pd.concat([df1, pd.get_dummies(df[['Nationality', 'Club', 'Preferred Foot', 'Work Rate', 'Position',\n",
    "                                      'Contract Valid Until']])], axis = 1)"
   ]
  },
  {
   "cell_type": "code",
   "execution_count": 23,
   "metadata": {},
   "outputs": [
    {
     "data": {
      "text/plain": [
       "Index(['Wage', 'International Reputation', 'Overall', 'Potential', 'Reactions',\n",
       "       'Composure', 'Vision', 'ShortPassing', 'Skill Moves', 'BallControl',\n",
       "       ...\n",
       "       'Position_RB', 'Position_RCB', 'Position_RCM', 'Position_RDM',\n",
       "       'Position_RF', 'Position_RM', 'Position_RS', 'Position_RW',\n",
       "       'Position_RWB', 'Position_ST'],\n",
       "      dtype='object', length=869)"
      ]
     },
     "execution_count": 23,
     "metadata": {},
     "output_type": "execute_result"
    }
   ],
   "source": [
    "df2.columns"
   ]
  },
  {
   "cell_type": "code",
   "execution_count": 24,
   "metadata": {},
   "outputs": [],
   "source": [
    "#df2.drop(['Nationality', 'Club', 'Preferred Foot', 'Work Rate', 'Body Type', 'Position',\n",
    " #        'Contract Valid Until'], axis=1, inplace=True)"
   ]
  },
  {
   "cell_type": "code",
   "execution_count": 34,
   "metadata": {},
   "outputs": [],
   "source": [
    "#df1 = pd.concat([df1, pd.get_dummies(df[['Name']],drop_first=True)], axis = 1)\n",
    "#df1.drop(['Name'], axis=1, inplace=True)"
   ]
  },
  {
   "cell_type": "code",
   "execution_count": 35,
   "metadata": {},
   "outputs": [
    {
     "data": {
      "text/html": [
       "<div>\n",
       "<style scoped>\n",
       "    .dataframe tbody tr th:only-of-type {\n",
       "        vertical-align: middle;\n",
       "    }\n",
       "\n",
       "    .dataframe tbody tr th {\n",
       "        vertical-align: top;\n",
       "    }\n",
       "\n",
       "    .dataframe thead th {\n",
       "        text-align: right;\n",
       "    }\n",
       "</style>\n",
       "<table border=\"1\" class=\"dataframe\">\n",
       "  <thead>\n",
       "    <tr style=\"text-align: right;\">\n",
       "      <th></th>\n",
       "      <th>Wage</th>\n",
       "      <th>International Reputation</th>\n",
       "      <th>Overall</th>\n",
       "      <th>Potential</th>\n",
       "      <th>Reactions</th>\n",
       "      <th>Composure</th>\n",
       "      <th>Vision</th>\n",
       "      <th>ShortPassing</th>\n",
       "      <th>Skill Moves</th>\n",
       "      <th>BallControl</th>\n",
       "      <th>LongPassing</th>\n",
       "      <th>Volleys</th>\n",
       "      <th>Curve</th>\n",
       "      <th>ShotPower</th>\n",
       "      <th>LongShots</th>\n",
       "    </tr>\n",
       "  </thead>\n",
       "  <tbody>\n",
       "    <tr>\n",
       "      <th>0</th>\n",
       "      <td>565000.0</td>\n",
       "      <td>5.0</td>\n",
       "      <td>94</td>\n",
       "      <td>94</td>\n",
       "      <td>95.0</td>\n",
       "      <td>96.0</td>\n",
       "      <td>94.0</td>\n",
       "      <td>90.0</td>\n",
       "      <td>4.0</td>\n",
       "      <td>96.0</td>\n",
       "      <td>87.0</td>\n",
       "      <td>86.0</td>\n",
       "      <td>93.0</td>\n",
       "      <td>85.0</td>\n",
       "      <td>94.0</td>\n",
       "    </tr>\n",
       "    <tr>\n",
       "      <th>1</th>\n",
       "      <td>405000.0</td>\n",
       "      <td>5.0</td>\n",
       "      <td>94</td>\n",
       "      <td>94</td>\n",
       "      <td>96.0</td>\n",
       "      <td>95.0</td>\n",
       "      <td>82.0</td>\n",
       "      <td>81.0</td>\n",
       "      <td>5.0</td>\n",
       "      <td>94.0</td>\n",
       "      <td>77.0</td>\n",
       "      <td>87.0</td>\n",
       "      <td>81.0</td>\n",
       "      <td>95.0</td>\n",
       "      <td>93.0</td>\n",
       "    </tr>\n",
       "    <tr>\n",
       "      <th>2</th>\n",
       "      <td>290000.0</td>\n",
       "      <td>5.0</td>\n",
       "      <td>92</td>\n",
       "      <td>93</td>\n",
       "      <td>94.0</td>\n",
       "      <td>94.0</td>\n",
       "      <td>87.0</td>\n",
       "      <td>84.0</td>\n",
       "      <td>5.0</td>\n",
       "      <td>95.0</td>\n",
       "      <td>78.0</td>\n",
       "      <td>84.0</td>\n",
       "      <td>88.0</td>\n",
       "      <td>80.0</td>\n",
       "      <td>82.0</td>\n",
       "    </tr>\n",
       "    <tr>\n",
       "      <th>3</th>\n",
       "      <td>260000.0</td>\n",
       "      <td>4.0</td>\n",
       "      <td>91</td>\n",
       "      <td>93</td>\n",
       "      <td>90.0</td>\n",
       "      <td>68.0</td>\n",
       "      <td>68.0</td>\n",
       "      <td>50.0</td>\n",
       "      <td>1.0</td>\n",
       "      <td>42.0</td>\n",
       "      <td>51.0</td>\n",
       "      <td>13.0</td>\n",
       "      <td>21.0</td>\n",
       "      <td>31.0</td>\n",
       "      <td>12.0</td>\n",
       "    </tr>\n",
       "    <tr>\n",
       "      <th>4</th>\n",
       "      <td>355000.0</td>\n",
       "      <td>4.0</td>\n",
       "      <td>91</td>\n",
       "      <td>92</td>\n",
       "      <td>91.0</td>\n",
       "      <td>88.0</td>\n",
       "      <td>94.0</td>\n",
       "      <td>92.0</td>\n",
       "      <td>4.0</td>\n",
       "      <td>91.0</td>\n",
       "      <td>91.0</td>\n",
       "      <td>82.0</td>\n",
       "      <td>85.0</td>\n",
       "      <td>91.0</td>\n",
       "      <td>91.0</td>\n",
       "    </tr>\n",
       "  </tbody>\n",
       "</table>\n",
       "</div>"
      ],
      "text/plain": [
       "       Wage  International Reputation  Overall  Potential  Reactions  \\\n",
       "0  565000.0                       5.0       94         94       95.0   \n",
       "1  405000.0                       5.0       94         94       96.0   \n",
       "2  290000.0                       5.0       92         93       94.0   \n",
       "3  260000.0                       4.0       91         93       90.0   \n",
       "4  355000.0                       4.0       91         92       91.0   \n",
       "\n",
       "   Composure  Vision  ShortPassing  Skill Moves  BallControl  LongPassing  \\\n",
       "0       96.0    94.0          90.0          4.0         96.0         87.0   \n",
       "1       95.0    82.0          81.0          5.0         94.0         77.0   \n",
       "2       94.0    87.0          84.0          5.0         95.0         78.0   \n",
       "3       68.0    68.0          50.0          1.0         42.0         51.0   \n",
       "4       88.0    94.0          92.0          4.0         91.0         91.0   \n",
       "\n",
       "   Volleys  Curve  ShotPower  LongShots  \n",
       "0     86.0   93.0       85.0       94.0  \n",
       "1     87.0   81.0       95.0       93.0  \n",
       "2     84.0   88.0       80.0       82.0  \n",
       "3     13.0   21.0       31.0       12.0  \n",
       "4     82.0   85.0       91.0       91.0  "
      ]
     },
     "execution_count": 35,
     "metadata": {},
     "output_type": "execute_result"
    }
   ],
   "source": [
    "df1.head()"
   ]
  },
  {
   "cell_type": "code",
   "execution_count": 25,
   "metadata": {},
   "outputs": [],
   "source": [
    "#df1 = df.drop(columns = 'Value')\n",
    "X = df2\n",
    "y = df['Value']\n",
    "#X_val = "
   ]
  },
  {
   "cell_type": "code",
   "execution_count": 26,
   "metadata": {},
   "outputs": [],
   "source": [
    "# X = XXX\n",
    "# y = XXX"
   ]
  },
  {
   "cell_type": "code",
   "execution_count": 27,
   "metadata": {},
   "outputs": [],
   "source": [
    "X_train, X_test, y_train, y_test = train_test_split(X, y, test_size=0.33, random_state=42)"
   ]
  },
  {
   "cell_type": "markdown",
   "metadata": {},
   "source": [
    "### (1) Linear Regression"
   ]
  },
  {
   "cell_type": "code",
   "execution_count": 28,
   "metadata": {},
   "outputs": [
    {
     "data": {
      "text/plain": [
       "LinearRegression()"
      ]
     },
     "execution_count": 28,
     "metadata": {},
     "output_type": "execute_result"
    }
   ],
   "source": [
    "lr = LinearRegression()\n",
    "lr.fit(X_train, y_train)"
   ]
  },
  {
   "cell_type": "code",
   "execution_count": 60,
   "metadata": {},
   "outputs": [
    {
     "name": "stdout",
     "output_type": "stream",
     "text": [
      "Logistic Regression Train Score: 0.8414988112333357\n",
      "Logistic Regression Accuracy Score: 0.8419098279267692\n",
      "Logistic Regression Variance: -0.0004110166934334636\n",
      "Logistic Regression Cross Validation Score: 0.8161203763504877\n"
     ]
    }
   ],
   "source": [
    "# Generating scores\n",
    "train_lr = lr.score(X_train, y_train)\n",
    "print(f'Logistic Regression Train Score:', train_lr)\n",
    "\n",
    "#pred_lr = lr.predict(X_test)\n",
    "#pred_lr = lr.predict(X_test)\n",
    "#lr_r2 = metrics.r2_score(y_test, pred_lr)\n",
    "#lr_r2\n",
    "\n",
    "accuracy_lr = lr.score(X_test, y_test)\n",
    "print(f'Logistic Regression Accuracy Score:', accuracy_lr)\n",
    "var_lr = train_lr - accuracy_lr\n",
    "print(f'Logistic Regression Variance:', var_lr)\n",
    "crossval_lr = cross_val_score(lr, X_train, y_train, cv=3).mean()\n",
    "print(f'Logistic Regression Cross Validation Score:', crossval_lr)"
   ]
  },
  {
   "cell_type": "code",
   "execution_count": 61,
   "metadata": {},
   "outputs": [
    {
     "data": {
      "text/plain": [
       "2236222.293884096"
      ]
     },
     "execution_count": 61,
     "metadata": {},
     "output_type": "execute_result"
    }
   ],
   "source": [
    "#np.sqrt(mean_squared_error(y_test, pred_lr))\n",
    "from sklearn.metrics import mean_squared_error\n",
    "\n",
    "rmse = mean_squared_error(y_test, pred_lr, squared=False)\n",
    "rmse"
   ]
  },
  {
   "cell_type": "code",
   "execution_count": 67,
   "metadata": {},
   "outputs": [
    {
     "data": {
      "image/png": "[encoded data removed]",
      "text/plain": [
       "<Figure size 720x576 with 1 Axes>"
      ]
     },
     "metadata": {},
     "output_type": "display_data"
    }
   ],
   "source": [
    "#Visualising the results\n",
    "plt.figure(figsize=(10,8))\n",
    "sns.regplot(pred_lr,y_test)\n",
    "plt.xlabel('Predictions')\n",
    "plt.ylabel('Actual')\n",
    "plt.title(\"Linear Prediction of Player Value\")\n",
    "plt.show()"
   ]
  },
  {
   "cell_type": "markdown",
   "metadata": {},
   "source": [
    "### K Nearest Neighbours"
   ]
  },
  {
   "cell_type": "code",
   "execution_count": 37,
   "metadata": {},
   "outputs": [
    {
     "data": {
      "image/png": "[encoded data removed]",
      "text/plain": [
       "<Figure size 432x288 with 1 Axes>"
      ]
     },
     "metadata": {},
     "output_type": "display_data"
    }
   ],
   "source": [
    "## Finding the optimal number of neighbors for KNN regression\n",
    "from sklearn.neighbors import KNeighborsRegressor\n",
    "knnRange = range(1,21,1)\n",
    "scores_list = []\n",
    "for i in knnRange:\n",
    "    regressor_knn = KNeighborsRegressor(n_neighbors=i)\n",
    "    regressor_knn.fit(X_train,y_train)\n",
    "    y_pred = regressor_knn.predict(X_test)\n",
    "    scores_list.append(r2_score(y_test,pred_lr))\n",
    "plt.plot(knnRange,scores_list,linewidth=2,color='green')\n",
    "plt.xticks(knnRange)\n",
    "plt.xlabel('No. of neighbors')\n",
    "plt.ylabel('r2 score of KNN')\n",
    "plt.show()"
   ]
  },
  {
   "cell_type": "code",
   "execution_count": 38,
   "metadata": {},
   "outputs": [
    {
     "name": "stdout",
     "output_type": "stream",
     "text": [
      "0.8023179161862205\n"
     ]
    }
   ],
   "source": [
    "regressor_knn = KNeighborsRegressor(n_neighbors=6)\n",
    "regressor_knn.fit(X_train,y_train)\n",
    "pred_knn = regressor_knn.predict(X_test)\n",
    "r2_knn = r2_score(y_test,pred_knn)\n",
    "print(r2_knn)"
   ]
  },
  {
   "cell_type": "markdown",
   "metadata": {},
   "source": [
    "### Random Forest"
   ]
  },
  {
   "cell_type": "code",
   "execution_count": 70,
   "metadata": {},
   "outputs": [
    {
     "data": {
      "text/plain": [
       "RandomForestRegressor(n_estimators=150, random_state=42)"
      ]
     },
     "execution_count": 70,
     "metadata": {},
     "output_type": "execute_result"
    }
   ],
   "source": [
    "# Training the Random Forest regression on the training model\n",
    "rf = RandomForestRegressor(n_estimators=150,random_state=42)\n",
    "rf.fit(X_train,y_train)"
   ]
  },
  {
   "cell_type": "code",
   "execution_count": 71,
   "metadata": {},
   "outputs": [
    {
     "name": "stdout",
     "output_type": "stream",
     "text": [
      "Random Forest Train Score: 0.9940748400172533\n",
      "Logistic Regression Accuracy Score: 0.9690058191656216\n",
      "Logistic Regression Variance: 0.025069020851631763\n",
      "Logistic Regression Cross Validation Score: 0.9558221715697951\n"
     ]
    }
   ],
   "source": [
    " # Generating scores\n",
    "train_rf = rf.score(X_train, y_train)\n",
    "print(f'Random Forest Train Score:', train_rf)\n",
    "\n",
    "#pred_lr = lr.predict(X_test)\n",
    "#pred_lr = lr.predict(X_test)\n",
    "#lr_r2 = metrics.r2_score(y_test, pred_lr)\n",
    "#lr_r2\n",
    "\n",
    "accuracy_rf = rf.score(X_test, y_test)\n",
    "print(f'Logistic Regression Accuracy Score:', accuracy_rf)\n",
    "var_rf = train_rf - accuracy_rf\n",
    "print(f'Logistic Regression Variance:', var_rf)\n",
    "crossval_rf = cross_val_score(rf, X_train, y_train, cv=3).mean()\n",
    "print(f'Logistic Regression Cross Validation Score:', crossval_rf)"
   ]
  },
  {
   "cell_type": "code",
   "execution_count": 72,
   "metadata": {},
   "outputs": [
    {
     "data": {
      "image/png": "[encoded data removed]",
      "text/plain": [
       "<Figure size 432x288 with 1 Axes>"
      ]
     },
     "metadata": {},
     "output_type": "display_data"
    }
   ],
   "source": [
    "# Finding out the optimal number of trees for Random Forest Regression\n",
    "# Adapted from aninditakarmakar\n",
    "\n",
    "\n",
    "forestRange=range(50,500,50)\n",
    "scores_list=[]\n",
    "for i in forestRange: \n",
    "    rf = RandomForestRegressor(n_estimators=i,random_state=42)\n",
    "    rf.fit(X_train,y_train)\n",
    "    pred_rf = rf.predict(X_test)\n",
    "    scores_list.append(r2_score(y_test,pred_rf))\n",
    "plt.plot(forestRange,scores_list,linewidth=2,color='maroon')\n",
    "plt.xticks(forestRange)\n",
    "plt.xlabel('No. of trees')\n",
    "plt.ylabel('r2 score of Random Forest Reg.')\n",
    "plt.show() "
   ]
  },
  {
   "cell_type": "markdown",
   "metadata": {},
   "source": [
    "### Lasso"
   ]
  },
  {
   "cell_type": "code",
   "execution_count": 73,
   "metadata": {},
   "outputs": [
    {
     "data": {
      "text/plain": [
       "1.0"
      ]
     },
     "execution_count": 73,
     "metadata": {},
     "output_type": "execute_result"
    }
   ],
   "source": [
    "# Set up a list of Lasso alphas to check.\n",
    "lasso = LassoCV(n_alphas=200)\n",
    "l_alphas = np.logspace(-3, 0, 100)\n",
    "\n",
    "# Cross-validate over our list of Lasso alphas.\n",
    "lasso_cv = LassoCV(alphas=l_alphas, cv=5, max_iter=50000)\n",
    "\n",
    "# Fit model using best ridge alpha!\n",
    "lasso_cv.fit(X_train, y_train);\n",
    "\n",
    "# Here is the optimal value of alpha\n",
    "lasso_cv.alpha_"
   ]
  },
  {
   "cell_type": "code",
   "execution_count": 74,
   "metadata": {},
   "outputs": [
    {
     "name": "stdout",
     "output_type": "stream",
     "text": [
      "Lasso Regression Train Score: 0.8414987665555486\n",
      "Lasso Regression Accuracy Score: 0.8419241148727825\n",
      "Lasso Regression Variance: -0.0004253483172339534\n",
      "Lasso Regression Cross Validation Score: 0.8161359736453745\n"
     ]
    }
   ],
   "source": [
    "# Generating scores\n",
    "train_lasso = lasso_cv.score(X_train, y_train)\n",
    "print(f'Lasso Regression Train Score:', train_lasso)\n",
    "\n",
    "#pred_lr = lr.predict(X_test)\n",
    "#pred_lr = lr.predict(X_test)\n",
    "#lr_r2 = metrics.r2_score(y_test, pred_lr)\n",
    "#lr_r2\n",
    "\n",
    "accuracy_lasso = lasso_cv.score(X_test, y_test)\n",
    "print(f'Lasso Regression Accuracy Score:', accuracy_lasso)\n",
    "var_lasso = train_lasso - accuracy_lasso\n",
    "print(f'Lasso Regression Variance:', var_lasso)\n",
    "crossval_lasso = cross_val_score(lasso_cv, X_train, y_train, cv=3).mean()\n",
    "print(f'Lasso Regression Cross Validation Score:', crossval_lasso)"
   ]
  },
  {
   "cell_type": "code",
   "execution_count": 77,
   "metadata": {},
   "outputs": [],
   "source": [
    "# Predicting lasso on test set\n",
    "pred_lasso = lasso_cv.predict(X_test)"
   ]
  },
  {
   "cell_type": "code",
   "execution_count": 78,
   "metadata": {},
   "outputs": [
    {
     "name": "stdout",
     "output_type": "stream",
     "text": [
      "Lasso Train Score: 0.8414987665555486\n",
      "Lasso Test Score: 0.8419241148727825\n"
     ]
    },
    {
     "data": {
      "image/png": "[encoded data removed]",
      "text/plain": [
       "<Figure size 432x288 with 1 Axes>"
      ]
     },
     "metadata": {},
     "output_type": "display_data"
    }
   ],
   "source": [
    "plt.scatter(pred_lasso, y_test, color='r')\n",
    "plt.xlabel(\"Predictions\")\n",
    "plt.ylabel(\"Actual Value\")\n",
    "plt.title('Lasso Regression Model')\n",
    "\n",
    "print(\"Lasso Train Score:\", lasso_cv.score(X_train, y_train))\n",
    "print(\"Lasso Test Score:\", lasso_cv.score(X_test, y_test))"
   ]
  },
  {
   "cell_type": "markdown",
   "metadata": {},
   "source": [
    "### Ridge Regression"
   ]
  },
  {
   "cell_type": "code",
   "execution_count": 79,
   "metadata": {},
   "outputs": [
    {
     "data": {
      "text/plain": [
       "10"
      ]
     },
     "execution_count": 79,
     "metadata": {},
     "output_type": "execute_result"
    }
   ],
   "source": [
    "# Set up a list of ridge alphas to check.\n",
    "r_alphas = np.logspace(0, 5, 100)\n",
    "\n",
    "# Cross-validate over our list of ridge alphas.\n",
    "ridge_cv = RidgeCV(alphas=r_alphas, scoring='r2', cv=5)\n",
    "\n",
    "# Fit model using best ridge alpha!\n",
    "ridge_cv = ridge_model.fit(X_train, y_train)\n",
    "\n",
    "# Here is the optimal value of alpha\n",
    "ridge_cv.alpha"
   ]
  },
  {
   "cell_type": "code",
   "execution_count": 47,
   "metadata": {},
   "outputs": [
    {
     "data": {
      "text/plain": [
       "10"
      ]
     },
     "execution_count": 47,
     "metadata": {},
     "output_type": "execute_result"
    }
   ],
   "source": [
    "# Here is the optimal value of alpha\n",
    "ridge_cv.alpha"
   ]
  },
  {
   "cell_type": "code",
   "execution_count": 80,
   "metadata": {},
   "outputs": [
    {
     "name": "stdout",
     "output_type": "stream",
     "text": [
      "Rdige Regression Train Score: 0.831490234497692\n",
      "Ridge Regression Accuracy Score: 0.8418544023881968\n",
      "Ridge Regression Variance: -0.01036416789050476\n",
      "Ridge Regression Cross Validation Score: 0.8124199136608864\n"
     ]
    }
   ],
   "source": [
    "# Generating scores\n",
    "train_ridge = ridge_cv.score(X_train, y_train)\n",
    "print(f'Rdige Regression Train Score:', train_ridge)\n",
    "\n",
    "accuracy_ridge = ridge_cv.score(X_test, y_test)\n",
    "print(f'Ridge Regression Accuracy Score:', accuracy_ridge)\n",
    "var_ridge = train_ridge - accuracy_ridge\n",
    "print(f'Ridge Regression Variance:', var_ridge)\n",
    "crossval_ridge = cross_val_score(ridge_cv, X_train, y_train, cv=3).mean()\n",
    "print(f'Ridge Regression Cross Validation Score:', crossval_ridge)"
   ]
  },
  {
   "cell_type": "code",
   "execution_count": 81,
   "metadata": {},
   "outputs": [
    {
     "name": "stdout",
     "output_type": "stream",
     "text": [
      "Ridge Train Score: 0.831490234497692\n",
      "Ridge Test Score: 0.8418544023881968\n"
     ]
    },
    {
     "data": {
      "image/png": "[encoded data removed]",
      "text/plain": [
       "<Figure size 432x288 with 1 Axes>"
      ]
     },
     "metadata": {},
     "output_type": "display_data"
    }
   ],
   "source": [
    "# Predicting ridge on test set\n",
    "pred_ridge = ridge_cv.predict(X_test)\n",
    "\n",
    "plt.scatter(pred_ridge, y_test, color='m')\n",
    "plt.xlabel(\"Predictions\")\n",
    "plt.ylabel(\"Actual Value\")\n",
    "plt.title('Ridge Regression Model')\n",
    "\n",
    "print(\"Ridge Train Score:\", ridge_cv.score(X_train, y_train))\n",
    "print(\"Ridge Test Score:\", ridge_cv.score(X_test, y_test))"
   ]
  },
  {
   "cell_type": "code",
   "execution_count": null,
   "metadata": {},
   "outputs": [],
   "source": []
  }
 ],
 "metadata": {
  "kernelspec": {
   "display_name": "Python 3",
   "language": "python",
   "name": "python3"
  },
  "language_info": {
   "codemirror_mode": {
    "name": "ipython",
    "version": 3
   },
   "file_extension": ".py",
   "mimetype": "text/x-python",
   "name": "python",
   "nbconvert_exporter": "python",
   "pygments_lexer": "ipython3",
   "version": "3.8.5"
  }
 },
 "nbformat": 4,
 "nbformat_minor": 4
}
