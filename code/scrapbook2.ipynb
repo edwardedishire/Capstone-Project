{
 "cells": [
  {
   "cell_type": "code",
   "execution_count": 1,
   "metadata": {},
   "outputs": [],
   "source": [
    "import requests\n",
    "import pandas as pd\n",
    "import numpy as np\n",
    "import matplotlib.pyplot as plt\n",
    "import seaborn as sns\n",
    "import random\n",
    "import string\n",
    "import plotly.graph_objects as go\n",
    "\n",
    "from sklearn.decomposition import PCA\n",
    "from sklearn.neighbors import NearestNeighbors\n",
    "\n",
    "import warnings\n",
    "warnings.filterwarnings('ignore')\n",
    "\n",
    "import os\n",
    "os.environ['KMP_DUPLICATE_LIB_OK']='True'\n",
    "\n",
    "pd.set_option('display.max_columns', None)\n",
    "pd.set_option('max_rows',None)\n",
    "pd.set_option('precision', 0)\n",
    "\n",
    "%matplotlib inline\n",
    "sns.set()"
   ]
  },
  {
   "cell_type": "code",
   "execution_count": 2,
   "metadata": {},
   "outputs": [],
   "source": [
    "df = pd.read_csv('../data/df_rs3.csv')\n",
    "df0 = pd.read_csv('../data/fifa19.csv')"
   ]
  },
  {
   "cell_type": "code",
   "execution_count": 3,
   "metadata": {},
   "outputs": [],
   "source": [
    "features = ['Preferred Foot', 'Weak Foot', 'Skill Moves', 'Crossing', \n",
    "             'Finishing', 'HeadingAccuracy', 'ShortPassing', 'Volleys', 'Dribbling',\n",
    "             'Curve', 'FKAccuracy', 'LongPassing', 'BallControl', 'Acceleration',\n",
    "             'SprintSpeed', 'Agility', 'Reactions', 'Balance', 'ShotPower',\n",
    "             'Jumping', 'Stamina', 'Strength', 'LongShots', 'Aggression',\n",
    "             'Interceptions', 'Positioning', 'Vision', 'Penalties', 'Composure',\n",
    "             'Marking', 'StandingTackle', 'SlidingTackle']"
   ]
  },
  {
   "cell_type": "code",
   "execution_count": 4,
   "metadata": {},
   "outputs": [
    {
     "data": {
      "text/html": [
       "<div>\n",
       "<style scoped>\n",
       "    .dataframe tbody tr th:only-of-type {\n",
       "        vertical-align: middle;\n",
       "    }\n",
       "\n",
       "    .dataframe tbody tr th {\n",
       "        vertical-align: top;\n",
       "    }\n",
       "\n",
       "    .dataframe thead th {\n",
       "        text-align: right;\n",
       "    }\n",
       "</style>\n",
       "<table border=\"1\" class=\"dataframe\">\n",
       "  <thead>\n",
       "    <tr style=\"text-align: right;\">\n",
       "      <th></th>\n",
       "      <th>Preferred Foot</th>\n",
       "      <th>Weak Foot</th>\n",
       "      <th>Skill Moves</th>\n",
       "      <th>Crossing</th>\n",
       "      <th>Finishing</th>\n",
       "      <th>HeadingAccuracy</th>\n",
       "      <th>ShortPassing</th>\n",
       "      <th>Volleys</th>\n",
       "      <th>Dribbling</th>\n",
       "      <th>Curve</th>\n",
       "      <th>FKAccuracy</th>\n",
       "      <th>LongPassing</th>\n",
       "      <th>BallControl</th>\n",
       "      <th>Acceleration</th>\n",
       "      <th>SprintSpeed</th>\n",
       "      <th>Agility</th>\n",
       "      <th>Reactions</th>\n",
       "      <th>Balance</th>\n",
       "      <th>ShotPower</th>\n",
       "      <th>Jumping</th>\n",
       "      <th>Stamina</th>\n",
       "      <th>Strength</th>\n",
       "      <th>LongShots</th>\n",
       "      <th>Aggression</th>\n",
       "      <th>Interceptions</th>\n",
       "      <th>Positioning</th>\n",
       "      <th>Vision</th>\n",
       "      <th>Penalties</th>\n",
       "      <th>Composure</th>\n",
       "      <th>Marking</th>\n",
       "      <th>StandingTackle</th>\n",
       "      <th>SlidingTackle</th>\n",
       "    </tr>\n",
       "  </thead>\n",
       "  <tbody>\n",
       "    <tr>\n",
       "      <th>0</th>\n",
       "      <td>0</td>\n",
       "      <td>4</td>\n",
       "      <td>4</td>\n",
       "      <td>84</td>\n",
       "      <td>95</td>\n",
       "      <td>70</td>\n",
       "      <td>90</td>\n",
       "      <td>86</td>\n",
       "      <td>97</td>\n",
       "      <td>93</td>\n",
       "      <td>94</td>\n",
       "      <td>87</td>\n",
       "      <td>96</td>\n",
       "      <td>91</td>\n",
       "      <td>86</td>\n",
       "      <td>91</td>\n",
       "      <td>95</td>\n",
       "      <td>95</td>\n",
       "      <td>85</td>\n",
       "      <td>68</td>\n",
       "      <td>72</td>\n",
       "      <td>59</td>\n",
       "      <td>94</td>\n",
       "      <td>48</td>\n",
       "      <td>22</td>\n",
       "      <td>94</td>\n",
       "      <td>94</td>\n",
       "      <td>75</td>\n",
       "      <td>96</td>\n",
       "      <td>33</td>\n",
       "      <td>28</td>\n",
       "      <td>26</td>\n",
       "    </tr>\n",
       "    <tr>\n",
       "      <th>1</th>\n",
       "      <td>1</td>\n",
       "      <td>4</td>\n",
       "      <td>5</td>\n",
       "      <td>84</td>\n",
       "      <td>94</td>\n",
       "      <td>89</td>\n",
       "      <td>81</td>\n",
       "      <td>87</td>\n",
       "      <td>88</td>\n",
       "      <td>81</td>\n",
       "      <td>76</td>\n",
       "      <td>77</td>\n",
       "      <td>94</td>\n",
       "      <td>89</td>\n",
       "      <td>91</td>\n",
       "      <td>87</td>\n",
       "      <td>96</td>\n",
       "      <td>70</td>\n",
       "      <td>95</td>\n",
       "      <td>95</td>\n",
       "      <td>88</td>\n",
       "      <td>79</td>\n",
       "      <td>93</td>\n",
       "      <td>63</td>\n",
       "      <td>29</td>\n",
       "      <td>95</td>\n",
       "      <td>82</td>\n",
       "      <td>85</td>\n",
       "      <td>95</td>\n",
       "      <td>28</td>\n",
       "      <td>31</td>\n",
       "      <td>23</td>\n",
       "    </tr>\n",
       "    <tr>\n",
       "      <th>2</th>\n",
       "      <td>1</td>\n",
       "      <td>5</td>\n",
       "      <td>5</td>\n",
       "      <td>79</td>\n",
       "      <td>87</td>\n",
       "      <td>62</td>\n",
       "      <td>84</td>\n",
       "      <td>84</td>\n",
       "      <td>96</td>\n",
       "      <td>88</td>\n",
       "      <td>87</td>\n",
       "      <td>78</td>\n",
       "      <td>95</td>\n",
       "      <td>94</td>\n",
       "      <td>90</td>\n",
       "      <td>96</td>\n",
       "      <td>94</td>\n",
       "      <td>84</td>\n",
       "      <td>80</td>\n",
       "      <td>61</td>\n",
       "      <td>81</td>\n",
       "      <td>49</td>\n",
       "      <td>82</td>\n",
       "      <td>56</td>\n",
       "      <td>36</td>\n",
       "      <td>89</td>\n",
       "      <td>87</td>\n",
       "      <td>81</td>\n",
       "      <td>94</td>\n",
       "      <td>27</td>\n",
       "      <td>24</td>\n",
       "      <td>33</td>\n",
       "    </tr>\n",
       "    <tr>\n",
       "      <th>3</th>\n",
       "      <td>1</td>\n",
       "      <td>3</td>\n",
       "      <td>1</td>\n",
       "      <td>17</td>\n",
       "      <td>13</td>\n",
       "      <td>21</td>\n",
       "      <td>50</td>\n",
       "      <td>13</td>\n",
       "      <td>18</td>\n",
       "      <td>21</td>\n",
       "      <td>19</td>\n",
       "      <td>51</td>\n",
       "      <td>42</td>\n",
       "      <td>57</td>\n",
       "      <td>58</td>\n",
       "      <td>60</td>\n",
       "      <td>90</td>\n",
       "      <td>43</td>\n",
       "      <td>31</td>\n",
       "      <td>67</td>\n",
       "      <td>43</td>\n",
       "      <td>64</td>\n",
       "      <td>12</td>\n",
       "      <td>38</td>\n",
       "      <td>30</td>\n",
       "      <td>12</td>\n",
       "      <td>68</td>\n",
       "      <td>40</td>\n",
       "      <td>68</td>\n",
       "      <td>15</td>\n",
       "      <td>21</td>\n",
       "      <td>13</td>\n",
       "    </tr>\n",
       "    <tr>\n",
       "      <th>4</th>\n",
       "      <td>1</td>\n",
       "      <td>5</td>\n",
       "      <td>4</td>\n",
       "      <td>93</td>\n",
       "      <td>82</td>\n",
       "      <td>55</td>\n",
       "      <td>92</td>\n",
       "      <td>82</td>\n",
       "      <td>86</td>\n",
       "      <td>85</td>\n",
       "      <td>83</td>\n",
       "      <td>91</td>\n",
       "      <td>91</td>\n",
       "      <td>78</td>\n",
       "      <td>76</td>\n",
       "      <td>79</td>\n",
       "      <td>91</td>\n",
       "      <td>77</td>\n",
       "      <td>91</td>\n",
       "      <td>63</td>\n",
       "      <td>90</td>\n",
       "      <td>75</td>\n",
       "      <td>91</td>\n",
       "      <td>76</td>\n",
       "      <td>61</td>\n",
       "      <td>87</td>\n",
       "      <td>94</td>\n",
       "      <td>79</td>\n",
       "      <td>88</td>\n",
       "      <td>68</td>\n",
       "      <td>58</td>\n",
       "      <td>51</td>\n",
       "    </tr>\n",
       "  </tbody>\n",
       "</table>\n",
       "</div>"
      ],
      "text/plain": [
       "   Preferred Foot  Weak Foot  Skill Moves  Crossing  Finishing  \\\n",
       "0               0          4            4        84         95   \n",
       "1               1          4            5        84         94   \n",
       "2               1          5            5        79         87   \n",
       "3               1          3            1        17         13   \n",
       "4               1          5            4        93         82   \n",
       "\n",
       "   HeadingAccuracy  ShortPassing  Volleys  Dribbling  Curve  FKAccuracy  \\\n",
       "0               70            90       86         97     93          94   \n",
       "1               89            81       87         88     81          76   \n",
       "2               62            84       84         96     88          87   \n",
       "3               21            50       13         18     21          19   \n",
       "4               55            92       82         86     85          83   \n",
       "\n",
       "   LongPassing  BallControl  Acceleration  SprintSpeed  Agility  Reactions  \\\n",
       "0           87           96            91           86       91         95   \n",
       "1           77           94            89           91       87         96   \n",
       "2           78           95            94           90       96         94   \n",
       "3           51           42            57           58       60         90   \n",
       "4           91           91            78           76       79         91   \n",
       "\n",
       "   Balance  ShotPower  Jumping  Stamina  Strength  LongShots  Aggression  \\\n",
       "0       95         85       68       72        59         94          48   \n",
       "1       70         95       95       88        79         93          63   \n",
       "2       84         80       61       81        49         82          56   \n",
       "3       43         31       67       43        64         12          38   \n",
       "4       77         91       63       90        75         91          76   \n",
       "\n",
       "   Interceptions  Positioning  Vision  Penalties  Composure  Marking  \\\n",
       "0             22           94      94         75         96       33   \n",
       "1             29           95      82         85         95       28   \n",
       "2             36           89      87         81         94       27   \n",
       "3             30           12      68         40         68       15   \n",
       "4             61           87      94         79         88       68   \n",
       "\n",
       "   StandingTackle  SlidingTackle  \n",
       "0              28             26  \n",
       "1              31             23  \n",
       "2              24             33  \n",
       "3              21             13  \n",
       "4              58             51  "
      ]
     },
     "execution_count": 4,
     "metadata": {},
     "output_type": "execute_result"
    }
   ],
   "source": [
    "df[features].head()"
   ]
  },
  {
   "cell_type": "code",
   "execution_count": 5,
   "metadata": {},
   "outputs": [],
   "source": [
    "# Combining ID, Name and features into a df\n",
    "df2 = df[['ID','Name']+features]\n",
    "\n",
    "# Create a dict with name and ID\n",
    "id_name = df[['Name','ID']].set_index('ID')['Name'].to_dict()"
   ]
  },
  {
   "cell_type": "code",
   "execution_count": 6,
   "metadata": {},
   "outputs": [
    {
     "data": {
      "text/plain": [
       "{158023: 'L. Messi',\n",
       " 20801: 'Cristiano Ronaldo',\n",
       " 190871: 'Neymar Jr',\n",
       " 193080: 'De Gea',\n",
       " 192985: 'K. De Bruyne',\n",
       " 183277: 'E. Hazard',\n",
       " 177003: 'L. Modrić',\n",
       " 176580: 'L. Suárez',\n",
       " 155862: 'Sergio Ramos',\n",
       " 200389: 'J. Oblak',\n",
       " 188545: 'R. Lewandowski',\n",
       " 182521: 'T. Kroos',\n",
       " 182493: 'D. Godín',\n",
       " 168542: 'David Silva',\n",
       " 215914: 'N. Kanté',\n",
       " 211110: 'P. Dybala',\n",
       " 202126: 'H. Kane',\n",
       " 194765: 'A. Griezmann',\n",
       " 192448: 'M. ter Stegen',\n",
       " 192119: 'T. Courtois',\n",
       " 189511: 'Sergio Busquets',\n",
       " 179813: 'E. Cavani',\n",
       " 167495: 'M. Neuer',\n",
       " 153079: 'S. Agüero',\n",
       " 138956: 'G. Chiellini',\n",
       " 231747: 'K. Mbappé',\n",
       " 209331: 'M. Salah',\n",
       " 200145: 'Casemiro',\n",
       " 198710: 'J. Rodríguez',\n",
       " 198219: 'L. Insigne',\n",
       " 197781: 'Isco',\n",
       " 190460: 'C. Eriksen',\n",
       " 189242: 'Coutinho',\n",
       " 188567: 'P. Aubameyang',\n",
       " 178603: 'M. Hummels',\n",
       " 176676: 'Marcelo',\n",
       " 173731: 'G. Bale',\n",
       " 167948: 'H. Lloris',\n",
       " 167664: 'G. Higuaín',\n",
       " 164240: 'Thiago Silva',\n",
       " 162835: 'S. Handanovič',\n",
       " 1179: 'G. Buffon',\n",
       " 205600: 'S. Umtiti',\n",
       " 201399: 'M. Icardi',\n",
       " 201024: 'K. Koulibaly',\n",
       " 195864: 'P. Pogba',\n",
       " 193041: 'K. Navas',\n",
       " 192505: 'R. Lukaku',\n",
       " 192387: 'C. Immobile',\n",
       " 189332: 'Jordi Alba',\n",
       " 175943: 'D. Mertens',\n",
       " 172871: 'J. Vertonghen',\n",
       " 171877: 'M. Hamšík',\n",
       " 168651: 'I. Rakitić',\n",
       " 152729: 'Piqué',\n",
       " 222492: 'L. Sané',\n",
       " 218667: 'Bernardo Silva',\n",
       " 210257: 'Ederson',\n",
       " 208722: 'S. Mané',\n",
       " 203376: 'V. van Dijk',\n",
       " 202652: 'R. Sterling',\n",
       " 201942: 'Roberto Firmino',\n",
       " 201535: 'R. Varane',\n",
       " 199556: 'M. Verratti',\n",
       " 191043: 'Alex Sandro',\n",
       " 190483: 'Douglas Costa',\n",
       " 189596: 'T. Müller',\n",
       " 189509: 'Thiago',\n",
       " 188350: 'M. Reus',\n",
       " 184432: 'Azpilicueta',\n",
       " 184344: 'L. Bonucci',\n",
       " 184087: 'T. Alderweireld',\n",
       " 180206: 'M. Pjanić',\n",
       " 177509: 'M. Benatia',\n",
       " 176635: 'M. Özil',\n",
       " 135507: 'Fernandinho',\n",
       " 41: 'Iniesta',\n",
       " 232363: 'M. Škriniar',\n",
       " 223848: 'S. Milinković-Savić',\n",
       " 220834: 'Marco Asensio',\n",
       " 216594: 'N. Fekir',\n",
       " 212831: 'Alisson',\n",
       " 212622: 'J. Kimmich',\n",
       " 208421: 'Saúl',\n",
       " 204485: 'R. Mahrez',\n",
       " 197445: 'D. Alaba',\n",
       " 193747: 'Koke',\n",
       " 193301: 'A. Lacazette',\n",
       " 192774: 'K. Manolas',\n",
       " 192366: 'N. Otamendi',\n",
       " 189513: 'Parejo',\n",
       " 187961: 'Paulinho',\n",
       " 186153: 'W. Szczęsny',\n",
       " 184941: 'A. Sánchez',\n",
       " 184267: 'Y. Brahimi',\n",
       " 183907: 'J. Boateng',\n",
       " 181872: 'A. Vidal',\n",
       " 181458: 'I. Perišić',\n",
       " 180930: 'E. Džeko',\n",
       " 179846: 'S. Khedira',\n",
       " 179844: 'Diego Costa',\n",
       " 178518: 'R. Nainggolan',\n",
       " 171919: 'Naldo',\n",
       " 170890: 'B. Matuidi',\n",
       " 168609: 'Miranda',\n",
       " 165153: 'K. Benzema',\n",
       " 164169: 'Filipe Luís',\n",
       " 139720: 'V. Kompany',\n",
       " 120533: 'Pepe',\n",
       " 41236: 'Z. Ibrahimović',\n",
       " 220793: 'D. Sánchez',\n",
       " 216460: 'J. Giménez',\n",
       " 212462: 'Alex Telles',\n",
       " 212218: 'A. Laporte',\n",
       " 212198: 'Bruno Fernandes',\n",
       " 212190: 'N. Süle',\n",
       " 211300: 'A. Martial',\n",
       " 211117: 'D. Alli',\n",
       " 209499: 'Fabinho',\n",
       " 207865: 'Marquinhos',\n",
       " 207566: 'William Carvalho',\n",
       " 205498: 'Jorginho',\n",
       " 204970: 'F. Thauvin',\n",
       " 204963: 'Carvajal',\n",
       " 202556: 'M. Depay',\n",
       " 200104: 'H. Son',\n",
       " 199482: 'A. Lopes',\n",
       " 198176: 'S. de Vrij',\n",
       " 198009: 'M. Perin',\n",
       " 193082: 'J. Cuadrado',\n",
       " 192629: 'Iago Aspas',\n",
       " 192563: 'B. Leno',\n",
       " 191202: 'N. Matić',\n",
       " 190941: 'L. Hrádecký',\n",
       " 190584: 'Illarramendi',\n",
       " 188377: 'K. Walker',\n",
       " 186942: 'I. Gündoğan',\n",
       " 185020: 'José Callejón',\n",
       " 183898: 'A. Di María',\n",
       " 181783: 'M. Mandžukić',\n",
       " 180403: 'Willian',\n",
       " 178750: 'Sergio Asenjo',\n",
       " 178562: 'E. Banega',\n",
       " 177413: 'A. Witsel',\n",
       " 177388: 'D. Payet',\n",
       " 176769: 'Jonas',\n",
       " 172879: 'Sokratis',\n",
       " 167628: 'S. Ruffier',\n",
       " 167397: 'Falcao',\n",
       " 163587: 'K. Schmeichel',\n",
       " 157481: 'Raúl Albiol',\n",
       " 143076: 'A. Gómez',\n",
       " 137186: 'A. Barzagli',\n",
       " 20775: 'Quaresma',\n",
       " 9014: 'A. Robben',\n",
       " 231443: 'O. Dembélé',\n",
       " 230666: 'Gabriel Jesus',\n",
       " 230481: 'Ronaldo Cabrais',\n",
       " 230375: 'Josué Chiamulera',\n",
       " 230294: 'Louri Beretta',\n",
       " 225850: 'P. Kimpembe',\n",
       " 220971: 'N. Keïta',\n",
       " 219683: 'C. Tolisso',\n",
       " 213565: 'T. Lemar',\n",
       " 213345: 'K. Coman',\n",
       " 213331: 'J. Tah',\n",
       " 212523: 'Anderson Talisca',\n",
       " 212188: 'T. Werner',\n",
       " 210008: 'A. Rabiot',\n",
       " 209658: 'L. Goretzka',\n",
       " 208808: 'Q. Promes',\n",
       " 208670: 'H. Ziyech',\n",
       " 208618: 'Lucas Vázquez',\n",
       " 208418: 'Y. Carrasco',\n",
       " 208093: 'Gerard Moreno',\n",
       " 207863: 'Felipe',\n",
       " 207410: 'M. Kovačić',\n",
       " 206585: 'Kepa',\n",
       " 206545: 'Manu Trigueros',\n",
       " 206113: 'S. Gnabry',\n",
       " 204935: 'J. Pickford',\n",
       " 204639: 'S. Savić',\n",
       " 203574: 'J. Stones',\n",
       " 202651: 'Suso',\n",
       " 202166: 'J. Draxler',\n",
       " 201995: 'Felipe Anderson',\n",
       " 200949: 'Lucas Moura',\n",
       " 200888: 'Danilo Pereira',\n",
       " 200724: 'Nacho Fernández',\n",
       " 200316: 'T. Horn',\n",
       " 199914: 'Allan',\n",
       " 199845: 'F. Acerbi',\n",
       " 199564: 'Sergi Roberto',\n",
       " 198329: 'Rodrigo',\n",
       " 197965: 'Pizzi',\n",
       " 195365: 'K. Kampl',\n",
       " 194404: 'Neto',\n",
       " 193698: 'O. Baumann',\n",
       " 193474: 'I. Gueye',\n",
       " 192883: 'H. Mkhitaryan',\n",
       " 192638: 'Marcos Alonso',\n",
       " 192593: 'D. Subašić',\n",
       " 190547: 'K. Glik',\n",
       " 189712: 'K. Strootman',\n",
       " 189068: 'B. Dost',\n",
       " 188152: 'Oscar',\n",
       " 186627: 'M. Balotelli',\n",
       " 185221: 'Luiz Gustavo',\n",
       " 184942: 'Giuliano',\n",
       " 179944: 'David Luiz',\n",
       " 179783: 'R. Fährmann',\n",
       " 178088: 'Juan Mata',\n",
       " 178086: 'Adán',\n",
       " 178005: 'Rui Patrício',\n",
       " 177683: 'Y. Sommer',\n",
       " 177610: 'Javi Martínez',\n",
       " 177457: 'L. Bender',\n",
       " 176266: 'Lucas Leiva',\n",
       " 163705: 'S. Mandanda',\n",
       " 162895: 'Cesc Fàbregas',\n",
       " 162240: 'M. Dembélé',\n",
       " 156616: 'F. Ribéry',\n",
       " 104389: 'R. Jarstein',\n",
       " 53302: 'D. De Rossi',\n",
       " 24630: 'Pepe Reina',\n",
       " 236583: 'J. Pavlenka',\n",
       " 235243: 'M. de Ligt',\n",
       " 231866: 'Rodri',\n",
       " 230658: 'Arthur',\n",
       " 230621: 'G. Donnarumma',\n",
       " 230258: 'Rosberto Dourado',\n",
       " 230225: 'Juiano Mestres',\n",
       " 230168: 'Raphaelito Anjos',\n",
       " 227055: 'Gelson Martins',\n",
       " 224411: 'Gonçalo Guedes',\n",
       " 223959: 'L. Torreira',\n",
       " 222737: 'Malcom',\n",
       " 221087: 'Pau López',\n",
       " 220814: 'L. Hernández',\n",
       " 220440: 'C. Lenglet',\n",
       " 216354: 'A. Kramarić',\n",
       " 216267: 'A. Robertson',\n",
       " 216194: 'Dani García',\n",
       " 212404: 'F. Bernardeschi',\n",
       " 212194: 'J. Brandt',\n",
       " 211320: 'D. Rugani',\n",
       " 210617: 'Samu Castillejo',\n",
       " 210514: 'João Cancelo',\n",
       " 210413: 'A. Romagnoli',\n",
       " 209989: 'T. Partey',\n",
       " 209297: 'Fred',\n",
       " 208830: 'J. Vardy',\n",
       " 208596: 'A. Belotti',\n",
       " 208448: 'E. Forsberg',\n",
       " 207494: 'J. Lingard',\n",
       " 207471: 'F. Vázquez',\n",
       " 205678: 'E. Višća',\n",
       " 205452: 'A. Rüdiger',\n",
       " 203551: 'A. Florenzi',\n",
       " 203263: 'H. Maguire',\n",
       " 202371: 'T. Meunier',\n",
       " 201956: 'S. Sané',\n",
       " 201455: 'G. Kondogbia',\n",
       " 201400: 'Rafinha',\n",
       " 201305: 'Gabriel Paulista',\n",
       " 201153: 'Morata',\n",
       " 199987: 'J. Cillessen',\n",
       " 199451: 'W. Ben Yedder',\n",
       " 198951: 'C. Bakambu',\n",
       " 198950: 'Pablo Sarabia',\n",
       " 198717: 'W. Zaha',\n",
       " 198706: 'Luis Alberto',\n",
       " 198164: 'Jonathan Viera',\n",
       " 198141: 'Bartra',\n",
       " 197655: 'S. Coates',\n",
       " 195093: 'Willian José',\n",
       " 193525: 'Mário Fernandes',\n",
       " 193469: 'Víctor Ruiz',\n",
       " 193283: 'T. Delaney',\n",
       " 192984: 'K. Casteels',\n",
       " 192318: 'M. Götze',\n",
       " 192227: 'S. Mustafi',\n",
       " 191180: 'J. Pastore',\n",
       " 189505: 'Pedro',\n",
       " 189125: 'G. Bonaventura',\n",
       " 189117: 'R. Bürki',\n",
       " 188803: 'Taison',\n",
       " 187936: 'S. Nzonzi',\n",
       " 187754: 'Marlos',\n",
       " 186561: 'A. Ramsey',\n",
       " 186345: 'K. Trippier',\n",
       " 185103: 'A. Kolarov',\n",
       " 184484: 'G. Sigurðsson',\n",
       " 184431: 'S. Giovinco',\n",
       " 184200: 'M. Arnautović',\n",
       " 184144: 'N. Gaitán',\n",
       " 183711: 'J. Henderson',\n",
       " 183574: 'M. Kruse',\n",
       " 183498: 'M. Parolo',\n",
       " 183376: 'L. Fejsa',\n",
       " 183280: 'A. Rami',\n",
       " 181786: 'V. Ćorluka',\n",
       " 181291: 'G. Wijnaldum',\n",
       " 179847: 'F. Fazio',\n",
       " 178509: 'O. Giroud',\n",
       " 173521: 'Marcano',\n",
       " 171897: 'A. Guardado',\n",
       " 170481: 'E. Garay',\n",
       " 168530: 'Jardel',\n",
       " 168435: 'S. Sirigu',\n",
       " 168354: 'E. Viviano',\n",
       " 165229: 'L. Koscielny',\n",
       " 163489: 'A. Consigli',\n",
       " 158963: 'L. Biglia',\n",
       " 146530: 'Dani Alves',\n",
       " 113422: 'David Villa',\n",
       " 106231: 'Aduriz',\n",
       " 48940: 'P. Čech',\n",
       " 5479: 'Casillas',\n",
       " 231677: 'M. Rashford',\n",
       " 230271: 'Laure Santeiro',\n",
       " 229906: 'L. Bailey',\n",
       " 229237: 'M. Akanji',\n",
       " 228702: 'F. de Jong',\n",
       " 227928: 'Nélson Semedo',\n",
       " 226456: 'Pablo Fornals',\n",
       " 226271: 'Fabián',\n",
       " 225508: 'E. Bailly',\n",
       " 222509: 'Dani Ceballos',\n",
       " 221992: 'H. Lozano',\n",
       " 216475: 'Morales',\n",
       " 216451: 'J. Seri',\n",
       " 216409: 'M. Politano',\n",
       " 216352: 'M. Brozović',\n",
       " 216201: 'Williams',\n",
       " 214997: 'A. Correa',\n",
       " 213661: 'A. Christensen',\n",
       " 212814: 'João Mário',\n",
       " 212151: 'T. Strakosha',\n",
       " 210864: 'E. Hysaj',\n",
       " 210406: 'P. Zieliński',\n",
       " 210243: 'Ricardo Pereira',\n",
       " 210035: 'Grimaldo',\n",
       " 209889: 'R. Guerreiro',\n",
       " 208135: 'A. Doucouré',\n",
       " 207877: 'J. Martínez',\n",
       " 207664: 'C. Bacca',\n",
       " 206467: 'A. Plea',\n",
       " 205923: 'B. Davies',\n",
       " 205362: 'M. Nastasić',\n",
       " 205175: 'A. Milik',\n",
       " 204923: 'M. Sabitzer',\n",
       " 204884: 'B. Mendy',\n",
       " 204024: 'C. Kramer',\n",
       " 203890: 'S. Vrsaljko',\n",
       " 203486: 'T. Hazard',\n",
       " 202857: 'K. Bellarabi',\n",
       " 202685: 'S. Zaza',\n",
       " 201454: 'F. Ghoulam',\n",
       " 200726: 'B. Lecomte',\n",
       " 200647: 'J. Iličić',\n",
       " 200610: 'K. Volland',\n",
       " 200454: 'Paco Alcácer',\n",
       " 199715: 'Vitolo',\n",
       " 199503: 'G. Xhaka',\n",
       " 199434: 'D. Tadić',\n",
       " 199042: 'C. Aránguiz',\n",
       " 196889: 'S. Verdi',\n",
       " 195086: 'D. Lovren',\n",
       " 193532: 'G. Medel',\n",
       " 193348: 'X. Shaqiri',\n",
       " 193165: 'J. Corona',\n",
       " 193105: 'A. Areola',\n",
       " 192641: 'K. Vogt',\n",
       " 191740: 'Ander Herrera',\n",
       " 190972: 'E. Salvio',\n",
       " 190813: 'S. El Shaarawy',\n",
       " 189881: 'C. Smalling',\n",
       " 189362: 'Hulk',\n",
       " 189358: 'S. Kagawa',\n",
       " 188988: 'M. Lanzini',\n",
       " 187491: 'F. Smolov',\n",
       " 187072: 'L. Stindl',\n",
       " 185239: 'O. Toprak',\n",
       " 183900: 'D. Perotti',\n",
       " 182494: 'F. Muslera',\n",
       " 179784: 'B. Höwedes',\n",
       " 179645: 'S. Kjær',\n",
       " 177458: 'S. Bender',\n",
       " 177326: 'M. Valbuena',\n",
       " 175379: 'Pedro León',\n",
       " 173909: 'K. Boateng',\n",
       " 173771: 'L. Piszczek',\n",
       " 173221: 'A. Candreva',\n",
       " 172522: 'D. Wass',\n",
       " 170368: 'E. Lamela',\n",
       " 169595: 'D. Rose',\n",
       " 169416: 'C. Vela',\n",
       " 169195: 'Renato Augusto',\n",
       " 167905: 'A. Valencia',\n",
       " 164835: 'L. Fabiański',\n",
       " 162347: 'João Moutinho',\n",
       " 161956: 'Borja Valero',\n",
       " 159261: 'F. Quagliarella',\n",
       " 159145: 'B. Gomis',\n",
       " 157960: 'Manuel Fernandes',\n",
       " 156519: 'H. Herrera',\n",
       " 144622: 'Raffael',\n",
       " 139068: 'Nani',\n",
       " 138412: 'J. Milner',\n",
       " 112316: 'J. Mathieu',\n",
       " 45186: 'Joaquín',\n",
       " 239207: 'M. Gómez',\n",
       " 235790: 'K. Havertz',\n",
       " 235569: 'T. Ndombele',\n",
       " 234906: 'H. Aouar',\n",
       " 234153: 'Carlos Soler',\n",
       " 234035: 'Odriozola',\n",
       " 230977: 'M. Almirón',\n",
       " 230347: 'Welington Dano',\n",
       " 230234: 'Everton Andrão',\n",
       " 230142: 'Oyarzabal',\n",
       " 228229: 'F. Balbuena',\n",
       " 227536: 'M. Marega',\n",
       " 226851: 'B. Pavard',\n",
       " 226790: 'W. Ndidi',\n",
       " 226753: 'A. Onana',\n",
       " 226226: 'G. Lo Celso',\n",
       " 224334: 'M. Acuña',\n",
       " 224293: 'Rúben Neves',\n",
       " 221639: 'Mariano',\n",
       " 221540: 'Raúl',\n",
       " 220477: 'M. Caldara',\n",
       " 219985: 'M. Vecino',\n",
       " 219809: 'T. Bakayoko',\n",
       " 218339: 'M. Dahoud',\n",
       " 216547: 'Rafa',\n",
       " 215785: 'K. Baldé',\n",
       " 215316: 'G. Rulli',\n",
       " 214584: 'F. Armani',\n",
       " 212692: 'Rony Lopes',\n",
       " 212623: 'Santi Mina',\n",
       " 211748: 'K. Demirbay',\n",
       " 211688: 'Gayà',\n",
       " 211575: 'André Gomes',\n",
       " 211256: 'N. Tagliafico',\n",
       " 210896: 'M. Sanson',\n",
       " 209960: 'Pacheco',\n",
       " 208333: 'E. Can',\n",
       " 208128: 'H. Çalhanoğlu',\n",
       " 207862: 'M. Ginter',\n",
       " 207599: 'M. Keane',\n",
       " 207439: 'L. Paredes',\n",
       " 206413: 'T. Stepanenko',\n",
       " 205988: 'L. Shaw',\n",
       " 205705: 'Z. Feddal',\n",
       " 205693: 'S. Haller',\n",
       " 205525: 'Bernard',\n",
       " 205114: 'T. Inui',\n",
       " 205070: 'Portu',\n",
       " 204529: 'M. Batshuayi',\n",
       " 204399: 'E. Zahavi',\n",
       " 204120: 'T. Vaclík',\n",
       " 203841: 'N. Pope',\n",
       " 203747: 'Héctor Bellerín',\n",
       " 203605: 'P. Kadeřábek',\n",
       " 203042: 'J. Butland',\n",
       " 202849: 'J. Vestergaard',\n",
       " 202695: 'J. Tarkowski',\n",
       " 202477: 'Deulofeu',\n",
       " 202335: 'E. Dier',\n",
       " 201377: 'J. Murillo',\n",
       " 201144: 'M. Badelj',\n",
       " 201119: 'Ismaily',\n",
       " 200536: 'N. Schulz',\n",
       " 200458: 'L. Digne',\n",
       " 200318: 'M. Uth',\n",
       " 200315: 'Cristian Tello',\n",
       " 199206: 'D. Vida',\n",
       " 199110: 'L. Muriel',\n",
       " 199069: 'V. Aboubakar',\n",
       " 198784: 'A. Oxlade-Chamberlain',\n",
       " 197853: 'S. Aurier',\n",
       " 197061: 'J. Matip',\n",
       " 195861: 'Y. Rakitskyi',\n",
       " 194879: 'Sergi Enrich',\n",
       " 194794: 'A. Yarmolenko',\n",
       " 194229: 'Hugo Mallo',\n",
       " 194022: 'André Almeida',\n",
       " 193886: 'D. Didavi',\n",
       " 193352: 'R. Rodríguez',\n",
       " 193061: 'R. Pereyra',\n",
       " 192789: 'Mario Gaspar',\n",
       " 191687: 'Maicon',\n",
       " 190815: 'D. Blind',\n",
       " 190778: 'J. Zoet',\n",
       " 190544: 'A. Ljajić',\n",
       " 190286: 'Canales',\n",
       " 190264: 'Iago Falqué',\n",
       " 189805: 'L. de Jong',\n",
       " 189690: 'Guaita',\n",
       " 189575: 'Muniain',\n",
       " 189354: 'Susaeta',\n",
       " 189251: 'S. Rudy',\n",
       " 188943: 'K. Trapp',\n",
       " 188942: 'V. Wanyama',\n",
       " 188829: 'N. Nkoulou',\n",
       " 188388: 'R. Boudebouz',\n",
       " 188005: 'Camacho',\n",
       " 186569: 'S. Ulreich',\n",
       " 186547: 'M. Musacchio',\n",
       " 186537: 'C. Stuani',\n",
       " 185122: 'P. Gulácsi',\n",
       " 184120: 'Bruno',\n",
       " 183427: 'F. Delph',\n",
       " 180819: 'A. Lallana',\n",
       " 180334: 'Marcelo',\n",
       " 180216: 'S. Coleman',\n",
       " 180175: 'Alexandre Pato',\n",
       " 178424: 'Antunes',\n",
       " 177604: 'Nacho Monreal',\n",
       " 177600: 'Beñat',\n",
       " 176915: 'A. Fernández',\n",
       " 176600: 'K. Gameiro',\n",
       " 176376: 'I. Piatti',\n",
       " 176104: 'V. Birsa',\n",
       " 173373: 'S. Romero',\n",
       " 173208: 'D. Criscito',\n",
       " 172114: 'D. Valeri',\n",
       " 171833: 'D. Sturridge',\n",
       " 171579: 'Raúl García',\n",
       " 170815: 'S. Defour',\n",
       " 166706: 'M. Škrtel',\n",
       " 165109: 'S. Radu',\n",
       " 164468: 'G. Cahill',\n",
       " 163711: 'L. Diarra',\n",
       " 159147: 'L. Perrin',\n",
       " 158625: 'Dante',\n",
       " 156713: 'A. Granqvist',\n",
       " 153244: 'A. Gignac',\n",
       " 150418: 'M. Gómez',\n",
       " 148119: 'I. Akinfeev',\n",
       " 147782: 'I. Denisov',\n",
       " 146760: 'Juanfran',\n",
       " 146748: 'Diego López',\n",
       " 146562: 'Santi Cazorla',\n",
       " 146536: 'Jesús Navas',\n",
       " 142754: 'J. Mascherano',\n",
       " 140293: 'A. Mirante',\n",
       " 139997: 'D. Srna',\n",
       " 121944: 'B. Schweinsteiger',\n",
       " 110677: 'Moyá',\n",
       " 54050: 'W. Rooney',\n",
       " 49369: 'Fernando Torres',\n",
       " 49031: 'S. Sorrentino',\n",
       " 244369: 'V. Tsygankov',\n",
       " 239818: 'Rúben Dias',\n",
       " 236632: 'David Neres',\n",
       " 233419: 'Raphinha',\n",
       " 232097: 'A. Harit',\n",
       " 231943: 'Richarlison',\n",
       " 231478: 'L. Martínez',\n",
       " 230938: 'F. Kessié',\n",
       " 230498: 'Luimo Boas Santos',\n",
       " 230312: 'Gabri Prestão',\n",
       " 230251: 'Melvin Parrela',\n",
       " 230212: 'Antônio Chiamuloira',\n",
       " 230201: 'Maikel Catarino',\n",
       " 229909: 'A. Lunev',\n",
       " 228941: 'André Silva',\n",
       " 227796: 'C. Pulisic',\n",
       " 227290: 'M. Dmitrović',\n",
       " 227234: 'L. Tousart',\n",
       " 226161: 'Marcos Llorente',\n",
       " 225997: 'B. Verbič',\n",
       " 225953: 'S. Bergwijn',\n",
       " 225711: 'A. Diallo',\n",
       " 225663: 'A. Golovin',\n",
       " 225647: 'M. Campaña',\n",
       " 224254: 'C. Pavón',\n",
       " 224069: 'K. Toko-Ekambi',\n",
       " 223682: 'Granell',\n",
       " 223061: 'F. Cervi',\n",
       " 222028: 'J. Weigl',\n",
       " 221660: 'V. Lindelöf',\n",
       " 220018: 'A. Rebić',\n",
       " 219932: 'A. Sanabria',\n",
       " 219576: 'R. Battaglia',\n",
       " 216497: 'M. Philipp',\n",
       " 216388: 'A. Saint-Maximin',\n",
       " 216150: 'D. Zappacosta',\n",
       " 215353: 'L. Alario',\n",
       " 215061: 'D. Benedetto',\n",
       " 215057: 'I. Marcone',\n",
       " 214947: 'J. Gbamin',\n",
       " 213991: 'J. Lerma',\n",
       " 213516: 'Ricardo Horta',\n",
       " 213160: 'R. Zobnin',\n",
       " 212150: 'M. Meyer',\n",
       " 211368: 'Bruma',\n",
       " 211267: 'R. Centurión',\n",
       " 210455: 'Jonny',\n",
       " 210411: 'Otávio',\n",
       " 210324: 'J. Hofmann',\n",
       " 208920: 'N. Aké',\n",
       " 208334: 'J. Hector',\n",
       " 207993: 'S. Kolašinac',\n",
       " 207939: 'G. Pizarro',\n",
       " 207732: 'Roger',\n",
       " 206652: 'Sergio Rico',\n",
       " 206304: 'L. Milivojević',\n",
       " 205407: 'D. Baselli',\n",
       " 205193: 'K. Rekik',\n",
       " 205192: 'Denis Suárez',\n",
       " 204638: 'W. Orban',\n",
       " 204614: 'Mário Rui',\n",
       " 204525: 'Iñigo Martínez',\n",
       " 204311: 'K. Zouma',\n",
       " 204277: 'Roque Mesa',\n",
       " 204082: 'J. Brooks',\n",
       " 203775: 'L. Karius',\n",
       " 203757: 'Zé Luís',\n",
       " 203483: 'D. Klaassen',\n",
       " 203362: 'M. Elyounoussi',\n",
       " 203106: 'L. Bittencourt',\n",
       " 202648: 'Sergi Darder',\n",
       " 202562: 'J. Roussillon',\n",
       " 202325: 'D. Demme',\n",
       " 202201: 'J. Gouweleeuw',\n",
       " 201862: 'M. Rojo',\n",
       " 201519: 'J. Veretout',\n",
       " 201510: 'L. Kurzawa',\n",
       " 201508: 'G. Ramírez',\n",
       " 201505: 'David López',\n",
       " 201325: 'C. Tătăruşanu',\n",
       " 201143: 'A. Mandi',\n",
       " 201042: 'D. Sidibé',\n",
       " 200641: 'Y. Konoplyanka',\n",
       " 200260: 'S. Berghuis',\n",
       " 200155: 'H. Vanaken',\n",
       " 199823: 'Campaña',\n",
       " 199767: 'M. van Ginkel',\n",
       " 199561: 'Nolito',\n",
       " 199439: 'M. Gregoritsch',\n",
       " 199416: 'Ibai Gómez',\n",
       " 199304: 'Danilo',\n",
       " 199189: 'R. Barkley',\n",
       " 199005: 'M. Ryan',\n",
       " 198715: 'Sergio León',\n",
       " 198200: 'B. Stambouli',\n",
       " 198118: 'J. Guilavogui',\n",
       " 198031: 'Sérgio Oliveira',\n",
       " 197083: 'D. Caligiuri',\n",
       " 196978: 'C. Wilson',\n",
       " 194957: 'P. Jones',\n",
       " 194761: 'Borja García',\n",
       " 193738: 'Y. Belhanda',\n",
       " 193601: 'G. Pezzella',\n",
       " 193171: 'Jaume Costa',\n",
       " 192991: 'C. Tosun',\n",
       " 192679: 'Escudero',\n",
       " 192678: 'Kike García',\n",
       " 192598: 'Elkeson',\n",
       " 192064: 'Ricardo Goulart',\n",
       " 191076: 'J. Guðmundsson',\n",
       " 190456: 'N. Clyne',\n",
       " 190243: 'M. Hitz',\n",
       " 190149: 'De Marcos',\n",
       " 189682: 'B. Mee',\n",
       " 189681: 'Rafael',\n",
       " 189560: 'Iborra',\n",
       " 189461: 'J. Wilshere',\n",
       " 189433: 'B. Hübner',\n",
       " 189423: 'Souza',\n",
       " 189271: 'F. Coquelin',\n",
       " 188081: 'Alex Teixeira',\n",
       " 187735: 'A. Dzagoev',\n",
       " 187347: 'I. Smolnikov',\n",
       " 187052: \"Y. M'Vila\",\n",
       " 186832: 'K. Asamoah',\n",
       " 186148: 'R. Zieler',\n",
       " 186132: 'D. Drinkwater',\n",
       " 185431: 'N. Kalinić',\n",
       " 184949: 'Mariano',\n",
       " 184881: 'S. Feghouli',\n",
       " 184826: 'Adrien Silva',\n",
       " 184134: 'Fernando',\n",
       " 183909: 'I. Traoré',\n",
       " 183892: 'G. Mercado',\n",
       " 183580: 'N. Petersen',\n",
       " 183497: 'O. Karnezis',\n",
       " 183285: 'M. Sakho',\n",
       " 182002: 'Sidnei',\n",
       " 181820: 'S. Jovetić',\n",
       " 178311: 'Eder',\n",
       " 178224: 'J. Hernández',\n",
       " 177723: 'Fabricio',\n",
       " 177644: 'Kiko Casilla',\n",
       " 177633: 'Ángel',\n",
       " 177358: 'M. Schneiderlin',\n",
       " 176944: 'M. Fellaini',\n",
       " 176731: 'P. Wernbloom',\n",
       " 176550: 'D. Ospina',\n",
       " 173426: 'S. Mignolet',\n",
       " 172723: 'A. Begović',\n",
       " 170797: 'N. Şahin',\n",
       " 169705: 'R. Bertrand',\n",
       " 169115: 'A. Masiello',\n",
       " 164859: 'T. Walcott',\n",
       " 164029: 'Charles',\n",
       " 163264: 'T. Heaton',\n",
       " 161648: 'H. Ben Arfa',\n",
       " 160741: 'D. Abraham',\n",
       " 159065: 'E. Lavezzi',\n",
       " 158232: 'S. Kalou',\n",
       " 158133: 'J. Farfán',\n",
       " 157301: 'R. Babel',\n",
       " 152908: 'A. Young',\n",
       " 150724: 'J. Hart',\n",
       " 142707: 'L. López',\n",
       " 137351: 'D. Baier',\n",
       " 124375: 'B. Yılmaz',\n",
       " 121933: 'R. Adler',\n",
       " 108080: 'S. Lichtsteiner',\n",
       " 53050: 'E. Adebayor',\n",
       " 80: 'E. Belözoğlu',\n",
       " 242348: 'Loren',\n",
       " 240130: 'Éder Militão',\n",
       " 235805: 'F. Chiesa',\n",
       " 235374: 'M. Lazzari',\n",
       " 235212: 'A. Hakimi',\n",
       " 232862: 'S. Nakajima',\n",
       " 232432: 'L. Jović',\n",
       " 232244: 'S. Ascacíbar',\n",
       " 231691: 'A. Lafont',\n",
       " 231281: 'T. Alexander-Arnold',\n",
       " 230988: 'F. Krovinović',\n",
       " 230431: 'Sidney Pessinho',\n",
       " 230360: 'Everticinho',\n",
       " 230269: 'Claudio Coíntra',\n",
       " 230184: 'Ronaldo Esler',\n",
       " 230020: 'P. Lees-Melou',\n",
       " 229984: 'B. Chilwell',\n",
       " 229406: 'João Novais',\n",
       " 228881: 'D. Calabria',\n",
       " 228618: 'F. Mendy',\n",
       " 228251: 'L. Pellegrini',\n",
       " 227476: 'Soares',\n",
       " 226766: 'Daniel Podence',\n",
       " 226379: 'M. Díaz',\n",
       " 226377: 'G. Martínez',\n",
       " 226168: 'M. Eggestein',\n",
       " 226078: 'Trezeguet',\n",
       " 225309: 'N. Amiri',\n",
       " 225161: 'Vallejo',\n",
       " 225100: 'J. Gomez',\n",
       " 224458: 'Diogo Jota',\n",
       " 224309: 'Joan Jordán',\n",
       " 224116: 'Dyego Sousa',\n",
       " 224031: 'A. Marušić',\n",
       " 223952: 'David Soria',\n",
       " 223874: 'V. Rongier',\n",
       " 223689: 'W. Weghorst',\n",
       " 223627: 'O. Al Soma',\n",
       " 222994: 'M. Nakamba',\n",
       " 222709: 'Petros',\n",
       " 221342: 'Pablo Maffeo',\n",
       " 220523: 'Y. Mina',\n",
       " 220407: 'M. Dúbravka',\n",
       " 219693: 'Diego Carlos',\n",
       " 217940: 'D. Djené',\n",
       " 216816: 'G. Simeone',\n",
       " 216700: 'M. Meza',\n",
       " 216655: 'Bastos',\n",
       " 216435: 'S. Lobotka',\n",
       " 216393: 'Y. Tielemans',\n",
       " 216373: 'Marcelo Goiano',\n",
       " 216266: 'K. Tete',\n",
       " 216189: 'Capa',\n",
       " 216065: 'M. Sportiello',\n",
       " 215792: 'Jemerson',\n",
       " 215466: 'N. Maksimović',\n",
       " 215333: 'D. Zapata',\n",
       " 215330: 'J. Correa',\n",
       " 215259: 'E. Rigoni',\n",
       " 214766: 'C. Izquierdoz',\n",
       " 214394: 'W. Barrios',\n",
       " 214026: 'J. Mojica',\n",
       " 213732: 'A. Selikhov',\n",
       " 213655: 'A. Iwobi',\n",
       " 213400: 'D. Laxalt',\n",
       " 213296: 'N. Bentaleb',\n",
       " 212977: 'N. Stark',\n",
       " 212811: 'M. Lemina',\n",
       " 212501: 'L. Dendoncker',\n",
       " 212213: 'Ricardo Esgaio',\n",
       " 212196: 'P. Sisto',\n",
       " 212187: 'P. Max',\n",
       " 212153: 'R. Gagliardini',\n",
       " 211706: 'Pere Pons',\n",
       " 210935: 'D. Berardi',\n",
       " 210665: 'M. Halstenberg',\n",
       " 210513: 'J. Quintero',\n",
       " 209307: 'Tiago Volpi',\n",
       " 208777: 'Óliver Torres',\n",
       " 208620: 'Omar Mascarell',\n",
       " 208520: 'H. Sakai',\n",
       " 208450: 'Andreas Pereira',\n",
       " 208330: 'A. Januzaj',\n",
       " 208268: 'B. Cristante',\n",
       " 208104: 'Matheus',\n",
       " 207948: 'B. Traoré',\n",
       " 207791: 'Y. Poulsen',\n",
       " 207421: 'L. Trossard',\n",
       " 206511: 'M. Arnold',\n",
       " 206058: 'M. De Sciglio',\n",
       " 205976: 'Leo Baptistao',\n",
       " 205943: 'V. Chiricheş',\n",
       " 205850: 'L. Pavoletti',\n",
       " 205659: 'A. Cragno',\n",
       " 205633: 'L. Castro',\n",
       " 205431: 'N. Füllkrug',\n",
       " 205083: 'F. Fajr',\n",
       " 204838: 'R. Jiménez',\n",
       " 204819: 'E. Sala',\n",
       " 204385: 'S. García',\n",
       " 204259: 'S. Arias',\n",
       " 204240: 'B. Reynet',\n",
       " 203895: 'Pozuelo',\n",
       " 203886: 'A. Trebel',\n",
       " 203487: 'J. Lascelles',\n",
       " 203485: 'T. Kongolo',\n",
       " 203299: 'A. Carrillo',\n",
       " 202935: 'Álvaro',\n",
       " 202851: 'G. Defrel',\n",
       " 202642: 'Fernando',\n",
       " 201262: 'V. Darida',\n",
       " 201046: 'R. Saponara',\n",
       " 200677: 'Pedro Mendes',\n",
       " 200607: 'C. Schindler',\n",
       " 200529: 'N. Chadli',\n",
       " 199986: 'Arbilla',\n",
       " 199915: 'L. Dunk',\n",
       " 199827: 'P. Hernández',\n",
       " 199602: 'J. Guidetti',\n",
       " 199577: 'Sergi Gómez',\n",
       " 199576: 'Oriol Romeu',\n",
       " 199354: 'Lucas Pérez',\n",
       " 198648: 'B. Natcho',\n",
       " 198513: 'Cláudio Ramos',\n",
       " 197948: 'F. Lejeune',\n",
       " 197242: 'G. Krychowiak',\n",
       " 197225: 'N. Lodeiro',\n",
       " 196934: 'O. Özyakup',\n",
       " 143001: 'C. Tévez',\n",
       " 184477: 'K. Papadopoulos',\n",
       " 182945: 'M. Gradel',\n",
       " 158626: 'M. Debuchy',\n",
       " 172962: 'V. Moses',\n",
       " 173474: 'Z. Junuzović',\n",
       " 178085: 'Granero',\n",
       " 189606: 'J. Baumgartlinger',\n",
       " 171688: 'Fábio Coentrão',\n",
       " 158121: 'B. Costil',\n",
       " 153260: 'Hilton',\n",
       " 193198: 'N. Gudelj',\n",
       " 184252: 'L. Pratto',\n",
       " 186302: 'E. Hernández',\n",
       " 159171: 'Jurado',\n",
       " 193476: 'R. Cabella',\n",
       " 187598: 'Rafael Tolói',\n",
       " 174543: 'C. Bravo',\n",
       " 180432: 'Hernanes',\n",
       " 186581: 'K. Honda',\n",
       " 187607: 'A. Dzyuba',\n",
       " 182744: 'J. Holebas',\n",
       " 161754: 'Javi García',\n",
       " 163806: 'Sergio',\n",
       " 182495: 'M. Cáceres',\n",
       " 189156: 'Daniel Carriço',\n",
       " 169706: 'J. Cork',\n",
       " 173546: 'J. Tomkins',\n",
       " 180714: 'Guilherme',\n",
       " 170733: 'Gervinho',\n",
       " 189165: 'J. Shelvey',\n",
       " 156142: 'R. Eremenko',\n",
       " 178415: 'R. Vormer',\n",
       " 178416: 'J. Lens',\n",
       " 164082: 'Adriano',\n",
       " 193011: 'S. Cook',\n",
       " 150516: 'L. Podolski',\n",
       " 173306: 'C. Ansaldi',\n",
       " 172287: 'Manu García',\n",
       " 184575: 'R. Alessandrini',\n",
       " 205569: 'J. Ward-Prowse',\n",
       " 177666: 'M. Harnik',\n",
       " 185090: 'B. Moukandjo',\n",
       " 229636: 'G. Pereiro',\n",
       " 167431: 'G. Castro',\n",
       " 236295: 'Aarón Martín',\n",
       " 177159: 'F. Johnson',\n",
       " 215051: 'L. López',\n",
       " 183820: 'M. Dossevi',\n",
       " 189196: 'Caiuby',\n",
       " 208141: 'Gabriel',\n",
       " 146701: 'Iván Ramis',\n",
       " 181262: 'M. Suchý',\n",
       " 203535: 'T. Vilhena',\n",
       " 199952: 'E. Çolak',\n",
       " 203280: 'V. Germain',\n",
       " 156432: 'G. Hoarau',\n",
       " 135697: 'Sergio García',\n",
       " 183569: 'E. Choupo-Moting',\n",
       " 146963: 'J. Pinola',\n",
       " 212755: 'J. Hendrix',\n",
       " 219411: 'J. Izquierdo',\n",
       " 220948: 'S. Sydorchuk',\n",
       " 187924: 'C. Grenier',\n",
       " 207894: 'T. Strobl',\n",
       " 175895: 'V. Odjidja-Ofoe',\n",
       " 176919: 'N. Guzmán',\n",
       " 214040: 'F. Fabra',\n",
       " 220697: 'J. Maddison',\n",
       " 162329: 'K. El Ahmadi',\n",
       " 184089: 'M. Carcela-González',\n",
       " 198683: 'M. Gabbiadini',\n",
       " 135451: 'Gomes',\n",
       " 186395: 'M. Ritchie',\n",
       " 188955: 'G. Bou',\n",
       " 146460: 'Javi Fuego',\n",
       " 230685: 'E. Akbaba',\n",
       " 219681: 'J. Amavi',\n",
       " 231969: 'R. Malinovskyi',\n",
       " 186146: 'D. Welbeck',\n",
       " 221219: 'G. Conti',\n",
       " 200228: 'Bruno',\n",
       " 210212: 'Garry Rodrigues',\n",
       " 202789: 'A. Schwolow',\n",
       " 224294: 'L. Cook',\n",
       " 215079: 'P. Pérez',\n",
       " 230183: 'Gazzolisco',\n",
       " 110376: 'Jonatan Soriano',\n",
       " 211241: 'Rubén Peña',\n",
       " 185132: 'Mikel San José',\n",
       " 190765: 'P. Groß',\n",
       " 163631: 'L. Baines',\n",
       " 183855: 'A. Ogbonna',\n",
       " 200752: 'Juan Jesus',\n",
       " 196144: 'J. Martínez',\n",
       " 221491: 'N. Elvedi',\n",
       " 196147: 'G. Moreno',\n",
       " 157492: 'J. Valdivia',\n",
       " 182836: 'A. Carroll',\n",
       " 204341: 'Luís Neto',\n",
       " 142902: 'A. Pyatov',\n",
       " 196150: 'T. Gutiérrez',\n",
       " 227127: 'Álex Remiro',\n",
       " 199737: 'Wilson Eduardo',\n",
       " 223033: 'Jorge Meré',\n",
       " 213051: 'M. Elneny',\n",
       " 214332: 'D. Torres',\n",
       " 209981: 'Y. Bounou',\n",
       " 189757: 'A. Prijović',\n",
       " 215871: 'A. Jahanbakhsh',\n",
       " 219455: 'J. Calleri',\n",
       " 230463: 'Simão Acunha',\n",
       " 183871: 'N. Müller',\n",
       " 205632: 'L. Ocampos',\n",
       " 169792: 'J. Rodriguez',\n",
       " 162369: 'V. Ibišević',\n",
       " 189250: 'S. Rondón',\n",
       " 189506: 'Victor Sánchez',\n",
       " 203843: 'D. Suárez',\n",
       " 148803: 'K. Huntelaar',\n",
       " 216643: 'L. Dubois',\n",
       " 193862: 'André Pinto',\n",
       " 204105: 'K. Lala',\n",
       " 186953: 'O. Kıvrak',\n",
       " 192073: 'A. Bertolacci',\n",
       " 192841: 'E. Giaccherini',\n",
       " 220746: 'A. Živković',\n",
       " 226378: 'R. Ábila',\n",
       " 178250: 'P. Diop',\n",
       " 206411: 'D. Garmash',\n",
       " 202316: 'T. Chandler',\n",
       " 140620: 'R. Klavan',\n",
       " 214092: 'A. Miranchuk',\n",
       " 179789: 'D. Da Silva',\n",
       " 115533: 'D. Benaglio',\n",
       " 191053: 'T. Rincón',\n",
       " 182862: 'M. Pereira',\n",
       " 190799: 'C. Borges',\n",
       " 152912: 'J. Sand',\n",
       " 155984: 'Markel Bergara',\n",
       " 137809: 'Vágner Love',\n",
       " 214097: 'B. Bourigeaud',\n",
       " 193361: 'R. Soriano',\n",
       " 223058: 'D. Kuzyaev',\n",
       " 152916: 'R. Sambueza',\n",
       " 194644: 'Montoya',\n",
       " ...}"
      ]
     },
     "execution_count": 6,
     "metadata": {},
     "output_type": "execute_result"
    }
   ],
   "source": [
    "id_name"
   ]
  },
  {
   "cell_type": "code",
   "execution_count": 8,
   "metadata": {},
   "outputs": [],
   "source": [
    "# setting number of recommendations = 10\n",
    "n = 10\n",
    "\n",
    "X = df2[features]\n",
    "nbrs = NearestNeighbors(n_neighbors=n+1, algorithm='ball_tree').fit(X)\n",
    "dist, rank = nbrs.kneighbors(X)\n",
    "\n",
    "similar_df = pd.DataFrame(columns=[f'rank_{i}'for i in range(1,n+1)],\n",
    "                          index=df2['ID'].values,\n",
    "                          data=rank[:,1:])\n",
    "dist_df = pd.DataFrame(columns=[f'rank_{i}'for i in range(1,n+1)],\n",
    "                       index=df2['ID'].values,\n",
    "                       data=dist[:,1:])\n",
    "\n",
    "\n",
    "for cols in list(similar_df):\n",
    "    tg_col = similar_df[cols]\n",
    "    new_value = df2['ID'].iloc[tg_col].tolist()\n",
    "    similar_df[cols] = new_value"
   ]
  },
  {
   "cell_type": "code",
   "execution_count": 9,
   "metadata": {},
   "outputs": [],
   "source": [
    "def player_scouter(similar_df, dist_df, player_id):\n",
    "    player_id = int(player_id)\n",
    "    player_name = df2[df2['ID'] == player_id]['Name'].values[0]\n",
    "    \n",
    "    ## Bar chart\n",
    "    Xaxis = 1/(1+dist_df.loc[player_id].values[::-1])\n",
    "    Yaxis = similar_df.loc[player_id].map(id_name).values[::-1]\n",
    "\n",
    "    fig = go.Figure(go.Bar(\n",
    "                x=Xaxis,\n",
    "                y=Yaxis,\n",
    "                orientation='h'))\n",
    "    \n",
    "    fig.update_layout(title_text='Players similar to  \" '+str(player_name)+' \"')\n",
    "    fig.show()\n",
    "\n",
    "    ## Table display\n",
    "    similar_player = similar_df.loc[player_id]\n",
    "    display_col = ['Club', 'Name','Age','Nationality','Overall','Potential', 'Preferred Foot','Weak Foot', \n",
    "                'Wage','Value']\n",
    "    \n",
    "    display_df = pd.DataFrame({'ID':similar_player})\\\n",
    "    .merge(df[['ID']+display_col], how='left', on='ID')[display_col]\n",
    "\n",
    "    display(display_df)"
   ]
  },
  {
   "cell_type": "markdown",
   "metadata": {},
   "source": [
    "## Evaluate recommender performance\n",
    "---\n",
    "\n",
    "Now comes the fun part! Let's check out a few players to see if the recommender aligns with our intuition. In the cell below we'll do the following:\n",
    "1. Create a search term\n",
    "2. Use that to find all players matching the searched player\n",
    "3. For each player, we'll list off the ten most similar players"
   ]
  },
  {
   "cell_type": "code",
   "execution_count": 15,
   "metadata": {},
   "outputs": [
    {
     "data": {
      "application/vnd.plotly.v1+json": {
       "config": {
        "plotlyServerURL": "https://plot.ly"
       },
       "data": [
        {
         "orientation": "h",
         "type": "bar",
         "x": [
          0.0165432934590454,
          0.01700140098799972,
          0.017054138453465296,
          0.017440360568551243,
          0.017680096413595723,
          0.01809370047719448,
          0.0202792495999677,
          0.02298384419361272,
          0.025145501964021478,
          0.026039491000379177
         ],
         "y": [
          "K. Mbappé",
          "Malcom",
          "M. Reus",
          "R. Mahrez",
          "L. Insigne",
          "S. Agüero",
          "A. Robben",
          "E. Hazard",
          "P. Dybala",
          "Neymar Jr"
         ]
        }
       ],
       "layout": {
        "template": {
         "data": {
          "bar": [
           {
            "error_x": {
             "color": "#2a3f5f"
            },
            "error_y": {
             "color": "#2a3f5f"
            },
            "marker": {
             "line": {
              "color": "#E5ECF6",
              "width": 0.5
             }
            },
            "type": "bar"
           }
          ],
          "barpolar": [
           {
            "marker": {
             "line": {
              "color": "#E5ECF6",
              "width": 0.5
             }
            },
            "type": "barpolar"
           }
          ],
          "carpet": [
           {
            "aaxis": {
             "endlinecolor": "#2a3f5f",
             "gridcolor": "white",
             "linecolor": "white",
             "minorgridcolor": "white",
             "startlinecolor": "#2a3f5f"
            },
            "baxis": {
             "endlinecolor": "#2a3f5f",
             "gridcolor": "white",
             "linecolor": "white",
             "minorgridcolor": "white",
             "startlinecolor": "#2a3f5f"
            },
            "type": "carpet"
           }
          ],
          "choropleth": [
           {
            "colorbar": {
             "outlinewidth": 0,
             "ticks": ""
            },
            "type": "choropleth"
           }
          ],
          "contour": [
           {
            "colorbar": {
             "outlinewidth": 0,
             "ticks": ""
            },
            "colorscale": [
             [
              0,
              "#0d0887"
             ],
             [
              0.1111111111111111,
              "#46039f"
             ],
             [
              0.2222222222222222,
              "#7201a8"
             ],
             [
              0.3333333333333333,
              "#9c179e"
             ],
             [
              0.4444444444444444,
              "#bd3786"
             ],
             [
              0.5555555555555556,
              "#d8576b"
             ],
             [
              0.6666666666666666,
              "#ed7953"
             ],
             [
              0.7777777777777778,
              "#fb9f3a"
             ],
             [
              0.8888888888888888,
              "#fdca26"
             ],
             [
              1,
              "#f0f921"
             ]
            ],
            "type": "contour"
           }
          ],
          "contourcarpet": [
           {
            "colorbar": {
             "outlinewidth": 0,
             "ticks": ""
            },
            "type": "contourcarpet"
           }
          ],
          "heatmap": [
           {
            "colorbar": {
             "outlinewidth": 0,
             "ticks": ""
            },
            "colorscale": [
             [
              0,
              "#0d0887"
             ],
             [
              0.1111111111111111,
              "#46039f"
             ],
             [
              0.2222222222222222,
              "#7201a8"
             ],
             [
              0.3333333333333333,
              "#9c179e"
             ],
             [
              0.4444444444444444,
              "#bd3786"
             ],
             [
              0.5555555555555556,
              "#d8576b"
             ],
             [
              0.6666666666666666,
              "#ed7953"
             ],
             [
              0.7777777777777778,
              "#fb9f3a"
             ],
             [
              0.8888888888888888,
              "#fdca26"
             ],
             [
              1,
              "#f0f921"
             ]
            ],
            "type": "heatmap"
           }
          ],
          "heatmapgl": [
           {
            "colorbar": {
             "outlinewidth": 0,
             "ticks": ""
            },
            "colorscale": [
             [
              0,
              "#0d0887"
             ],
             [
              0.1111111111111111,
              "#46039f"
             ],
             [
              0.2222222222222222,
              "#7201a8"
             ],
             [
              0.3333333333333333,
              "#9c179e"
             ],
             [
              0.4444444444444444,
              "#bd3786"
             ],
             [
              0.5555555555555556,
              "#d8576b"
             ],
             [
              0.6666666666666666,
              "#ed7953"
             ],
             [
              0.7777777777777778,
              "#fb9f3a"
             ],
             [
              0.8888888888888888,
              "#fdca26"
             ],
             [
              1,
              "#f0f921"
             ]
            ],
            "type": "heatmapgl"
           }
          ],
          "histogram": [
           {
            "marker": {
             "colorbar": {
              "outlinewidth": 0,
              "ticks": ""
             }
            },
            "type": "histogram"
           }
          ],
          "histogram2d": [
           {
            "colorbar": {
             "outlinewidth": 0,
             "ticks": ""
            },
            "colorscale": [
             [
              0,
              "#0d0887"
             ],
             [
              0.1111111111111111,
              "#46039f"
             ],
             [
              0.2222222222222222,
              "#7201a8"
             ],
             [
              0.3333333333333333,
              "#9c179e"
             ],
             [
              0.4444444444444444,
              "#bd3786"
             ],
             [
              0.5555555555555556,
              "#d8576b"
             ],
             [
              0.6666666666666666,
              "#ed7953"
             ],
             [
              0.7777777777777778,
              "#fb9f3a"
             ],
             [
              0.8888888888888888,
              "#fdca26"
             ],
             [
              1,
              "#f0f921"
             ]
            ],
            "type": "histogram2d"
           }
          ],
          "histogram2dcontour": [
           {
            "colorbar": {
             "outlinewidth": 0,
             "ticks": ""
            },
            "colorscale": [
             [
              0,
              "#0d0887"
             ],
             [
              0.1111111111111111,
              "#46039f"
             ],
             [
              0.2222222222222222,
              "#7201a8"
             ],
             [
              0.3333333333333333,
              "#9c179e"
             ],
             [
              0.4444444444444444,
              "#bd3786"
             ],
             [
              0.5555555555555556,
              "#d8576b"
             ],
             [
              0.6666666666666666,
              "#ed7953"
             ],
             [
              0.7777777777777778,
              "#fb9f3a"
             ],
             [
              0.8888888888888888,
              "#fdca26"
             ],
             [
              1,
              "#f0f921"
             ]
            ],
            "type": "histogram2dcontour"
           }
          ],
          "mesh3d": [
           {
            "colorbar": {
             "outlinewidth": 0,
             "ticks": ""
            },
            "type": "mesh3d"
           }
          ],
          "parcoords": [
           {
            "line": {
             "colorbar": {
              "outlinewidth": 0,
              "ticks": ""
             }
            },
            "type": "parcoords"
           }
          ],
          "pie": [
           {
            "automargin": true,
            "type": "pie"
           }
          ],
          "scatter": [
           {
            "marker": {
             "colorbar": {
              "outlinewidth": 0,
              "ticks": ""
             }
            },
            "type": "scatter"
           }
          ],
          "scatter3d": [
           {
            "line": {
             "colorbar": {
              "outlinewidth": 0,
              "ticks": ""
             }
            },
            "marker": {
             "colorbar": {
              "outlinewidth": 0,
              "ticks": ""
             }
            },
            "type": "scatter3d"
           }
          ],
          "scattercarpet": [
           {
            "marker": {
             "colorbar": {
              "outlinewidth": 0,
              "ticks": ""
             }
            },
            "type": "scattercarpet"
           }
          ],
          "scattergeo": [
           {
            "marker": {
             "colorbar": {
              "outlinewidth": 0,
              "ticks": ""
             }
            },
            "type": "scattergeo"
           }
          ],
          "scattergl": [
           {
            "marker": {
             "colorbar": {
              "outlinewidth": 0,
              "ticks": ""
             }
            },
            "type": "scattergl"
           }
          ],
          "scattermapbox": [
           {
            "marker": {
             "colorbar": {
              "outlinewidth": 0,
              "ticks": ""
             }
            },
            "type": "scattermapbox"
           }
          ],
          "scatterpolar": [
           {
            "marker": {
             "colorbar": {
              "outlinewidth": 0,
              "ticks": ""
             }
            },
            "type": "scatterpolar"
           }
          ],
          "scatterpolargl": [
           {
            "marker": {
             "colorbar": {
              "outlinewidth": 0,
              "ticks": ""
             }
            },
            "type": "scatterpolargl"
           }
          ],
          "scatterternary": [
           {
            "marker": {
             "colorbar": {
              "outlinewidth": 0,
              "ticks": ""
             }
            },
            "type": "scatterternary"
           }
          ],
          "surface": [
           {
            "colorbar": {
             "outlinewidth": 0,
             "ticks": ""
            },
            "colorscale": [
             [
              0,
              "#0d0887"
             ],
             [
              0.1111111111111111,
              "#46039f"
             ],
             [
              0.2222222222222222,
              "#7201a8"
             ],
             [
              0.3333333333333333,
              "#9c179e"
             ],
             [
              0.4444444444444444,
              "#bd3786"
             ],
             [
              0.5555555555555556,
              "#d8576b"
             ],
             [
              0.6666666666666666,
              "#ed7953"
             ],
             [
              0.7777777777777778,
              "#fb9f3a"
             ],
             [
              0.8888888888888888,
              "#fdca26"
             ],
             [
              1,
              "#f0f921"
             ]
            ],
            "type": "surface"
           }
          ],
          "table": [
           {
            "cells": {
             "fill": {
              "color": "#EBF0F8"
             },
             "line": {
              "color": "white"
             }
            },
            "header": {
             "fill": {
              "color": "#C8D4E3"
             },
             "line": {
              "color": "white"
             }
            },
            "type": "table"
           }
          ]
         },
         "layout": {
          "annotationdefaults": {
           "arrowcolor": "#2a3f5f",
           "arrowhead": 0,
           "arrowwidth": 1
          },
          "autotypenumbers": "strict",
          "coloraxis": {
           "colorbar": {
            "outlinewidth": 0,
            "ticks": ""
           }
          },
          "colorscale": {
           "diverging": [
            [
             0,
             "#8e0152"
            ],
            [
             0.1,
             "#c51b7d"
            ],
            [
             0.2,
             "#de77ae"
            ],
            [
             0.3,
             "#f1b6da"
            ],
            [
             0.4,
             "#fde0ef"
            ],
            [
             0.5,
             "#f7f7f7"
            ],
            [
             0.6,
             "#e6f5d0"
            ],
            [
             0.7,
             "#b8e186"
            ],
            [
             0.8,
             "#7fbc41"
            ],
            [
             0.9,
             "#4d9221"
            ],
            [
             1,
             "#276419"
            ]
           ],
           "sequential": [
            [
             0,
             "#0d0887"
            ],
            [
             0.1111111111111111,
             "#46039f"
            ],
            [
             0.2222222222222222,
             "#7201a8"
            ],
            [
             0.3333333333333333,
             "#9c179e"
            ],
            [
             0.4444444444444444,
             "#bd3786"
            ],
            [
             0.5555555555555556,
             "#d8576b"
            ],
            [
             0.6666666666666666,
             "#ed7953"
            ],
            [
             0.7777777777777778,
             "#fb9f3a"
            ],
            [
             0.8888888888888888,
             "#fdca26"
            ],
            [
             1,
             "#f0f921"
            ]
           ],
           "sequentialminus": [
            [
             0,
             "#0d0887"
            ],
            [
             0.1111111111111111,
             "#46039f"
            ],
            [
             0.2222222222222222,
             "#7201a8"
            ],
            [
             0.3333333333333333,
             "#9c179e"
            ],
            [
             0.4444444444444444,
             "#bd3786"
            ],
            [
             0.5555555555555556,
             "#d8576b"
            ],
            [
             0.6666666666666666,
             "#ed7953"
            ],
            [
             0.7777777777777778,
             "#fb9f3a"
            ],
            [
             0.8888888888888888,
             "#fdca26"
            ],
            [
             1,
             "#f0f921"
            ]
           ]
          },
          "colorway": [
           "#636efa",
           "#EF553B",
           "#00cc96",
           "#ab63fa",
           "#FFA15A",
           "#19d3f3",
           "#FF6692",
           "#B6E880",
           "#FF97FF",
           "#FECB52"
          ],
          "font": {
           "color": "#2a3f5f"
          },
          "geo": {
           "bgcolor": "white",
           "lakecolor": "white",
           "landcolor": "#E5ECF6",
           "showlakes": true,
           "showland": true,
           "subunitcolor": "white"
          },
          "hoverlabel": {
           "align": "left"
          },
          "hovermode": "closest",
          "mapbox": {
           "style": "light"
          },
          "paper_bgcolor": "white",
          "plot_bgcolor": "#E5ECF6",
          "polar": {
           "angularaxis": {
            "gridcolor": "white",
            "linecolor": "white",
            "ticks": ""
           },
           "bgcolor": "#E5ECF6",
           "radialaxis": {
            "gridcolor": "white",
            "linecolor": "white",
            "ticks": ""
           }
          },
          "scene": {
           "xaxis": {
            "backgroundcolor": "#E5ECF6",
            "gridcolor": "white",
            "gridwidth": 2,
            "linecolor": "white",
            "showbackground": true,
            "ticks": "",
            "zerolinecolor": "white"
           },
           "yaxis": {
            "backgroundcolor": "#E5ECF6",
            "gridcolor": "white",
            "gridwidth": 2,
            "linecolor": "white",
            "showbackground": true,
            "ticks": "",
            "zerolinecolor": "white"
           },
           "zaxis": {
            "backgroundcolor": "#E5ECF6",
            "gridcolor": "white",
            "gridwidth": 2,
            "linecolor": "white",
            "showbackground": true,
            "ticks": "",
            "zerolinecolor": "white"
           }
          },
          "shapedefaults": {
           "line": {
            "color": "#2a3f5f"
           }
          },
          "ternary": {
           "aaxis": {
            "gridcolor": "white",
            "linecolor": "white",
            "ticks": ""
           },
           "baxis": {
            "gridcolor": "white",
            "linecolor": "white",
            "ticks": ""
           },
           "bgcolor": "#E5ECF6",
           "caxis": {
            "gridcolor": "white",
            "linecolor": "white",
            "ticks": ""
           }
          },
          "title": {
           "x": 0.05
          },
          "xaxis": {
           "automargin": true,
           "gridcolor": "white",
           "linecolor": "white",
           "ticks": "",
           "title": {
            "standoff": 15
           },
           "zerolinecolor": "white",
           "zerolinewidth": 2
          },
          "yaxis": {
           "automargin": true,
           "gridcolor": "white",
           "linecolor": "white",
           "ticks": "",
           "title": {
            "standoff": 15
           },
           "zerolinecolor": "white",
           "zerolinewidth": 2
          }
         }
        },
        "title": {
         "text": "Players similar to  \" L. Messi \""
        }
       }
      },
      "text/html": [
       "<div>                            <div id=\"2b4356e8-4e7e-4a86-aeb5-a61d9657dc31\" class=\"plotly-graph-div\" style=\"height:525px; width:100%;\"></div>            <script type=\"text/javascript\">                require([\"plotly\"], function(Plotly) {                    window.PLOTLYENV=window.PLOTLYENV || {};                                    if (document.getElementById(\"2b4356e8-4e7e-4a86-aeb5-a61d9657dc31\")) {                    Plotly.newPlot(                        \"2b4356e8-4e7e-4a86-aeb5-a61d9657dc31\",                        [{\"orientation\": \"h\", \"type\": \"bar\", \"x\": [0.0165432934590454, 0.01700140098799972, 0.017054138453465296, 0.017440360568551243, 0.017680096413595723, 0.01809370047719448, 0.0202792495999677, 0.02298384419361272, 0.025145501964021478, 0.026039491000379177], \"y\": [\"K. Mbapp\\u00e9\", \"Malcom\", \"M. Reus\", \"R. Mahrez\", \"L. Insigne\", \"S. Ag\\u00fcero\", \"A. Robben\", \"E. Hazard\", \"P. Dybala\", \"Neymar Jr\"]}],                        {\"template\": {\"data\": {\"bar\": [{\"error_x\": {\"color\": \"#2a3f5f\"}, \"error_y\": {\"color\": \"#2a3f5f\"}, \"marker\": {\"line\": {\"color\": \"#E5ECF6\", \"width\": 0.5}}, \"type\": \"bar\"}], \"barpolar\": [{\"marker\": {\"line\": {\"color\": \"#E5ECF6\", \"width\": 0.5}}, \"type\": \"barpolar\"}], \"carpet\": [{\"aaxis\": {\"endlinecolor\": \"#2a3f5f\", \"gridcolor\": \"white\", \"linecolor\": \"white\", \"minorgridcolor\": \"white\", \"startlinecolor\": \"#2a3f5f\"}, \"baxis\": {\"endlinecolor\": \"#2a3f5f\", \"gridcolor\": \"white\", \"linecolor\": \"white\", \"minorgridcolor\": \"white\", \"startlinecolor\": \"#2a3f5f\"}, \"type\": \"carpet\"}], \"choropleth\": [{\"colorbar\": {\"outlinewidth\": 0, \"ticks\": \"\"}, \"type\": \"choropleth\"}], \"contour\": [{\"colorbar\": {\"outlinewidth\": 0, \"ticks\": \"\"}, \"colorscale\": [[0.0, \"#0d0887\"], [0.1111111111111111, \"#46039f\"], [0.2222222222222222, \"#7201a8\"], [0.3333333333333333, \"#9c179e\"], [0.4444444444444444, \"#bd3786\"], [0.5555555555555556, \"#d8576b\"], [0.6666666666666666, \"#ed7953\"], [0.7777777777777778, \"#fb9f3a\"], [0.8888888888888888, \"#fdca26\"], [1.0, \"#f0f921\"]], \"type\": \"contour\"}], \"contourcarpet\": [{\"colorbar\": {\"outlinewidth\": 0, \"ticks\": \"\"}, \"type\": \"contourcarpet\"}], \"heatmap\": [{\"colorbar\": {\"outlinewidth\": 0, \"ticks\": \"\"}, \"colorscale\": [[0.0, \"#0d0887\"], [0.1111111111111111, \"#46039f\"], [0.2222222222222222, \"#7201a8\"], [0.3333333333333333, \"#9c179e\"], [0.4444444444444444, \"#bd3786\"], [0.5555555555555556, \"#d8576b\"], [0.6666666666666666, \"#ed7953\"], [0.7777777777777778, \"#fb9f3a\"], [0.8888888888888888, \"#fdca26\"], [1.0, \"#f0f921\"]], \"type\": \"heatmap\"}], \"heatmapgl\": [{\"colorbar\": {\"outlinewidth\": 0, \"ticks\": \"\"}, \"colorscale\": [[0.0, \"#0d0887\"], [0.1111111111111111, \"#46039f\"], [0.2222222222222222, \"#7201a8\"], [0.3333333333333333, \"#9c179e\"], [0.4444444444444444, \"#bd3786\"], [0.5555555555555556, \"#d8576b\"], [0.6666666666666666, \"#ed7953\"], [0.7777777777777778, \"#fb9f3a\"], [0.8888888888888888, \"#fdca26\"], [1.0, \"#f0f921\"]], \"type\": \"heatmapgl\"}], \"histogram\": [{\"marker\": {\"colorbar\": {\"outlinewidth\": 0, \"ticks\": \"\"}}, \"type\": \"histogram\"}], \"histogram2d\": [{\"colorbar\": {\"outlinewidth\": 0, \"ticks\": \"\"}, \"colorscale\": [[0.0, \"#0d0887\"], [0.1111111111111111, \"#46039f\"], [0.2222222222222222, \"#7201a8\"], [0.3333333333333333, \"#9c179e\"], [0.4444444444444444, \"#bd3786\"], [0.5555555555555556, \"#d8576b\"], [0.6666666666666666, \"#ed7953\"], [0.7777777777777778, \"#fb9f3a\"], [0.8888888888888888, \"#fdca26\"], [1.0, \"#f0f921\"]], \"type\": \"histogram2d\"}], \"histogram2dcontour\": [{\"colorbar\": {\"outlinewidth\": 0, \"ticks\": \"\"}, \"colorscale\": [[0.0, \"#0d0887\"], [0.1111111111111111, \"#46039f\"], [0.2222222222222222, \"#7201a8\"], [0.3333333333333333, \"#9c179e\"], [0.4444444444444444, \"#bd3786\"], [0.5555555555555556, \"#d8576b\"], [0.6666666666666666, \"#ed7953\"], [0.7777777777777778, \"#fb9f3a\"], [0.8888888888888888, \"#fdca26\"], [1.0, \"#f0f921\"]], \"type\": \"histogram2dcontour\"}], \"mesh3d\": [{\"colorbar\": {\"outlinewidth\": 0, \"ticks\": \"\"}, \"type\": \"mesh3d\"}], \"parcoords\": [{\"line\": {\"colorbar\": {\"outlinewidth\": 0, \"ticks\": \"\"}}, \"type\": \"parcoords\"}], \"pie\": [{\"automargin\": true, \"type\": \"pie\"}], \"scatter\": [{\"marker\": {\"colorbar\": {\"outlinewidth\": 0, \"ticks\": \"\"}}, \"type\": \"scatter\"}], \"scatter3d\": [{\"line\": {\"colorbar\": {\"outlinewidth\": 0, \"ticks\": \"\"}}, \"marker\": {\"colorbar\": {\"outlinewidth\": 0, \"ticks\": \"\"}}, \"type\": \"scatter3d\"}], \"scattercarpet\": [{\"marker\": {\"colorbar\": {\"outlinewidth\": 0, \"ticks\": \"\"}}, \"type\": \"scattercarpet\"}], \"scattergeo\": [{\"marker\": {\"colorbar\": {\"outlinewidth\": 0, \"ticks\": \"\"}}, \"type\": \"scattergeo\"}], \"scattergl\": [{\"marker\": {\"colorbar\": {\"outlinewidth\": 0, \"ticks\": \"\"}}, \"type\": \"scattergl\"}], \"scattermapbox\": [{\"marker\": {\"colorbar\": {\"outlinewidth\": 0, \"ticks\": \"\"}}, \"type\": \"scattermapbox\"}], \"scatterpolar\": [{\"marker\": {\"colorbar\": {\"outlinewidth\": 0, \"ticks\": \"\"}}, \"type\": \"scatterpolar\"}], \"scatterpolargl\": [{\"marker\": {\"colorbar\": {\"outlinewidth\": 0, \"ticks\": \"\"}}, \"type\": \"scatterpolargl\"}], \"scatterternary\": [{\"marker\": {\"colorbar\": {\"outlinewidth\": 0, \"ticks\": \"\"}}, \"type\": \"scatterternary\"}], \"surface\": [{\"colorbar\": {\"outlinewidth\": 0, \"ticks\": \"\"}, \"colorscale\": [[0.0, \"#0d0887\"], [0.1111111111111111, \"#46039f\"], [0.2222222222222222, \"#7201a8\"], [0.3333333333333333, \"#9c179e\"], [0.4444444444444444, \"#bd3786\"], [0.5555555555555556, \"#d8576b\"], [0.6666666666666666, \"#ed7953\"], [0.7777777777777778, \"#fb9f3a\"], [0.8888888888888888, \"#fdca26\"], [1.0, \"#f0f921\"]], \"type\": \"surface\"}], \"table\": [{\"cells\": {\"fill\": {\"color\": \"#EBF0F8\"}, \"line\": {\"color\": \"white\"}}, \"header\": {\"fill\": {\"color\": \"#C8D4E3\"}, \"line\": {\"color\": \"white\"}}, \"type\": \"table\"}]}, \"layout\": {\"annotationdefaults\": {\"arrowcolor\": \"#2a3f5f\", \"arrowhead\": 0, \"arrowwidth\": 1}, \"autotypenumbers\": \"strict\", \"coloraxis\": {\"colorbar\": {\"outlinewidth\": 0, \"ticks\": \"\"}}, \"colorscale\": {\"diverging\": [[0, \"#8e0152\"], [0.1, \"#c51b7d\"], [0.2, \"#de77ae\"], [0.3, \"#f1b6da\"], [0.4, \"#fde0ef\"], [0.5, \"#f7f7f7\"], [0.6, \"#e6f5d0\"], [0.7, \"#b8e186\"], [0.8, \"#7fbc41\"], [0.9, \"#4d9221\"], [1, \"#276419\"]], \"sequential\": [[0.0, \"#0d0887\"], [0.1111111111111111, \"#46039f\"], [0.2222222222222222, \"#7201a8\"], [0.3333333333333333, \"#9c179e\"], [0.4444444444444444, \"#bd3786\"], [0.5555555555555556, \"#d8576b\"], [0.6666666666666666, \"#ed7953\"], [0.7777777777777778, \"#fb9f3a\"], [0.8888888888888888, \"#fdca26\"], [1.0, \"#f0f921\"]], \"sequentialminus\": [[0.0, \"#0d0887\"], [0.1111111111111111, \"#46039f\"], [0.2222222222222222, \"#7201a8\"], [0.3333333333333333, \"#9c179e\"], [0.4444444444444444, \"#bd3786\"], [0.5555555555555556, \"#d8576b\"], [0.6666666666666666, \"#ed7953\"], [0.7777777777777778, \"#fb9f3a\"], [0.8888888888888888, \"#fdca26\"], [1.0, \"#f0f921\"]]}, \"colorway\": [\"#636efa\", \"#EF553B\", \"#00cc96\", \"#ab63fa\", \"#FFA15A\", \"#19d3f3\", \"#FF6692\", \"#B6E880\", \"#FF97FF\", \"#FECB52\"], \"font\": {\"color\": \"#2a3f5f\"}, \"geo\": {\"bgcolor\": \"white\", \"lakecolor\": \"white\", \"landcolor\": \"#E5ECF6\", \"showlakes\": true, \"showland\": true, \"subunitcolor\": \"white\"}, \"hoverlabel\": {\"align\": \"left\"}, \"hovermode\": \"closest\", \"mapbox\": {\"style\": \"light\"}, \"paper_bgcolor\": \"white\", \"plot_bgcolor\": \"#E5ECF6\", \"polar\": {\"angularaxis\": {\"gridcolor\": \"white\", \"linecolor\": \"white\", \"ticks\": \"\"}, \"bgcolor\": \"#E5ECF6\", \"radialaxis\": {\"gridcolor\": \"white\", \"linecolor\": \"white\", \"ticks\": \"\"}}, \"scene\": {\"xaxis\": {\"backgroundcolor\": \"#E5ECF6\", \"gridcolor\": \"white\", \"gridwidth\": 2, \"linecolor\": \"white\", \"showbackground\": true, \"ticks\": \"\", \"zerolinecolor\": \"white\"}, \"yaxis\": {\"backgroundcolor\": \"#E5ECF6\", \"gridcolor\": \"white\", \"gridwidth\": 2, \"linecolor\": \"white\", \"showbackground\": true, \"ticks\": \"\", \"zerolinecolor\": \"white\"}, \"zaxis\": {\"backgroundcolor\": \"#E5ECF6\", \"gridcolor\": \"white\", \"gridwidth\": 2, \"linecolor\": \"white\", \"showbackground\": true, \"ticks\": \"\", \"zerolinecolor\": \"white\"}}, \"shapedefaults\": {\"line\": {\"color\": \"#2a3f5f\"}}, \"ternary\": {\"aaxis\": {\"gridcolor\": \"white\", \"linecolor\": \"white\", \"ticks\": \"\"}, \"baxis\": {\"gridcolor\": \"white\", \"linecolor\": \"white\", \"ticks\": \"\"}, \"bgcolor\": \"#E5ECF6\", \"caxis\": {\"gridcolor\": \"white\", \"linecolor\": \"white\", \"ticks\": \"\"}}, \"title\": {\"x\": 0.05}, \"xaxis\": {\"automargin\": true, \"gridcolor\": \"white\", \"linecolor\": \"white\", \"ticks\": \"\", \"title\": {\"standoff\": 15}, \"zerolinecolor\": \"white\", \"zerolinewidth\": 2}, \"yaxis\": {\"automargin\": true, \"gridcolor\": \"white\", \"linecolor\": \"white\", \"ticks\": \"\", \"title\": {\"standoff\": 15}, \"zerolinecolor\": \"white\", \"zerolinewidth\": 2}}}, \"title\": {\"text\": \"Players similar to  \\\" L. Messi \\\"\"}},                        {\"responsive\": true}                    ).then(function(){\n",
       "                            \n",
       "var gd = document.getElementById('2b4356e8-4e7e-4a86-aeb5-a61d9657dc31');\n",
       "var x = new MutationObserver(function (mutations, observer) {{\n",
       "        var display = window.getComputedStyle(gd).display;\n",
       "        if (!display || display === 'none') {{\n",
       "            console.log([gd, 'removed!']);\n",
       "            Plotly.purge(gd);\n",
       "            observer.disconnect();\n",
       "        }}\n",
       "}});\n",
       "\n",
       "// Listen for the removal of the full notebook cells\n",
       "var notebookContainer = gd.closest('#notebook-container');\n",
       "if (notebookContainer) {{\n",
       "    x.observe(notebookContainer, {childList: true});\n",
       "}}\n",
       "\n",
       "// Listen for the clearing of the current output cell\n",
       "var outputEl = gd.closest('.output');\n",
       "if (outputEl) {{\n",
       "    x.observe(outputEl, {childList: true});\n",
       "}}\n",
       "\n",
       "                        })                };                });            </script>        </div>"
      ]
     },
     "metadata": {},
     "output_type": "display_data"
    },
    {
     "data": {
      "text/html": [
       "<div>\n",
       "<style scoped>\n",
       "    .dataframe tbody tr th:only-of-type {\n",
       "        vertical-align: middle;\n",
       "    }\n",
       "\n",
       "    .dataframe tbody tr th {\n",
       "        vertical-align: top;\n",
       "    }\n",
       "\n",
       "    .dataframe thead th {\n",
       "        text-align: right;\n",
       "    }\n",
       "</style>\n",
       "<table border=\"1\" class=\"dataframe\">\n",
       "  <thead>\n",
       "    <tr style=\"text-align: right;\">\n",
       "      <th></th>\n",
       "      <th>Club</th>\n",
       "      <th>Name</th>\n",
       "      <th>Age</th>\n",
       "      <th>Nationality</th>\n",
       "      <th>Overall</th>\n",
       "      <th>Potential</th>\n",
       "      <th>Preferred Foot</th>\n",
       "      <th>Weak Foot</th>\n",
       "      <th>Wage</th>\n",
       "      <th>Value</th>\n",
       "    </tr>\n",
       "  </thead>\n",
       "  <tbody>\n",
       "    <tr>\n",
       "      <th>0</th>\n",
       "      <td>Paris Saint-Germain</td>\n",
       "      <td>Neymar Jr</td>\n",
       "      <td>26</td>\n",
       "      <td>Brazil</td>\n",
       "      <td>92</td>\n",
       "      <td>93</td>\n",
       "      <td>1</td>\n",
       "      <td>5</td>\n",
       "      <td>290000</td>\n",
       "      <td>1e+08</td>\n",
       "    </tr>\n",
       "    <tr>\n",
       "      <th>1</th>\n",
       "      <td>Juventus</td>\n",
       "      <td>P. Dybala</td>\n",
       "      <td>24</td>\n",
       "      <td>Argentina</td>\n",
       "      <td>89</td>\n",
       "      <td>94</td>\n",
       "      <td>0</td>\n",
       "      <td>3</td>\n",
       "      <td>205000</td>\n",
       "      <td>9e+07</td>\n",
       "    </tr>\n",
       "    <tr>\n",
       "      <th>2</th>\n",
       "      <td>Chelsea</td>\n",
       "      <td>E. Hazard</td>\n",
       "      <td>27</td>\n",
       "      <td>Belgium</td>\n",
       "      <td>91</td>\n",
       "      <td>91</td>\n",
       "      <td>1</td>\n",
       "      <td>4</td>\n",
       "      <td>340000</td>\n",
       "      <td>9e+07</td>\n",
       "    </tr>\n",
       "    <tr>\n",
       "      <th>3</th>\n",
       "      <td>FC Bayern München</td>\n",
       "      <td>A. Robben</td>\n",
       "      <td>34</td>\n",
       "      <td>Netherlands</td>\n",
       "      <td>84</td>\n",
       "      <td>84</td>\n",
       "      <td>0</td>\n",
       "      <td>2</td>\n",
       "      <td>110000</td>\n",
       "      <td>2e+07</td>\n",
       "    </tr>\n",
       "    <tr>\n",
       "      <th>4</th>\n",
       "      <td>Manchester City</td>\n",
       "      <td>S. Agüero</td>\n",
       "      <td>30</td>\n",
       "      <td>Argentina</td>\n",
       "      <td>89</td>\n",
       "      <td>89</td>\n",
       "      <td>1</td>\n",
       "      <td>4</td>\n",
       "      <td>300000</td>\n",
       "      <td>6e+07</td>\n",
       "    </tr>\n",
       "    <tr>\n",
       "      <th>5</th>\n",
       "      <td>Napoli</td>\n",
       "      <td>L. Insigne</td>\n",
       "      <td>27</td>\n",
       "      <td>Italy</td>\n",
       "      <td>88</td>\n",
       "      <td>88</td>\n",
       "      <td>1</td>\n",
       "      <td>3</td>\n",
       "      <td>165000</td>\n",
       "      <td>6e+07</td>\n",
       "    </tr>\n",
       "    <tr>\n",
       "      <th>6</th>\n",
       "      <td>Manchester City</td>\n",
       "      <td>R. Mahrez</td>\n",
       "      <td>27</td>\n",
       "      <td>Algeria</td>\n",
       "      <td>85</td>\n",
       "      <td>85</td>\n",
       "      <td>0</td>\n",
       "      <td>4</td>\n",
       "      <td>205000</td>\n",
       "      <td>4e+07</td>\n",
       "    </tr>\n",
       "    <tr>\n",
       "      <th>7</th>\n",
       "      <td>Borussia Dortmund</td>\n",
       "      <td>M. Reus</td>\n",
       "      <td>29</td>\n",
       "      <td>Germany</td>\n",
       "      <td>86</td>\n",
       "      <td>86</td>\n",
       "      <td>1</td>\n",
       "      <td>4</td>\n",
       "      <td>100000</td>\n",
       "      <td>4e+07</td>\n",
       "    </tr>\n",
       "    <tr>\n",
       "      <th>8</th>\n",
       "      <td>FC Barcelona</td>\n",
       "      <td>Malcom</td>\n",
       "      <td>21</td>\n",
       "      <td>Brazil</td>\n",
       "      <td>82</td>\n",
       "      <td>89</td>\n",
       "      <td>0</td>\n",
       "      <td>4</td>\n",
       "      <td>140000</td>\n",
       "      <td>3e+07</td>\n",
       "    </tr>\n",
       "    <tr>\n",
       "      <th>9</th>\n",
       "      <td>Paris Saint-Germain</td>\n",
       "      <td>K. Mbappé</td>\n",
       "      <td>19</td>\n",
       "      <td>France</td>\n",
       "      <td>88</td>\n",
       "      <td>95</td>\n",
       "      <td>1</td>\n",
       "      <td>4</td>\n",
       "      <td>100000</td>\n",
       "      <td>8e+07</td>\n",
       "    </tr>\n",
       "  </tbody>\n",
       "</table>\n",
       "</div>"
      ],
      "text/plain": [
       "                  Club        Name  Age  Nationality  Overall  Potential  \\\n",
       "0  Paris Saint-Germain   Neymar Jr   26       Brazil       92         93   \n",
       "1             Juventus   P. Dybala   24    Argentina       89         94   \n",
       "2              Chelsea   E. Hazard   27      Belgium       91         91   \n",
       "3    FC Bayern München   A. Robben   34  Netherlands       84         84   \n",
       "4      Manchester City   S. Agüero   30    Argentina       89         89   \n",
       "5               Napoli  L. Insigne   27        Italy       88         88   \n",
       "6      Manchester City   R. Mahrez   27      Algeria       85         85   \n",
       "7    Borussia Dortmund     M. Reus   29      Germany       86         86   \n",
       "8         FC Barcelona      Malcom   21       Brazil       82         89   \n",
       "9  Paris Saint-Germain   K. Mbappé   19       France       88         95   \n",
       "\n",
       "   Preferred Foot  Weak Foot    Wage  Value  \n",
       "0               1          5  290000  1e+08  \n",
       "1               0          3  205000  9e+07  \n",
       "2               1          4  340000  9e+07  \n",
       "3               0          2  110000  2e+07  \n",
       "4               1          4  300000  6e+07  \n",
       "5               1          3  165000  6e+07  \n",
       "6               0          4  205000  4e+07  \n",
       "7               1          4  100000  4e+07  \n",
       "8               0          4  140000  3e+07  \n",
       "9               1          4  100000  8e+07  "
      ]
     },
     "metadata": {},
     "output_type": "display_data"
    }
   ],
   "source": [
    "player_scouter(similar_df, dist_df, 158023)"
   ]
  },
  {
   "cell_type": "code",
   "execution_count": 11,
   "metadata": {},
   "outputs": [
    {
     "data": {
      "application/vnd.plotly.v1+json": {
       "config": {
        "plotlyServerURL": "https://plot.ly"
       },
       "data": [
        {
         "orientation": "h",
         "type": "bar",
         "x": [
          0.017694178359989626,
          0.017938872754567414,
          0.017989048759927736,
          0.01823407953895349,
          0.01847981804948865,
          0.01858356660905437,
          0.018806611482169177,
          0.01997555539823122,
          0.020106980507179788,
          0.02192529715756205
         ],
         "y": [
          "M. Depay",
          "Iago Aspas",
          "A. Griezmann",
          "A. Sánchez",
          "F. Thauvin",
          "P. Aubameyang",
          "P. Dybala",
          "K. Mbappé",
          "R. Lewandowski",
          "S. Agüero"
         ]
        }
       ],
       "layout": {
        "template": {
         "data": {
          "bar": [
           {
            "error_x": {
             "color": "#2a3f5f"
            },
            "error_y": {
             "color": "#2a3f5f"
            },
            "marker": {
             "line": {
              "color": "#E5ECF6",
              "width": 0.5
             }
            },
            "type": "bar"
           }
          ],
          "barpolar": [
           {
            "marker": {
             "line": {
              "color": "#E5ECF6",
              "width": 0.5
             }
            },
            "type": "barpolar"
           }
          ],
          "carpet": [
           {
            "aaxis": {
             "endlinecolor": "#2a3f5f",
             "gridcolor": "white",
             "linecolor": "white",
             "minorgridcolor": "white",
             "startlinecolor": "#2a3f5f"
            },
            "baxis": {
             "endlinecolor": "#2a3f5f",
             "gridcolor": "white",
             "linecolor": "white",
             "minorgridcolor": "white",
             "startlinecolor": "#2a3f5f"
            },
            "type": "carpet"
           }
          ],
          "choropleth": [
           {
            "colorbar": {
             "outlinewidth": 0,
             "ticks": ""
            },
            "type": "choropleth"
           }
          ],
          "contour": [
           {
            "colorbar": {
             "outlinewidth": 0,
             "ticks": ""
            },
            "colorscale": [
             [
              0,
              "#0d0887"
             ],
             [
              0.1111111111111111,
              "#46039f"
             ],
             [
              0.2222222222222222,
              "#7201a8"
             ],
             [
              0.3333333333333333,
              "#9c179e"
             ],
             [
              0.4444444444444444,
              "#bd3786"
             ],
             [
              0.5555555555555556,
              "#d8576b"
             ],
             [
              0.6666666666666666,
              "#ed7953"
             ],
             [
              0.7777777777777778,
              "#fb9f3a"
             ],
             [
              0.8888888888888888,
              "#fdca26"
             ],
             [
              1,
              "#f0f921"
             ]
            ],
            "type": "contour"
           }
          ],
          "contourcarpet": [
           {
            "colorbar": {
             "outlinewidth": 0,
             "ticks": ""
            },
            "type": "contourcarpet"
           }
          ],
          "heatmap": [
           {
            "colorbar": {
             "outlinewidth": 0,
             "ticks": ""
            },
            "colorscale": [
             [
              0,
              "#0d0887"
             ],
             [
              0.1111111111111111,
              "#46039f"
             ],
             [
              0.2222222222222222,
              "#7201a8"
             ],
             [
              0.3333333333333333,
              "#9c179e"
             ],
             [
              0.4444444444444444,
              "#bd3786"
             ],
             [
              0.5555555555555556,
              "#d8576b"
             ],
             [
              0.6666666666666666,
              "#ed7953"
             ],
             [
              0.7777777777777778,
              "#fb9f3a"
             ],
             [
              0.8888888888888888,
              "#fdca26"
             ],
             [
              1,
              "#f0f921"
             ]
            ],
            "type": "heatmap"
           }
          ],
          "heatmapgl": [
           {
            "colorbar": {
             "outlinewidth": 0,
             "ticks": ""
            },
            "colorscale": [
             [
              0,
              "#0d0887"
             ],
             [
              0.1111111111111111,
              "#46039f"
             ],
             [
              0.2222222222222222,
              "#7201a8"
             ],
             [
              0.3333333333333333,
              "#9c179e"
             ],
             [
              0.4444444444444444,
              "#bd3786"
             ],
             [
              0.5555555555555556,
              "#d8576b"
             ],
             [
              0.6666666666666666,
              "#ed7953"
             ],
             [
              0.7777777777777778,
              "#fb9f3a"
             ],
             [
              0.8888888888888888,
              "#fdca26"
             ],
             [
              1,
              "#f0f921"
             ]
            ],
            "type": "heatmapgl"
           }
          ],
          "histogram": [
           {
            "marker": {
             "colorbar": {
              "outlinewidth": 0,
              "ticks": ""
             }
            },
            "type": "histogram"
           }
          ],
          "histogram2d": [
           {
            "colorbar": {
             "outlinewidth": 0,
             "ticks": ""
            },
            "colorscale": [
             [
              0,
              "#0d0887"
             ],
             [
              0.1111111111111111,
              "#46039f"
             ],
             [
              0.2222222222222222,
              "#7201a8"
             ],
             [
              0.3333333333333333,
              "#9c179e"
             ],
             [
              0.4444444444444444,
              "#bd3786"
             ],
             [
              0.5555555555555556,
              "#d8576b"
             ],
             [
              0.6666666666666666,
              "#ed7953"
             ],
             [
              0.7777777777777778,
              "#fb9f3a"
             ],
             [
              0.8888888888888888,
              "#fdca26"
             ],
             [
              1,
              "#f0f921"
             ]
            ],
            "type": "histogram2d"
           }
          ],
          "histogram2dcontour": [
           {
            "colorbar": {
             "outlinewidth": 0,
             "ticks": ""
            },
            "colorscale": [
             [
              0,
              "#0d0887"
             ],
             [
              0.1111111111111111,
              "#46039f"
             ],
             [
              0.2222222222222222,
              "#7201a8"
             ],
             [
              0.3333333333333333,
              "#9c179e"
             ],
             [
              0.4444444444444444,
              "#bd3786"
             ],
             [
              0.5555555555555556,
              "#d8576b"
             ],
             [
              0.6666666666666666,
              "#ed7953"
             ],
             [
              0.7777777777777778,
              "#fb9f3a"
             ],
             [
              0.8888888888888888,
              "#fdca26"
             ],
             [
              1,
              "#f0f921"
             ]
            ],
            "type": "histogram2dcontour"
           }
          ],
          "mesh3d": [
           {
            "colorbar": {
             "outlinewidth": 0,
             "ticks": ""
            },
            "type": "mesh3d"
           }
          ],
          "parcoords": [
           {
            "line": {
             "colorbar": {
              "outlinewidth": 0,
              "ticks": ""
             }
            },
            "type": "parcoords"
           }
          ],
          "pie": [
           {
            "automargin": true,
            "type": "pie"
           }
          ],
          "scatter": [
           {
            "marker": {
             "colorbar": {
              "outlinewidth": 0,
              "ticks": ""
             }
            },
            "type": "scatter"
           }
          ],
          "scatter3d": [
           {
            "line": {
             "colorbar": {
              "outlinewidth": 0,
              "ticks": ""
             }
            },
            "marker": {
             "colorbar": {
              "outlinewidth": 0,
              "ticks": ""
             }
            },
            "type": "scatter3d"
           }
          ],
          "scattercarpet": [
           {
            "marker": {
             "colorbar": {
              "outlinewidth": 0,
              "ticks": ""
             }
            },
            "type": "scattercarpet"
           }
          ],
          "scattergeo": [
           {
            "marker": {
             "colorbar": {
              "outlinewidth": 0,
              "ticks": ""
             }
            },
            "type": "scattergeo"
           }
          ],
          "scattergl": [
           {
            "marker": {
             "colorbar": {
              "outlinewidth": 0,
              "ticks": ""
             }
            },
            "type": "scattergl"
           }
          ],
          "scattermapbox": [
           {
            "marker": {
             "colorbar": {
              "outlinewidth": 0,
              "ticks": ""
             }
            },
            "type": "scattermapbox"
           }
          ],
          "scatterpolar": [
           {
            "marker": {
             "colorbar": {
              "outlinewidth": 0,
              "ticks": ""
             }
            },
            "type": "scatterpolar"
           }
          ],
          "scatterpolargl": [
           {
            "marker": {
             "colorbar": {
              "outlinewidth": 0,
              "ticks": ""
             }
            },
            "type": "scatterpolargl"
           }
          ],
          "scatterternary": [
           {
            "marker": {
             "colorbar": {
              "outlinewidth": 0,
              "ticks": ""
             }
            },
            "type": "scatterternary"
           }
          ],
          "surface": [
           {
            "colorbar": {
             "outlinewidth": 0,
             "ticks": ""
            },
            "colorscale": [
             [
              0,
              "#0d0887"
             ],
             [
              0.1111111111111111,
              "#46039f"
             ],
             [
              0.2222222222222222,
              "#7201a8"
             ],
             [
              0.3333333333333333,
              "#9c179e"
             ],
             [
              0.4444444444444444,
              "#bd3786"
             ],
             [
              0.5555555555555556,
              "#d8576b"
             ],
             [
              0.6666666666666666,
              "#ed7953"
             ],
             [
              0.7777777777777778,
              "#fb9f3a"
             ],
             [
              0.8888888888888888,
              "#fdca26"
             ],
             [
              1,
              "#f0f921"
             ]
            ],
            "type": "surface"
           }
          ],
          "table": [
           {
            "cells": {
             "fill": {
              "color": "#EBF0F8"
             },
             "line": {
              "color": "white"
             }
            },
            "header": {
             "fill": {
              "color": "#C8D4E3"
             },
             "line": {
              "color": "white"
             }
            },
            "type": "table"
           }
          ]
         },
         "layout": {
          "annotationdefaults": {
           "arrowcolor": "#2a3f5f",
           "arrowhead": 0,
           "arrowwidth": 1
          },
          "autotypenumbers": "strict",
          "coloraxis": {
           "colorbar": {
            "outlinewidth": 0,
            "ticks": ""
           }
          },
          "colorscale": {
           "diverging": [
            [
             0,
             "#8e0152"
            ],
            [
             0.1,
             "#c51b7d"
            ],
            [
             0.2,
             "#de77ae"
            ],
            [
             0.3,
             "#f1b6da"
            ],
            [
             0.4,
             "#fde0ef"
            ],
            [
             0.5,
             "#f7f7f7"
            ],
            [
             0.6,
             "#e6f5d0"
            ],
            [
             0.7,
             "#b8e186"
            ],
            [
             0.8,
             "#7fbc41"
            ],
            [
             0.9,
             "#4d9221"
            ],
            [
             1,
             "#276419"
            ]
           ],
           "sequential": [
            [
             0,
             "#0d0887"
            ],
            [
             0.1111111111111111,
             "#46039f"
            ],
            [
             0.2222222222222222,
             "#7201a8"
            ],
            [
             0.3333333333333333,
             "#9c179e"
            ],
            [
             0.4444444444444444,
             "#bd3786"
            ],
            [
             0.5555555555555556,
             "#d8576b"
            ],
            [
             0.6666666666666666,
             "#ed7953"
            ],
            [
             0.7777777777777778,
             "#fb9f3a"
            ],
            [
             0.8888888888888888,
             "#fdca26"
            ],
            [
             1,
             "#f0f921"
            ]
           ],
           "sequentialminus": [
            [
             0,
             "#0d0887"
            ],
            [
             0.1111111111111111,
             "#46039f"
            ],
            [
             0.2222222222222222,
             "#7201a8"
            ],
            [
             0.3333333333333333,
             "#9c179e"
            ],
            [
             0.4444444444444444,
             "#bd3786"
            ],
            [
             0.5555555555555556,
             "#d8576b"
            ],
            [
             0.6666666666666666,
             "#ed7953"
            ],
            [
             0.7777777777777778,
             "#fb9f3a"
            ],
            [
             0.8888888888888888,
             "#fdca26"
            ],
            [
             1,
             "#f0f921"
            ]
           ]
          },
          "colorway": [
           "#636efa",
           "#EF553B",
           "#00cc96",
           "#ab63fa",
           "#FFA15A",
           "#19d3f3",
           "#FF6692",
           "#B6E880",
           "#FF97FF",
           "#FECB52"
          ],
          "font": {
           "color": "#2a3f5f"
          },
          "geo": {
           "bgcolor": "white",
           "lakecolor": "white",
           "landcolor": "#E5ECF6",
           "showlakes": true,
           "showland": true,
           "subunitcolor": "white"
          },
          "hoverlabel": {
           "align": "left"
          },
          "hovermode": "closest",
          "mapbox": {
           "style": "light"
          },
          "paper_bgcolor": "white",
          "plot_bgcolor": "#E5ECF6",
          "polar": {
           "angularaxis": {
            "gridcolor": "white",
            "linecolor": "white",
            "ticks": ""
           },
           "bgcolor": "#E5ECF6",
           "radialaxis": {
            "gridcolor": "white",
            "linecolor": "white",
            "ticks": ""
           }
          },
          "scene": {
           "xaxis": {
            "backgroundcolor": "#E5ECF6",
            "gridcolor": "white",
            "gridwidth": 2,
            "linecolor": "white",
            "showbackground": true,
            "ticks": "",
            "zerolinecolor": "white"
           },
           "yaxis": {
            "backgroundcolor": "#E5ECF6",
            "gridcolor": "white",
            "gridwidth": 2,
            "linecolor": "white",
            "showbackground": true,
            "ticks": "",
            "zerolinecolor": "white"
           },
           "zaxis": {
            "backgroundcolor": "#E5ECF6",
            "gridcolor": "white",
            "gridwidth": 2,
            "linecolor": "white",
            "showbackground": true,
            "ticks": "",
            "zerolinecolor": "white"
           }
          },
          "shapedefaults": {
           "line": {
            "color": "#2a3f5f"
           }
          },
          "ternary": {
           "aaxis": {
            "gridcolor": "white",
            "linecolor": "white",
            "ticks": ""
           },
           "baxis": {
            "gridcolor": "white",
            "linecolor": "white",
            "ticks": ""
           },
           "bgcolor": "#E5ECF6",
           "caxis": {
            "gridcolor": "white",
            "linecolor": "white",
            "ticks": ""
           }
          },
          "title": {
           "x": 0.05
          },
          "xaxis": {
           "automargin": true,
           "gridcolor": "white",
           "linecolor": "white",
           "ticks": "",
           "title": {
            "standoff": 15
           },
           "zerolinecolor": "white",
           "zerolinewidth": 2
          },
          "yaxis": {
           "automargin": true,
           "gridcolor": "white",
           "linecolor": "white",
           "ticks": "",
           "title": {
            "standoff": 15
           },
           "zerolinecolor": "white",
           "zerolinewidth": 2
          }
         }
        },
        "title": {
         "text": "Players similar to  \" Cristiano Ronaldo \""
        }
       }
      },
      "text/html": [
       "<div>                            <div id=\"e7f17833-b219-4bda-af8c-cd94cafafbaf\" class=\"plotly-graph-div\" style=\"height:525px; width:100%;\"></div>            <script type=\"text/javascript\">                require([\"plotly\"], function(Plotly) {                    window.PLOTLYENV=window.PLOTLYENV || {};                                    if (document.getElementById(\"e7f17833-b219-4bda-af8c-cd94cafafbaf\")) {                    Plotly.newPlot(                        \"e7f17833-b219-4bda-af8c-cd94cafafbaf\",                        [{\"orientation\": \"h\", \"type\": \"bar\", \"x\": [0.017694178359989626, 0.017938872754567414, 0.017989048759927736, 0.01823407953895349, 0.01847981804948865, 0.01858356660905437, 0.018806611482169177, 0.01997555539823122, 0.020106980507179788, 0.02192529715756205], \"y\": [\"M. Depay\", \"Iago Aspas\", \"A. Griezmann\", \"A. S\\u00e1nchez\", \"F. Thauvin\", \"P. Aubameyang\", \"P. Dybala\", \"K. Mbapp\\u00e9\", \"R. Lewandowski\", \"S. Ag\\u00fcero\"]}],                        {\"template\": {\"data\": {\"bar\": [{\"error_x\": {\"color\": \"#2a3f5f\"}, \"error_y\": {\"color\": \"#2a3f5f\"}, \"marker\": {\"line\": {\"color\": \"#E5ECF6\", \"width\": 0.5}}, \"type\": \"bar\"}], \"barpolar\": [{\"marker\": {\"line\": {\"color\": \"#E5ECF6\", \"width\": 0.5}}, \"type\": \"barpolar\"}], \"carpet\": [{\"aaxis\": {\"endlinecolor\": \"#2a3f5f\", \"gridcolor\": \"white\", \"linecolor\": \"white\", \"minorgridcolor\": \"white\", \"startlinecolor\": \"#2a3f5f\"}, \"baxis\": {\"endlinecolor\": \"#2a3f5f\", \"gridcolor\": \"white\", \"linecolor\": \"white\", \"minorgridcolor\": \"white\", \"startlinecolor\": \"#2a3f5f\"}, \"type\": \"carpet\"}], \"choropleth\": [{\"colorbar\": {\"outlinewidth\": 0, \"ticks\": \"\"}, \"type\": \"choropleth\"}], \"contour\": [{\"colorbar\": {\"outlinewidth\": 0, \"ticks\": \"\"}, \"colorscale\": [[0.0, \"#0d0887\"], [0.1111111111111111, \"#46039f\"], [0.2222222222222222, \"#7201a8\"], [0.3333333333333333, \"#9c179e\"], [0.4444444444444444, \"#bd3786\"], [0.5555555555555556, \"#d8576b\"], [0.6666666666666666, \"#ed7953\"], [0.7777777777777778, \"#fb9f3a\"], [0.8888888888888888, \"#fdca26\"], [1.0, \"#f0f921\"]], \"type\": \"contour\"}], \"contourcarpet\": [{\"colorbar\": {\"outlinewidth\": 0, \"ticks\": \"\"}, \"type\": \"contourcarpet\"}], \"heatmap\": [{\"colorbar\": {\"outlinewidth\": 0, \"ticks\": \"\"}, \"colorscale\": [[0.0, \"#0d0887\"], [0.1111111111111111, \"#46039f\"], [0.2222222222222222, \"#7201a8\"], [0.3333333333333333, \"#9c179e\"], [0.4444444444444444, \"#bd3786\"], [0.5555555555555556, \"#d8576b\"], [0.6666666666666666, \"#ed7953\"], [0.7777777777777778, \"#fb9f3a\"], [0.8888888888888888, \"#fdca26\"], [1.0, \"#f0f921\"]], \"type\": \"heatmap\"}], \"heatmapgl\": [{\"colorbar\": {\"outlinewidth\": 0, \"ticks\": \"\"}, \"colorscale\": [[0.0, \"#0d0887\"], [0.1111111111111111, \"#46039f\"], [0.2222222222222222, \"#7201a8\"], [0.3333333333333333, \"#9c179e\"], [0.4444444444444444, \"#bd3786\"], [0.5555555555555556, \"#d8576b\"], [0.6666666666666666, \"#ed7953\"], [0.7777777777777778, \"#fb9f3a\"], [0.8888888888888888, \"#fdca26\"], [1.0, \"#f0f921\"]], \"type\": \"heatmapgl\"}], \"histogram\": [{\"marker\": {\"colorbar\": {\"outlinewidth\": 0, \"ticks\": \"\"}}, \"type\": \"histogram\"}], \"histogram2d\": [{\"colorbar\": {\"outlinewidth\": 0, \"ticks\": \"\"}, \"colorscale\": [[0.0, \"#0d0887\"], [0.1111111111111111, \"#46039f\"], [0.2222222222222222, \"#7201a8\"], [0.3333333333333333, \"#9c179e\"], [0.4444444444444444, \"#bd3786\"], [0.5555555555555556, \"#d8576b\"], [0.6666666666666666, \"#ed7953\"], [0.7777777777777778, \"#fb9f3a\"], [0.8888888888888888, \"#fdca26\"], [1.0, \"#f0f921\"]], \"type\": \"histogram2d\"}], \"histogram2dcontour\": [{\"colorbar\": {\"outlinewidth\": 0, \"ticks\": \"\"}, \"colorscale\": [[0.0, \"#0d0887\"], [0.1111111111111111, \"#46039f\"], [0.2222222222222222, \"#7201a8\"], [0.3333333333333333, \"#9c179e\"], [0.4444444444444444, \"#bd3786\"], [0.5555555555555556, \"#d8576b\"], [0.6666666666666666, \"#ed7953\"], [0.7777777777777778, \"#fb9f3a\"], [0.8888888888888888, \"#fdca26\"], [1.0, \"#f0f921\"]], \"type\": \"histogram2dcontour\"}], \"mesh3d\": [{\"colorbar\": {\"outlinewidth\": 0, \"ticks\": \"\"}, \"type\": \"mesh3d\"}], \"parcoords\": [{\"line\": {\"colorbar\": {\"outlinewidth\": 0, \"ticks\": \"\"}}, \"type\": \"parcoords\"}], \"pie\": [{\"automargin\": true, \"type\": \"pie\"}], \"scatter\": [{\"marker\": {\"colorbar\": {\"outlinewidth\": 0, \"ticks\": \"\"}}, \"type\": \"scatter\"}], \"scatter3d\": [{\"line\": {\"colorbar\": {\"outlinewidth\": 0, \"ticks\": \"\"}}, \"marker\": {\"colorbar\": {\"outlinewidth\": 0, \"ticks\": \"\"}}, \"type\": \"scatter3d\"}], \"scattercarpet\": [{\"marker\": {\"colorbar\": {\"outlinewidth\": 0, \"ticks\": \"\"}}, \"type\": \"scattercarpet\"}], \"scattergeo\": [{\"marker\": {\"colorbar\": {\"outlinewidth\": 0, \"ticks\": \"\"}}, \"type\": \"scattergeo\"}], \"scattergl\": [{\"marker\": {\"colorbar\": {\"outlinewidth\": 0, \"ticks\": \"\"}}, \"type\": \"scattergl\"}], \"scattermapbox\": [{\"marker\": {\"colorbar\": {\"outlinewidth\": 0, \"ticks\": \"\"}}, \"type\": \"scattermapbox\"}], \"scatterpolar\": [{\"marker\": {\"colorbar\": {\"outlinewidth\": 0, \"ticks\": \"\"}}, \"type\": \"scatterpolar\"}], \"scatterpolargl\": [{\"marker\": {\"colorbar\": {\"outlinewidth\": 0, \"ticks\": \"\"}}, \"type\": \"scatterpolargl\"}], \"scatterternary\": [{\"marker\": {\"colorbar\": {\"outlinewidth\": 0, \"ticks\": \"\"}}, \"type\": \"scatterternary\"}], \"surface\": [{\"colorbar\": {\"outlinewidth\": 0, \"ticks\": \"\"}, \"colorscale\": [[0.0, \"#0d0887\"], [0.1111111111111111, \"#46039f\"], [0.2222222222222222, \"#7201a8\"], [0.3333333333333333, \"#9c179e\"], [0.4444444444444444, \"#bd3786\"], [0.5555555555555556, \"#d8576b\"], [0.6666666666666666, \"#ed7953\"], [0.7777777777777778, \"#fb9f3a\"], [0.8888888888888888, \"#fdca26\"], [1.0, \"#f0f921\"]], \"type\": \"surface\"}], \"table\": [{\"cells\": {\"fill\": {\"color\": \"#EBF0F8\"}, \"line\": {\"color\": \"white\"}}, \"header\": {\"fill\": {\"color\": \"#C8D4E3\"}, \"line\": {\"color\": \"white\"}}, \"type\": \"table\"}]}, \"layout\": {\"annotationdefaults\": {\"arrowcolor\": \"#2a3f5f\", \"arrowhead\": 0, \"arrowwidth\": 1}, \"autotypenumbers\": \"strict\", \"coloraxis\": {\"colorbar\": {\"outlinewidth\": 0, \"ticks\": \"\"}}, \"colorscale\": {\"diverging\": [[0, \"#8e0152\"], [0.1, \"#c51b7d\"], [0.2, \"#de77ae\"], [0.3, \"#f1b6da\"], [0.4, \"#fde0ef\"], [0.5, \"#f7f7f7\"], [0.6, \"#e6f5d0\"], [0.7, \"#b8e186\"], [0.8, \"#7fbc41\"], [0.9, \"#4d9221\"], [1, \"#276419\"]], \"sequential\": [[0.0, \"#0d0887\"], [0.1111111111111111, \"#46039f\"], [0.2222222222222222, \"#7201a8\"], [0.3333333333333333, \"#9c179e\"], [0.4444444444444444, \"#bd3786\"], [0.5555555555555556, \"#d8576b\"], [0.6666666666666666, \"#ed7953\"], [0.7777777777777778, \"#fb9f3a\"], [0.8888888888888888, \"#fdca26\"], [1.0, \"#f0f921\"]], \"sequentialminus\": [[0.0, \"#0d0887\"], [0.1111111111111111, \"#46039f\"], [0.2222222222222222, \"#7201a8\"], [0.3333333333333333, \"#9c179e\"], [0.4444444444444444, \"#bd3786\"], [0.5555555555555556, \"#d8576b\"], [0.6666666666666666, \"#ed7953\"], [0.7777777777777778, \"#fb9f3a\"], [0.8888888888888888, \"#fdca26\"], [1.0, \"#f0f921\"]]}, \"colorway\": [\"#636efa\", \"#EF553B\", \"#00cc96\", \"#ab63fa\", \"#FFA15A\", \"#19d3f3\", \"#FF6692\", \"#B6E880\", \"#FF97FF\", \"#FECB52\"], \"font\": {\"color\": \"#2a3f5f\"}, \"geo\": {\"bgcolor\": \"white\", \"lakecolor\": \"white\", \"landcolor\": \"#E5ECF6\", \"showlakes\": true, \"showland\": true, \"subunitcolor\": \"white\"}, \"hoverlabel\": {\"align\": \"left\"}, \"hovermode\": \"closest\", \"mapbox\": {\"style\": \"light\"}, \"paper_bgcolor\": \"white\", \"plot_bgcolor\": \"#E5ECF6\", \"polar\": {\"angularaxis\": {\"gridcolor\": \"white\", \"linecolor\": \"white\", \"ticks\": \"\"}, \"bgcolor\": \"#E5ECF6\", \"radialaxis\": {\"gridcolor\": \"white\", \"linecolor\": \"white\", \"ticks\": \"\"}}, \"scene\": {\"xaxis\": {\"backgroundcolor\": \"#E5ECF6\", \"gridcolor\": \"white\", \"gridwidth\": 2, \"linecolor\": \"white\", \"showbackground\": true, \"ticks\": \"\", \"zerolinecolor\": \"white\"}, \"yaxis\": {\"backgroundcolor\": \"#E5ECF6\", \"gridcolor\": \"white\", \"gridwidth\": 2, \"linecolor\": \"white\", \"showbackground\": true, \"ticks\": \"\", \"zerolinecolor\": \"white\"}, \"zaxis\": {\"backgroundcolor\": \"#E5ECF6\", \"gridcolor\": \"white\", \"gridwidth\": 2, \"linecolor\": \"white\", \"showbackground\": true, \"ticks\": \"\", \"zerolinecolor\": \"white\"}}, \"shapedefaults\": {\"line\": {\"color\": \"#2a3f5f\"}}, \"ternary\": {\"aaxis\": {\"gridcolor\": \"white\", \"linecolor\": \"white\", \"ticks\": \"\"}, \"baxis\": {\"gridcolor\": \"white\", \"linecolor\": \"white\", \"ticks\": \"\"}, \"bgcolor\": \"#E5ECF6\", \"caxis\": {\"gridcolor\": \"white\", \"linecolor\": \"white\", \"ticks\": \"\"}}, \"title\": {\"x\": 0.05}, \"xaxis\": {\"automargin\": true, \"gridcolor\": \"white\", \"linecolor\": \"white\", \"ticks\": \"\", \"title\": {\"standoff\": 15}, \"zerolinecolor\": \"white\", \"zerolinewidth\": 2}, \"yaxis\": {\"automargin\": true, \"gridcolor\": \"white\", \"linecolor\": \"white\", \"ticks\": \"\", \"title\": {\"standoff\": 15}, \"zerolinecolor\": \"white\", \"zerolinewidth\": 2}}}, \"title\": {\"text\": \"Players similar to  \\\" Cristiano Ronaldo \\\"\"}},                        {\"responsive\": true}                    ).then(function(){\n",
       "                            \n",
       "var gd = document.getElementById('e7f17833-b219-4bda-af8c-cd94cafafbaf');\n",
       "var x = new MutationObserver(function (mutations, observer) {{\n",
       "        var display = window.getComputedStyle(gd).display;\n",
       "        if (!display || display === 'none') {{\n",
       "            console.log([gd, 'removed!']);\n",
       "            Plotly.purge(gd);\n",
       "            observer.disconnect();\n",
       "        }}\n",
       "}});\n",
       "\n",
       "// Listen for the removal of the full notebook cells\n",
       "var notebookContainer = gd.closest('#notebook-container');\n",
       "if (notebookContainer) {{\n",
       "    x.observe(notebookContainer, {childList: true});\n",
       "}}\n",
       "\n",
       "// Listen for the clearing of the current output cell\n",
       "var outputEl = gd.closest('.output');\n",
       "if (outputEl) {{\n",
       "    x.observe(outputEl, {childList: true});\n",
       "}}\n",
       "\n",
       "                        })                };                });            </script>        </div>"
      ]
     },
     "metadata": {},
     "output_type": "display_data"
    },
    {
     "data": {
      "text/html": [
       "<div>\n",
       "<style scoped>\n",
       "    .dataframe tbody tr th:only-of-type {\n",
       "        vertical-align: middle;\n",
       "    }\n",
       "\n",
       "    .dataframe tbody tr th {\n",
       "        vertical-align: top;\n",
       "    }\n",
       "\n",
       "    .dataframe thead th {\n",
       "        text-align: right;\n",
       "    }\n",
       "</style>\n",
       "<table border=\"1\" class=\"dataframe\">\n",
       "  <thead>\n",
       "    <tr style=\"text-align: right;\">\n",
       "      <th></th>\n",
       "      <th>Club</th>\n",
       "      <th>Name</th>\n",
       "      <th>Age</th>\n",
       "      <th>Nationality</th>\n",
       "      <th>Overall</th>\n",
       "      <th>Potential</th>\n",
       "      <th>Preferred Foot</th>\n",
       "      <th>Weak Foot</th>\n",
       "      <th>Wage</th>\n",
       "      <th>Value</th>\n",
       "    </tr>\n",
       "  </thead>\n",
       "  <tbody>\n",
       "    <tr>\n",
       "      <th>0</th>\n",
       "      <td>Manchester City</td>\n",
       "      <td>S. Agüero</td>\n",
       "      <td>30</td>\n",
       "      <td>Argentina</td>\n",
       "      <td>89</td>\n",
       "      <td>89</td>\n",
       "      <td>1</td>\n",
       "      <td>4</td>\n",
       "      <td>300000</td>\n",
       "      <td>6e+07</td>\n",
       "    </tr>\n",
       "    <tr>\n",
       "      <th>1</th>\n",
       "      <td>FC Bayern München</td>\n",
       "      <td>R. Lewandowski</td>\n",
       "      <td>29</td>\n",
       "      <td>Poland</td>\n",
       "      <td>90</td>\n",
       "      <td>90</td>\n",
       "      <td>1</td>\n",
       "      <td>4</td>\n",
       "      <td>205000</td>\n",
       "      <td>8e+07</td>\n",
       "    </tr>\n",
       "    <tr>\n",
       "      <th>2</th>\n",
       "      <td>Paris Saint-Germain</td>\n",
       "      <td>K. Mbappé</td>\n",
       "      <td>19</td>\n",
       "      <td>France</td>\n",
       "      <td>88</td>\n",
       "      <td>95</td>\n",
       "      <td>1</td>\n",
       "      <td>4</td>\n",
       "      <td>100000</td>\n",
       "      <td>8e+07</td>\n",
       "    </tr>\n",
       "    <tr>\n",
       "      <th>3</th>\n",
       "      <td>Juventus</td>\n",
       "      <td>P. Dybala</td>\n",
       "      <td>24</td>\n",
       "      <td>Argentina</td>\n",
       "      <td>89</td>\n",
       "      <td>94</td>\n",
       "      <td>0</td>\n",
       "      <td>3</td>\n",
       "      <td>205000</td>\n",
       "      <td>9e+07</td>\n",
       "    </tr>\n",
       "    <tr>\n",
       "      <th>4</th>\n",
       "      <td>Arsenal</td>\n",
       "      <td>P. Aubameyang</td>\n",
       "      <td>29</td>\n",
       "      <td>Gabon</td>\n",
       "      <td>88</td>\n",
       "      <td>88</td>\n",
       "      <td>1</td>\n",
       "      <td>4</td>\n",
       "      <td>265000</td>\n",
       "      <td>6e+07</td>\n",
       "    </tr>\n",
       "    <tr>\n",
       "      <th>5</th>\n",
       "      <td>Olympique de Marseille</td>\n",
       "      <td>F. Thauvin</td>\n",
       "      <td>25</td>\n",
       "      <td>France</td>\n",
       "      <td>84</td>\n",
       "      <td>87</td>\n",
       "      <td>0</td>\n",
       "      <td>3</td>\n",
       "      <td>72000</td>\n",
       "      <td>4e+07</td>\n",
       "    </tr>\n",
       "    <tr>\n",
       "      <th>6</th>\n",
       "      <td>Manchester United</td>\n",
       "      <td>A. Sánchez</td>\n",
       "      <td>29</td>\n",
       "      <td>Chile</td>\n",
       "      <td>85</td>\n",
       "      <td>85</td>\n",
       "      <td>1</td>\n",
       "      <td>3</td>\n",
       "      <td>215000</td>\n",
       "      <td>4e+07</td>\n",
       "    </tr>\n",
       "    <tr>\n",
       "      <th>7</th>\n",
       "      <td>Atlético Madrid</td>\n",
       "      <td>A. Griezmann</td>\n",
       "      <td>27</td>\n",
       "      <td>France</td>\n",
       "      <td>89</td>\n",
       "      <td>90</td>\n",
       "      <td>0</td>\n",
       "      <td>3</td>\n",
       "      <td>145000</td>\n",
       "      <td>8e+07</td>\n",
       "    </tr>\n",
       "    <tr>\n",
       "      <th>8</th>\n",
       "      <td>RC Celta</td>\n",
       "      <td>Iago Aspas</td>\n",
       "      <td>30</td>\n",
       "      <td>Spain</td>\n",
       "      <td>84</td>\n",
       "      <td>84</td>\n",
       "      <td>0</td>\n",
       "      <td>3</td>\n",
       "      <td>45000</td>\n",
       "      <td>3e+07</td>\n",
       "    </tr>\n",
       "    <tr>\n",
       "      <th>9</th>\n",
       "      <td>Olympique Lyonnais</td>\n",
       "      <td>M. Depay</td>\n",
       "      <td>24</td>\n",
       "      <td>Netherlands</td>\n",
       "      <td>84</td>\n",
       "      <td>89</td>\n",
       "      <td>1</td>\n",
       "      <td>3</td>\n",
       "      <td>93000</td>\n",
       "      <td>4e+07</td>\n",
       "    </tr>\n",
       "  </tbody>\n",
       "</table>\n",
       "</div>"
      ],
      "text/plain": [
       "                     Club            Name  Age  Nationality  Overall  \\\n",
       "0         Manchester City       S. Agüero   30    Argentina       89   \n",
       "1       FC Bayern München  R. Lewandowski   29       Poland       90   \n",
       "2     Paris Saint-Germain       K. Mbappé   19       France       88   \n",
       "3                Juventus       P. Dybala   24    Argentina       89   \n",
       "4                 Arsenal   P. Aubameyang   29        Gabon       88   \n",
       "5  Olympique de Marseille      F. Thauvin   25       France       84   \n",
       "6       Manchester United      A. Sánchez   29        Chile       85   \n",
       "7         Atlético Madrid    A. Griezmann   27       France       89   \n",
       "8                RC Celta      Iago Aspas   30        Spain       84   \n",
       "9      Olympique Lyonnais        M. Depay   24  Netherlands       84   \n",
       "\n",
       "   Potential  Preferred Foot  Weak Foot    Wage  Value  \n",
       "0         89               1          4  300000  6e+07  \n",
       "1         90               1          4  205000  8e+07  \n",
       "2         95               1          4  100000  8e+07  \n",
       "3         94               0          3  205000  9e+07  \n",
       "4         88               1          4  265000  6e+07  \n",
       "5         87               0          3   72000  4e+07  \n",
       "6         85               1          3  215000  4e+07  \n",
       "7         90               0          3  145000  8e+07  \n",
       "8         84               0          3   45000  3e+07  \n",
       "9         89               1          3   93000  4e+07  "
      ]
     },
     "metadata": {},
     "output_type": "display_data"
    }
   ],
   "source": [
    "player_scouter(similar_df, dist_df, 20801)"
   ]
  },
  {
   "cell_type": "code",
   "execution_count": 16,
   "metadata": {},
   "outputs": [
    {
     "data": {
      "application/vnd.plotly.v1+json": {
       "config": {
        "plotlyServerURL": "https://plot.ly"
       },
       "data": [
        {
         "orientation": "h",
         "type": "bar",
         "x": [
          0.019638673583859793,
          0.01972421812845553,
          0.020714318090551142,
          0.02076441947377705,
          0.02079649344222663,
          0.020814888763723463,
          0.020977973154943562,
          0.02288507358969176,
          0.023052501504642997,
          0.03013232258827262
         ],
         "y": [
          "T. Lemar",
          "Anderson Talisca",
          "P. Pogba",
          "G. Bonaventura",
          "Coutinho",
          "L. Stindl",
          "Koke",
          "Pizzi",
          "J. Rodríguez",
          "Bruno Fernandes"
         ]
        }
       ],
       "layout": {
        "template": {
         "data": {
          "bar": [
           {
            "error_x": {
             "color": "#2a3f5f"
            },
            "error_y": {
             "color": "#2a3f5f"
            },
            "marker": {
             "line": {
              "color": "#E5ECF6",
              "width": 0.5
             }
            },
            "type": "bar"
           }
          ],
          "barpolar": [
           {
            "marker": {
             "line": {
              "color": "#E5ECF6",
              "width": 0.5
             }
            },
            "type": "barpolar"
           }
          ],
          "carpet": [
           {
            "aaxis": {
             "endlinecolor": "#2a3f5f",
             "gridcolor": "white",
             "linecolor": "white",
             "minorgridcolor": "white",
             "startlinecolor": "#2a3f5f"
            },
            "baxis": {
             "endlinecolor": "#2a3f5f",
             "gridcolor": "white",
             "linecolor": "white",
             "minorgridcolor": "white",
             "startlinecolor": "#2a3f5f"
            },
            "type": "carpet"
           }
          ],
          "choropleth": [
           {
            "colorbar": {
             "outlinewidth": 0,
             "ticks": ""
            },
            "type": "choropleth"
           }
          ],
          "contour": [
           {
            "colorbar": {
             "outlinewidth": 0,
             "ticks": ""
            },
            "colorscale": [
             [
              0,
              "#0d0887"
             ],
             [
              0.1111111111111111,
              "#46039f"
             ],
             [
              0.2222222222222222,
              "#7201a8"
             ],
             [
              0.3333333333333333,
              "#9c179e"
             ],
             [
              0.4444444444444444,
              "#bd3786"
             ],
             [
              0.5555555555555556,
              "#d8576b"
             ],
             [
              0.6666666666666666,
              "#ed7953"
             ],
             [
              0.7777777777777778,
              "#fb9f3a"
             ],
             [
              0.8888888888888888,
              "#fdca26"
             ],
             [
              1,
              "#f0f921"
             ]
            ],
            "type": "contour"
           }
          ],
          "contourcarpet": [
           {
            "colorbar": {
             "outlinewidth": 0,
             "ticks": ""
            },
            "type": "contourcarpet"
           }
          ],
          "heatmap": [
           {
            "colorbar": {
             "outlinewidth": 0,
             "ticks": ""
            },
            "colorscale": [
             [
              0,
              "#0d0887"
             ],
             [
              0.1111111111111111,
              "#46039f"
             ],
             [
              0.2222222222222222,
              "#7201a8"
             ],
             [
              0.3333333333333333,
              "#9c179e"
             ],
             [
              0.4444444444444444,
              "#bd3786"
             ],
             [
              0.5555555555555556,
              "#d8576b"
             ],
             [
              0.6666666666666666,
              "#ed7953"
             ],
             [
              0.7777777777777778,
              "#fb9f3a"
             ],
             [
              0.8888888888888888,
              "#fdca26"
             ],
             [
              1,
              "#f0f921"
             ]
            ],
            "type": "heatmap"
           }
          ],
          "heatmapgl": [
           {
            "colorbar": {
             "outlinewidth": 0,
             "ticks": ""
            },
            "colorscale": [
             [
              0,
              "#0d0887"
             ],
             [
              0.1111111111111111,
              "#46039f"
             ],
             [
              0.2222222222222222,
              "#7201a8"
             ],
             [
              0.3333333333333333,
              "#9c179e"
             ],
             [
              0.4444444444444444,
              "#bd3786"
             ],
             [
              0.5555555555555556,
              "#d8576b"
             ],
             [
              0.6666666666666666,
              "#ed7953"
             ],
             [
              0.7777777777777778,
              "#fb9f3a"
             ],
             [
              0.8888888888888888,
              "#fdca26"
             ],
             [
              1,
              "#f0f921"
             ]
            ],
            "type": "heatmapgl"
           }
          ],
          "histogram": [
           {
            "marker": {
             "colorbar": {
              "outlinewidth": 0,
              "ticks": ""
             }
            },
            "type": "histogram"
           }
          ],
          "histogram2d": [
           {
            "colorbar": {
             "outlinewidth": 0,
             "ticks": ""
            },
            "colorscale": [
             [
              0,
              "#0d0887"
             ],
             [
              0.1111111111111111,
              "#46039f"
             ],
             [
              0.2222222222222222,
              "#7201a8"
             ],
             [
              0.3333333333333333,
              "#9c179e"
             ],
             [
              0.4444444444444444,
              "#bd3786"
             ],
             [
              0.5555555555555556,
              "#d8576b"
             ],
             [
              0.6666666666666666,
              "#ed7953"
             ],
             [
              0.7777777777777778,
              "#fb9f3a"
             ],
             [
              0.8888888888888888,
              "#fdca26"
             ],
             [
              1,
              "#f0f921"
             ]
            ],
            "type": "histogram2d"
           }
          ],
          "histogram2dcontour": [
           {
            "colorbar": {
             "outlinewidth": 0,
             "ticks": ""
            },
            "colorscale": [
             [
              0,
              "#0d0887"
             ],
             [
              0.1111111111111111,
              "#46039f"
             ],
             [
              0.2222222222222222,
              "#7201a8"
             ],
             [
              0.3333333333333333,
              "#9c179e"
             ],
             [
              0.4444444444444444,
              "#bd3786"
             ],
             [
              0.5555555555555556,
              "#d8576b"
             ],
             [
              0.6666666666666666,
              "#ed7953"
             ],
             [
              0.7777777777777778,
              "#fb9f3a"
             ],
             [
              0.8888888888888888,
              "#fdca26"
             ],
             [
              1,
              "#f0f921"
             ]
            ],
            "type": "histogram2dcontour"
           }
          ],
          "mesh3d": [
           {
            "colorbar": {
             "outlinewidth": 0,
             "ticks": ""
            },
            "type": "mesh3d"
           }
          ],
          "parcoords": [
           {
            "line": {
             "colorbar": {
              "outlinewidth": 0,
              "ticks": ""
             }
            },
            "type": "parcoords"
           }
          ],
          "pie": [
           {
            "automargin": true,
            "type": "pie"
           }
          ],
          "scatter": [
           {
            "marker": {
             "colorbar": {
              "outlinewidth": 0,
              "ticks": ""
             }
            },
            "type": "scatter"
           }
          ],
          "scatter3d": [
           {
            "line": {
             "colorbar": {
              "outlinewidth": 0,
              "ticks": ""
             }
            },
            "marker": {
             "colorbar": {
              "outlinewidth": 0,
              "ticks": ""
             }
            },
            "type": "scatter3d"
           }
          ],
          "scattercarpet": [
           {
            "marker": {
             "colorbar": {
              "outlinewidth": 0,
              "ticks": ""
             }
            },
            "type": "scattercarpet"
           }
          ],
          "scattergeo": [
           {
            "marker": {
             "colorbar": {
              "outlinewidth": 0,
              "ticks": ""
             }
            },
            "type": "scattergeo"
           }
          ],
          "scattergl": [
           {
            "marker": {
             "colorbar": {
              "outlinewidth": 0,
              "ticks": ""
             }
            },
            "type": "scattergl"
           }
          ],
          "scattermapbox": [
           {
            "marker": {
             "colorbar": {
              "outlinewidth": 0,
              "ticks": ""
             }
            },
            "type": "scattermapbox"
           }
          ],
          "scatterpolar": [
           {
            "marker": {
             "colorbar": {
              "outlinewidth": 0,
              "ticks": ""
             }
            },
            "type": "scatterpolar"
           }
          ],
          "scatterpolargl": [
           {
            "marker": {
             "colorbar": {
              "outlinewidth": 0,
              "ticks": ""
             }
            },
            "type": "scatterpolargl"
           }
          ],
          "scatterternary": [
           {
            "marker": {
             "colorbar": {
              "outlinewidth": 0,
              "ticks": ""
             }
            },
            "type": "scatterternary"
           }
          ],
          "surface": [
           {
            "colorbar": {
             "outlinewidth": 0,
             "ticks": ""
            },
            "colorscale": [
             [
              0,
              "#0d0887"
             ],
             [
              0.1111111111111111,
              "#46039f"
             ],
             [
              0.2222222222222222,
              "#7201a8"
             ],
             [
              0.3333333333333333,
              "#9c179e"
             ],
             [
              0.4444444444444444,
              "#bd3786"
             ],
             [
              0.5555555555555556,
              "#d8576b"
             ],
             [
              0.6666666666666666,
              "#ed7953"
             ],
             [
              0.7777777777777778,
              "#fb9f3a"
             ],
             [
              0.8888888888888888,
              "#fdca26"
             ],
             [
              1,
              "#f0f921"
             ]
            ],
            "type": "surface"
           }
          ],
          "table": [
           {
            "cells": {
             "fill": {
              "color": "#EBF0F8"
             },
             "line": {
              "color": "white"
             }
            },
            "header": {
             "fill": {
              "color": "#C8D4E3"
             },
             "line": {
              "color": "white"
             }
            },
            "type": "table"
           }
          ]
         },
         "layout": {
          "annotationdefaults": {
           "arrowcolor": "#2a3f5f",
           "arrowhead": 0,
           "arrowwidth": 1
          },
          "autotypenumbers": "strict",
          "coloraxis": {
           "colorbar": {
            "outlinewidth": 0,
            "ticks": ""
           }
          },
          "colorscale": {
           "diverging": [
            [
             0,
             "#8e0152"
            ],
            [
             0.1,
             "#c51b7d"
            ],
            [
             0.2,
             "#de77ae"
            ],
            [
             0.3,
             "#f1b6da"
            ],
            [
             0.4,
             "#fde0ef"
            ],
            [
             0.5,
             "#f7f7f7"
            ],
            [
             0.6,
             "#e6f5d0"
            ],
            [
             0.7,
             "#b8e186"
            ],
            [
             0.8,
             "#7fbc41"
            ],
            [
             0.9,
             "#4d9221"
            ],
            [
             1,
             "#276419"
            ]
           ],
           "sequential": [
            [
             0,
             "#0d0887"
            ],
            [
             0.1111111111111111,
             "#46039f"
            ],
            [
             0.2222222222222222,
             "#7201a8"
            ],
            [
             0.3333333333333333,
             "#9c179e"
            ],
            [
             0.4444444444444444,
             "#bd3786"
            ],
            [
             0.5555555555555556,
             "#d8576b"
            ],
            [
             0.6666666666666666,
             "#ed7953"
            ],
            [
             0.7777777777777778,
             "#fb9f3a"
            ],
            [
             0.8888888888888888,
             "#fdca26"
            ],
            [
             1,
             "#f0f921"
            ]
           ],
           "sequentialminus": [
            [
             0,
             "#0d0887"
            ],
            [
             0.1111111111111111,
             "#46039f"
            ],
            [
             0.2222222222222222,
             "#7201a8"
            ],
            [
             0.3333333333333333,
             "#9c179e"
            ],
            [
             0.4444444444444444,
             "#bd3786"
            ],
            [
             0.5555555555555556,
             "#d8576b"
            ],
            [
             0.6666666666666666,
             "#ed7953"
            ],
            [
             0.7777777777777778,
             "#fb9f3a"
            ],
            [
             0.8888888888888888,
             "#fdca26"
            ],
            [
             1,
             "#f0f921"
            ]
           ]
          },
          "colorway": [
           "#636efa",
           "#EF553B",
           "#00cc96",
           "#ab63fa",
           "#FFA15A",
           "#19d3f3",
           "#FF6692",
           "#B6E880",
           "#FF97FF",
           "#FECB52"
          ],
          "font": {
           "color": "#2a3f5f"
          },
          "geo": {
           "bgcolor": "white",
           "lakecolor": "white",
           "landcolor": "#E5ECF6",
           "showlakes": true,
           "showland": true,
           "subunitcolor": "white"
          },
          "hoverlabel": {
           "align": "left"
          },
          "hovermode": "closest",
          "mapbox": {
           "style": "light"
          },
          "paper_bgcolor": "white",
          "plot_bgcolor": "#E5ECF6",
          "polar": {
           "angularaxis": {
            "gridcolor": "white",
            "linecolor": "white",
            "ticks": ""
           },
           "bgcolor": "#E5ECF6",
           "radialaxis": {
            "gridcolor": "white",
            "linecolor": "white",
            "ticks": ""
           }
          },
          "scene": {
           "xaxis": {
            "backgroundcolor": "#E5ECF6",
            "gridcolor": "white",
            "gridwidth": 2,
            "linecolor": "white",
            "showbackground": true,
            "ticks": "",
            "zerolinecolor": "white"
           },
           "yaxis": {
            "backgroundcolor": "#E5ECF6",
            "gridcolor": "white",
            "gridwidth": 2,
            "linecolor": "white",
            "showbackground": true,
            "ticks": "",
            "zerolinecolor": "white"
           },
           "zaxis": {
            "backgroundcolor": "#E5ECF6",
            "gridcolor": "white",
            "gridwidth": 2,
            "linecolor": "white",
            "showbackground": true,
            "ticks": "",
            "zerolinecolor": "white"
           }
          },
          "shapedefaults": {
           "line": {
            "color": "#2a3f5f"
           }
          },
          "ternary": {
           "aaxis": {
            "gridcolor": "white",
            "linecolor": "white",
            "ticks": ""
           },
           "baxis": {
            "gridcolor": "white",
            "linecolor": "white",
            "ticks": ""
           },
           "bgcolor": "#E5ECF6",
           "caxis": {
            "gridcolor": "white",
            "linecolor": "white",
            "ticks": ""
           }
          },
          "title": {
           "x": 0.05
          },
          "xaxis": {
           "automargin": true,
           "gridcolor": "white",
           "linecolor": "white",
           "ticks": "",
           "title": {
            "standoff": 15
           },
           "zerolinecolor": "white",
           "zerolinewidth": 2
          },
          "yaxis": {
           "automargin": true,
           "gridcolor": "white",
           "linecolor": "white",
           "ticks": "",
           "title": {
            "standoff": 15
           },
           "zerolinecolor": "white",
           "zerolinewidth": 2
          }
         }
        },
        "title": {
         "text": "Players similar to  \" K. De Bruyne \""
        }
       }
      },
      "text/html": [
       "<div>                            <div id=\"dcfcf66c-26e2-4f66-a268-dc17530b4abe\" class=\"plotly-graph-div\" style=\"height:525px; width:100%;\"></div>            <script type=\"text/javascript\">                require([\"plotly\"], function(Plotly) {                    window.PLOTLYENV=window.PLOTLYENV || {};                                    if (document.getElementById(\"dcfcf66c-26e2-4f66-a268-dc17530b4abe\")) {                    Plotly.newPlot(                        \"dcfcf66c-26e2-4f66-a268-dc17530b4abe\",                        [{\"orientation\": \"h\", \"type\": \"bar\", \"x\": [0.019638673583859793, 0.01972421812845553, 0.020714318090551142, 0.02076441947377705, 0.02079649344222663, 0.020814888763723463, 0.020977973154943562, 0.02288507358969176, 0.023052501504642997, 0.03013232258827262], \"y\": [\"T. Lemar\", \"Anderson Talisca\", \"P. Pogba\", \"G. Bonaventura\", \"Coutinho\", \"L. Stindl\", \"Koke\", \"Pizzi\", \"J. Rodr\\u00edguez\", \"Bruno Fernandes\"]}],                        {\"template\": {\"data\": {\"bar\": [{\"error_x\": {\"color\": \"#2a3f5f\"}, \"error_y\": {\"color\": \"#2a3f5f\"}, \"marker\": {\"line\": {\"color\": \"#E5ECF6\", \"width\": 0.5}}, \"type\": \"bar\"}], \"barpolar\": [{\"marker\": {\"line\": {\"color\": \"#E5ECF6\", \"width\": 0.5}}, \"type\": \"barpolar\"}], \"carpet\": [{\"aaxis\": {\"endlinecolor\": \"#2a3f5f\", \"gridcolor\": \"white\", \"linecolor\": \"white\", \"minorgridcolor\": \"white\", \"startlinecolor\": \"#2a3f5f\"}, \"baxis\": {\"endlinecolor\": \"#2a3f5f\", \"gridcolor\": \"white\", \"linecolor\": \"white\", \"minorgridcolor\": \"white\", \"startlinecolor\": \"#2a3f5f\"}, \"type\": \"carpet\"}], \"choropleth\": [{\"colorbar\": {\"outlinewidth\": 0, \"ticks\": \"\"}, \"type\": \"choropleth\"}], \"contour\": [{\"colorbar\": {\"outlinewidth\": 0, \"ticks\": \"\"}, \"colorscale\": [[0.0, \"#0d0887\"], [0.1111111111111111, \"#46039f\"], [0.2222222222222222, \"#7201a8\"], [0.3333333333333333, \"#9c179e\"], [0.4444444444444444, \"#bd3786\"], [0.5555555555555556, \"#d8576b\"], [0.6666666666666666, \"#ed7953\"], [0.7777777777777778, \"#fb9f3a\"], [0.8888888888888888, \"#fdca26\"], [1.0, \"#f0f921\"]], \"type\": \"contour\"}], \"contourcarpet\": [{\"colorbar\": {\"outlinewidth\": 0, \"ticks\": \"\"}, \"type\": \"contourcarpet\"}], \"heatmap\": [{\"colorbar\": {\"outlinewidth\": 0, \"ticks\": \"\"}, \"colorscale\": [[0.0, \"#0d0887\"], [0.1111111111111111, \"#46039f\"], [0.2222222222222222, \"#7201a8\"], [0.3333333333333333, \"#9c179e\"], [0.4444444444444444, \"#bd3786\"], [0.5555555555555556, \"#d8576b\"], [0.6666666666666666, \"#ed7953\"], [0.7777777777777778, \"#fb9f3a\"], [0.8888888888888888, \"#fdca26\"], [1.0, \"#f0f921\"]], \"type\": \"heatmap\"}], \"heatmapgl\": [{\"colorbar\": {\"outlinewidth\": 0, \"ticks\": \"\"}, \"colorscale\": [[0.0, \"#0d0887\"], [0.1111111111111111, \"#46039f\"], [0.2222222222222222, \"#7201a8\"], [0.3333333333333333, \"#9c179e\"], [0.4444444444444444, \"#bd3786\"], [0.5555555555555556, \"#d8576b\"], [0.6666666666666666, \"#ed7953\"], [0.7777777777777778, \"#fb9f3a\"], [0.8888888888888888, \"#fdca26\"], [1.0, \"#f0f921\"]], \"type\": \"heatmapgl\"}], \"histogram\": [{\"marker\": {\"colorbar\": {\"outlinewidth\": 0, \"ticks\": \"\"}}, \"type\": \"histogram\"}], \"histogram2d\": [{\"colorbar\": {\"outlinewidth\": 0, \"ticks\": \"\"}, \"colorscale\": [[0.0, \"#0d0887\"], [0.1111111111111111, \"#46039f\"], [0.2222222222222222, \"#7201a8\"], [0.3333333333333333, \"#9c179e\"], [0.4444444444444444, \"#bd3786\"], [0.5555555555555556, \"#d8576b\"], [0.6666666666666666, \"#ed7953\"], [0.7777777777777778, \"#fb9f3a\"], [0.8888888888888888, \"#fdca26\"], [1.0, \"#f0f921\"]], \"type\": \"histogram2d\"}], \"histogram2dcontour\": [{\"colorbar\": {\"outlinewidth\": 0, \"ticks\": \"\"}, \"colorscale\": [[0.0, \"#0d0887\"], [0.1111111111111111, \"#46039f\"], [0.2222222222222222, \"#7201a8\"], [0.3333333333333333, \"#9c179e\"], [0.4444444444444444, \"#bd3786\"], [0.5555555555555556, \"#d8576b\"], [0.6666666666666666, \"#ed7953\"], [0.7777777777777778, \"#fb9f3a\"], [0.8888888888888888, \"#fdca26\"], [1.0, \"#f0f921\"]], \"type\": \"histogram2dcontour\"}], \"mesh3d\": [{\"colorbar\": {\"outlinewidth\": 0, \"ticks\": \"\"}, \"type\": \"mesh3d\"}], \"parcoords\": [{\"line\": {\"colorbar\": {\"outlinewidth\": 0, \"ticks\": \"\"}}, \"type\": \"parcoords\"}], \"pie\": [{\"automargin\": true, \"type\": \"pie\"}], \"scatter\": [{\"marker\": {\"colorbar\": {\"outlinewidth\": 0, \"ticks\": \"\"}}, \"type\": \"scatter\"}], \"scatter3d\": [{\"line\": {\"colorbar\": {\"outlinewidth\": 0, \"ticks\": \"\"}}, \"marker\": {\"colorbar\": {\"outlinewidth\": 0, \"ticks\": \"\"}}, \"type\": \"scatter3d\"}], \"scattercarpet\": [{\"marker\": {\"colorbar\": {\"outlinewidth\": 0, \"ticks\": \"\"}}, \"type\": \"scattercarpet\"}], \"scattergeo\": [{\"marker\": {\"colorbar\": {\"outlinewidth\": 0, \"ticks\": \"\"}}, \"type\": \"scattergeo\"}], \"scattergl\": [{\"marker\": {\"colorbar\": {\"outlinewidth\": 0, \"ticks\": \"\"}}, \"type\": \"scattergl\"}], \"scattermapbox\": [{\"marker\": {\"colorbar\": {\"outlinewidth\": 0, \"ticks\": \"\"}}, \"type\": \"scattermapbox\"}], \"scatterpolar\": [{\"marker\": {\"colorbar\": {\"outlinewidth\": 0, \"ticks\": \"\"}}, \"type\": \"scatterpolar\"}], \"scatterpolargl\": [{\"marker\": {\"colorbar\": {\"outlinewidth\": 0, \"ticks\": \"\"}}, \"type\": \"scatterpolargl\"}], \"scatterternary\": [{\"marker\": {\"colorbar\": {\"outlinewidth\": 0, \"ticks\": \"\"}}, \"type\": \"scatterternary\"}], \"surface\": [{\"colorbar\": {\"outlinewidth\": 0, \"ticks\": \"\"}, \"colorscale\": [[0.0, \"#0d0887\"], [0.1111111111111111, \"#46039f\"], [0.2222222222222222, \"#7201a8\"], [0.3333333333333333, \"#9c179e\"], [0.4444444444444444, \"#bd3786\"], [0.5555555555555556, \"#d8576b\"], [0.6666666666666666, \"#ed7953\"], [0.7777777777777778, \"#fb9f3a\"], [0.8888888888888888, \"#fdca26\"], [1.0, \"#f0f921\"]], \"type\": \"surface\"}], \"table\": [{\"cells\": {\"fill\": {\"color\": \"#EBF0F8\"}, \"line\": {\"color\": \"white\"}}, \"header\": {\"fill\": {\"color\": \"#C8D4E3\"}, \"line\": {\"color\": \"white\"}}, \"type\": \"table\"}]}, \"layout\": {\"annotationdefaults\": {\"arrowcolor\": \"#2a3f5f\", \"arrowhead\": 0, \"arrowwidth\": 1}, \"autotypenumbers\": \"strict\", \"coloraxis\": {\"colorbar\": {\"outlinewidth\": 0, \"ticks\": \"\"}}, \"colorscale\": {\"diverging\": [[0, \"#8e0152\"], [0.1, \"#c51b7d\"], [0.2, \"#de77ae\"], [0.3, \"#f1b6da\"], [0.4, \"#fde0ef\"], [0.5, \"#f7f7f7\"], [0.6, \"#e6f5d0\"], [0.7, \"#b8e186\"], [0.8, \"#7fbc41\"], [0.9, \"#4d9221\"], [1, \"#276419\"]], \"sequential\": [[0.0, \"#0d0887\"], [0.1111111111111111, \"#46039f\"], [0.2222222222222222, \"#7201a8\"], [0.3333333333333333, \"#9c179e\"], [0.4444444444444444, \"#bd3786\"], [0.5555555555555556, \"#d8576b\"], [0.6666666666666666, \"#ed7953\"], [0.7777777777777778, \"#fb9f3a\"], [0.8888888888888888, \"#fdca26\"], [1.0, \"#f0f921\"]], \"sequentialminus\": [[0.0, \"#0d0887\"], [0.1111111111111111, \"#46039f\"], [0.2222222222222222, \"#7201a8\"], [0.3333333333333333, \"#9c179e\"], [0.4444444444444444, \"#bd3786\"], [0.5555555555555556, \"#d8576b\"], [0.6666666666666666, \"#ed7953\"], [0.7777777777777778, \"#fb9f3a\"], [0.8888888888888888, \"#fdca26\"], [1.0, \"#f0f921\"]]}, \"colorway\": [\"#636efa\", \"#EF553B\", \"#00cc96\", \"#ab63fa\", \"#FFA15A\", \"#19d3f3\", \"#FF6692\", \"#B6E880\", \"#FF97FF\", \"#FECB52\"], \"font\": {\"color\": \"#2a3f5f\"}, \"geo\": {\"bgcolor\": \"white\", \"lakecolor\": \"white\", \"landcolor\": \"#E5ECF6\", \"showlakes\": true, \"showland\": true, \"subunitcolor\": \"white\"}, \"hoverlabel\": {\"align\": \"left\"}, \"hovermode\": \"closest\", \"mapbox\": {\"style\": \"light\"}, \"paper_bgcolor\": \"white\", \"plot_bgcolor\": \"#E5ECF6\", \"polar\": {\"angularaxis\": {\"gridcolor\": \"white\", \"linecolor\": \"white\", \"ticks\": \"\"}, \"bgcolor\": \"#E5ECF6\", \"radialaxis\": {\"gridcolor\": \"white\", \"linecolor\": \"white\", \"ticks\": \"\"}}, \"scene\": {\"xaxis\": {\"backgroundcolor\": \"#E5ECF6\", \"gridcolor\": \"white\", \"gridwidth\": 2, \"linecolor\": \"white\", \"showbackground\": true, \"ticks\": \"\", \"zerolinecolor\": \"white\"}, \"yaxis\": {\"backgroundcolor\": \"#E5ECF6\", \"gridcolor\": \"white\", \"gridwidth\": 2, \"linecolor\": \"white\", \"showbackground\": true, \"ticks\": \"\", \"zerolinecolor\": \"white\"}, \"zaxis\": {\"backgroundcolor\": \"#E5ECF6\", \"gridcolor\": \"white\", \"gridwidth\": 2, \"linecolor\": \"white\", \"showbackground\": true, \"ticks\": \"\", \"zerolinecolor\": \"white\"}}, \"shapedefaults\": {\"line\": {\"color\": \"#2a3f5f\"}}, \"ternary\": {\"aaxis\": {\"gridcolor\": \"white\", \"linecolor\": \"white\", \"ticks\": \"\"}, \"baxis\": {\"gridcolor\": \"white\", \"linecolor\": \"white\", \"ticks\": \"\"}, \"bgcolor\": \"#E5ECF6\", \"caxis\": {\"gridcolor\": \"white\", \"linecolor\": \"white\", \"ticks\": \"\"}}, \"title\": {\"x\": 0.05}, \"xaxis\": {\"automargin\": true, \"gridcolor\": \"white\", \"linecolor\": \"white\", \"ticks\": \"\", \"title\": {\"standoff\": 15}, \"zerolinecolor\": \"white\", \"zerolinewidth\": 2}, \"yaxis\": {\"automargin\": true, \"gridcolor\": \"white\", \"linecolor\": \"white\", \"ticks\": \"\", \"title\": {\"standoff\": 15}, \"zerolinecolor\": \"white\", \"zerolinewidth\": 2}}}, \"title\": {\"text\": \"Players similar to  \\\" K. De Bruyne \\\"\"}},                        {\"responsive\": true}                    ).then(function(){\n",
       "                            \n",
       "var gd = document.getElementById('dcfcf66c-26e2-4f66-a268-dc17530b4abe');\n",
       "var x = new MutationObserver(function (mutations, observer) {{\n",
       "        var display = window.getComputedStyle(gd).display;\n",
       "        if (!display || display === 'none') {{\n",
       "            console.log([gd, 'removed!']);\n",
       "            Plotly.purge(gd);\n",
       "            observer.disconnect();\n",
       "        }}\n",
       "}});\n",
       "\n",
       "// Listen for the removal of the full notebook cells\n",
       "var notebookContainer = gd.closest('#notebook-container');\n",
       "if (notebookContainer) {{\n",
       "    x.observe(notebookContainer, {childList: true});\n",
       "}}\n",
       "\n",
       "// Listen for the clearing of the current output cell\n",
       "var outputEl = gd.closest('.output');\n",
       "if (outputEl) {{\n",
       "    x.observe(outputEl, {childList: true});\n",
       "}}\n",
       "\n",
       "                        })                };                });            </script>        </div>"
      ]
     },
     "metadata": {},
     "output_type": "display_data"
    },
    {
     "data": {
      "text/html": [
       "<div>\n",
       "<style scoped>\n",
       "    .dataframe tbody tr th:only-of-type {\n",
       "        vertical-align: middle;\n",
       "    }\n",
       "\n",
       "    .dataframe tbody tr th {\n",
       "        vertical-align: top;\n",
       "    }\n",
       "\n",
       "    .dataframe thead th {\n",
       "        text-align: right;\n",
       "    }\n",
       "</style>\n",
       "<table border=\"1\" class=\"dataframe\">\n",
       "  <thead>\n",
       "    <tr style=\"text-align: right;\">\n",
       "      <th></th>\n",
       "      <th>Club</th>\n",
       "      <th>Name</th>\n",
       "      <th>Age</th>\n",
       "      <th>Nationality</th>\n",
       "      <th>Overall</th>\n",
       "      <th>Potential</th>\n",
       "      <th>Preferred Foot</th>\n",
       "      <th>Weak Foot</th>\n",
       "      <th>Wage</th>\n",
       "      <th>Value</th>\n",
       "    </tr>\n",
       "  </thead>\n",
       "  <tbody>\n",
       "    <tr>\n",
       "      <th>0</th>\n",
       "      <td>Sporting CP</td>\n",
       "      <td>Bruno Fernandes</td>\n",
       "      <td>23</td>\n",
       "      <td>Portugal</td>\n",
       "      <td>84</td>\n",
       "      <td>88</td>\n",
       "      <td>1</td>\n",
       "      <td>3</td>\n",
       "      <td>22000</td>\n",
       "      <td>4e+07</td>\n",
       "    </tr>\n",
       "    <tr>\n",
       "      <th>1</th>\n",
       "      <td>FC Bayern München</td>\n",
       "      <td>J. Rodríguez</td>\n",
       "      <td>26</td>\n",
       "      <td>Colombia</td>\n",
       "      <td>88</td>\n",
       "      <td>89</td>\n",
       "      <td>0</td>\n",
       "      <td>3</td>\n",
       "      <td>315000</td>\n",
       "      <td>7e+07</td>\n",
       "    </tr>\n",
       "    <tr>\n",
       "      <th>2</th>\n",
       "      <td>SL Benfica</td>\n",
       "      <td>Pizzi</td>\n",
       "      <td>28</td>\n",
       "      <td>Portugal</td>\n",
       "      <td>83</td>\n",
       "      <td>83</td>\n",
       "      <td>1</td>\n",
       "      <td>4</td>\n",
       "      <td>22000</td>\n",
       "      <td>3e+07</td>\n",
       "    </tr>\n",
       "    <tr>\n",
       "      <th>3</th>\n",
       "      <td>Atlético Madrid</td>\n",
       "      <td>Koke</td>\n",
       "      <td>26</td>\n",
       "      <td>Spain</td>\n",
       "      <td>85</td>\n",
       "      <td>86</td>\n",
       "      <td>1</td>\n",
       "      <td>4</td>\n",
       "      <td>88000</td>\n",
       "      <td>4e+07</td>\n",
       "    </tr>\n",
       "    <tr>\n",
       "      <th>4</th>\n",
       "      <td>Borussia Mönchengladbach</td>\n",
       "      <td>L. Stindl</td>\n",
       "      <td>29</td>\n",
       "      <td>Germany</td>\n",
       "      <td>81</td>\n",
       "      <td>81</td>\n",
       "      <td>1</td>\n",
       "      <td>4</td>\n",
       "      <td>43000</td>\n",
       "      <td>2e+07</td>\n",
       "    </tr>\n",
       "    <tr>\n",
       "      <th>5</th>\n",
       "      <td>FC Barcelona</td>\n",
       "      <td>Coutinho</td>\n",
       "      <td>26</td>\n",
       "      <td>Brazil</td>\n",
       "      <td>88</td>\n",
       "      <td>89</td>\n",
       "      <td>1</td>\n",
       "      <td>4</td>\n",
       "      <td>340000</td>\n",
       "      <td>7e+07</td>\n",
       "    </tr>\n",
       "    <tr>\n",
       "      <th>6</th>\n",
       "      <td>Milan</td>\n",
       "      <td>G. Bonaventura</td>\n",
       "      <td>28</td>\n",
       "      <td>Italy</td>\n",
       "      <td>82</td>\n",
       "      <td>82</td>\n",
       "      <td>1</td>\n",
       "      <td>3</td>\n",
       "      <td>115000</td>\n",
       "      <td>2e+07</td>\n",
       "    </tr>\n",
       "    <tr>\n",
       "      <th>7</th>\n",
       "      <td>Manchester United</td>\n",
       "      <td>P. Pogba</td>\n",
       "      <td>25</td>\n",
       "      <td>France</td>\n",
       "      <td>87</td>\n",
       "      <td>91</td>\n",
       "      <td>1</td>\n",
       "      <td>4</td>\n",
       "      <td>210000</td>\n",
       "      <td>6e+07</td>\n",
       "    </tr>\n",
       "    <tr>\n",
       "      <th>8</th>\n",
       "      <td>Guangzhou Evergrande Taobao FC</td>\n",
       "      <td>Anderson Talisca</td>\n",
       "      <td>24</td>\n",
       "      <td>Brazil</td>\n",
       "      <td>83</td>\n",
       "      <td>90</td>\n",
       "      <td>0</td>\n",
       "      <td>4</td>\n",
       "      <td>18000</td>\n",
       "      <td>4e+07</td>\n",
       "    </tr>\n",
       "    <tr>\n",
       "      <th>9</th>\n",
       "      <td>Atlético Madrid</td>\n",
       "      <td>T. Lemar</td>\n",
       "      <td>22</td>\n",
       "      <td>France</td>\n",
       "      <td>83</td>\n",
       "      <td>89</td>\n",
       "      <td>0</td>\n",
       "      <td>2</td>\n",
       "      <td>64000</td>\n",
       "      <td>4e+07</td>\n",
       "    </tr>\n",
       "  </tbody>\n",
       "</table>\n",
       "</div>"
      ],
      "text/plain": [
       "                             Club              Name  Age Nationality  Overall  \\\n",
       "0                     Sporting CP   Bruno Fernandes   23    Portugal       84   \n",
       "1               FC Bayern München      J. Rodríguez   26    Colombia       88   \n",
       "2                      SL Benfica             Pizzi   28    Portugal       83   \n",
       "3                 Atlético Madrid              Koke   26       Spain       85   \n",
       "4        Borussia Mönchengladbach         L. Stindl   29     Germany       81   \n",
       "5                    FC Barcelona          Coutinho   26      Brazil       88   \n",
       "6                           Milan    G. Bonaventura   28       Italy       82   \n",
       "7               Manchester United          P. Pogba   25      France       87   \n",
       "8  Guangzhou Evergrande Taobao FC  Anderson Talisca   24      Brazil       83   \n",
       "9                 Atlético Madrid          T. Lemar   22      France       83   \n",
       "\n",
       "   Potential  Preferred Foot  Weak Foot    Wage  Value  \n",
       "0         88               1          3   22000  4e+07  \n",
       "1         89               0          3  315000  7e+07  \n",
       "2         83               1          4   22000  3e+07  \n",
       "3         86               1          4   88000  4e+07  \n",
       "4         81               1          4   43000  2e+07  \n",
       "5         89               1          4  340000  7e+07  \n",
       "6         82               1          3  115000  2e+07  \n",
       "7         91               1          4  210000  6e+07  \n",
       "8         90               0          4   18000  4e+07  \n",
       "9         89               0          2   64000  4e+07  "
      ]
     },
     "metadata": {},
     "output_type": "display_data"
    }
   ],
   "source": [
    "player_scouter(similar_df, dist_df, 192985)"
   ]
  },
  {
   "cell_type": "code",
   "execution_count": 17,
   "metadata": {},
   "outputs": [
    {
     "data": {
      "application/vnd.plotly.v1+json": {
       "config": {
        "plotlyServerURL": "https://plot.ly"
       },
       "data": [
        {
         "orientation": "h",
         "type": "bar",
         "x": [
          0.02158330468674418,
          0.021718157060266682,
          0.02178126148103732,
          0.021946881566909007,
          0.02211083824807773,
          0.02469328756655741,
          0.025335204951550165,
          0.0254274766985515,
          0.026381546050324667,
          0.02782197575353467
         ],
         "y": [
          "Luiz Gustavo",
          "J. Guilavogui",
          "V. Lindelöf",
          "Thiago Silva",
          "V. Kompany",
          "M. de Ligt",
          "E. Dier",
          "J. Vertonghen",
          "L. Bonucci",
          "T. Alderweireld"
         ]
        }
       ],
       "layout": {
        "template": {
         "data": {
          "bar": [
           {
            "error_x": {
             "color": "#2a3f5f"
            },
            "error_y": {
             "color": "#2a3f5f"
            },
            "marker": {
             "line": {
              "color": "#E5ECF6",
              "width": 0.5
             }
            },
            "type": "bar"
           }
          ],
          "barpolar": [
           {
            "marker": {
             "line": {
              "color": "#E5ECF6",
              "width": 0.5
             }
            },
            "type": "barpolar"
           }
          ],
          "carpet": [
           {
            "aaxis": {
             "endlinecolor": "#2a3f5f",
             "gridcolor": "white",
             "linecolor": "white",
             "minorgridcolor": "white",
             "startlinecolor": "#2a3f5f"
            },
            "baxis": {
             "endlinecolor": "#2a3f5f",
             "gridcolor": "white",
             "linecolor": "white",
             "minorgridcolor": "white",
             "startlinecolor": "#2a3f5f"
            },
            "type": "carpet"
           }
          ],
          "choropleth": [
           {
            "colorbar": {
             "outlinewidth": 0,
             "ticks": ""
            },
            "type": "choropleth"
           }
          ],
          "contour": [
           {
            "colorbar": {
             "outlinewidth": 0,
             "ticks": ""
            },
            "colorscale": [
             [
              0,
              "#0d0887"
             ],
             [
              0.1111111111111111,
              "#46039f"
             ],
             [
              0.2222222222222222,
              "#7201a8"
             ],
             [
              0.3333333333333333,
              "#9c179e"
             ],
             [
              0.4444444444444444,
              "#bd3786"
             ],
             [
              0.5555555555555556,
              "#d8576b"
             ],
             [
              0.6666666666666666,
              "#ed7953"
             ],
             [
              0.7777777777777778,
              "#fb9f3a"
             ],
             [
              0.8888888888888888,
              "#fdca26"
             ],
             [
              1,
              "#f0f921"
             ]
            ],
            "type": "contour"
           }
          ],
          "contourcarpet": [
           {
            "colorbar": {
             "outlinewidth": 0,
             "ticks": ""
            },
            "type": "contourcarpet"
           }
          ],
          "heatmap": [
           {
            "colorbar": {
             "outlinewidth": 0,
             "ticks": ""
            },
            "colorscale": [
             [
              0,
              "#0d0887"
             ],
             [
              0.1111111111111111,
              "#46039f"
             ],
             [
              0.2222222222222222,
              "#7201a8"
             ],
             [
              0.3333333333333333,
              "#9c179e"
             ],
             [
              0.4444444444444444,
              "#bd3786"
             ],
             [
              0.5555555555555556,
              "#d8576b"
             ],
             [
              0.6666666666666666,
              "#ed7953"
             ],
             [
              0.7777777777777778,
              "#fb9f3a"
             ],
             [
              0.8888888888888888,
              "#fdca26"
             ],
             [
              1,
              "#f0f921"
             ]
            ],
            "type": "heatmap"
           }
          ],
          "heatmapgl": [
           {
            "colorbar": {
             "outlinewidth": 0,
             "ticks": ""
            },
            "colorscale": [
             [
              0,
              "#0d0887"
             ],
             [
              0.1111111111111111,
              "#46039f"
             ],
             [
              0.2222222222222222,
              "#7201a8"
             ],
             [
              0.3333333333333333,
              "#9c179e"
             ],
             [
              0.4444444444444444,
              "#bd3786"
             ],
             [
              0.5555555555555556,
              "#d8576b"
             ],
             [
              0.6666666666666666,
              "#ed7953"
             ],
             [
              0.7777777777777778,
              "#fb9f3a"
             ],
             [
              0.8888888888888888,
              "#fdca26"
             ],
             [
              1,
              "#f0f921"
             ]
            ],
            "type": "heatmapgl"
           }
          ],
          "histogram": [
           {
            "marker": {
             "colorbar": {
              "outlinewidth": 0,
              "ticks": ""
             }
            },
            "type": "histogram"
           }
          ],
          "histogram2d": [
           {
            "colorbar": {
             "outlinewidth": 0,
             "ticks": ""
            },
            "colorscale": [
             [
              0,
              "#0d0887"
             ],
             [
              0.1111111111111111,
              "#46039f"
             ],
             [
              0.2222222222222222,
              "#7201a8"
             ],
             [
              0.3333333333333333,
              "#9c179e"
             ],
             [
              0.4444444444444444,
              "#bd3786"
             ],
             [
              0.5555555555555556,
              "#d8576b"
             ],
             [
              0.6666666666666666,
              "#ed7953"
             ],
             [
              0.7777777777777778,
              "#fb9f3a"
             ],
             [
              0.8888888888888888,
              "#fdca26"
             ],
             [
              1,
              "#f0f921"
             ]
            ],
            "type": "histogram2d"
           }
          ],
          "histogram2dcontour": [
           {
            "colorbar": {
             "outlinewidth": 0,
             "ticks": ""
            },
            "colorscale": [
             [
              0,
              "#0d0887"
             ],
             [
              0.1111111111111111,
              "#46039f"
             ],
             [
              0.2222222222222222,
              "#7201a8"
             ],
             [
              0.3333333333333333,
              "#9c179e"
             ],
             [
              0.4444444444444444,
              "#bd3786"
             ],
             [
              0.5555555555555556,
              "#d8576b"
             ],
             [
              0.6666666666666666,
              "#ed7953"
             ],
             [
              0.7777777777777778,
              "#fb9f3a"
             ],
             [
              0.8888888888888888,
              "#fdca26"
             ],
             [
              1,
              "#f0f921"
             ]
            ],
            "type": "histogram2dcontour"
           }
          ],
          "mesh3d": [
           {
            "colorbar": {
             "outlinewidth": 0,
             "ticks": ""
            },
            "type": "mesh3d"
           }
          ],
          "parcoords": [
           {
            "line": {
             "colorbar": {
              "outlinewidth": 0,
              "ticks": ""
             }
            },
            "type": "parcoords"
           }
          ],
          "pie": [
           {
            "automargin": true,
            "type": "pie"
           }
          ],
          "scatter": [
           {
            "marker": {
             "colorbar": {
              "outlinewidth": 0,
              "ticks": ""
             }
            },
            "type": "scatter"
           }
          ],
          "scatter3d": [
           {
            "line": {
             "colorbar": {
              "outlinewidth": 0,
              "ticks": ""
             }
            },
            "marker": {
             "colorbar": {
              "outlinewidth": 0,
              "ticks": ""
             }
            },
            "type": "scatter3d"
           }
          ],
          "scattercarpet": [
           {
            "marker": {
             "colorbar": {
              "outlinewidth": 0,
              "ticks": ""
             }
            },
            "type": "scattercarpet"
           }
          ],
          "scattergeo": [
           {
            "marker": {
             "colorbar": {
              "outlinewidth": 0,
              "ticks": ""
             }
            },
            "type": "scattergeo"
           }
          ],
          "scattergl": [
           {
            "marker": {
             "colorbar": {
              "outlinewidth": 0,
              "ticks": ""
             }
            },
            "type": "scattergl"
           }
          ],
          "scattermapbox": [
           {
            "marker": {
             "colorbar": {
              "outlinewidth": 0,
              "ticks": ""
             }
            },
            "type": "scattermapbox"
           }
          ],
          "scatterpolar": [
           {
            "marker": {
             "colorbar": {
              "outlinewidth": 0,
              "ticks": ""
             }
            },
            "type": "scatterpolar"
           }
          ],
          "scatterpolargl": [
           {
            "marker": {
             "colorbar": {
              "outlinewidth": 0,
              "ticks": ""
             }
            },
            "type": "scatterpolargl"
           }
          ],
          "scatterternary": [
           {
            "marker": {
             "colorbar": {
              "outlinewidth": 0,
              "ticks": ""
             }
            },
            "type": "scatterternary"
           }
          ],
          "surface": [
           {
            "colorbar": {
             "outlinewidth": 0,
             "ticks": ""
            },
            "colorscale": [
             [
              0,
              "#0d0887"
             ],
             [
              0.1111111111111111,
              "#46039f"
             ],
             [
              0.2222222222222222,
              "#7201a8"
             ],
             [
              0.3333333333333333,
              "#9c179e"
             ],
             [
              0.4444444444444444,
              "#bd3786"
             ],
             [
              0.5555555555555556,
              "#d8576b"
             ],
             [
              0.6666666666666666,
              "#ed7953"
             ],
             [
              0.7777777777777778,
              "#fb9f3a"
             ],
             [
              0.8888888888888888,
              "#fdca26"
             ],
             [
              1,
              "#f0f921"
             ]
            ],
            "type": "surface"
           }
          ],
          "table": [
           {
            "cells": {
             "fill": {
              "color": "#EBF0F8"
             },
             "line": {
              "color": "white"
             }
            },
            "header": {
             "fill": {
              "color": "#C8D4E3"
             },
             "line": {
              "color": "white"
             }
            },
            "type": "table"
           }
          ]
         },
         "layout": {
          "annotationdefaults": {
           "arrowcolor": "#2a3f5f",
           "arrowhead": 0,
           "arrowwidth": 1
          },
          "autotypenumbers": "strict",
          "coloraxis": {
           "colorbar": {
            "outlinewidth": 0,
            "ticks": ""
           }
          },
          "colorscale": {
           "diverging": [
            [
             0,
             "#8e0152"
            ],
            [
             0.1,
             "#c51b7d"
            ],
            [
             0.2,
             "#de77ae"
            ],
            [
             0.3,
             "#f1b6da"
            ],
            [
             0.4,
             "#fde0ef"
            ],
            [
             0.5,
             "#f7f7f7"
            ],
            [
             0.6,
             "#e6f5d0"
            ],
            [
             0.7,
             "#b8e186"
            ],
            [
             0.8,
             "#7fbc41"
            ],
            [
             0.9,
             "#4d9221"
            ],
            [
             1,
             "#276419"
            ]
           ],
           "sequential": [
            [
             0,
             "#0d0887"
            ],
            [
             0.1111111111111111,
             "#46039f"
            ],
            [
             0.2222222222222222,
             "#7201a8"
            ],
            [
             0.3333333333333333,
             "#9c179e"
            ],
            [
             0.4444444444444444,
             "#bd3786"
            ],
            [
             0.5555555555555556,
             "#d8576b"
            ],
            [
             0.6666666666666666,
             "#ed7953"
            ],
            [
             0.7777777777777778,
             "#fb9f3a"
            ],
            [
             0.8888888888888888,
             "#fdca26"
            ],
            [
             1,
             "#f0f921"
            ]
           ],
           "sequentialminus": [
            [
             0,
             "#0d0887"
            ],
            [
             0.1111111111111111,
             "#46039f"
            ],
            [
             0.2222222222222222,
             "#7201a8"
            ],
            [
             0.3333333333333333,
             "#9c179e"
            ],
            [
             0.4444444444444444,
             "#bd3786"
            ],
            [
             0.5555555555555556,
             "#d8576b"
            ],
            [
             0.6666666666666666,
             "#ed7953"
            ],
            [
             0.7777777777777778,
             "#fb9f3a"
            ],
            [
             0.8888888888888888,
             "#fdca26"
            ],
            [
             1,
             "#f0f921"
            ]
           ]
          },
          "colorway": [
           "#636efa",
           "#EF553B",
           "#00cc96",
           "#ab63fa",
           "#FFA15A",
           "#19d3f3",
           "#FF6692",
           "#B6E880",
           "#FF97FF",
           "#FECB52"
          ],
          "font": {
           "color": "#2a3f5f"
          },
          "geo": {
           "bgcolor": "white",
           "lakecolor": "white",
           "landcolor": "#E5ECF6",
           "showlakes": true,
           "showland": true,
           "subunitcolor": "white"
          },
          "hoverlabel": {
           "align": "left"
          },
          "hovermode": "closest",
          "mapbox": {
           "style": "light"
          },
          "paper_bgcolor": "white",
          "plot_bgcolor": "#E5ECF6",
          "polar": {
           "angularaxis": {
            "gridcolor": "white",
            "linecolor": "white",
            "ticks": ""
           },
           "bgcolor": "#E5ECF6",
           "radialaxis": {
            "gridcolor": "white",
            "linecolor": "white",
            "ticks": ""
           }
          },
          "scene": {
           "xaxis": {
            "backgroundcolor": "#E5ECF6",
            "gridcolor": "white",
            "gridwidth": 2,
            "linecolor": "white",
            "showbackground": true,
            "ticks": "",
            "zerolinecolor": "white"
           },
           "yaxis": {
            "backgroundcolor": "#E5ECF6",
            "gridcolor": "white",
            "gridwidth": 2,
            "linecolor": "white",
            "showbackground": true,
            "ticks": "",
            "zerolinecolor": "white"
           },
           "zaxis": {
            "backgroundcolor": "#E5ECF6",
            "gridcolor": "white",
            "gridwidth": 2,
            "linecolor": "white",
            "showbackground": true,
            "ticks": "",
            "zerolinecolor": "white"
           }
          },
          "shapedefaults": {
           "line": {
            "color": "#2a3f5f"
           }
          },
          "ternary": {
           "aaxis": {
            "gridcolor": "white",
            "linecolor": "white",
            "ticks": ""
           },
           "baxis": {
            "gridcolor": "white",
            "linecolor": "white",
            "ticks": ""
           },
           "bgcolor": "#E5ECF6",
           "caxis": {
            "gridcolor": "white",
            "linecolor": "white",
            "ticks": ""
           }
          },
          "title": {
           "x": 0.05
          },
          "xaxis": {
           "automargin": true,
           "gridcolor": "white",
           "linecolor": "white",
           "ticks": "",
           "title": {
            "standoff": 15
           },
           "zerolinecolor": "white",
           "zerolinewidth": 2
          },
          "yaxis": {
           "automargin": true,
           "gridcolor": "white",
           "linecolor": "white",
           "ticks": "",
           "title": {
            "standoff": 15
           },
           "zerolinecolor": "white",
           "zerolinewidth": 2
          }
         }
        },
        "title": {
         "text": "Players similar to  \" V. van Dijk \""
        }
       }
      },
      "text/html": [
       "<div>                            <div id=\"022da1fb-0dae-4206-842b-de1fb71982eb\" class=\"plotly-graph-div\" style=\"height:525px; width:100%;\"></div>            <script type=\"text/javascript\">                require([\"plotly\"], function(Plotly) {                    window.PLOTLYENV=window.PLOTLYENV || {};                                    if (document.getElementById(\"022da1fb-0dae-4206-842b-de1fb71982eb\")) {                    Plotly.newPlot(                        \"022da1fb-0dae-4206-842b-de1fb71982eb\",                        [{\"orientation\": \"h\", \"type\": \"bar\", \"x\": [0.02158330468674418, 0.021718157060266682, 0.02178126148103732, 0.021946881566909007, 0.02211083824807773, 0.02469328756655741, 0.025335204951550165, 0.0254274766985515, 0.026381546050324667, 0.02782197575353467], \"y\": [\"Luiz Gustavo\", \"J. Guilavogui\", \"V. Lindel\\u00f6f\", \"Thiago Silva\", \"V. Kompany\", \"M. de Ligt\", \"E. Dier\", \"J. Vertonghen\", \"L. Bonucci\", \"T. Alderweireld\"]}],                        {\"template\": {\"data\": {\"bar\": [{\"error_x\": {\"color\": \"#2a3f5f\"}, \"error_y\": {\"color\": \"#2a3f5f\"}, \"marker\": {\"line\": {\"color\": \"#E5ECF6\", \"width\": 0.5}}, \"type\": \"bar\"}], \"barpolar\": [{\"marker\": {\"line\": {\"color\": \"#E5ECF6\", \"width\": 0.5}}, \"type\": \"barpolar\"}], \"carpet\": [{\"aaxis\": {\"endlinecolor\": \"#2a3f5f\", \"gridcolor\": \"white\", \"linecolor\": \"white\", \"minorgridcolor\": \"white\", \"startlinecolor\": \"#2a3f5f\"}, \"baxis\": {\"endlinecolor\": \"#2a3f5f\", \"gridcolor\": \"white\", \"linecolor\": \"white\", \"minorgridcolor\": \"white\", \"startlinecolor\": \"#2a3f5f\"}, \"type\": \"carpet\"}], \"choropleth\": [{\"colorbar\": {\"outlinewidth\": 0, \"ticks\": \"\"}, \"type\": \"choropleth\"}], \"contour\": [{\"colorbar\": {\"outlinewidth\": 0, \"ticks\": \"\"}, \"colorscale\": [[0.0, \"#0d0887\"], [0.1111111111111111, \"#46039f\"], [0.2222222222222222, \"#7201a8\"], [0.3333333333333333, \"#9c179e\"], [0.4444444444444444, \"#bd3786\"], [0.5555555555555556, \"#d8576b\"], [0.6666666666666666, \"#ed7953\"], [0.7777777777777778, \"#fb9f3a\"], [0.8888888888888888, \"#fdca26\"], [1.0, \"#f0f921\"]], \"type\": \"contour\"}], \"contourcarpet\": [{\"colorbar\": {\"outlinewidth\": 0, \"ticks\": \"\"}, \"type\": \"contourcarpet\"}], \"heatmap\": [{\"colorbar\": {\"outlinewidth\": 0, \"ticks\": \"\"}, \"colorscale\": [[0.0, \"#0d0887\"], [0.1111111111111111, \"#46039f\"], [0.2222222222222222, \"#7201a8\"], [0.3333333333333333, \"#9c179e\"], [0.4444444444444444, \"#bd3786\"], [0.5555555555555556, \"#d8576b\"], [0.6666666666666666, \"#ed7953\"], [0.7777777777777778, \"#fb9f3a\"], [0.8888888888888888, \"#fdca26\"], [1.0, \"#f0f921\"]], \"type\": \"heatmap\"}], \"heatmapgl\": [{\"colorbar\": {\"outlinewidth\": 0, \"ticks\": \"\"}, \"colorscale\": [[0.0, \"#0d0887\"], [0.1111111111111111, \"#46039f\"], [0.2222222222222222, \"#7201a8\"], [0.3333333333333333, \"#9c179e\"], [0.4444444444444444, \"#bd3786\"], [0.5555555555555556, \"#d8576b\"], [0.6666666666666666, \"#ed7953\"], [0.7777777777777778, \"#fb9f3a\"], [0.8888888888888888, \"#fdca26\"], [1.0, \"#f0f921\"]], \"type\": \"heatmapgl\"}], \"histogram\": [{\"marker\": {\"colorbar\": {\"outlinewidth\": 0, \"ticks\": \"\"}}, \"type\": \"histogram\"}], \"histogram2d\": [{\"colorbar\": {\"outlinewidth\": 0, \"ticks\": \"\"}, \"colorscale\": [[0.0, \"#0d0887\"], [0.1111111111111111, \"#46039f\"], [0.2222222222222222, \"#7201a8\"], [0.3333333333333333, \"#9c179e\"], [0.4444444444444444, \"#bd3786\"], [0.5555555555555556, \"#d8576b\"], [0.6666666666666666, \"#ed7953\"], [0.7777777777777778, \"#fb9f3a\"], [0.8888888888888888, \"#fdca26\"], [1.0, \"#f0f921\"]], \"type\": \"histogram2d\"}], \"histogram2dcontour\": [{\"colorbar\": {\"outlinewidth\": 0, \"ticks\": \"\"}, \"colorscale\": [[0.0, \"#0d0887\"], [0.1111111111111111, \"#46039f\"], [0.2222222222222222, \"#7201a8\"], [0.3333333333333333, \"#9c179e\"], [0.4444444444444444, \"#bd3786\"], [0.5555555555555556, \"#d8576b\"], [0.6666666666666666, \"#ed7953\"], [0.7777777777777778, \"#fb9f3a\"], [0.8888888888888888, \"#fdca26\"], [1.0, \"#f0f921\"]], \"type\": \"histogram2dcontour\"}], \"mesh3d\": [{\"colorbar\": {\"outlinewidth\": 0, \"ticks\": \"\"}, \"type\": \"mesh3d\"}], \"parcoords\": [{\"line\": {\"colorbar\": {\"outlinewidth\": 0, \"ticks\": \"\"}}, \"type\": \"parcoords\"}], \"pie\": [{\"automargin\": true, \"type\": \"pie\"}], \"scatter\": [{\"marker\": {\"colorbar\": {\"outlinewidth\": 0, \"ticks\": \"\"}}, \"type\": \"scatter\"}], \"scatter3d\": [{\"line\": {\"colorbar\": {\"outlinewidth\": 0, \"ticks\": \"\"}}, \"marker\": {\"colorbar\": {\"outlinewidth\": 0, \"ticks\": \"\"}}, \"type\": \"scatter3d\"}], \"scattercarpet\": [{\"marker\": {\"colorbar\": {\"outlinewidth\": 0, \"ticks\": \"\"}}, \"type\": \"scattercarpet\"}], \"scattergeo\": [{\"marker\": {\"colorbar\": {\"outlinewidth\": 0, \"ticks\": \"\"}}, \"type\": \"scattergeo\"}], \"scattergl\": [{\"marker\": {\"colorbar\": {\"outlinewidth\": 0, \"ticks\": \"\"}}, \"type\": \"scattergl\"}], \"scattermapbox\": [{\"marker\": {\"colorbar\": {\"outlinewidth\": 0, \"ticks\": \"\"}}, \"type\": \"scattermapbox\"}], \"scatterpolar\": [{\"marker\": {\"colorbar\": {\"outlinewidth\": 0, \"ticks\": \"\"}}, \"type\": \"scatterpolar\"}], \"scatterpolargl\": [{\"marker\": {\"colorbar\": {\"outlinewidth\": 0, \"ticks\": \"\"}}, \"type\": \"scatterpolargl\"}], \"scatterternary\": [{\"marker\": {\"colorbar\": {\"outlinewidth\": 0, \"ticks\": \"\"}}, \"type\": \"scatterternary\"}], \"surface\": [{\"colorbar\": {\"outlinewidth\": 0, \"ticks\": \"\"}, \"colorscale\": [[0.0, \"#0d0887\"], [0.1111111111111111, \"#46039f\"], [0.2222222222222222, \"#7201a8\"], [0.3333333333333333, \"#9c179e\"], [0.4444444444444444, \"#bd3786\"], [0.5555555555555556, \"#d8576b\"], [0.6666666666666666, \"#ed7953\"], [0.7777777777777778, \"#fb9f3a\"], [0.8888888888888888, \"#fdca26\"], [1.0, \"#f0f921\"]], \"type\": \"surface\"}], \"table\": [{\"cells\": {\"fill\": {\"color\": \"#EBF0F8\"}, \"line\": {\"color\": \"white\"}}, \"header\": {\"fill\": {\"color\": \"#C8D4E3\"}, \"line\": {\"color\": \"white\"}}, \"type\": \"table\"}]}, \"layout\": {\"annotationdefaults\": {\"arrowcolor\": \"#2a3f5f\", \"arrowhead\": 0, \"arrowwidth\": 1}, \"autotypenumbers\": \"strict\", \"coloraxis\": {\"colorbar\": {\"outlinewidth\": 0, \"ticks\": \"\"}}, \"colorscale\": {\"diverging\": [[0, \"#8e0152\"], [0.1, \"#c51b7d\"], [0.2, \"#de77ae\"], [0.3, \"#f1b6da\"], [0.4, \"#fde0ef\"], [0.5, \"#f7f7f7\"], [0.6, \"#e6f5d0\"], [0.7, \"#b8e186\"], [0.8, \"#7fbc41\"], [0.9, \"#4d9221\"], [1, \"#276419\"]], \"sequential\": [[0.0, \"#0d0887\"], [0.1111111111111111, \"#46039f\"], [0.2222222222222222, \"#7201a8\"], [0.3333333333333333, \"#9c179e\"], [0.4444444444444444, \"#bd3786\"], [0.5555555555555556, \"#d8576b\"], [0.6666666666666666, \"#ed7953\"], [0.7777777777777778, \"#fb9f3a\"], [0.8888888888888888, \"#fdca26\"], [1.0, \"#f0f921\"]], \"sequentialminus\": [[0.0, \"#0d0887\"], [0.1111111111111111, \"#46039f\"], [0.2222222222222222, \"#7201a8\"], [0.3333333333333333, \"#9c179e\"], [0.4444444444444444, \"#bd3786\"], [0.5555555555555556, \"#d8576b\"], [0.6666666666666666, \"#ed7953\"], [0.7777777777777778, \"#fb9f3a\"], [0.8888888888888888, \"#fdca26\"], [1.0, \"#f0f921\"]]}, \"colorway\": [\"#636efa\", \"#EF553B\", \"#00cc96\", \"#ab63fa\", \"#FFA15A\", \"#19d3f3\", \"#FF6692\", \"#B6E880\", \"#FF97FF\", \"#FECB52\"], \"font\": {\"color\": \"#2a3f5f\"}, \"geo\": {\"bgcolor\": \"white\", \"lakecolor\": \"white\", \"landcolor\": \"#E5ECF6\", \"showlakes\": true, \"showland\": true, \"subunitcolor\": \"white\"}, \"hoverlabel\": {\"align\": \"left\"}, \"hovermode\": \"closest\", \"mapbox\": {\"style\": \"light\"}, \"paper_bgcolor\": \"white\", \"plot_bgcolor\": \"#E5ECF6\", \"polar\": {\"angularaxis\": {\"gridcolor\": \"white\", \"linecolor\": \"white\", \"ticks\": \"\"}, \"bgcolor\": \"#E5ECF6\", \"radialaxis\": {\"gridcolor\": \"white\", \"linecolor\": \"white\", \"ticks\": \"\"}}, \"scene\": {\"xaxis\": {\"backgroundcolor\": \"#E5ECF6\", \"gridcolor\": \"white\", \"gridwidth\": 2, \"linecolor\": \"white\", \"showbackground\": true, \"ticks\": \"\", \"zerolinecolor\": \"white\"}, \"yaxis\": {\"backgroundcolor\": \"#E5ECF6\", \"gridcolor\": \"white\", \"gridwidth\": 2, \"linecolor\": \"white\", \"showbackground\": true, \"ticks\": \"\", \"zerolinecolor\": \"white\"}, \"zaxis\": {\"backgroundcolor\": \"#E5ECF6\", \"gridcolor\": \"white\", \"gridwidth\": 2, \"linecolor\": \"white\", \"showbackground\": true, \"ticks\": \"\", \"zerolinecolor\": \"white\"}}, \"shapedefaults\": {\"line\": {\"color\": \"#2a3f5f\"}}, \"ternary\": {\"aaxis\": {\"gridcolor\": \"white\", \"linecolor\": \"white\", \"ticks\": \"\"}, \"baxis\": {\"gridcolor\": \"white\", \"linecolor\": \"white\", \"ticks\": \"\"}, \"bgcolor\": \"#E5ECF6\", \"caxis\": {\"gridcolor\": \"white\", \"linecolor\": \"white\", \"ticks\": \"\"}}, \"title\": {\"x\": 0.05}, \"xaxis\": {\"automargin\": true, \"gridcolor\": \"white\", \"linecolor\": \"white\", \"ticks\": \"\", \"title\": {\"standoff\": 15}, \"zerolinecolor\": \"white\", \"zerolinewidth\": 2}, \"yaxis\": {\"automargin\": true, \"gridcolor\": \"white\", \"linecolor\": \"white\", \"ticks\": \"\", \"title\": {\"standoff\": 15}, \"zerolinecolor\": \"white\", \"zerolinewidth\": 2}}}, \"title\": {\"text\": \"Players similar to  \\\" V. van Dijk \\\"\"}},                        {\"responsive\": true}                    ).then(function(){\n",
       "                            \n",
       "var gd = document.getElementById('022da1fb-0dae-4206-842b-de1fb71982eb');\n",
       "var x = new MutationObserver(function (mutations, observer) {{\n",
       "        var display = window.getComputedStyle(gd).display;\n",
       "        if (!display || display === 'none') {{\n",
       "            console.log([gd, 'removed!']);\n",
       "            Plotly.purge(gd);\n",
       "            observer.disconnect();\n",
       "        }}\n",
       "}});\n",
       "\n",
       "// Listen for the removal of the full notebook cells\n",
       "var notebookContainer = gd.closest('#notebook-container');\n",
       "if (notebookContainer) {{\n",
       "    x.observe(notebookContainer, {childList: true});\n",
       "}}\n",
       "\n",
       "// Listen for the clearing of the current output cell\n",
       "var outputEl = gd.closest('.output');\n",
       "if (outputEl) {{\n",
       "    x.observe(outputEl, {childList: true});\n",
       "}}\n",
       "\n",
       "                        })                };                });            </script>        </div>"
      ]
     },
     "metadata": {},
     "output_type": "display_data"
    },
    {
     "data": {
      "text/html": [
       "<div>\n",
       "<style scoped>\n",
       "    .dataframe tbody tr th:only-of-type {\n",
       "        vertical-align: middle;\n",
       "    }\n",
       "\n",
       "    .dataframe tbody tr th {\n",
       "        vertical-align: top;\n",
       "    }\n",
       "\n",
       "    .dataframe thead th {\n",
       "        text-align: right;\n",
       "    }\n",
       "</style>\n",
       "<table border=\"1\" class=\"dataframe\">\n",
       "  <thead>\n",
       "    <tr style=\"text-align: right;\">\n",
       "      <th></th>\n",
       "      <th>Club</th>\n",
       "      <th>Name</th>\n",
       "      <th>Age</th>\n",
       "      <th>Nationality</th>\n",
       "      <th>Overall</th>\n",
       "      <th>Potential</th>\n",
       "      <th>Preferred Foot</th>\n",
       "      <th>Weak Foot</th>\n",
       "      <th>Wage</th>\n",
       "      <th>Value</th>\n",
       "    </tr>\n",
       "  </thead>\n",
       "  <tbody>\n",
       "    <tr>\n",
       "      <th>0</th>\n",
       "      <td>Tottenham Hotspur</td>\n",
       "      <td>T. Alderweireld</td>\n",
       "      <td>29</td>\n",
       "      <td>Belgium</td>\n",
       "      <td>86</td>\n",
       "      <td>87</td>\n",
       "      <td>1</td>\n",
       "      <td>3</td>\n",
       "      <td>150000</td>\n",
       "      <td>4e+07</td>\n",
       "    </tr>\n",
       "    <tr>\n",
       "      <th>1</th>\n",
       "      <td>Juventus</td>\n",
       "      <td>L. Bonucci</td>\n",
       "      <td>31</td>\n",
       "      <td>Italy</td>\n",
       "      <td>86</td>\n",
       "      <td>86</td>\n",
       "      <td>1</td>\n",
       "      <td>3</td>\n",
       "      <td>160000</td>\n",
       "      <td>3e+07</td>\n",
       "    </tr>\n",
       "    <tr>\n",
       "      <th>2</th>\n",
       "      <td>Tottenham Hotspur</td>\n",
       "      <td>J. Vertonghen</td>\n",
       "      <td>31</td>\n",
       "      <td>Belgium</td>\n",
       "      <td>87</td>\n",
       "      <td>87</td>\n",
       "      <td>0</td>\n",
       "      <td>3</td>\n",
       "      <td>155000</td>\n",
       "      <td>3e+07</td>\n",
       "    </tr>\n",
       "    <tr>\n",
       "      <th>3</th>\n",
       "      <td>Tottenham Hotspur</td>\n",
       "      <td>E. Dier</td>\n",
       "      <td>24</td>\n",
       "      <td>England</td>\n",
       "      <td>80</td>\n",
       "      <td>84</td>\n",
       "      <td>1</td>\n",
       "      <td>3</td>\n",
       "      <td>73000</td>\n",
       "      <td>2e+07</td>\n",
       "    </tr>\n",
       "    <tr>\n",
       "      <th>4</th>\n",
       "      <td>Ajax</td>\n",
       "      <td>M. de Ligt</td>\n",
       "      <td>18</td>\n",
       "      <td>Netherlands</td>\n",
       "      <td>82</td>\n",
       "      <td>91</td>\n",
       "      <td>1</td>\n",
       "      <td>4</td>\n",
       "      <td>11000</td>\n",
       "      <td>3e+07</td>\n",
       "    </tr>\n",
       "    <tr>\n",
       "      <th>5</th>\n",
       "      <td>Manchester City</td>\n",
       "      <td>V. Kompany</td>\n",
       "      <td>32</td>\n",
       "      <td>Belgium</td>\n",
       "      <td>85</td>\n",
       "      <td>85</td>\n",
       "      <td>1</td>\n",
       "      <td>3</td>\n",
       "      <td>170000</td>\n",
       "      <td>2e+07</td>\n",
       "    </tr>\n",
       "    <tr>\n",
       "      <th>6</th>\n",
       "      <td>Paris Saint-Germain</td>\n",
       "      <td>Thiago Silva</td>\n",
       "      <td>33</td>\n",
       "      <td>Brazil</td>\n",
       "      <td>88</td>\n",
       "      <td>88</td>\n",
       "      <td>1</td>\n",
       "      <td>3</td>\n",
       "      <td>165000</td>\n",
       "      <td>2e+07</td>\n",
       "    </tr>\n",
       "    <tr>\n",
       "      <th>7</th>\n",
       "      <td>Manchester United</td>\n",
       "      <td>V. Lindelöf</td>\n",
       "      <td>23</td>\n",
       "      <td>Sweden</td>\n",
       "      <td>79</td>\n",
       "      <td>85</td>\n",
       "      <td>1</td>\n",
       "      <td>3</td>\n",
       "      <td>91000</td>\n",
       "      <td>1e+07</td>\n",
       "    </tr>\n",
       "    <tr>\n",
       "      <th>8</th>\n",
       "      <td>VfL Wolfsburg</td>\n",
       "      <td>J. Guilavogui</td>\n",
       "      <td>27</td>\n",
       "      <td>France</td>\n",
       "      <td>79</td>\n",
       "      <td>80</td>\n",
       "      <td>1</td>\n",
       "      <td>3</td>\n",
       "      <td>46000</td>\n",
       "      <td>1e+07</td>\n",
       "    </tr>\n",
       "    <tr>\n",
       "      <th>9</th>\n",
       "      <td>Olympique de Marseille</td>\n",
       "      <td>Luiz Gustavo</td>\n",
       "      <td>30</td>\n",
       "      <td>Brazil</td>\n",
       "      <td>83</td>\n",
       "      <td>83</td>\n",
       "      <td>0</td>\n",
       "      <td>3</td>\n",
       "      <td>63000</td>\n",
       "      <td>2e+07</td>\n",
       "    </tr>\n",
       "  </tbody>\n",
       "</table>\n",
       "</div>"
      ],
      "text/plain": [
       "                     Club             Name  Age  Nationality  Overall  \\\n",
       "0       Tottenham Hotspur  T. Alderweireld   29      Belgium       86   \n",
       "1                Juventus       L. Bonucci   31        Italy       86   \n",
       "2       Tottenham Hotspur    J. Vertonghen   31      Belgium       87   \n",
       "3       Tottenham Hotspur          E. Dier   24      England       80   \n",
       "4                    Ajax       M. de Ligt   18  Netherlands       82   \n",
       "5         Manchester City       V. Kompany   32      Belgium       85   \n",
       "6     Paris Saint-Germain     Thiago Silva   33       Brazil       88   \n",
       "7       Manchester United      V. Lindelöf   23       Sweden       79   \n",
       "8           VfL Wolfsburg    J. Guilavogui   27       France       79   \n",
       "9  Olympique de Marseille     Luiz Gustavo   30       Brazil       83   \n",
       "\n",
       "   Potential  Preferred Foot  Weak Foot    Wage  Value  \n",
       "0         87               1          3  150000  4e+07  \n",
       "1         86               1          3  160000  3e+07  \n",
       "2         87               0          3  155000  3e+07  \n",
       "3         84               1          3   73000  2e+07  \n",
       "4         91               1          4   11000  3e+07  \n",
       "5         85               1          3  170000  2e+07  \n",
       "6         88               1          3  165000  2e+07  \n",
       "7         85               1          3   91000  1e+07  \n",
       "8         80               1          3   46000  1e+07  \n",
       "9         83               0          3   63000  2e+07  "
      ]
     },
     "metadata": {},
     "output_type": "display_data"
    }
   ],
   "source": [
    "player_scouter(similar_df, dist_df, 203376)"
   ]
  },
  {
   "cell_type": "code",
   "execution_count": 18,
   "metadata": {},
   "outputs": [
    {
     "data": {
      "application/vnd.plotly.v1+json": {
       "config": {
        "plotlyServerURL": "https://plot.ly"
       },
       "data": [
        {
         "orientation": "h",
         "type": "bar",
         "x": [
          0.021718157060266682,
          0.02185558841218806,
          0.022404019158456575,
          0.023477888193274055,
          0.023809523809523808,
          0.024126909377561692,
          0.025235691369319874,
          0.027232268391359612,
          0.03195039783542665,
          0.033371714458138996
         ],
         "y": [
          "J. Cillessen",
          "J. Zoet",
          "C. Bravo",
          "Fabricio",
          "M. Ryan",
          "K. Vermeer",
          "Ederson",
          "M. Neuer",
          "K. Schmeichel",
          "J. Pickford"
         ]
        }
       ],
       "layout": {
        "template": {
         "data": {
          "bar": [
           {
            "error_x": {
             "color": "#2a3f5f"
            },
            "error_y": {
             "color": "#2a3f5f"
            },
            "marker": {
             "line": {
              "color": "#E5ECF6",
              "width": 0.5
             }
            },
            "type": "bar"
           }
          ],
          "barpolar": [
           {
            "marker": {
             "line": {
              "color": "#E5ECF6",
              "width": 0.5
             }
            },
            "type": "barpolar"
           }
          ],
          "carpet": [
           {
            "aaxis": {
             "endlinecolor": "#2a3f5f",
             "gridcolor": "white",
             "linecolor": "white",
             "minorgridcolor": "white",
             "startlinecolor": "#2a3f5f"
            },
            "baxis": {
             "endlinecolor": "#2a3f5f",
             "gridcolor": "white",
             "linecolor": "white",
             "minorgridcolor": "white",
             "startlinecolor": "#2a3f5f"
            },
            "type": "carpet"
           }
          ],
          "choropleth": [
           {
            "colorbar": {
             "outlinewidth": 0,
             "ticks": ""
            },
            "type": "choropleth"
           }
          ],
          "contour": [
           {
            "colorbar": {
             "outlinewidth": 0,
             "ticks": ""
            },
            "colorscale": [
             [
              0,
              "#0d0887"
             ],
             [
              0.1111111111111111,
              "#46039f"
             ],
             [
              0.2222222222222222,
              "#7201a8"
             ],
             [
              0.3333333333333333,
              "#9c179e"
             ],
             [
              0.4444444444444444,
              "#bd3786"
             ],
             [
              0.5555555555555556,
              "#d8576b"
             ],
             [
              0.6666666666666666,
              "#ed7953"
             ],
             [
              0.7777777777777778,
              "#fb9f3a"
             ],
             [
              0.8888888888888888,
              "#fdca26"
             ],
             [
              1,
              "#f0f921"
             ]
            ],
            "type": "contour"
           }
          ],
          "contourcarpet": [
           {
            "colorbar": {
             "outlinewidth": 0,
             "ticks": ""
            },
            "type": "contourcarpet"
           }
          ],
          "heatmap": [
           {
            "colorbar": {
             "outlinewidth": 0,
             "ticks": ""
            },
            "colorscale": [
             [
              0,
              "#0d0887"
             ],
             [
              0.1111111111111111,
              "#46039f"
             ],
             [
              0.2222222222222222,
              "#7201a8"
             ],
             [
              0.3333333333333333,
              "#9c179e"
             ],
             [
              0.4444444444444444,
              "#bd3786"
             ],
             [
              0.5555555555555556,
              "#d8576b"
             ],
             [
              0.6666666666666666,
              "#ed7953"
             ],
             [
              0.7777777777777778,
              "#fb9f3a"
             ],
             [
              0.8888888888888888,
              "#fdca26"
             ],
             [
              1,
              "#f0f921"
             ]
            ],
            "type": "heatmap"
           }
          ],
          "heatmapgl": [
           {
            "colorbar": {
             "outlinewidth": 0,
             "ticks": ""
            },
            "colorscale": [
             [
              0,
              "#0d0887"
             ],
             [
              0.1111111111111111,
              "#46039f"
             ],
             [
              0.2222222222222222,
              "#7201a8"
             ],
             [
              0.3333333333333333,
              "#9c179e"
             ],
             [
              0.4444444444444444,
              "#bd3786"
             ],
             [
              0.5555555555555556,
              "#d8576b"
             ],
             [
              0.6666666666666666,
              "#ed7953"
             ],
             [
              0.7777777777777778,
              "#fb9f3a"
             ],
             [
              0.8888888888888888,
              "#fdca26"
             ],
             [
              1,
              "#f0f921"
             ]
            ],
            "type": "heatmapgl"
           }
          ],
          "histogram": [
           {
            "marker": {
             "colorbar": {
              "outlinewidth": 0,
              "ticks": ""
             }
            },
            "type": "histogram"
           }
          ],
          "histogram2d": [
           {
            "colorbar": {
             "outlinewidth": 0,
             "ticks": ""
            },
            "colorscale": [
             [
              0,
              "#0d0887"
             ],
             [
              0.1111111111111111,
              "#46039f"
             ],
             [
              0.2222222222222222,
              "#7201a8"
             ],
             [
              0.3333333333333333,
              "#9c179e"
             ],
             [
              0.4444444444444444,
              "#bd3786"
             ],
             [
              0.5555555555555556,
              "#d8576b"
             ],
             [
              0.6666666666666666,
              "#ed7953"
             ],
             [
              0.7777777777777778,
              "#fb9f3a"
             ],
             [
              0.8888888888888888,
              "#fdca26"
             ],
             [
              1,
              "#f0f921"
             ]
            ],
            "type": "histogram2d"
           }
          ],
          "histogram2dcontour": [
           {
            "colorbar": {
             "outlinewidth": 0,
             "ticks": ""
            },
            "colorscale": [
             [
              0,
              "#0d0887"
             ],
             [
              0.1111111111111111,
              "#46039f"
             ],
             [
              0.2222222222222222,
              "#7201a8"
             ],
             [
              0.3333333333333333,
              "#9c179e"
             ],
             [
              0.4444444444444444,
              "#bd3786"
             ],
             [
              0.5555555555555556,
              "#d8576b"
             ],
             [
              0.6666666666666666,
              "#ed7953"
             ],
             [
              0.7777777777777778,
              "#fb9f3a"
             ],
             [
              0.8888888888888888,
              "#fdca26"
             ],
             [
              1,
              "#f0f921"
             ]
            ],
            "type": "histogram2dcontour"
           }
          ],
          "mesh3d": [
           {
            "colorbar": {
             "outlinewidth": 0,
             "ticks": ""
            },
            "type": "mesh3d"
           }
          ],
          "parcoords": [
           {
            "line": {
             "colorbar": {
              "outlinewidth": 0,
              "ticks": ""
             }
            },
            "type": "parcoords"
           }
          ],
          "pie": [
           {
            "automargin": true,
            "type": "pie"
           }
          ],
          "scatter": [
           {
            "marker": {
             "colorbar": {
              "outlinewidth": 0,
              "ticks": ""
             }
            },
            "type": "scatter"
           }
          ],
          "scatter3d": [
           {
            "line": {
             "colorbar": {
              "outlinewidth": 0,
              "ticks": ""
             }
            },
            "marker": {
             "colorbar": {
              "outlinewidth": 0,
              "ticks": ""
             }
            },
            "type": "scatter3d"
           }
          ],
          "scattercarpet": [
           {
            "marker": {
             "colorbar": {
              "outlinewidth": 0,
              "ticks": ""
             }
            },
            "type": "scattercarpet"
           }
          ],
          "scattergeo": [
           {
            "marker": {
             "colorbar": {
              "outlinewidth": 0,
              "ticks": ""
             }
            },
            "type": "scattergeo"
           }
          ],
          "scattergl": [
           {
            "marker": {
             "colorbar": {
              "outlinewidth": 0,
              "ticks": ""
             }
            },
            "type": "scattergl"
           }
          ],
          "scattermapbox": [
           {
            "marker": {
             "colorbar": {
              "outlinewidth": 0,
              "ticks": ""
             }
            },
            "type": "scattermapbox"
           }
          ],
          "scatterpolar": [
           {
            "marker": {
             "colorbar": {
              "outlinewidth": 0,
              "ticks": ""
             }
            },
            "type": "scatterpolar"
           }
          ],
          "scatterpolargl": [
           {
            "marker": {
             "colorbar": {
              "outlinewidth": 0,
              "ticks": ""
             }
            },
            "type": "scatterpolargl"
           }
          ],
          "scatterternary": [
           {
            "marker": {
             "colorbar": {
              "outlinewidth": 0,
              "ticks": ""
             }
            },
            "type": "scatterternary"
           }
          ],
          "surface": [
           {
            "colorbar": {
             "outlinewidth": 0,
             "ticks": ""
            },
            "colorscale": [
             [
              0,
              "#0d0887"
             ],
             [
              0.1111111111111111,
              "#46039f"
             ],
             [
              0.2222222222222222,
              "#7201a8"
             ],
             [
              0.3333333333333333,
              "#9c179e"
             ],
             [
              0.4444444444444444,
              "#bd3786"
             ],
             [
              0.5555555555555556,
              "#d8576b"
             ],
             [
              0.6666666666666666,
              "#ed7953"
             ],
             [
              0.7777777777777778,
              "#fb9f3a"
             ],
             [
              0.8888888888888888,
              "#fdca26"
             ],
             [
              1,
              "#f0f921"
             ]
            ],
            "type": "surface"
           }
          ],
          "table": [
           {
            "cells": {
             "fill": {
              "color": "#EBF0F8"
             },
             "line": {
              "color": "white"
             }
            },
            "header": {
             "fill": {
              "color": "#C8D4E3"
             },
             "line": {
              "color": "white"
             }
            },
            "type": "table"
           }
          ]
         },
         "layout": {
          "annotationdefaults": {
           "arrowcolor": "#2a3f5f",
           "arrowhead": 0,
           "arrowwidth": 1
          },
          "autotypenumbers": "strict",
          "coloraxis": {
           "colorbar": {
            "outlinewidth": 0,
            "ticks": ""
           }
          },
          "colorscale": {
           "diverging": [
            [
             0,
             "#8e0152"
            ],
            [
             0.1,
             "#c51b7d"
            ],
            [
             0.2,
             "#de77ae"
            ],
            [
             0.3,
             "#f1b6da"
            ],
            [
             0.4,
             "#fde0ef"
            ],
            [
             0.5,
             "#f7f7f7"
            ],
            [
             0.6,
             "#e6f5d0"
            ],
            [
             0.7,
             "#b8e186"
            ],
            [
             0.8,
             "#7fbc41"
            ],
            [
             0.9,
             "#4d9221"
            ],
            [
             1,
             "#276419"
            ]
           ],
           "sequential": [
            [
             0,
             "#0d0887"
            ],
            [
             0.1111111111111111,
             "#46039f"
            ],
            [
             0.2222222222222222,
             "#7201a8"
            ],
            [
             0.3333333333333333,
             "#9c179e"
            ],
            [
             0.4444444444444444,
             "#bd3786"
            ],
            [
             0.5555555555555556,
             "#d8576b"
            ],
            [
             0.6666666666666666,
             "#ed7953"
            ],
            [
             0.7777777777777778,
             "#fb9f3a"
            ],
            [
             0.8888888888888888,
             "#fdca26"
            ],
            [
             1,
             "#f0f921"
            ]
           ],
           "sequentialminus": [
            [
             0,
             "#0d0887"
            ],
            [
             0.1111111111111111,
             "#46039f"
            ],
            [
             0.2222222222222222,
             "#7201a8"
            ],
            [
             0.3333333333333333,
             "#9c179e"
            ],
            [
             0.4444444444444444,
             "#bd3786"
            ],
            [
             0.5555555555555556,
             "#d8576b"
            ],
            [
             0.6666666666666666,
             "#ed7953"
            ],
            [
             0.7777777777777778,
             "#fb9f3a"
            ],
            [
             0.8888888888888888,
             "#fdca26"
            ],
            [
             1,
             "#f0f921"
            ]
           ]
          },
          "colorway": [
           "#636efa",
           "#EF553B",
           "#00cc96",
           "#ab63fa",
           "#FFA15A",
           "#19d3f3",
           "#FF6692",
           "#B6E880",
           "#FF97FF",
           "#FECB52"
          ],
          "font": {
           "color": "#2a3f5f"
          },
          "geo": {
           "bgcolor": "white",
           "lakecolor": "white",
           "landcolor": "#E5ECF6",
           "showlakes": true,
           "showland": true,
           "subunitcolor": "white"
          },
          "hoverlabel": {
           "align": "left"
          },
          "hovermode": "closest",
          "mapbox": {
           "style": "light"
          },
          "paper_bgcolor": "white",
          "plot_bgcolor": "#E5ECF6",
          "polar": {
           "angularaxis": {
            "gridcolor": "white",
            "linecolor": "white",
            "ticks": ""
           },
           "bgcolor": "#E5ECF6",
           "radialaxis": {
            "gridcolor": "white",
            "linecolor": "white",
            "ticks": ""
           }
          },
          "scene": {
           "xaxis": {
            "backgroundcolor": "#E5ECF6",
            "gridcolor": "white",
            "gridwidth": 2,
            "linecolor": "white",
            "showbackground": true,
            "ticks": "",
            "zerolinecolor": "white"
           },
           "yaxis": {
            "backgroundcolor": "#E5ECF6",
            "gridcolor": "white",
            "gridwidth": 2,
            "linecolor": "white",
            "showbackground": true,
            "ticks": "",
            "zerolinecolor": "white"
           },
           "zaxis": {
            "backgroundcolor": "#E5ECF6",
            "gridcolor": "white",
            "gridwidth": 2,
            "linecolor": "white",
            "showbackground": true,
            "ticks": "",
            "zerolinecolor": "white"
           }
          },
          "shapedefaults": {
           "line": {
            "color": "#2a3f5f"
           }
          },
          "ternary": {
           "aaxis": {
            "gridcolor": "white",
            "linecolor": "white",
            "ticks": ""
           },
           "baxis": {
            "gridcolor": "white",
            "linecolor": "white",
            "ticks": ""
           },
           "bgcolor": "#E5ECF6",
           "caxis": {
            "gridcolor": "white",
            "linecolor": "white",
            "ticks": ""
           }
          },
          "title": {
           "x": 0.05
          },
          "xaxis": {
           "automargin": true,
           "gridcolor": "white",
           "linecolor": "white",
           "ticks": "",
           "title": {
            "standoff": 15
           },
           "zerolinecolor": "white",
           "zerolinewidth": 2
          },
          "yaxis": {
           "automargin": true,
           "gridcolor": "white",
           "linecolor": "white",
           "ticks": "",
           "title": {
            "standoff": 15
           },
           "zerolinecolor": "white",
           "zerolinewidth": 2
          }
         }
        },
        "title": {
         "text": "Players similar to  \" De Gea \""
        }
       }
      },
      "text/html": [
       "<div>                            <div id=\"a8084c53-0594-4c45-8f1b-83f01d3e5cdd\" class=\"plotly-graph-div\" style=\"height:525px; width:100%;\"></div>            <script type=\"text/javascript\">                require([\"plotly\"], function(Plotly) {                    window.PLOTLYENV=window.PLOTLYENV || {};                                    if (document.getElementById(\"a8084c53-0594-4c45-8f1b-83f01d3e5cdd\")) {                    Plotly.newPlot(                        \"a8084c53-0594-4c45-8f1b-83f01d3e5cdd\",                        [{\"orientation\": \"h\", \"type\": \"bar\", \"x\": [0.021718157060266682, 0.02185558841218806, 0.022404019158456575, 0.023477888193274055, 0.023809523809523808, 0.024126909377561692, 0.025235691369319874, 0.027232268391359612, 0.03195039783542665, 0.033371714458138996], \"y\": [\"J. Cillessen\", \"J. Zoet\", \"C. Bravo\", \"Fabricio\", \"M. Ryan\", \"K. Vermeer\", \"Ederson\", \"M. Neuer\", \"K. Schmeichel\", \"J. Pickford\"]}],                        {\"template\": {\"data\": {\"bar\": [{\"error_x\": {\"color\": \"#2a3f5f\"}, \"error_y\": {\"color\": \"#2a3f5f\"}, \"marker\": {\"line\": {\"color\": \"#E5ECF6\", \"width\": 0.5}}, \"type\": \"bar\"}], \"barpolar\": [{\"marker\": {\"line\": {\"color\": \"#E5ECF6\", \"width\": 0.5}}, \"type\": \"barpolar\"}], \"carpet\": [{\"aaxis\": {\"endlinecolor\": \"#2a3f5f\", \"gridcolor\": \"white\", \"linecolor\": \"white\", \"minorgridcolor\": \"white\", \"startlinecolor\": \"#2a3f5f\"}, \"baxis\": {\"endlinecolor\": \"#2a3f5f\", \"gridcolor\": \"white\", \"linecolor\": \"white\", \"minorgridcolor\": \"white\", \"startlinecolor\": \"#2a3f5f\"}, \"type\": \"carpet\"}], \"choropleth\": [{\"colorbar\": {\"outlinewidth\": 0, \"ticks\": \"\"}, \"type\": \"choropleth\"}], \"contour\": [{\"colorbar\": {\"outlinewidth\": 0, \"ticks\": \"\"}, \"colorscale\": [[0.0, \"#0d0887\"], [0.1111111111111111, \"#46039f\"], [0.2222222222222222, \"#7201a8\"], [0.3333333333333333, \"#9c179e\"], [0.4444444444444444, \"#bd3786\"], [0.5555555555555556, \"#d8576b\"], [0.6666666666666666, \"#ed7953\"], [0.7777777777777778, \"#fb9f3a\"], [0.8888888888888888, \"#fdca26\"], [1.0, \"#f0f921\"]], \"type\": \"contour\"}], \"contourcarpet\": [{\"colorbar\": {\"outlinewidth\": 0, \"ticks\": \"\"}, \"type\": \"contourcarpet\"}], \"heatmap\": [{\"colorbar\": {\"outlinewidth\": 0, \"ticks\": \"\"}, \"colorscale\": [[0.0, \"#0d0887\"], [0.1111111111111111, \"#46039f\"], [0.2222222222222222, \"#7201a8\"], [0.3333333333333333, \"#9c179e\"], [0.4444444444444444, \"#bd3786\"], [0.5555555555555556, \"#d8576b\"], [0.6666666666666666, \"#ed7953\"], [0.7777777777777778, \"#fb9f3a\"], [0.8888888888888888, \"#fdca26\"], [1.0, \"#f0f921\"]], \"type\": \"heatmap\"}], \"heatmapgl\": [{\"colorbar\": {\"outlinewidth\": 0, \"ticks\": \"\"}, \"colorscale\": [[0.0, \"#0d0887\"], [0.1111111111111111, \"#46039f\"], [0.2222222222222222, \"#7201a8\"], [0.3333333333333333, \"#9c179e\"], [0.4444444444444444, \"#bd3786\"], [0.5555555555555556, \"#d8576b\"], [0.6666666666666666, \"#ed7953\"], [0.7777777777777778, \"#fb9f3a\"], [0.8888888888888888, \"#fdca26\"], [1.0, \"#f0f921\"]], \"type\": \"heatmapgl\"}], \"histogram\": [{\"marker\": {\"colorbar\": {\"outlinewidth\": 0, \"ticks\": \"\"}}, \"type\": \"histogram\"}], \"histogram2d\": [{\"colorbar\": {\"outlinewidth\": 0, \"ticks\": \"\"}, \"colorscale\": [[0.0, \"#0d0887\"], [0.1111111111111111, \"#46039f\"], [0.2222222222222222, \"#7201a8\"], [0.3333333333333333, \"#9c179e\"], [0.4444444444444444, \"#bd3786\"], [0.5555555555555556, \"#d8576b\"], [0.6666666666666666, \"#ed7953\"], [0.7777777777777778, \"#fb9f3a\"], [0.8888888888888888, \"#fdca26\"], [1.0, \"#f0f921\"]], \"type\": \"histogram2d\"}], \"histogram2dcontour\": [{\"colorbar\": {\"outlinewidth\": 0, \"ticks\": \"\"}, \"colorscale\": [[0.0, \"#0d0887\"], [0.1111111111111111, \"#46039f\"], [0.2222222222222222, \"#7201a8\"], [0.3333333333333333, \"#9c179e\"], [0.4444444444444444, \"#bd3786\"], [0.5555555555555556, \"#d8576b\"], [0.6666666666666666, \"#ed7953\"], [0.7777777777777778, \"#fb9f3a\"], [0.8888888888888888, \"#fdca26\"], [1.0, \"#f0f921\"]], \"type\": \"histogram2dcontour\"}], \"mesh3d\": [{\"colorbar\": {\"outlinewidth\": 0, \"ticks\": \"\"}, \"type\": \"mesh3d\"}], \"parcoords\": [{\"line\": {\"colorbar\": {\"outlinewidth\": 0, \"ticks\": \"\"}}, \"type\": \"parcoords\"}], \"pie\": [{\"automargin\": true, \"type\": \"pie\"}], \"scatter\": [{\"marker\": {\"colorbar\": {\"outlinewidth\": 0, \"ticks\": \"\"}}, \"type\": \"scatter\"}], \"scatter3d\": [{\"line\": {\"colorbar\": {\"outlinewidth\": 0, \"ticks\": \"\"}}, \"marker\": {\"colorbar\": {\"outlinewidth\": 0, \"ticks\": \"\"}}, \"type\": \"scatter3d\"}], \"scattercarpet\": [{\"marker\": {\"colorbar\": {\"outlinewidth\": 0, \"ticks\": \"\"}}, \"type\": \"scattercarpet\"}], \"scattergeo\": [{\"marker\": {\"colorbar\": {\"outlinewidth\": 0, \"ticks\": \"\"}}, \"type\": \"scattergeo\"}], \"scattergl\": [{\"marker\": {\"colorbar\": {\"outlinewidth\": 0, \"ticks\": \"\"}}, \"type\": \"scattergl\"}], \"scattermapbox\": [{\"marker\": {\"colorbar\": {\"outlinewidth\": 0, \"ticks\": \"\"}}, \"type\": \"scattermapbox\"}], \"scatterpolar\": [{\"marker\": {\"colorbar\": {\"outlinewidth\": 0, \"ticks\": \"\"}}, \"type\": \"scatterpolar\"}], \"scatterpolargl\": [{\"marker\": {\"colorbar\": {\"outlinewidth\": 0, \"ticks\": \"\"}}, \"type\": \"scatterpolargl\"}], \"scatterternary\": [{\"marker\": {\"colorbar\": {\"outlinewidth\": 0, \"ticks\": \"\"}}, \"type\": \"scatterternary\"}], \"surface\": [{\"colorbar\": {\"outlinewidth\": 0, \"ticks\": \"\"}, \"colorscale\": [[0.0, \"#0d0887\"], [0.1111111111111111, \"#46039f\"], [0.2222222222222222, \"#7201a8\"], [0.3333333333333333, \"#9c179e\"], [0.4444444444444444, \"#bd3786\"], [0.5555555555555556, \"#d8576b\"], [0.6666666666666666, \"#ed7953\"], [0.7777777777777778, \"#fb9f3a\"], [0.8888888888888888, \"#fdca26\"], [1.0, \"#f0f921\"]], \"type\": \"surface\"}], \"table\": [{\"cells\": {\"fill\": {\"color\": \"#EBF0F8\"}, \"line\": {\"color\": \"white\"}}, \"header\": {\"fill\": {\"color\": \"#C8D4E3\"}, \"line\": {\"color\": \"white\"}}, \"type\": \"table\"}]}, \"layout\": {\"annotationdefaults\": {\"arrowcolor\": \"#2a3f5f\", \"arrowhead\": 0, \"arrowwidth\": 1}, \"autotypenumbers\": \"strict\", \"coloraxis\": {\"colorbar\": {\"outlinewidth\": 0, \"ticks\": \"\"}}, \"colorscale\": {\"diverging\": [[0, \"#8e0152\"], [0.1, \"#c51b7d\"], [0.2, \"#de77ae\"], [0.3, \"#f1b6da\"], [0.4, \"#fde0ef\"], [0.5, \"#f7f7f7\"], [0.6, \"#e6f5d0\"], [0.7, \"#b8e186\"], [0.8, \"#7fbc41\"], [0.9, \"#4d9221\"], [1, \"#276419\"]], \"sequential\": [[0.0, \"#0d0887\"], [0.1111111111111111, \"#46039f\"], [0.2222222222222222, \"#7201a8\"], [0.3333333333333333, \"#9c179e\"], [0.4444444444444444, \"#bd3786\"], [0.5555555555555556, \"#d8576b\"], [0.6666666666666666, \"#ed7953\"], [0.7777777777777778, \"#fb9f3a\"], [0.8888888888888888, \"#fdca26\"], [1.0, \"#f0f921\"]], \"sequentialminus\": [[0.0, \"#0d0887\"], [0.1111111111111111, \"#46039f\"], [0.2222222222222222, \"#7201a8\"], [0.3333333333333333, \"#9c179e\"], [0.4444444444444444, \"#bd3786\"], [0.5555555555555556, \"#d8576b\"], [0.6666666666666666, \"#ed7953\"], [0.7777777777777778, \"#fb9f3a\"], [0.8888888888888888, \"#fdca26\"], [1.0, \"#f0f921\"]]}, \"colorway\": [\"#636efa\", \"#EF553B\", \"#00cc96\", \"#ab63fa\", \"#FFA15A\", \"#19d3f3\", \"#FF6692\", \"#B6E880\", \"#FF97FF\", \"#FECB52\"], \"font\": {\"color\": \"#2a3f5f\"}, \"geo\": {\"bgcolor\": \"white\", \"lakecolor\": \"white\", \"landcolor\": \"#E5ECF6\", \"showlakes\": true, \"showland\": true, \"subunitcolor\": \"white\"}, \"hoverlabel\": {\"align\": \"left\"}, \"hovermode\": \"closest\", \"mapbox\": {\"style\": \"light\"}, \"paper_bgcolor\": \"white\", \"plot_bgcolor\": \"#E5ECF6\", \"polar\": {\"angularaxis\": {\"gridcolor\": \"white\", \"linecolor\": \"white\", \"ticks\": \"\"}, \"bgcolor\": \"#E5ECF6\", \"radialaxis\": {\"gridcolor\": \"white\", \"linecolor\": \"white\", \"ticks\": \"\"}}, \"scene\": {\"xaxis\": {\"backgroundcolor\": \"#E5ECF6\", \"gridcolor\": \"white\", \"gridwidth\": 2, \"linecolor\": \"white\", \"showbackground\": true, \"ticks\": \"\", \"zerolinecolor\": \"white\"}, \"yaxis\": {\"backgroundcolor\": \"#E5ECF6\", \"gridcolor\": \"white\", \"gridwidth\": 2, \"linecolor\": \"white\", \"showbackground\": true, \"ticks\": \"\", \"zerolinecolor\": \"white\"}, \"zaxis\": {\"backgroundcolor\": \"#E5ECF6\", \"gridcolor\": \"white\", \"gridwidth\": 2, \"linecolor\": \"white\", \"showbackground\": true, \"ticks\": \"\", \"zerolinecolor\": \"white\"}}, \"shapedefaults\": {\"line\": {\"color\": \"#2a3f5f\"}}, \"ternary\": {\"aaxis\": {\"gridcolor\": \"white\", \"linecolor\": \"white\", \"ticks\": \"\"}, \"baxis\": {\"gridcolor\": \"white\", \"linecolor\": \"white\", \"ticks\": \"\"}, \"bgcolor\": \"#E5ECF6\", \"caxis\": {\"gridcolor\": \"white\", \"linecolor\": \"white\", \"ticks\": \"\"}}, \"title\": {\"x\": 0.05}, \"xaxis\": {\"automargin\": true, \"gridcolor\": \"white\", \"linecolor\": \"white\", \"ticks\": \"\", \"title\": {\"standoff\": 15}, \"zerolinecolor\": \"white\", \"zerolinewidth\": 2}, \"yaxis\": {\"automargin\": true, \"gridcolor\": \"white\", \"linecolor\": \"white\", \"ticks\": \"\", \"title\": {\"standoff\": 15}, \"zerolinecolor\": \"white\", \"zerolinewidth\": 2}}}, \"title\": {\"text\": \"Players similar to  \\\" De Gea \\\"\"}},                        {\"responsive\": true}                    ).then(function(){\n",
       "                            \n",
       "var gd = document.getElementById('a8084c53-0594-4c45-8f1b-83f01d3e5cdd');\n",
       "var x = new MutationObserver(function (mutations, observer) {{\n",
       "        var display = window.getComputedStyle(gd).display;\n",
       "        if (!display || display === 'none') {{\n",
       "            console.log([gd, 'removed!']);\n",
       "            Plotly.purge(gd);\n",
       "            observer.disconnect();\n",
       "        }}\n",
       "}});\n",
       "\n",
       "// Listen for the removal of the full notebook cells\n",
       "var notebookContainer = gd.closest('#notebook-container');\n",
       "if (notebookContainer) {{\n",
       "    x.observe(notebookContainer, {childList: true});\n",
       "}}\n",
       "\n",
       "// Listen for the clearing of the current output cell\n",
       "var outputEl = gd.closest('.output');\n",
       "if (outputEl) {{\n",
       "    x.observe(outputEl, {childList: true});\n",
       "}}\n",
       "\n",
       "                        })                };                });            </script>        </div>"
      ]
     },
     "metadata": {},
     "output_type": "display_data"
    },
    {
     "data": {
      "text/html": [
       "<div>\n",
       "<style scoped>\n",
       "    .dataframe tbody tr th:only-of-type {\n",
       "        vertical-align: middle;\n",
       "    }\n",
       "\n",
       "    .dataframe tbody tr th {\n",
       "        vertical-align: top;\n",
       "    }\n",
       "\n",
       "    .dataframe thead th {\n",
       "        text-align: right;\n",
       "    }\n",
       "</style>\n",
       "<table border=\"1\" class=\"dataframe\">\n",
       "  <thead>\n",
       "    <tr style=\"text-align: right;\">\n",
       "      <th></th>\n",
       "      <th>Club</th>\n",
       "      <th>Name</th>\n",
       "      <th>Age</th>\n",
       "      <th>Nationality</th>\n",
       "      <th>Overall</th>\n",
       "      <th>Potential</th>\n",
       "      <th>Preferred Foot</th>\n",
       "      <th>Weak Foot</th>\n",
       "      <th>Wage</th>\n",
       "      <th>Value</th>\n",
       "    </tr>\n",
       "  </thead>\n",
       "  <tbody>\n",
       "    <tr>\n",
       "      <th>0</th>\n",
       "      <td>Everton</td>\n",
       "      <td>J. Pickford</td>\n",
       "      <td>24</td>\n",
       "      <td>England</td>\n",
       "      <td>83</td>\n",
       "      <td>88</td>\n",
       "      <td>0</td>\n",
       "      <td>4</td>\n",
       "      <td>78000</td>\n",
       "      <td>2e+07</td>\n",
       "    </tr>\n",
       "    <tr>\n",
       "      <th>1</th>\n",
       "      <td>Leicester City</td>\n",
       "      <td>K. Schmeichel</td>\n",
       "      <td>31</td>\n",
       "      <td>Denmark</td>\n",
       "      <td>84</td>\n",
       "      <td>84</td>\n",
       "      <td>1</td>\n",
       "      <td>3</td>\n",
       "      <td>78000</td>\n",
       "      <td>2e+07</td>\n",
       "    </tr>\n",
       "    <tr>\n",
       "      <th>2</th>\n",
       "      <td>FC Bayern München</td>\n",
       "      <td>M. Neuer</td>\n",
       "      <td>32</td>\n",
       "      <td>Germany</td>\n",
       "      <td>89</td>\n",
       "      <td>89</td>\n",
       "      <td>1</td>\n",
       "      <td>4</td>\n",
       "      <td>130000</td>\n",
       "      <td>4e+07</td>\n",
       "    </tr>\n",
       "    <tr>\n",
       "      <th>3</th>\n",
       "      <td>Manchester City</td>\n",
       "      <td>Ederson</td>\n",
       "      <td>24</td>\n",
       "      <td>Brazil</td>\n",
       "      <td>86</td>\n",
       "      <td>90</td>\n",
       "      <td>0</td>\n",
       "      <td>3</td>\n",
       "      <td>125000</td>\n",
       "      <td>4e+07</td>\n",
       "    </tr>\n",
       "    <tr>\n",
       "      <th>4</th>\n",
       "      <td>Feyenoord</td>\n",
       "      <td>K. Vermeer</td>\n",
       "      <td>32</td>\n",
       "      <td>Netherlands</td>\n",
       "      <td>75</td>\n",
       "      <td>75</td>\n",
       "      <td>1</td>\n",
       "      <td>4</td>\n",
       "      <td>10000</td>\n",
       "      <td>4e+06</td>\n",
       "    </tr>\n",
       "    <tr>\n",
       "      <th>5</th>\n",
       "      <td>Brighton &amp; Hove Albion</td>\n",
       "      <td>M. Ryan</td>\n",
       "      <td>26</td>\n",
       "      <td>Australia</td>\n",
       "      <td>79</td>\n",
       "      <td>81</td>\n",
       "      <td>1</td>\n",
       "      <td>4</td>\n",
       "      <td>41000</td>\n",
       "      <td>1e+07</td>\n",
       "    </tr>\n",
       "    <tr>\n",
       "      <th>6</th>\n",
       "      <td>Fulham</td>\n",
       "      <td>Fabricio</td>\n",
       "      <td>30</td>\n",
       "      <td>Spain</td>\n",
       "      <td>79</td>\n",
       "      <td>79</td>\n",
       "      <td>1</td>\n",
       "      <td>4</td>\n",
       "      <td>47000</td>\n",
       "      <td>8e+06</td>\n",
       "    </tr>\n",
       "    <tr>\n",
       "      <th>7</th>\n",
       "      <td>Manchester City</td>\n",
       "      <td>C. Bravo</td>\n",
       "      <td>35</td>\n",
       "      <td>Chile</td>\n",
       "      <td>78</td>\n",
       "      <td>78</td>\n",
       "      <td>1</td>\n",
       "      <td>3</td>\n",
       "      <td>50000</td>\n",
       "      <td>2e+06</td>\n",
       "    </tr>\n",
       "    <tr>\n",
       "      <th>8</th>\n",
       "      <td>PSV</td>\n",
       "      <td>J. Zoet</td>\n",
       "      <td>27</td>\n",
       "      <td>Netherlands</td>\n",
       "      <td>80</td>\n",
       "      <td>83</td>\n",
       "      <td>1</td>\n",
       "      <td>4</td>\n",
       "      <td>16000</td>\n",
       "      <td>1e+07</td>\n",
       "    </tr>\n",
       "    <tr>\n",
       "      <th>9</th>\n",
       "      <td>FC Barcelona</td>\n",
       "      <td>J. Cillessen</td>\n",
       "      <td>29</td>\n",
       "      <td>Netherlands</td>\n",
       "      <td>82</td>\n",
       "      <td>84</td>\n",
       "      <td>1</td>\n",
       "      <td>3</td>\n",
       "      <td>135000</td>\n",
       "      <td>2e+07</td>\n",
       "    </tr>\n",
       "  </tbody>\n",
       "</table>\n",
       "</div>"
      ],
      "text/plain": [
       "                     Club           Name  Age  Nationality  Overall  \\\n",
       "0                 Everton    J. Pickford   24      England       83   \n",
       "1          Leicester City  K. Schmeichel   31      Denmark       84   \n",
       "2       FC Bayern München       M. Neuer   32      Germany       89   \n",
       "3         Manchester City        Ederson   24       Brazil       86   \n",
       "4               Feyenoord     K. Vermeer   32  Netherlands       75   \n",
       "5  Brighton & Hove Albion        M. Ryan   26    Australia       79   \n",
       "6                  Fulham       Fabricio   30        Spain       79   \n",
       "7         Manchester City       C. Bravo   35        Chile       78   \n",
       "8                     PSV        J. Zoet   27  Netherlands       80   \n",
       "9            FC Barcelona   J. Cillessen   29  Netherlands       82   \n",
       "\n",
       "   Potential  Preferred Foot  Weak Foot    Wage  Value  \n",
       "0         88               0          4   78000  2e+07  \n",
       "1         84               1          3   78000  2e+07  \n",
       "2         89               1          4  130000  4e+07  \n",
       "3         90               0          3  125000  4e+07  \n",
       "4         75               1          4   10000  4e+06  \n",
       "5         81               1          4   41000  1e+07  \n",
       "6         79               1          4   47000  8e+06  \n",
       "7         78               1          3   50000  2e+06  \n",
       "8         83               1          4   16000  1e+07  \n",
       "9         84               1          3  135000  2e+07  "
      ]
     },
     "metadata": {},
     "output_type": "display_data"
    }
   ],
   "source": [
    "player_scouter(similar_df, dist_df, 193080)"
   ]
  },
  {
   "cell_type": "markdown",
   "metadata": {},
   "source": [
    "### Finding a replacement for an outgoing player"
   ]
  },
  {
   "cell_type": "code",
   "execution_count": 13,
   "metadata": {},
   "outputs": [
    {
     "data": {
      "text/html": [
       "<div>\n",
       "<style scoped>\n",
       "    .dataframe tbody tr th:only-of-type {\n",
       "        vertical-align: middle;\n",
       "    }\n",
       "\n",
       "    .dataframe tbody tr th {\n",
       "        vertical-align: top;\n",
       "    }\n",
       "\n",
       "    .dataframe thead th {\n",
       "        text-align: right;\n",
       "    }\n",
       "</style>\n",
       "<table border=\"1\" class=\"dataframe\">\n",
       "  <thead>\n",
       "    <tr style=\"text-align: right;\">\n",
       "      <th></th>\n",
       "      <th>ID</th>\n",
       "      <th>Name</th>\n",
       "      <th>Age</th>\n",
       "      <th>Nationality</th>\n",
       "      <th>Overall</th>\n",
       "      <th>Potential</th>\n",
       "      <th>Club</th>\n",
       "      <th>Value</th>\n",
       "      <th>Wage</th>\n",
       "      <th>Preferred Foot</th>\n",
       "      <th>International Reputation</th>\n",
       "      <th>Weak Foot</th>\n",
       "      <th>Skill Moves</th>\n",
       "      <th>Work Rate</th>\n",
       "      <th>Body Type</th>\n",
       "      <th>Position</th>\n",
       "      <th>Contract Expiration</th>\n",
       "      <th>Height</th>\n",
       "      <th>Weight</th>\n",
       "      <th>Crossing</th>\n",
       "      <th>Finishing</th>\n",
       "      <th>HeadingAccuracy</th>\n",
       "      <th>ShortPassing</th>\n",
       "      <th>Volleys</th>\n",
       "      <th>Dribbling</th>\n",
       "      <th>Curve</th>\n",
       "      <th>FKAccuracy</th>\n",
       "      <th>LongPassing</th>\n",
       "      <th>BallControl</th>\n",
       "      <th>Acceleration</th>\n",
       "      <th>SprintSpeed</th>\n",
       "      <th>Agility</th>\n",
       "      <th>Reactions</th>\n",
       "      <th>Balance</th>\n",
       "      <th>ShotPower</th>\n",
       "      <th>Jumping</th>\n",
       "      <th>Stamina</th>\n",
       "      <th>Strength</th>\n",
       "      <th>LongShots</th>\n",
       "      <th>Aggression</th>\n",
       "      <th>Interceptions</th>\n",
       "      <th>Positioning</th>\n",
       "      <th>Vision</th>\n",
       "      <th>Penalties</th>\n",
       "      <th>Composure</th>\n",
       "      <th>Marking</th>\n",
       "      <th>StandingTackle</th>\n",
       "      <th>SlidingTackle</th>\n",
       "      <th>GKDiving</th>\n",
       "      <th>GKHandling</th>\n",
       "      <th>GKKicking</th>\n",
       "      <th>GKPositioning</th>\n",
       "      <th>GKReflexes</th>\n",
       "      <th>Main Position</th>\n",
       "    </tr>\n",
       "  </thead>\n",
       "  <tbody>\n",
       "    <tr>\n",
       "      <th>26</th>\n",
       "      <td>209331</td>\n",
       "      <td>M. Salah</td>\n",
       "      <td>26</td>\n",
       "      <td>Egypt</td>\n",
       "      <td>88</td>\n",
       "      <td>89</td>\n",
       "      <td>Liverpool</td>\n",
       "      <td>7e+07</td>\n",
       "      <td>255000</td>\n",
       "      <td>0</td>\n",
       "      <td>3</td>\n",
       "      <td>3</td>\n",
       "      <td>4</td>\n",
       "      <td>High</td>\n",
       "      <td>Normal</td>\n",
       "      <td>RM</td>\n",
       "      <td>2023</td>\n",
       "      <td>5'9</td>\n",
       "      <td>157lbs</td>\n",
       "      <td>78</td>\n",
       "      <td>90</td>\n",
       "      <td>59</td>\n",
       "      <td>82</td>\n",
       "      <td>73</td>\n",
       "      <td>89</td>\n",
       "      <td>83</td>\n",
       "      <td>60</td>\n",
       "      <td>72</td>\n",
       "      <td>88</td>\n",
       "      <td>94</td>\n",
       "      <td>91</td>\n",
       "      <td>91</td>\n",
       "      <td>91</td>\n",
       "      <td>88</td>\n",
       "      <td>77</td>\n",
       "      <td>68</td>\n",
       "      <td>84</td>\n",
       "      <td>70</td>\n",
       "      <td>83</td>\n",
       "      <td>63</td>\n",
       "      <td>55</td>\n",
       "      <td>90</td>\n",
       "      <td>82</td>\n",
       "      <td>61</td>\n",
       "      <td>91</td>\n",
       "      <td>38</td>\n",
       "      <td>43</td>\n",
       "      <td>41</td>\n",
       "      <td>14</td>\n",
       "      <td>14</td>\n",
       "      <td>9</td>\n",
       "      <td>11</td>\n",
       "      <td>14</td>\n",
       "      <td>WING</td>\n",
       "    </tr>\n",
       "    <tr>\n",
       "      <th>58</th>\n",
       "      <td>208722</td>\n",
       "      <td>S. Mané</td>\n",
       "      <td>26</td>\n",
       "      <td>Senegal</td>\n",
       "      <td>86</td>\n",
       "      <td>87</td>\n",
       "      <td>Liverpool</td>\n",
       "      <td>5e+07</td>\n",
       "      <td>195000</td>\n",
       "      <td>1</td>\n",
       "      <td>3</td>\n",
       "      <td>4</td>\n",
       "      <td>4</td>\n",
       "      <td>High</td>\n",
       "      <td>Lean</td>\n",
       "      <td>LM</td>\n",
       "      <td>2023</td>\n",
       "      <td>5'9</td>\n",
       "      <td>152lbs</td>\n",
       "      <td>73</td>\n",
       "      <td>84</td>\n",
       "      <td>62</td>\n",
       "      <td>79</td>\n",
       "      <td>71</td>\n",
       "      <td>87</td>\n",
       "      <td>74</td>\n",
       "      <td>64</td>\n",
       "      <td>71</td>\n",
       "      <td>86</td>\n",
       "      <td>95</td>\n",
       "      <td>93</td>\n",
       "      <td>91</td>\n",
       "      <td>86</td>\n",
       "      <td>86</td>\n",
       "      <td>82</td>\n",
       "      <td>75</td>\n",
       "      <td>84</td>\n",
       "      <td>67</td>\n",
       "      <td>74</td>\n",
       "      <td>73</td>\n",
       "      <td>35</td>\n",
       "      <td>87</td>\n",
       "      <td>82</td>\n",
       "      <td>71</td>\n",
       "      <td>80</td>\n",
       "      <td>42</td>\n",
       "      <td>42</td>\n",
       "      <td>38</td>\n",
       "      <td>10</td>\n",
       "      <td>10</td>\n",
       "      <td>15</td>\n",
       "      <td>7</td>\n",
       "      <td>14</td>\n",
       "      <td>WING</td>\n",
       "    </tr>\n",
       "    <tr>\n",
       "      <th>59</th>\n",
       "      <td>203376</td>\n",
       "      <td>V. van Dijk</td>\n",
       "      <td>26</td>\n",
       "      <td>Netherlands</td>\n",
       "      <td>86</td>\n",
       "      <td>88</td>\n",
       "      <td>Liverpool</td>\n",
       "      <td>4e+07</td>\n",
       "      <td>165000</td>\n",
       "      <td>1</td>\n",
       "      <td>3</td>\n",
       "      <td>3</td>\n",
       "      <td>2</td>\n",
       "      <td>Medium</td>\n",
       "      <td>Normal</td>\n",
       "      <td>LCB</td>\n",
       "      <td>2023</td>\n",
       "      <td>6'4</td>\n",
       "      <td>203lbs</td>\n",
       "      <td>53</td>\n",
       "      <td>52</td>\n",
       "      <td>82</td>\n",
       "      <td>76</td>\n",
       "      <td>45</td>\n",
       "      <td>70</td>\n",
       "      <td>60</td>\n",
       "      <td>70</td>\n",
       "      <td>78</td>\n",
       "      <td>73</td>\n",
       "      <td>74</td>\n",
       "      <td>77</td>\n",
       "      <td>61</td>\n",
       "      <td>85</td>\n",
       "      <td>49</td>\n",
       "      <td>81</td>\n",
       "      <td>85</td>\n",
       "      <td>71</td>\n",
       "      <td>92</td>\n",
       "      <td>64</td>\n",
       "      <td>81</td>\n",
       "      <td>86</td>\n",
       "      <td>41</td>\n",
       "      <td>59</td>\n",
       "      <td>62</td>\n",
       "      <td>83</td>\n",
       "      <td>88</td>\n",
       "      <td>89</td>\n",
       "      <td>84</td>\n",
       "      <td>13</td>\n",
       "      <td>10</td>\n",
       "      <td>13</td>\n",
       "      <td>11</td>\n",
       "      <td>11</td>\n",
       "      <td>CB</td>\n",
       "    </tr>\n",
       "    <tr>\n",
       "      <th>61</th>\n",
       "      <td>201942</td>\n",
       "      <td>Roberto Firmino</td>\n",
       "      <td>26</td>\n",
       "      <td>Brazil</td>\n",
       "      <td>86</td>\n",
       "      <td>87</td>\n",
       "      <td>Liverpool</td>\n",
       "      <td>5e+07</td>\n",
       "      <td>195000</td>\n",
       "      <td>1</td>\n",
       "      <td>3</td>\n",
       "      <td>4</td>\n",
       "      <td>4</td>\n",
       "      <td>High</td>\n",
       "      <td>Lean</td>\n",
       "      <td>CAM</td>\n",
       "      <td>2023</td>\n",
       "      <td>5'11</td>\n",
       "      <td>168lbs</td>\n",
       "      <td>72</td>\n",
       "      <td>87</td>\n",
       "      <td>77</td>\n",
       "      <td>86</td>\n",
       "      <td>81</td>\n",
       "      <td>87</td>\n",
       "      <td>80</td>\n",
       "      <td>65</td>\n",
       "      <td>75</td>\n",
       "      <td>88</td>\n",
       "      <td>78</td>\n",
       "      <td>77</td>\n",
       "      <td>80</td>\n",
       "      <td>86</td>\n",
       "      <td>81</td>\n",
       "      <td>81</td>\n",
       "      <td>81</td>\n",
       "      <td>90</td>\n",
       "      <td>74</td>\n",
       "      <td>76</td>\n",
       "      <td>73</td>\n",
       "      <td>58</td>\n",
       "      <td>87</td>\n",
       "      <td>85</td>\n",
       "      <td>72</td>\n",
       "      <td>87</td>\n",
       "      <td>60</td>\n",
       "      <td>64</td>\n",
       "      <td>42</td>\n",
       "      <td>8</td>\n",
       "      <td>11</td>\n",
       "      <td>9</td>\n",
       "      <td>6</td>\n",
       "      <td>10</td>\n",
       "      <td>AM</td>\n",
       "    </tr>\n",
       "    <tr>\n",
       "      <th>81</th>\n",
       "      <td>212831</td>\n",
       "      <td>Alisson</td>\n",
       "      <td>25</td>\n",
       "      <td>Brazil</td>\n",
       "      <td>85</td>\n",
       "      <td>90</td>\n",
       "      <td>Liverpool</td>\n",
       "      <td>4e+07</td>\n",
       "      <td>115000</td>\n",
       "      <td>1</td>\n",
       "      <td>3</td>\n",
       "      <td>3</td>\n",
       "      <td>1</td>\n",
       "      <td>Medium</td>\n",
       "      <td>Normal</td>\n",
       "      <td>GK</td>\n",
       "      <td>2024</td>\n",
       "      <td>6'3</td>\n",
       "      <td>201lbs</td>\n",
       "      <td>17</td>\n",
       "      <td>13</td>\n",
       "      <td>19</td>\n",
       "      <td>45</td>\n",
       "      <td>20</td>\n",
       "      <td>27</td>\n",
       "      <td>19</td>\n",
       "      <td>18</td>\n",
       "      <td>44</td>\n",
       "      <td>30</td>\n",
       "      <td>54</td>\n",
       "      <td>45</td>\n",
       "      <td>40</td>\n",
       "      <td>84</td>\n",
       "      <td>37</td>\n",
       "      <td>21</td>\n",
       "      <td>52</td>\n",
       "      <td>32</td>\n",
       "      <td>78</td>\n",
       "      <td>14</td>\n",
       "      <td>27</td>\n",
       "      <td>11</td>\n",
       "      <td>13</td>\n",
       "      <td>66</td>\n",
       "      <td>23</td>\n",
       "      <td>65</td>\n",
       "      <td>15</td>\n",
       "      <td>19</td>\n",
       "      <td>16</td>\n",
       "      <td>83</td>\n",
       "      <td>81</td>\n",
       "      <td>85</td>\n",
       "      <td>84</td>\n",
       "      <td>88</td>\n",
       "      <td>GK</td>\n",
       "    </tr>\n",
       "    <tr>\n",
       "      <th>118</th>\n",
       "      <td>209499</td>\n",
       "      <td>Fabinho</td>\n",
       "      <td>24</td>\n",
       "      <td>Brazil</td>\n",
       "      <td>84</td>\n",
       "      <td>88</td>\n",
       "      <td>Liverpool</td>\n",
       "      <td>3e+07</td>\n",
       "      <td>120000</td>\n",
       "      <td>1</td>\n",
       "      <td>3</td>\n",
       "      <td>2</td>\n",
       "      <td>3</td>\n",
       "      <td>Medium</td>\n",
       "      <td>Lean</td>\n",
       "      <td>CDM</td>\n",
       "      <td>2023</td>\n",
       "      <td>6'2</td>\n",
       "      <td>172lbs</td>\n",
       "      <td>79</td>\n",
       "      <td>66</td>\n",
       "      <td>75</td>\n",
       "      <td>83</td>\n",
       "      <td>47</td>\n",
       "      <td>76</td>\n",
       "      <td>71</td>\n",
       "      <td>53</td>\n",
       "      <td>78</td>\n",
       "      <td>82</td>\n",
       "      <td>69</td>\n",
       "      <td>72</td>\n",
       "      <td>69</td>\n",
       "      <td>83</td>\n",
       "      <td>67</td>\n",
       "      <td>78</td>\n",
       "      <td>75</td>\n",
       "      <td>92</td>\n",
       "      <td>79</td>\n",
       "      <td>65</td>\n",
       "      <td>85</td>\n",
       "      <td>84</td>\n",
       "      <td>70</td>\n",
       "      <td>75</td>\n",
       "      <td>91</td>\n",
       "      <td>84</td>\n",
       "      <td>83</td>\n",
       "      <td>86</td>\n",
       "      <td>84</td>\n",
       "      <td>13</td>\n",
       "      <td>12</td>\n",
       "      <td>6</td>\n",
       "      <td>8</td>\n",
       "      <td>8</td>\n",
       "      <td>CDM</td>\n",
       "    </tr>\n",
       "    <tr>\n",
       "      <th>161</th>\n",
       "      <td>220971</td>\n",
       "      <td>N. Keïta</td>\n",
       "      <td>23</td>\n",
       "      <td>Guinea</td>\n",
       "      <td>83</td>\n",
       "      <td>88</td>\n",
       "      <td>Liverpool</td>\n",
       "      <td>3e+07</td>\n",
       "      <td>120000</td>\n",
       "      <td>1</td>\n",
       "      <td>2</td>\n",
       "      <td>4</td>\n",
       "      <td>4</td>\n",
       "      <td>High</td>\n",
       "      <td>Lean</td>\n",
       "      <td>CM</td>\n",
       "      <td>2023</td>\n",
       "      <td>5'8</td>\n",
       "      <td>141lbs</td>\n",
       "      <td>62</td>\n",
       "      <td>74</td>\n",
       "      <td>42</td>\n",
       "      <td>88</td>\n",
       "      <td>71</td>\n",
       "      <td>88</td>\n",
       "      <td>64</td>\n",
       "      <td>70</td>\n",
       "      <td>78</td>\n",
       "      <td>88</td>\n",
       "      <td>78</td>\n",
       "      <td>60</td>\n",
       "      <td>89</td>\n",
       "      <td>82</td>\n",
       "      <td>90</td>\n",
       "      <td>76</td>\n",
       "      <td>53</td>\n",
       "      <td>82</td>\n",
       "      <td>58</td>\n",
       "      <td>73</td>\n",
       "      <td>78</td>\n",
       "      <td>75</td>\n",
       "      <td>74</td>\n",
       "      <td>81</td>\n",
       "      <td>58</td>\n",
       "      <td>79</td>\n",
       "      <td>68</td>\n",
       "      <td>62</td>\n",
       "      <td>61</td>\n",
       "      <td>7</td>\n",
       "      <td>14</td>\n",
       "      <td>15</td>\n",
       "      <td>14</td>\n",
       "      <td>9</td>\n",
       "      <td>CM</td>\n",
       "    </tr>\n",
       "    <tr>\n",
       "      <th>241</th>\n",
       "      <td>216267</td>\n",
       "      <td>A. Robertson</td>\n",
       "      <td>24</td>\n",
       "      <td>Scotland</td>\n",
       "      <td>82</td>\n",
       "      <td>87</td>\n",
       "      <td>Liverpool</td>\n",
       "      <td>2e+07</td>\n",
       "      <td>98000</td>\n",
       "      <td>0</td>\n",
       "      <td>1</td>\n",
       "      <td>2</td>\n",
       "      <td>3</td>\n",
       "      <td>High</td>\n",
       "      <td>Lean</td>\n",
       "      <td>LB</td>\n",
       "      <td>2021</td>\n",
       "      <td>5'10</td>\n",
       "      <td>141lbs</td>\n",
       "      <td>86</td>\n",
       "      <td>57</td>\n",
       "      <td>63</td>\n",
       "      <td>76</td>\n",
       "      <td>32</td>\n",
       "      <td>76</td>\n",
       "      <td>74</td>\n",
       "      <td>30</td>\n",
       "      <td>68</td>\n",
       "      <td>78</td>\n",
       "      <td>81</td>\n",
       "      <td>86</td>\n",
       "      <td>78</td>\n",
       "      <td>81</td>\n",
       "      <td>74</td>\n",
       "      <td>67</td>\n",
       "      <td>59</td>\n",
       "      <td>89</td>\n",
       "      <td>66</td>\n",
       "      <td>60</td>\n",
       "      <td>78</td>\n",
       "      <td>80</td>\n",
       "      <td>66</td>\n",
       "      <td>74</td>\n",
       "      <td>55</td>\n",
       "      <td>73</td>\n",
       "      <td>80</td>\n",
       "      <td>81</td>\n",
       "      <td>78</td>\n",
       "      <td>11</td>\n",
       "      <td>8</td>\n",
       "      <td>10</td>\n",
       "      <td>7</td>\n",
       "      <td>14</td>\n",
       "      <td>FB</td>\n",
       "    </tr>\n",
       "    <tr>\n",
       "      <th>296</th>\n",
       "      <td>183711</td>\n",
       "      <td>J. Henderson</td>\n",
       "      <td>28</td>\n",
       "      <td>England</td>\n",
       "      <td>82</td>\n",
       "      <td>82</td>\n",
       "      <td>Liverpool</td>\n",
       "      <td>2e+07</td>\n",
       "      <td>125000</td>\n",
       "      <td>1</td>\n",
       "      <td>2</td>\n",
       "      <td>3</td>\n",
       "      <td>3</td>\n",
       "      <td>Medium</td>\n",
       "      <td>Normal</td>\n",
       "      <td>RCM</td>\n",
       "      <td>2020</td>\n",
       "      <td>6'0</td>\n",
       "      <td>176lbs</td>\n",
       "      <td>81</td>\n",
       "      <td>67</td>\n",
       "      <td>65</td>\n",
       "      <td>84</td>\n",
       "      <td>72</td>\n",
       "      <td>73</td>\n",
       "      <td>80</td>\n",
       "      <td>74</td>\n",
       "      <td>84</td>\n",
       "      <td>80</td>\n",
       "      <td>67</td>\n",
       "      <td>66</td>\n",
       "      <td>70</td>\n",
       "      <td>80</td>\n",
       "      <td>70</td>\n",
       "      <td>77</td>\n",
       "      <td>79</td>\n",
       "      <td>91</td>\n",
       "      <td>72</td>\n",
       "      <td>71</td>\n",
       "      <td>77</td>\n",
       "      <td>80</td>\n",
       "      <td>75</td>\n",
       "      <td>83</td>\n",
       "      <td>64</td>\n",
       "      <td>78</td>\n",
       "      <td>77</td>\n",
       "      <td>79</td>\n",
       "      <td>76</td>\n",
       "      <td>7</td>\n",
       "      <td>13</td>\n",
       "      <td>7</td>\n",
       "      <td>9</td>\n",
       "      <td>13</td>\n",
       "      <td>CM</td>\n",
       "    </tr>\n",
       "    <tr>\n",
       "      <th>302</th>\n",
       "      <td>181291</td>\n",
       "      <td>G. Wijnaldum</td>\n",
       "      <td>27</td>\n",
       "      <td>Netherlands</td>\n",
       "      <td>82</td>\n",
       "      <td>82</td>\n",
       "      <td>Liverpool</td>\n",
       "      <td>2e+07</td>\n",
       "      <td>130000</td>\n",
       "      <td>1</td>\n",
       "      <td>3</td>\n",
       "      <td>3</td>\n",
       "      <td>4</td>\n",
       "      <td>High</td>\n",
       "      <td>Lean</td>\n",
       "      <td>CAM</td>\n",
       "      <td>2021</td>\n",
       "      <td>5'9</td>\n",
       "      <td>152lbs</td>\n",
       "      <td>67</td>\n",
       "      <td>70</td>\n",
       "      <td>72</td>\n",
       "      <td>84</td>\n",
       "      <td>73</td>\n",
       "      <td>84</td>\n",
       "      <td>76</td>\n",
       "      <td>70</td>\n",
       "      <td>76</td>\n",
       "      <td>84</td>\n",
       "      <td>77</td>\n",
       "      <td>76</td>\n",
       "      <td>80</td>\n",
       "      <td>82</td>\n",
       "      <td>81</td>\n",
       "      <td>76</td>\n",
       "      <td>80</td>\n",
       "      <td>85</td>\n",
       "      <td>72</td>\n",
       "      <td>71</td>\n",
       "      <td>64</td>\n",
       "      <td>76</td>\n",
       "      <td>79</td>\n",
       "      <td>78</td>\n",
       "      <td>74</td>\n",
       "      <td>82</td>\n",
       "      <td>74</td>\n",
       "      <td>75</td>\n",
       "      <td>65</td>\n",
       "      <td>16</td>\n",
       "      <td>6</td>\n",
       "      <td>14</td>\n",
       "      <td>12</td>\n",
       "      <td>6</td>\n",
       "      <td>AM</td>\n",
       "    </tr>\n",
       "    <tr>\n",
       "      <th>368</th>\n",
       "      <td>195086</td>\n",
       "      <td>D. Lovren</td>\n",
       "      <td>28</td>\n",
       "      <td>Croatia</td>\n",
       "      <td>81</td>\n",
       "      <td>82</td>\n",
       "      <td>Liverpool</td>\n",
       "      <td>2e+07</td>\n",
       "      <td>115000</td>\n",
       "      <td>1</td>\n",
       "      <td>2</td>\n",
       "      <td>4</td>\n",
       "      <td>2</td>\n",
       "      <td>Medium</td>\n",
       "      <td>Normal</td>\n",
       "      <td>RCB</td>\n",
       "      <td>2021</td>\n",
       "      <td>6'2</td>\n",
       "      <td>185lbs</td>\n",
       "      <td>59</td>\n",
       "      <td>33</td>\n",
       "      <td>80</td>\n",
       "      <td>69</td>\n",
       "      <td>42</td>\n",
       "      <td>63</td>\n",
       "      <td>26</td>\n",
       "      <td>18</td>\n",
       "      <td>66</td>\n",
       "      <td>67</td>\n",
       "      <td>54</td>\n",
       "      <td>55</td>\n",
       "      <td>50</td>\n",
       "      <td>75</td>\n",
       "      <td>41</td>\n",
       "      <td>63</td>\n",
       "      <td>81</td>\n",
       "      <td>68</td>\n",
       "      <td>82</td>\n",
       "      <td>34</td>\n",
       "      <td>87</td>\n",
       "      <td>81</td>\n",
       "      <td>21</td>\n",
       "      <td>56</td>\n",
       "      <td>52</td>\n",
       "      <td>70</td>\n",
       "      <td>77</td>\n",
       "      <td>83</td>\n",
       "      <td>85</td>\n",
       "      <td>14</td>\n",
       "      <td>14</td>\n",
       "      <td>13</td>\n",
       "      <td>10</td>\n",
       "      <td>7</td>\n",
       "      <td>CB</td>\n",
       "    </tr>\n",
       "    <tr>\n",
       "      <th>370</th>\n",
       "      <td>193348</td>\n",
       "      <td>X. Shaqiri</td>\n",
       "      <td>26</td>\n",
       "      <td>Switzerland</td>\n",
       "      <td>81</td>\n",
       "      <td>81</td>\n",
       "      <td>Liverpool</td>\n",
       "      <td>2e+07</td>\n",
       "      <td>130000</td>\n",
       "      <td>0</td>\n",
       "      <td>3</td>\n",
       "      <td>4</td>\n",
       "      <td>5</td>\n",
       "      <td>Medium</td>\n",
       "      <td>Stocky</td>\n",
       "      <td>CAM</td>\n",
       "      <td>2023</td>\n",
       "      <td>5'7</td>\n",
       "      <td>159lbs</td>\n",
       "      <td>78</td>\n",
       "      <td>71</td>\n",
       "      <td>45</td>\n",
       "      <td>81</td>\n",
       "      <td>76</td>\n",
       "      <td>86</td>\n",
       "      <td>88</td>\n",
       "      <td>84</td>\n",
       "      <td>80</td>\n",
       "      <td>84</td>\n",
       "      <td>84</td>\n",
       "      <td>77</td>\n",
       "      <td>84</td>\n",
       "      <td>80</td>\n",
       "      <td>91</td>\n",
       "      <td>87</td>\n",
       "      <td>52</td>\n",
       "      <td>75</td>\n",
       "      <td>73</td>\n",
       "      <td>84</td>\n",
       "      <td>61</td>\n",
       "      <td>55</td>\n",
       "      <td>74</td>\n",
       "      <td>81</td>\n",
       "      <td>65</td>\n",
       "      <td>82</td>\n",
       "      <td>35</td>\n",
       "      <td>49</td>\n",
       "      <td>48</td>\n",
       "      <td>13</td>\n",
       "      <td>12</td>\n",
       "      <td>12</td>\n",
       "      <td>11</td>\n",
       "      <td>11</td>\n",
       "      <td>AM</td>\n",
       "    </tr>\n",
       "    <tr>\n",
       "      <th>409</th>\n",
       "      <td>138412</td>\n",
       "      <td>J. Milner</td>\n",
       "      <td>32</td>\n",
       "      <td>England</td>\n",
       "      <td>81</td>\n",
       "      <td>81</td>\n",
       "      <td>Liverpool</td>\n",
       "      <td>1e+07</td>\n",
       "      <td>120000</td>\n",
       "      <td>1</td>\n",
       "      <td>2</td>\n",
       "      <td>4</td>\n",
       "      <td>3</td>\n",
       "      <td>High</td>\n",
       "      <td>Stocky</td>\n",
       "      <td>CM</td>\n",
       "      <td>2020</td>\n",
       "      <td>5'9</td>\n",
       "      <td>154lbs</td>\n",
       "      <td>86</td>\n",
       "      <td>62</td>\n",
       "      <td>66</td>\n",
       "      <td>84</td>\n",
       "      <td>76</td>\n",
       "      <td>76</td>\n",
       "      <td>81</td>\n",
       "      <td>75</td>\n",
       "      <td>81</td>\n",
       "      <td>79</td>\n",
       "      <td>63</td>\n",
       "      <td>62</td>\n",
       "      <td>69</td>\n",
       "      <td>84</td>\n",
       "      <td>73</td>\n",
       "      <td>82</td>\n",
       "      <td>62</td>\n",
       "      <td>91</td>\n",
       "      <td>71</td>\n",
       "      <td>70</td>\n",
       "      <td>82</td>\n",
       "      <td>79</td>\n",
       "      <td>72</td>\n",
       "      <td>79</td>\n",
       "      <td>83</td>\n",
       "      <td>86</td>\n",
       "      <td>74</td>\n",
       "      <td>80</td>\n",
       "      <td>79</td>\n",
       "      <td>1</td>\n",
       "      <td>1</td>\n",
       "      <td>1</td>\n",
       "      <td>1</td>\n",
       "      <td>1</td>\n",
       "      <td>CM</td>\n",
       "    </tr>\n",
       "    <tr>\n",
       "      <th>481</th>\n",
       "      <td>198784</td>\n",
       "      <td>A. Oxlade-Chamberlain</td>\n",
       "      <td>24</td>\n",
       "      <td>England</td>\n",
       "      <td>80</td>\n",
       "      <td>85</td>\n",
       "      <td>Liverpool</td>\n",
       "      <td>2e+07</td>\n",
       "      <td>94000</td>\n",
       "      <td>1</td>\n",
       "      <td>2</td>\n",
       "      <td>4</td>\n",
       "      <td>4</td>\n",
       "      <td>High</td>\n",
       "      <td>Stocky</td>\n",
       "      <td>CM</td>\n",
       "      <td>2022</td>\n",
       "      <td>5'9</td>\n",
       "      <td>154lbs</td>\n",
       "      <td>78</td>\n",
       "      <td>69</td>\n",
       "      <td>39</td>\n",
       "      <td>80</td>\n",
       "      <td>58</td>\n",
       "      <td>84</td>\n",
       "      <td>73</td>\n",
       "      <td>60</td>\n",
       "      <td>75</td>\n",
       "      <td>84</td>\n",
       "      <td>84</td>\n",
       "      <td>85</td>\n",
       "      <td>81</td>\n",
       "      <td>78</td>\n",
       "      <td>88</td>\n",
       "      <td>80</td>\n",
       "      <td>69</td>\n",
       "      <td>82</td>\n",
       "      <td>72</td>\n",
       "      <td>76</td>\n",
       "      <td>77</td>\n",
       "      <td>72</td>\n",
       "      <td>79</td>\n",
       "      <td>81</td>\n",
       "      <td>69</td>\n",
       "      <td>77</td>\n",
       "      <td>67</td>\n",
       "      <td>70</td>\n",
       "      <td>66</td>\n",
       "      <td>16</td>\n",
       "      <td>9</td>\n",
       "      <td>6</td>\n",
       "      <td>9</td>\n",
       "      <td>9</td>\n",
       "      <td>CM</td>\n",
       "    </tr>\n",
       "    <tr>\n",
       "      <th>483</th>\n",
       "      <td>197061</td>\n",
       "      <td>J. Matip</td>\n",
       "      <td>26</td>\n",
       "      <td>Cameroon</td>\n",
       "      <td>80</td>\n",
       "      <td>82</td>\n",
       "      <td>Liverpool</td>\n",
       "      <td>2e+07</td>\n",
       "      <td>99000</td>\n",
       "      <td>1</td>\n",
       "      <td>2</td>\n",
       "      <td>2</td>\n",
       "      <td>2</td>\n",
       "      <td>Medium</td>\n",
       "      <td>Lean</td>\n",
       "      <td>CB</td>\n",
       "      <td>2020</td>\n",
       "      <td>6'4</td>\n",
       "      <td>198lbs</td>\n",
       "      <td>54</td>\n",
       "      <td>36</td>\n",
       "      <td>82</td>\n",
       "      <td>77</td>\n",
       "      <td>50</td>\n",
       "      <td>65</td>\n",
       "      <td>63</td>\n",
       "      <td>22</td>\n",
       "      <td>74</td>\n",
       "      <td>69</td>\n",
       "      <td>55</td>\n",
       "      <td>69</td>\n",
       "      <td>55</td>\n",
       "      <td>80</td>\n",
       "      <td>47</td>\n",
       "      <td>66</td>\n",
       "      <td>66</td>\n",
       "      <td>73</td>\n",
       "      <td>77</td>\n",
       "      <td>48</td>\n",
       "      <td>75</td>\n",
       "      <td>83</td>\n",
       "      <td>51</td>\n",
       "      <td>72</td>\n",
       "      <td>42</td>\n",
       "      <td>75</td>\n",
       "      <td>80</td>\n",
       "      <td>84</td>\n",
       "      <td>78</td>\n",
       "      <td>11</td>\n",
       "      <td>15</td>\n",
       "      <td>10</td>\n",
       "      <td>7</td>\n",
       "      <td>10</td>\n",
       "      <td>CB</td>\n",
       "    </tr>\n",
       "    <tr>\n",
       "      <th>515</th>\n",
       "      <td>180819</td>\n",
       "      <td>A. Lallana</td>\n",
       "      <td>30</td>\n",
       "      <td>England</td>\n",
       "      <td>80</td>\n",
       "      <td>80</td>\n",
       "      <td>Liverpool</td>\n",
       "      <td>1e+07</td>\n",
       "      <td>110000</td>\n",
       "      <td>1</td>\n",
       "      <td>3</td>\n",
       "      <td>5</td>\n",
       "      <td>4</td>\n",
       "      <td>High</td>\n",
       "      <td>Lean</td>\n",
       "      <td>CM</td>\n",
       "      <td>2021</td>\n",
       "      <td>5'10</td>\n",
       "      <td>161lbs</td>\n",
       "      <td>74</td>\n",
       "      <td>72</td>\n",
       "      <td>67</td>\n",
       "      <td>84</td>\n",
       "      <td>72</td>\n",
       "      <td>84</td>\n",
       "      <td>77</td>\n",
       "      <td>66</td>\n",
       "      <td>76</td>\n",
       "      <td>85</td>\n",
       "      <td>70</td>\n",
       "      <td>69</td>\n",
       "      <td>78</td>\n",
       "      <td>74</td>\n",
       "      <td>75</td>\n",
       "      <td>72</td>\n",
       "      <td>70</td>\n",
       "      <td>77</td>\n",
       "      <td>64</td>\n",
       "      <td>71</td>\n",
       "      <td>76</td>\n",
       "      <td>64</td>\n",
       "      <td>75</td>\n",
       "      <td>83</td>\n",
       "      <td>70</td>\n",
       "      <td>80</td>\n",
       "      <td>61</td>\n",
       "      <td>64</td>\n",
       "      <td>62</td>\n",
       "      <td>6</td>\n",
       "      <td>15</td>\n",
       "      <td>14</td>\n",
       "      <td>8</td>\n",
       "      <td>11</td>\n",
       "      <td>CM</td>\n",
       "    </tr>\n",
       "    <tr>\n",
       "      <th>529</th>\n",
       "      <td>171833</td>\n",
       "      <td>D. Sturridge</td>\n",
       "      <td>28</td>\n",
       "      <td>England</td>\n",
       "      <td>80</td>\n",
       "      <td>80</td>\n",
       "      <td>Liverpool</td>\n",
       "      <td>2e+07</td>\n",
       "      <td>125000</td>\n",
       "      <td>0</td>\n",
       "      <td>3</td>\n",
       "      <td>2</td>\n",
       "      <td>4</td>\n",
       "      <td>Medium</td>\n",
       "      <td>Normal</td>\n",
       "      <td>ST</td>\n",
       "      <td>2019</td>\n",
       "      <td>5'11</td>\n",
       "      <td>168lbs</td>\n",
       "      <td>62</td>\n",
       "      <td>83</td>\n",
       "      <td>70</td>\n",
       "      <td>72</td>\n",
       "      <td>73</td>\n",
       "      <td>79</td>\n",
       "      <td>62</td>\n",
       "      <td>68</td>\n",
       "      <td>62</td>\n",
       "      <td>80</td>\n",
       "      <td>72</td>\n",
       "      <td>78</td>\n",
       "      <td>74</td>\n",
       "      <td>78</td>\n",
       "      <td>64</td>\n",
       "      <td>82</td>\n",
       "      <td>70</td>\n",
       "      <td>55</td>\n",
       "      <td>66</td>\n",
       "      <td>79</td>\n",
       "      <td>60</td>\n",
       "      <td>22</td>\n",
       "      <td>81</td>\n",
       "      <td>74</td>\n",
       "      <td>75</td>\n",
       "      <td>81</td>\n",
       "      <td>11</td>\n",
       "      <td>24</td>\n",
       "      <td>12</td>\n",
       "      <td>7</td>\n",
       "      <td>15</td>\n",
       "      <td>9</td>\n",
       "      <td>5</td>\n",
       "      <td>13</td>\n",
       "      <td>ST</td>\n",
       "    </tr>\n",
       "    <tr>\n",
       "      <th>665</th>\n",
       "      <td>190456</td>\n",
       "      <td>N. Clyne</td>\n",
       "      <td>27</td>\n",
       "      <td>England</td>\n",
       "      <td>79</td>\n",
       "      <td>80</td>\n",
       "      <td>Liverpool</td>\n",
       "      <td>1e+07</td>\n",
       "      <td>94000</td>\n",
       "      <td>1</td>\n",
       "      <td>2</td>\n",
       "      <td>2</td>\n",
       "      <td>3</td>\n",
       "      <td>High</td>\n",
       "      <td>Normal</td>\n",
       "      <td>RB</td>\n",
       "      <td>2020</td>\n",
       "      <td>5'9</td>\n",
       "      <td>148lbs</td>\n",
       "      <td>78</td>\n",
       "      <td>54</td>\n",
       "      <td>68</td>\n",
       "      <td>75</td>\n",
       "      <td>45</td>\n",
       "      <td>76</td>\n",
       "      <td>64</td>\n",
       "      <td>39</td>\n",
       "      <td>66</td>\n",
       "      <td>78</td>\n",
       "      <td>77</td>\n",
       "      <td>78</td>\n",
       "      <td>79</td>\n",
       "      <td>75</td>\n",
       "      <td>75</td>\n",
       "      <td>74</td>\n",
       "      <td>69</td>\n",
       "      <td>76</td>\n",
       "      <td>67</td>\n",
       "      <td>69</td>\n",
       "      <td>76</td>\n",
       "      <td>79</td>\n",
       "      <td>72</td>\n",
       "      <td>64</td>\n",
       "      <td>46</td>\n",
       "      <td>75</td>\n",
       "      <td>78</td>\n",
       "      <td>81</td>\n",
       "      <td>82</td>\n",
       "      <td>10</td>\n",
       "      <td>11</td>\n",
       "      <td>13</td>\n",
       "      <td>15</td>\n",
       "      <td>7</td>\n",
       "      <td>FB</td>\n",
       "    </tr>\n",
       "    <tr>\n",
       "      <th>703</th>\n",
       "      <td>173426</td>\n",
       "      <td>S. Mignolet</td>\n",
       "      <td>30</td>\n",
       "      <td>Belgium</td>\n",
       "      <td>79</td>\n",
       "      <td>79</td>\n",
       "      <td>Liverpool</td>\n",
       "      <td>8e+06</td>\n",
       "      <td>76000</td>\n",
       "      <td>1</td>\n",
       "      <td>3</td>\n",
       "      <td>2</td>\n",
       "      <td>1</td>\n",
       "      <td>Medium</td>\n",
       "      <td>Normal</td>\n",
       "      <td>GK</td>\n",
       "      <td>2021</td>\n",
       "      <td>6'4</td>\n",
       "      <td>192lbs</td>\n",
       "      <td>11</td>\n",
       "      <td>11</td>\n",
       "      <td>16</td>\n",
       "      <td>37</td>\n",
       "      <td>16</td>\n",
       "      <td>14</td>\n",
       "      <td>16</td>\n",
       "      <td>12</td>\n",
       "      <td>34</td>\n",
       "      <td>26</td>\n",
       "      <td>50</td>\n",
       "      <td>52</td>\n",
       "      <td>34</td>\n",
       "      <td>74</td>\n",
       "      <td>52</td>\n",
       "      <td>45</td>\n",
       "      <td>69</td>\n",
       "      <td>31</td>\n",
       "      <td>72</td>\n",
       "      <td>16</td>\n",
       "      <td>34</td>\n",
       "      <td>21</td>\n",
       "      <td>14</td>\n",
       "      <td>43</td>\n",
       "      <td>41</td>\n",
       "      <td>61</td>\n",
       "      <td>7</td>\n",
       "      <td>14</td>\n",
       "      <td>16</td>\n",
       "      <td>80</td>\n",
       "      <td>74</td>\n",
       "      <td>64</td>\n",
       "      <td>76</td>\n",
       "      <td>82</td>\n",
       "      <td>GK</td>\n",
       "    </tr>\n",
       "    <tr>\n",
       "      <th>735</th>\n",
       "      <td>231281</td>\n",
       "      <td>T. Alexander-Arnold</td>\n",
       "      <td>19</td>\n",
       "      <td>England</td>\n",
       "      <td>78</td>\n",
       "      <td>88</td>\n",
       "      <td>Liverpool</td>\n",
       "      <td>1e+07</td>\n",
       "      <td>36000</td>\n",
       "      <td>1</td>\n",
       "      <td>1</td>\n",
       "      <td>3</td>\n",
       "      <td>3</td>\n",
       "      <td>High</td>\n",
       "      <td>Lean</td>\n",
       "      <td>RB</td>\n",
       "      <td>2021</td>\n",
       "      <td>5'11</td>\n",
       "      <td>152lbs</td>\n",
       "      <td>83</td>\n",
       "      <td>56</td>\n",
       "      <td>59</td>\n",
       "      <td>76</td>\n",
       "      <td>41</td>\n",
       "      <td>72</td>\n",
       "      <td>74</td>\n",
       "      <td>74</td>\n",
       "      <td>75</td>\n",
       "      <td>72</td>\n",
       "      <td>82</td>\n",
       "      <td>79</td>\n",
       "      <td>74</td>\n",
       "      <td>75</td>\n",
       "      <td>74</td>\n",
       "      <td>70</td>\n",
       "      <td>66</td>\n",
       "      <td>79</td>\n",
       "      <td>62</td>\n",
       "      <td>63</td>\n",
       "      <td>73</td>\n",
       "      <td>76</td>\n",
       "      <td>62</td>\n",
       "      <td>72</td>\n",
       "      <td>55</td>\n",
       "      <td>74</td>\n",
       "      <td>75</td>\n",
       "      <td>76</td>\n",
       "      <td>74</td>\n",
       "      <td>14</td>\n",
       "      <td>15</td>\n",
       "      <td>14</td>\n",
       "      <td>6</td>\n",
       "      <td>7</td>\n",
       "      <td>FB</td>\n",
       "    </tr>\n",
       "    <tr>\n",
       "      <th>755</th>\n",
       "      <td>225100</td>\n",
       "      <td>J. Gomez</td>\n",
       "      <td>21</td>\n",
       "      <td>England</td>\n",
       "      <td>78</td>\n",
       "      <td>88</td>\n",
       "      <td>Liverpool</td>\n",
       "      <td>1e+07</td>\n",
       "      <td>61000</td>\n",
       "      <td>1</td>\n",
       "      <td>1</td>\n",
       "      <td>3</td>\n",
       "      <td>3</td>\n",
       "      <td>Medium</td>\n",
       "      <td>Normal</td>\n",
       "      <td>CB</td>\n",
       "      <td>2024</td>\n",
       "      <td>6'2</td>\n",
       "      <td>170lbs</td>\n",
       "      <td>69</td>\n",
       "      <td>26</td>\n",
       "      <td>68</td>\n",
       "      <td>72</td>\n",
       "      <td>24</td>\n",
       "      <td>67</td>\n",
       "      <td>41</td>\n",
       "      <td>29</td>\n",
       "      <td>57</td>\n",
       "      <td>68</td>\n",
       "      <td>80</td>\n",
       "      <td>83</td>\n",
       "      <td>64</td>\n",
       "      <td>77</td>\n",
       "      <td>66</td>\n",
       "      <td>41</td>\n",
       "      <td>66</td>\n",
       "      <td>74</td>\n",
       "      <td>80</td>\n",
       "      <td>26</td>\n",
       "      <td>70</td>\n",
       "      <td>81</td>\n",
       "      <td>51</td>\n",
       "      <td>52</td>\n",
       "      <td>26</td>\n",
       "      <td>69</td>\n",
       "      <td>78</td>\n",
       "      <td>80</td>\n",
       "      <td>77</td>\n",
       "      <td>8</td>\n",
       "      <td>13</td>\n",
       "      <td>14</td>\n",
       "      <td>7</td>\n",
       "      <td>7</td>\n",
       "      <td>CB</td>\n",
       "    </tr>\n",
       "    <tr>\n",
       "      <th>1063</th>\n",
       "      <td>213135</td>\n",
       "      <td>D. Origi</td>\n",
       "      <td>23</td>\n",
       "      <td>Belgium</td>\n",
       "      <td>77</td>\n",
       "      <td>82</td>\n",
       "      <td>Liverpool</td>\n",
       "      <td>1e+07</td>\n",
       "      <td>83000</td>\n",
       "      <td>1</td>\n",
       "      <td>2</td>\n",
       "      <td>3</td>\n",
       "      <td>4</td>\n",
       "      <td>High</td>\n",
       "      <td>Normal</td>\n",
       "      <td>ST</td>\n",
       "      <td>2019</td>\n",
       "      <td>6'1</td>\n",
       "      <td>165lbs</td>\n",
       "      <td>69</td>\n",
       "      <td>75</td>\n",
       "      <td>73</td>\n",
       "      <td>74</td>\n",
       "      <td>69</td>\n",
       "      <td>76</td>\n",
       "      <td>54</td>\n",
       "      <td>40</td>\n",
       "      <td>59</td>\n",
       "      <td>74</td>\n",
       "      <td>76</td>\n",
       "      <td>79</td>\n",
       "      <td>72</td>\n",
       "      <td>76</td>\n",
       "      <td>64</td>\n",
       "      <td>79</td>\n",
       "      <td>73</td>\n",
       "      <td>65</td>\n",
       "      <td>76</td>\n",
       "      <td>69</td>\n",
       "      <td>69</td>\n",
       "      <td>28</td>\n",
       "      <td>78</td>\n",
       "      <td>69</td>\n",
       "      <td>65</td>\n",
       "      <td>72</td>\n",
       "      <td>16</td>\n",
       "      <td>24</td>\n",
       "      <td>18</td>\n",
       "      <td>15</td>\n",
       "      <td>13</td>\n",
       "      <td>16</td>\n",
       "      <td>11</td>\n",
       "      <td>15</td>\n",
       "      <td>ST</td>\n",
       "    </tr>\n",
       "    <tr>\n",
       "      <th>1194</th>\n",
       "      <td>205566</td>\n",
       "      <td>Alberto Moreno</td>\n",
       "      <td>25</td>\n",
       "      <td>Spain</td>\n",
       "      <td>77</td>\n",
       "      <td>79</td>\n",
       "      <td>Liverpool</td>\n",
       "      <td>9e+06</td>\n",
       "      <td>76000</td>\n",
       "      <td>0</td>\n",
       "      <td>2</td>\n",
       "      <td>3</td>\n",
       "      <td>3</td>\n",
       "      <td>High</td>\n",
       "      <td>Normal</td>\n",
       "      <td>LB</td>\n",
       "      <td>2019</td>\n",
       "      <td>5'7</td>\n",
       "      <td>143lbs</td>\n",
       "      <td>78</td>\n",
       "      <td>59</td>\n",
       "      <td>61</td>\n",
       "      <td>74</td>\n",
       "      <td>35</td>\n",
       "      <td>76</td>\n",
       "      <td>59</td>\n",
       "      <td>40</td>\n",
       "      <td>64</td>\n",
       "      <td>79</td>\n",
       "      <td>85</td>\n",
       "      <td>87</td>\n",
       "      <td>84</td>\n",
       "      <td>72</td>\n",
       "      <td>87</td>\n",
       "      <td>80</td>\n",
       "      <td>86</td>\n",
       "      <td>81</td>\n",
       "      <td>61</td>\n",
       "      <td>74</td>\n",
       "      <td>83</td>\n",
       "      <td>72</td>\n",
       "      <td>69</td>\n",
       "      <td>58</td>\n",
       "      <td>54</td>\n",
       "      <td>63</td>\n",
       "      <td>68</td>\n",
       "      <td>73</td>\n",
       "      <td>76</td>\n",
       "      <td>10</td>\n",
       "      <td>14</td>\n",
       "      <td>9</td>\n",
       "      <td>10</td>\n",
       "      <td>11</td>\n",
       "      <td>FB</td>\n",
       "    </tr>\n",
       "    <tr>\n",
       "      <th>2405</th>\n",
       "      <td>212125</td>\n",
       "      <td>L. Marković</td>\n",
       "      <td>24</td>\n",
       "      <td>Serbia</td>\n",
       "      <td>74</td>\n",
       "      <td>77</td>\n",
       "      <td>Liverpool</td>\n",
       "      <td>7e+06</td>\n",
       "      <td>62000</td>\n",
       "      <td>1</td>\n",
       "      <td>2</td>\n",
       "      <td>3</td>\n",
       "      <td>4</td>\n",
       "      <td>Medium</td>\n",
       "      <td>Lean</td>\n",
       "      <td>RM</td>\n",
       "      <td>2019</td>\n",
       "      <td>5'9</td>\n",
       "      <td>143lbs</td>\n",
       "      <td>69</td>\n",
       "      <td>66</td>\n",
       "      <td>58</td>\n",
       "      <td>72</td>\n",
       "      <td>68</td>\n",
       "      <td>80</td>\n",
       "      <td>79</td>\n",
       "      <td>62</td>\n",
       "      <td>64</td>\n",
       "      <td>79</td>\n",
       "      <td>82</td>\n",
       "      <td>85</td>\n",
       "      <td>89</td>\n",
       "      <td>73</td>\n",
       "      <td>75</td>\n",
       "      <td>65</td>\n",
       "      <td>78</td>\n",
       "      <td>49</td>\n",
       "      <td>49</td>\n",
       "      <td>64</td>\n",
       "      <td>41</td>\n",
       "      <td>49</td>\n",
       "      <td>70</td>\n",
       "      <td>70</td>\n",
       "      <td>70</td>\n",
       "      <td>72</td>\n",
       "      <td>32</td>\n",
       "      <td>39</td>\n",
       "      <td>37</td>\n",
       "      <td>8</td>\n",
       "      <td>9</td>\n",
       "      <td>15</td>\n",
       "      <td>6</td>\n",
       "      <td>7</td>\n",
       "      <td>WING</td>\n",
       "    </tr>\n",
       "    <tr>\n",
       "      <th>4763</th>\n",
       "      <td>225539</td>\n",
       "      <td>D. Solanke</td>\n",
       "      <td>20</td>\n",
       "      <td>England</td>\n",
       "      <td>70</td>\n",
       "      <td>84</td>\n",
       "      <td>Liverpool</td>\n",
       "      <td>4e+06</td>\n",
       "      <td>37000</td>\n",
       "      <td>1</td>\n",
       "      <td>1</td>\n",
       "      <td>3</td>\n",
       "      <td>3</td>\n",
       "      <td>High</td>\n",
       "      <td>Lean</td>\n",
       "      <td>ST</td>\n",
       "      <td>2022</td>\n",
       "      <td>6'2</td>\n",
       "      <td>176lbs</td>\n",
       "      <td>54</td>\n",
       "      <td>71</td>\n",
       "      <td>64</td>\n",
       "      <td>70</td>\n",
       "      <td>65</td>\n",
       "      <td>73</td>\n",
       "      <td>54</td>\n",
       "      <td>42</td>\n",
       "      <td>58</td>\n",
       "      <td>75</td>\n",
       "      <td>67</td>\n",
       "      <td>70</td>\n",
       "      <td>69</td>\n",
       "      <td>63</td>\n",
       "      <td>67</td>\n",
       "      <td>73</td>\n",
       "      <td>67</td>\n",
       "      <td>65</td>\n",
       "      <td>72</td>\n",
       "      <td>57</td>\n",
       "      <td>34</td>\n",
       "      <td>22</td>\n",
       "      <td>67</td>\n",
       "      <td>63</td>\n",
       "      <td>71</td>\n",
       "      <td>64</td>\n",
       "      <td>20</td>\n",
       "      <td>15</td>\n",
       "      <td>22</td>\n",
       "      <td>9</td>\n",
       "      <td>15</td>\n",
       "      <td>14</td>\n",
       "      <td>9</td>\n",
       "      <td>10</td>\n",
       "      <td>ST</td>\n",
       "    </tr>\n",
       "    <tr>\n",
       "      <th>8853</th>\n",
       "      <td>224019</td>\n",
       "      <td>Pedro Chirivella</td>\n",
       "      <td>21</td>\n",
       "      <td>Spain</td>\n",
       "      <td>66</td>\n",
       "      <td>75</td>\n",
       "      <td>Liverpool</td>\n",
       "      <td>1e+06</td>\n",
       "      <td>17000</td>\n",
       "      <td>1</td>\n",
       "      <td>1</td>\n",
       "      <td>3</td>\n",
       "      <td>3</td>\n",
       "      <td>Medium</td>\n",
       "      <td>Lean</td>\n",
       "      <td>CM</td>\n",
       "      <td>2020</td>\n",
       "      <td>5'10</td>\n",
       "      <td>146lbs</td>\n",
       "      <td>52</td>\n",
       "      <td>40</td>\n",
       "      <td>55</td>\n",
       "      <td>74</td>\n",
       "      <td>40</td>\n",
       "      <td>65</td>\n",
       "      <td>55</td>\n",
       "      <td>48</td>\n",
       "      <td>61</td>\n",
       "      <td>67</td>\n",
       "      <td>63</td>\n",
       "      <td>66</td>\n",
       "      <td>74</td>\n",
       "      <td>64</td>\n",
       "      <td>65</td>\n",
       "      <td>62</td>\n",
       "      <td>52</td>\n",
       "      <td>74</td>\n",
       "      <td>64</td>\n",
       "      <td>40</td>\n",
       "      <td>78</td>\n",
       "      <td>68</td>\n",
       "      <td>53</td>\n",
       "      <td>66</td>\n",
       "      <td>49</td>\n",
       "      <td>72</td>\n",
       "      <td>43</td>\n",
       "      <td>61</td>\n",
       "      <td>66</td>\n",
       "      <td>13</td>\n",
       "      <td>14</td>\n",
       "      <td>12</td>\n",
       "      <td>8</td>\n",
       "      <td>14</td>\n",
       "      <td>CM</td>\n",
       "    </tr>\n",
       "    <tr>\n",
       "      <th>13503</th>\n",
       "      <td>238460</td>\n",
       "      <td>R. Brewster</td>\n",
       "      <td>18</td>\n",
       "      <td>England</td>\n",
       "      <td>62</td>\n",
       "      <td>84</td>\n",
       "      <td>Liverpool</td>\n",
       "      <td>7e+05</td>\n",
       "      <td>8000</td>\n",
       "      <td>1</td>\n",
       "      <td>1</td>\n",
       "      <td>3</td>\n",
       "      <td>3</td>\n",
       "      <td>High</td>\n",
       "      <td>Lean</td>\n",
       "      <td>ST</td>\n",
       "      <td>2023</td>\n",
       "      <td>5'9</td>\n",
       "      <td>165lbs</td>\n",
       "      <td>50</td>\n",
       "      <td>66</td>\n",
       "      <td>55</td>\n",
       "      <td>50</td>\n",
       "      <td>51</td>\n",
       "      <td>60</td>\n",
       "      <td>41</td>\n",
       "      <td>50</td>\n",
       "      <td>48</td>\n",
       "      <td>59</td>\n",
       "      <td>78</td>\n",
       "      <td>76</td>\n",
       "      <td>76</td>\n",
       "      <td>60</td>\n",
       "      <td>77</td>\n",
       "      <td>54</td>\n",
       "      <td>68</td>\n",
       "      <td>57</td>\n",
       "      <td>55</td>\n",
       "      <td>55</td>\n",
       "      <td>40</td>\n",
       "      <td>12</td>\n",
       "      <td>64</td>\n",
       "      <td>54</td>\n",
       "      <td>55</td>\n",
       "      <td>58</td>\n",
       "      <td>14</td>\n",
       "      <td>17</td>\n",
       "      <td>17</td>\n",
       "      <td>7</td>\n",
       "      <td>12</td>\n",
       "      <td>10</td>\n",
       "      <td>8</td>\n",
       "      <td>5</td>\n",
       "      <td>ST</td>\n",
       "    </tr>\n",
       "    <tr>\n",
       "      <th>13961</th>\n",
       "      <td>242434</td>\n",
       "      <td>C. Jones</td>\n",
       "      <td>17</td>\n",
       "      <td>England</td>\n",
       "      <td>61</td>\n",
       "      <td>82</td>\n",
       "      <td>Liverpool</td>\n",
       "      <td>6e+05</td>\n",
       "      <td>7000</td>\n",
       "      <td>1</td>\n",
       "      <td>1</td>\n",
       "      <td>3</td>\n",
       "      <td>3</td>\n",
       "      <td>High</td>\n",
       "      <td>Lean</td>\n",
       "      <td>CM</td>\n",
       "      <td>2021</td>\n",
       "      <td>6'0</td>\n",
       "      <td>150lbs</td>\n",
       "      <td>54</td>\n",
       "      <td>56</td>\n",
       "      <td>50</td>\n",
       "      <td>64</td>\n",
       "      <td>53</td>\n",
       "      <td>65</td>\n",
       "      <td>54</td>\n",
       "      <td>47</td>\n",
       "      <td>61</td>\n",
       "      <td>65</td>\n",
       "      <td>64</td>\n",
       "      <td>63</td>\n",
       "      <td>73</td>\n",
       "      <td>58</td>\n",
       "      <td>71</td>\n",
       "      <td>60</td>\n",
       "      <td>57</td>\n",
       "      <td>53</td>\n",
       "      <td>51</td>\n",
       "      <td>55</td>\n",
       "      <td>65</td>\n",
       "      <td>44</td>\n",
       "      <td>55</td>\n",
       "      <td>64</td>\n",
       "      <td>50</td>\n",
       "      <td>62</td>\n",
       "      <td>47</td>\n",
       "      <td>49</td>\n",
       "      <td>47</td>\n",
       "      <td>6</td>\n",
       "      <td>13</td>\n",
       "      <td>7</td>\n",
       "      <td>11</td>\n",
       "      <td>7</td>\n",
       "      <td>CM</td>\n",
       "    </tr>\n",
       "    <tr>\n",
       "      <th>14036</th>\n",
       "      <td>240926</td>\n",
       "      <td>N. Phillips</td>\n",
       "      <td>21</td>\n",
       "      <td>England</td>\n",
       "      <td>61</td>\n",
       "      <td>74</td>\n",
       "      <td>Liverpool</td>\n",
       "      <td>4e+05</td>\n",
       "      <td>9000</td>\n",
       "      <td>1</td>\n",
       "      <td>1</td>\n",
       "      <td>3</td>\n",
       "      <td>2</td>\n",
       "      <td>Medium</td>\n",
       "      <td>Lean</td>\n",
       "      <td>CB</td>\n",
       "      <td>2021</td>\n",
       "      <td>6'2</td>\n",
       "      <td>154lbs</td>\n",
       "      <td>30</td>\n",
       "      <td>23</td>\n",
       "      <td>62</td>\n",
       "      <td>56</td>\n",
       "      <td>30</td>\n",
       "      <td>33</td>\n",
       "      <td>29</td>\n",
       "      <td>35</td>\n",
       "      <td>45</td>\n",
       "      <td>40</td>\n",
       "      <td>52</td>\n",
       "      <td>52</td>\n",
       "      <td>42</td>\n",
       "      <td>56</td>\n",
       "      <td>57</td>\n",
       "      <td>45</td>\n",
       "      <td>64</td>\n",
       "      <td>59</td>\n",
       "      <td>70</td>\n",
       "      <td>21</td>\n",
       "      <td>60</td>\n",
       "      <td>58</td>\n",
       "      <td>25</td>\n",
       "      <td>39</td>\n",
       "      <td>45</td>\n",
       "      <td>55</td>\n",
       "      <td>58</td>\n",
       "      <td>62</td>\n",
       "      <td>59</td>\n",
       "      <td>9</td>\n",
       "      <td>6</td>\n",
       "      <td>6</td>\n",
       "      <td>12</td>\n",
       "      <td>10</td>\n",
       "      <td>CB</td>\n",
       "    </tr>\n",
       "    <tr>\n",
       "      <th>14252</th>\n",
       "      <td>243055</td>\n",
       "      <td>Rafael Camacho</td>\n",
       "      <td>18</td>\n",
       "      <td>Portugal</td>\n",
       "      <td>61</td>\n",
       "      <td>81</td>\n",
       "      <td>Liverpool</td>\n",
       "      <td>5e+05</td>\n",
       "      <td>7000</td>\n",
       "      <td>1</td>\n",
       "      <td>1</td>\n",
       "      <td>3</td>\n",
       "      <td>3</td>\n",
       "      <td>Medium</td>\n",
       "      <td>Lean</td>\n",
       "      <td>CAM</td>\n",
       "      <td>2020</td>\n",
       "      <td>5'9</td>\n",
       "      <td>143lbs</td>\n",
       "      <td>58</td>\n",
       "      <td>58</td>\n",
       "      <td>48</td>\n",
       "      <td>59</td>\n",
       "      <td>50</td>\n",
       "      <td>63</td>\n",
       "      <td>56</td>\n",
       "      <td>47</td>\n",
       "      <td>55</td>\n",
       "      <td>64</td>\n",
       "      <td>69</td>\n",
       "      <td>68</td>\n",
       "      <td>65</td>\n",
       "      <td>56</td>\n",
       "      <td>75</td>\n",
       "      <td>57</td>\n",
       "      <td>50</td>\n",
       "      <td>41</td>\n",
       "      <td>46</td>\n",
       "      <td>52</td>\n",
       "      <td>43</td>\n",
       "      <td>39</td>\n",
       "      <td>55</td>\n",
       "      <td>58</td>\n",
       "      <td>55</td>\n",
       "      <td>63</td>\n",
       "      <td>42</td>\n",
       "      <td>44</td>\n",
       "      <td>38</td>\n",
       "      <td>9</td>\n",
       "      <td>14</td>\n",
       "      <td>7</td>\n",
       "      <td>6</td>\n",
       "      <td>14</td>\n",
       "      <td>AM</td>\n",
       "    </tr>\n",
       "    <tr>\n",
       "      <th>14674</th>\n",
       "      <td>240906</td>\n",
       "      <td>B. Adekanye</td>\n",
       "      <td>19</td>\n",
       "      <td>Netherlands</td>\n",
       "      <td>60</td>\n",
       "      <td>80</td>\n",
       "      <td>Liverpool</td>\n",
       "      <td>4e+05</td>\n",
       "      <td>7000</td>\n",
       "      <td>0</td>\n",
       "      <td>1</td>\n",
       "      <td>2</td>\n",
       "      <td>3</td>\n",
       "      <td>Medium</td>\n",
       "      <td>Normal</td>\n",
       "      <td>RW</td>\n",
       "      <td>2019</td>\n",
       "      <td>5'7</td>\n",
       "      <td>137lbs</td>\n",
       "      <td>54</td>\n",
       "      <td>58</td>\n",
       "      <td>49</td>\n",
       "      <td>56</td>\n",
       "      <td>55</td>\n",
       "      <td>64</td>\n",
       "      <td>49</td>\n",
       "      <td>44</td>\n",
       "      <td>46</td>\n",
       "      <td>64</td>\n",
       "      <td>75</td>\n",
       "      <td>73</td>\n",
       "      <td>68</td>\n",
       "      <td>50</td>\n",
       "      <td>74</td>\n",
       "      <td>63</td>\n",
       "      <td>53</td>\n",
       "      <td>55</td>\n",
       "      <td>64</td>\n",
       "      <td>48</td>\n",
       "      <td>45</td>\n",
       "      <td>21</td>\n",
       "      <td>52</td>\n",
       "      <td>49</td>\n",
       "      <td>52</td>\n",
       "      <td>55</td>\n",
       "      <td>25</td>\n",
       "      <td>35</td>\n",
       "      <td>30</td>\n",
       "      <td>8</td>\n",
       "      <td>9</td>\n",
       "      <td>5</td>\n",
       "      <td>11</td>\n",
       "      <td>9</td>\n",
       "      <td>WING</td>\n",
       "    </tr>\n",
       "    <tr>\n",
       "      <th>15378</th>\n",
       "      <td>228383</td>\n",
       "      <td>K. Grabara</td>\n",
       "      <td>19</td>\n",
       "      <td>Poland</td>\n",
       "      <td>59</td>\n",
       "      <td>76</td>\n",
       "      <td>Liverpool</td>\n",
       "      <td>3e+05</td>\n",
       "      <td>3000</td>\n",
       "      <td>1</td>\n",
       "      <td>1</td>\n",
       "      <td>3</td>\n",
       "      <td>1</td>\n",
       "      <td>Medium</td>\n",
       "      <td>Lean</td>\n",
       "      <td>GK</td>\n",
       "      <td>2022</td>\n",
       "      <td>6'3</td>\n",
       "      <td>165lbs</td>\n",
       "      <td>18</td>\n",
       "      <td>13</td>\n",
       "      <td>12</td>\n",
       "      <td>31</td>\n",
       "      <td>13</td>\n",
       "      <td>19</td>\n",
       "      <td>17</td>\n",
       "      <td>19</td>\n",
       "      <td>19</td>\n",
       "      <td>15</td>\n",
       "      <td>40</td>\n",
       "      <td>38</td>\n",
       "      <td>38</td>\n",
       "      <td>56</td>\n",
       "      <td>41</td>\n",
       "      <td>21</td>\n",
       "      <td>52</td>\n",
       "      <td>29</td>\n",
       "      <td>50</td>\n",
       "      <td>14</td>\n",
       "      <td>26</td>\n",
       "      <td>14</td>\n",
       "      <td>5</td>\n",
       "      <td>30</td>\n",
       "      <td>17</td>\n",
       "      <td>50</td>\n",
       "      <td>5</td>\n",
       "      <td>19</td>\n",
       "      <td>13</td>\n",
       "      <td>60</td>\n",
       "      <td>57</td>\n",
       "      <td>52</td>\n",
       "      <td>56</td>\n",
       "      <td>60</td>\n",
       "      <td>GK</td>\n",
       "    </tr>\n",
       "    <tr>\n",
       "      <th>15627</th>\n",
       "      <td>242085</td>\n",
       "      <td>M. Virtue</td>\n",
       "      <td>21</td>\n",
       "      <td>England</td>\n",
       "      <td>59</td>\n",
       "      <td>71</td>\n",
       "      <td>Liverpool</td>\n",
       "      <td>2e+05</td>\n",
       "      <td>8000</td>\n",
       "      <td>1</td>\n",
       "      <td>1</td>\n",
       "      <td>3</td>\n",
       "      <td>2</td>\n",
       "      <td>Medium</td>\n",
       "      <td>Lean</td>\n",
       "      <td>CDM</td>\n",
       "      <td>2019</td>\n",
       "      <td>5'9</td>\n",
       "      <td>146lbs</td>\n",
       "      <td>45</td>\n",
       "      <td>42</td>\n",
       "      <td>49</td>\n",
       "      <td>64</td>\n",
       "      <td>40</td>\n",
       "      <td>54</td>\n",
       "      <td>41</td>\n",
       "      <td>42</td>\n",
       "      <td>63</td>\n",
       "      <td>57</td>\n",
       "      <td>70</td>\n",
       "      <td>68</td>\n",
       "      <td>77</td>\n",
       "      <td>58</td>\n",
       "      <td>80</td>\n",
       "      <td>63</td>\n",
       "      <td>69</td>\n",
       "      <td>56</td>\n",
       "      <td>50</td>\n",
       "      <td>47</td>\n",
       "      <td>67</td>\n",
       "      <td>52</td>\n",
       "      <td>38</td>\n",
       "      <td>50</td>\n",
       "      <td>56</td>\n",
       "      <td>55</td>\n",
       "      <td>49</td>\n",
       "      <td>62</td>\n",
       "      <td>61</td>\n",
       "      <td>5</td>\n",
       "      <td>9</td>\n",
       "      <td>13</td>\n",
       "      <td>12</td>\n",
       "      <td>14</td>\n",
       "      <td>CDM</td>\n",
       "    </tr>\n",
       "  </tbody>\n",
       "</table>\n",
       "</div>"
      ],
      "text/plain": [
       "           ID                   Name  Age  Nationality  Overall  Potential  \\\n",
       "26     209331               M. Salah   26        Egypt       88         89   \n",
       "58     208722                S. Mané   26      Senegal       86         87   \n",
       "59     203376            V. van Dijk   26  Netherlands       86         88   \n",
       "61     201942        Roberto Firmino   26       Brazil       86         87   \n",
       "81     212831                Alisson   25       Brazil       85         90   \n",
       "118    209499                Fabinho   24       Brazil       84         88   \n",
       "161    220971               N. Keïta   23       Guinea       83         88   \n",
       "241    216267           A. Robertson   24     Scotland       82         87   \n",
       "296    183711           J. Henderson   28      England       82         82   \n",
       "302    181291           G. Wijnaldum   27  Netherlands       82         82   \n",
       "368    195086              D. Lovren   28      Croatia       81         82   \n",
       "370    193348             X. Shaqiri   26  Switzerland       81         81   \n",
       "409    138412              J. Milner   32      England       81         81   \n",
       "481    198784  A. Oxlade-Chamberlain   24      England       80         85   \n",
       "483    197061               J. Matip   26     Cameroon       80         82   \n",
       "515    180819             A. Lallana   30      England       80         80   \n",
       "529    171833           D. Sturridge   28      England       80         80   \n",
       "665    190456               N. Clyne   27      England       79         80   \n",
       "703    173426            S. Mignolet   30      Belgium       79         79   \n",
       "735    231281    T. Alexander-Arnold   19      England       78         88   \n",
       "755    225100               J. Gomez   21      England       78         88   \n",
       "1063   213135               D. Origi   23      Belgium       77         82   \n",
       "1194   205566         Alberto Moreno   25        Spain       77         79   \n",
       "2405   212125            L. Marković   24       Serbia       74         77   \n",
       "4763   225539             D. Solanke   20      England       70         84   \n",
       "8853   224019       Pedro Chirivella   21        Spain       66         75   \n",
       "13503  238460            R. Brewster   18      England       62         84   \n",
       "13961  242434               C. Jones   17      England       61         82   \n",
       "14036  240926            N. Phillips   21      England       61         74   \n",
       "14252  243055         Rafael Camacho   18     Portugal       61         81   \n",
       "14674  240906            B. Adekanye   19  Netherlands       60         80   \n",
       "15378  228383             K. Grabara   19       Poland       59         76   \n",
       "15627  242085              M. Virtue   21      England       59         71   \n",
       "\n",
       "            Club  Value    Wage  Preferred Foot  International Reputation  \\\n",
       "26     Liverpool  7e+07  255000               0                         3   \n",
       "58     Liverpool  5e+07  195000               1                         3   \n",
       "59     Liverpool  4e+07  165000               1                         3   \n",
       "61     Liverpool  5e+07  195000               1                         3   \n",
       "81     Liverpool  4e+07  115000               1                         3   \n",
       "118    Liverpool  3e+07  120000               1                         3   \n",
       "161    Liverpool  3e+07  120000               1                         2   \n",
       "241    Liverpool  2e+07   98000               0                         1   \n",
       "296    Liverpool  2e+07  125000               1                         2   \n",
       "302    Liverpool  2e+07  130000               1                         3   \n",
       "368    Liverpool  2e+07  115000               1                         2   \n",
       "370    Liverpool  2e+07  130000               0                         3   \n",
       "409    Liverpool  1e+07  120000               1                         2   \n",
       "481    Liverpool  2e+07   94000               1                         2   \n",
       "483    Liverpool  2e+07   99000               1                         2   \n",
       "515    Liverpool  1e+07  110000               1                         3   \n",
       "529    Liverpool  2e+07  125000               0                         3   \n",
       "665    Liverpool  1e+07   94000               1                         2   \n",
       "703    Liverpool  8e+06   76000               1                         3   \n",
       "735    Liverpool  1e+07   36000               1                         1   \n",
       "755    Liverpool  1e+07   61000               1                         1   \n",
       "1063   Liverpool  1e+07   83000               1                         2   \n",
       "1194   Liverpool  9e+06   76000               0                         2   \n",
       "2405   Liverpool  7e+06   62000               1                         2   \n",
       "4763   Liverpool  4e+06   37000               1                         1   \n",
       "8853   Liverpool  1e+06   17000               1                         1   \n",
       "13503  Liverpool  7e+05    8000               1                         1   \n",
       "13961  Liverpool  6e+05    7000               1                         1   \n",
       "14036  Liverpool  4e+05    9000               1                         1   \n",
       "14252  Liverpool  5e+05    7000               1                         1   \n",
       "14674  Liverpool  4e+05    7000               0                         1   \n",
       "15378  Liverpool  3e+05    3000               1                         1   \n",
       "15627  Liverpool  2e+05    8000               1                         1   \n",
       "\n",
       "       Weak Foot  Skill Moves Work Rate Body Type Position  \\\n",
       "26             3            4      High    Normal       RM   \n",
       "58             4            4      High      Lean       LM   \n",
       "59             3            2    Medium    Normal      LCB   \n",
       "61             4            4      High      Lean      CAM   \n",
       "81             3            1    Medium    Normal       GK   \n",
       "118            2            3    Medium      Lean      CDM   \n",
       "161            4            4      High      Lean       CM   \n",
       "241            2            3      High      Lean       LB   \n",
       "296            3            3    Medium    Normal      RCM   \n",
       "302            3            4      High      Lean      CAM   \n",
       "368            4            2    Medium    Normal      RCB   \n",
       "370            4            5    Medium    Stocky      CAM   \n",
       "409            4            3      High    Stocky       CM   \n",
       "481            4            4      High    Stocky       CM   \n",
       "483            2            2    Medium      Lean       CB   \n",
       "515            5            4      High      Lean       CM   \n",
       "529            2            4    Medium    Normal       ST   \n",
       "665            2            3      High    Normal       RB   \n",
       "703            2            1    Medium    Normal       GK   \n",
       "735            3            3      High      Lean       RB   \n",
       "755            3            3    Medium    Normal       CB   \n",
       "1063           3            4      High    Normal       ST   \n",
       "1194           3            3      High    Normal       LB   \n",
       "2405           3            4    Medium      Lean       RM   \n",
       "4763           3            3      High      Lean       ST   \n",
       "8853           3            3    Medium      Lean       CM   \n",
       "13503          3            3      High      Lean       ST   \n",
       "13961          3            3      High      Lean       CM   \n",
       "14036          3            2    Medium      Lean       CB   \n",
       "14252          3            3    Medium      Lean      CAM   \n",
       "14674          2            3    Medium    Normal       RW   \n",
       "15378          3            1    Medium      Lean       GK   \n",
       "15627          3            2    Medium      Lean      CDM   \n",
       "\n",
       "       Contract Expiration Height  Weight  Crossing  Finishing  \\\n",
       "26                    2023    5'9  157lbs        78         90   \n",
       "58                    2023    5'9  152lbs        73         84   \n",
       "59                    2023    6'4  203lbs        53         52   \n",
       "61                    2023   5'11  168lbs        72         87   \n",
       "81                    2024    6'3  201lbs        17         13   \n",
       "118                   2023    6'2  172lbs        79         66   \n",
       "161                   2023    5'8  141lbs        62         74   \n",
       "241                   2021   5'10  141lbs        86         57   \n",
       "296                   2020    6'0  176lbs        81         67   \n",
       "302                   2021    5'9  152lbs        67         70   \n",
       "368                   2021    6'2  185lbs        59         33   \n",
       "370                   2023    5'7  159lbs        78         71   \n",
       "409                   2020    5'9  154lbs        86         62   \n",
       "481                   2022    5'9  154lbs        78         69   \n",
       "483                   2020    6'4  198lbs        54         36   \n",
       "515                   2021   5'10  161lbs        74         72   \n",
       "529                   2019   5'11  168lbs        62         83   \n",
       "665                   2020    5'9  148lbs        78         54   \n",
       "703                   2021    6'4  192lbs        11         11   \n",
       "735                   2021   5'11  152lbs        83         56   \n",
       "755                   2024    6'2  170lbs        69         26   \n",
       "1063                  2019    6'1  165lbs        69         75   \n",
       "1194                  2019    5'7  143lbs        78         59   \n",
       "2405                  2019    5'9  143lbs        69         66   \n",
       "4763                  2022    6'2  176lbs        54         71   \n",
       "8853                  2020   5'10  146lbs        52         40   \n",
       "13503                 2023    5'9  165lbs        50         66   \n",
       "13961                 2021    6'0  150lbs        54         56   \n",
       "14036                 2021    6'2  154lbs        30         23   \n",
       "14252                 2020    5'9  143lbs        58         58   \n",
       "14674                 2019    5'7  137lbs        54         58   \n",
       "15378                 2022    6'3  165lbs        18         13   \n",
       "15627                 2019    5'9  146lbs        45         42   \n",
       "\n",
       "       HeadingAccuracy  ShortPassing  Volleys  Dribbling  Curve  FKAccuracy  \\\n",
       "26                  59            82       73         89     83          60   \n",
       "58                  62            79       71         87     74          64   \n",
       "59                  82            76       45         70     60          70   \n",
       "61                  77            86       81         87     80          65   \n",
       "81                  19            45       20         27     19          18   \n",
       "118                 75            83       47         76     71          53   \n",
       "161                 42            88       71         88     64          70   \n",
       "241                 63            76       32         76     74          30   \n",
       "296                 65            84       72         73     80          74   \n",
       "302                 72            84       73         84     76          70   \n",
       "368                 80            69       42         63     26          18   \n",
       "370                 45            81       76         86     88          84   \n",
       "409                 66            84       76         76     81          75   \n",
       "481                 39            80       58         84     73          60   \n",
       "483                 82            77       50         65     63          22   \n",
       "515                 67            84       72         84     77          66   \n",
       "529                 70            72       73         79     62          68   \n",
       "665                 68            75       45         76     64          39   \n",
       "703                 16            37       16         14     16          12   \n",
       "735                 59            76       41         72     74          74   \n",
       "755                 68            72       24         67     41          29   \n",
       "1063                73            74       69         76     54          40   \n",
       "1194                61            74       35         76     59          40   \n",
       "2405                58            72       68         80     79          62   \n",
       "4763                64            70       65         73     54          42   \n",
       "8853                55            74       40         65     55          48   \n",
       "13503               55            50       51         60     41          50   \n",
       "13961               50            64       53         65     54          47   \n",
       "14036               62            56       30         33     29          35   \n",
       "14252               48            59       50         63     56          47   \n",
       "14674               49            56       55         64     49          44   \n",
       "15378               12            31       13         19     17          19   \n",
       "15627               49            64       40         54     41          42   \n",
       "\n",
       "       LongPassing  BallControl  Acceleration  SprintSpeed  Agility  \\\n",
       "26              72           88            94           91       91   \n",
       "58              71           86            95           93       91   \n",
       "59              78           73            74           77       61   \n",
       "61              75           88            78           77       80   \n",
       "81              44           30            54           45       40   \n",
       "118             78           82            69           72       69   \n",
       "161             78           88            78           60       89   \n",
       "241             68           78            81           86       78   \n",
       "296             84           80            67           66       70   \n",
       "302             76           84            77           76       80   \n",
       "368             66           67            54           55       50   \n",
       "370             80           84            84           77       84   \n",
       "409             81           79            63           62       69   \n",
       "481             75           84            84           85       81   \n",
       "483             74           69            55           69       55   \n",
       "515             76           85            70           69       78   \n",
       "529             62           80            72           78       74   \n",
       "665             66           78            77           78       79   \n",
       "703             34           26            50           52       34   \n",
       "735             75           72            82           79       74   \n",
       "755             57           68            80           83       64   \n",
       "1063            59           74            76           79       72   \n",
       "1194            64           79            85           87       84   \n",
       "2405            64           79            82           85       89   \n",
       "4763            58           75            67           70       69   \n",
       "8853            61           67            63           66       74   \n",
       "13503           48           59            78           76       76   \n",
       "13961           61           65            64           63       73   \n",
       "14036           45           40            52           52       42   \n",
       "14252           55           64            69           68       65   \n",
       "14674           46           64            75           73       68   \n",
       "15378           19           15            40           38       38   \n",
       "15627           63           57            70           68       77   \n",
       "\n",
       "       Reactions  Balance  ShotPower  Jumping  Stamina  Strength  LongShots  \\\n",
       "26            91       88         77       68       84        70         83   \n",
       "58            86       86         82       75       84        67         74   \n",
       "59            85       49         81       85       71        92         64   \n",
       "61            86       81         81       81       90        74         76   \n",
       "81            84       37         21       52       32        78         14   \n",
       "118           83       67         78       75       92        79         65   \n",
       "161           82       90         76       53       82        58         73   \n",
       "241           81       74         67       59       89        66         60   \n",
       "296           80       70         77       79       91        72         71   \n",
       "302           82       81         76       80       85        72         71   \n",
       "368           75       41         63       81       68        82         34   \n",
       "370           80       91         87       52       75        73         84   \n",
       "409           84       73         82       62       91        71         70   \n",
       "481           78       88         80       69       82        72         76   \n",
       "483           80       47         66       66       73        77         48   \n",
       "515           74       75         72       70       77        64         71   \n",
       "529           78       64         82       70       55        66         79   \n",
       "665           75       75         74       69       76        67         69   \n",
       "703           74       52         45       69       31        72         16   \n",
       "735           75       74         70       66       79        62         63   \n",
       "755           77       66         41       66       74        80         26   \n",
       "1063          76       64         79       73       65        76         69   \n",
       "1194          72       87         80       86       81        61         74   \n",
       "2405          73       75         65       78       49        49         64   \n",
       "4763          63       67         73       67       65        72         57   \n",
       "8853          64       65         62       52       74        64         40   \n",
       "13503         60       77         54       68       57        55         55   \n",
       "13961         58       71         60       57       53        51         55   \n",
       "14036         56       57         45       64       59        70         21   \n",
       "14252         56       75         57       50       41        46         52   \n",
       "14674         50       74         63       53       55        64         48   \n",
       "15378         56       41         21       52       29        50         14   \n",
       "15627         58       80         63       69       56        50         47   \n",
       "\n",
       "       Aggression  Interceptions  Positioning  Vision  Penalties  Composure  \\\n",
       "26             63             55           90      82         61         91   \n",
       "58             73             35           87      82         71         80   \n",
       "59             81             86           41      59         62         83   \n",
       "61             73             58           87      85         72         87   \n",
       "81             27             11           13      66         23         65   \n",
       "118            85             84           70      75         91         84   \n",
       "161            78             75           74      81         58         79   \n",
       "241            78             80           66      74         55         73   \n",
       "296            77             80           75      83         64         78   \n",
       "302            64             76           79      78         74         82   \n",
       "368            87             81           21      56         52         70   \n",
       "370            61             55           74      81         65         82   \n",
       "409            82             79           72      79         83         86   \n",
       "481            77             72           79      81         69         77   \n",
       "483            75             83           51      72         42         75   \n",
       "515            76             64           75      83         70         80   \n",
       "529            60             22           81      74         75         81   \n",
       "665            76             79           72      64         46         75   \n",
       "703            34             21           14      43         41         61   \n",
       "735            73             76           62      72         55         74   \n",
       "755            70             81           51      52         26         69   \n",
       "1063           69             28           78      69         65         72   \n",
       "1194           83             72           69      58         54         63   \n",
       "2405           41             49           70      70         70         72   \n",
       "4763           34             22           67      63         71         64   \n",
       "8853           78             68           53      66         49         72   \n",
       "13503          40             12           64      54         55         58   \n",
       "13961          65             44           55      64         50         62   \n",
       "14036          60             58           25      39         45         55   \n",
       "14252          43             39           55      58         55         63   \n",
       "14674          45             21           52      49         52         55   \n",
       "15378          26             14            5      30         17         50   \n",
       "15627          67             52           38      50         56         55   \n",
       "\n",
       "       Marking  StandingTackle  SlidingTackle  GKDiving  GKHandling  \\\n",
       "26          38              43             41        14          14   \n",
       "58          42              42             38        10          10   \n",
       "59          88              89             84        13          10   \n",
       "61          60              64             42         8          11   \n",
       "81          15              19             16        83          81   \n",
       "118         83              86             84        13          12   \n",
       "161         68              62             61         7          14   \n",
       "241         80              81             78        11           8   \n",
       "296         77              79             76         7          13   \n",
       "302         74              75             65        16           6   \n",
       "368         77              83             85        14          14   \n",
       "370         35              49             48        13          12   \n",
       "409         74              80             79         1           1   \n",
       "481         67              70             66        16           9   \n",
       "483         80              84             78        11          15   \n",
       "515         61              64             62         6          15   \n",
       "529         11              24             12         7          15   \n",
       "665         78              81             82        10          11   \n",
       "703          7              14             16        80          74   \n",
       "735         75              76             74        14          15   \n",
       "755         78              80             77         8          13   \n",
       "1063        16              24             18        15          13   \n",
       "1194        68              73             76        10          14   \n",
       "2405        32              39             37         8           9   \n",
       "4763        20              15             22         9          15   \n",
       "8853        43              61             66        13          14   \n",
       "13503       14              17             17         7          12   \n",
       "13961       47              49             47         6          13   \n",
       "14036       58              62             59         9           6   \n",
       "14252       42              44             38         9          14   \n",
       "14674       25              35             30         8           9   \n",
       "15378        5              19             13        60          57   \n",
       "15627       49              62             61         5           9   \n",
       "\n",
       "       GKKicking  GKPositioning  GKReflexes Main Position  \n",
       "26             9             11          14          WING  \n",
       "58            15              7          14          WING  \n",
       "59            13             11          11            CB  \n",
       "61             9              6          10            AM  \n",
       "81            85             84          88            GK  \n",
       "118            6              8           8           CDM  \n",
       "161           15             14           9            CM  \n",
       "241           10              7          14            FB  \n",
       "296            7              9          13            CM  \n",
       "302           14             12           6            AM  \n",
       "368           13             10           7            CB  \n",
       "370           12             11          11            AM  \n",
       "409            1              1           1            CM  \n",
       "481            6              9           9            CM  \n",
       "483           10              7          10            CB  \n",
       "515           14              8          11            CM  \n",
       "529            9              5          13            ST  \n",
       "665           13             15           7            FB  \n",
       "703           64             76          82            GK  \n",
       "735           14              6           7            FB  \n",
       "755           14              7           7            CB  \n",
       "1063          16             11          15            ST  \n",
       "1194           9             10          11            FB  \n",
       "2405          15              6           7          WING  \n",
       "4763          14              9          10            ST  \n",
       "8853          12              8          14            CM  \n",
       "13503         10              8           5            ST  \n",
       "13961          7             11           7            CM  \n",
       "14036          6             12          10            CB  \n",
       "14252          7              6          14            AM  \n",
       "14674          5             11           9          WING  \n",
       "15378         52             56          60            GK  \n",
       "15627         13             12          14           CDM  "
      ]
     },
     "execution_count": 13,
     "metadata": {},
     "output_type": "execute_result"
    }
   ],
   "source": [
    "#df[df.Club == 'Liverpool']\n",
    "df[df.Club == 'Liverpool']"
   ]
  },
  {
   "cell_type": "code",
   "execution_count": 19,
   "metadata": {},
   "outputs": [
    {
     "data": {
      "application/vnd.plotly.v1+json": {
       "config": {
        "plotlyServerURL": "https://plot.ly"
       },
       "data": [
        {
         "orientation": "h",
         "type": "bar",
         "x": [
          0.0300201235309751,
          0.030653430031715508,
          0.03125,
          0.03145682010209219,
          0.03170069602854349,
          0.031916759277699894,
          0.03227542171618029,
          0.03301241193903573,
          0.03303103076706646,
          0.0345894234883107
         ],
         "y": [
          "Arthur",
          "D. Caligiuri",
          "D. Baselli",
          "Maurício",
          "Fred",
          "G. Bonaventura",
          "A. Rabiot",
          "M. Sanson",
          "A. Dzagoev",
          "V. Moses"
         ]
        }
       ],
       "layout": {
        "template": {
         "data": {
          "bar": [
           {
            "error_x": {
             "color": "#2a3f5f"
            },
            "error_y": {
             "color": "#2a3f5f"
            },
            "marker": {
             "line": {
              "color": "#E5ECF6",
              "width": 0.5
             }
            },
            "type": "bar"
           }
          ],
          "barpolar": [
           {
            "marker": {
             "line": {
              "color": "#E5ECF6",
              "width": 0.5
             }
            },
            "type": "barpolar"
           }
          ],
          "carpet": [
           {
            "aaxis": {
             "endlinecolor": "#2a3f5f",
             "gridcolor": "white",
             "linecolor": "white",
             "minorgridcolor": "white",
             "startlinecolor": "#2a3f5f"
            },
            "baxis": {
             "endlinecolor": "#2a3f5f",
             "gridcolor": "white",
             "linecolor": "white",
             "minorgridcolor": "white",
             "startlinecolor": "#2a3f5f"
            },
            "type": "carpet"
           }
          ],
          "choropleth": [
           {
            "colorbar": {
             "outlinewidth": 0,
             "ticks": ""
            },
            "type": "choropleth"
           }
          ],
          "contour": [
           {
            "colorbar": {
             "outlinewidth": 0,
             "ticks": ""
            },
            "colorscale": [
             [
              0,
              "#0d0887"
             ],
             [
              0.1111111111111111,
              "#46039f"
             ],
             [
              0.2222222222222222,
              "#7201a8"
             ],
             [
              0.3333333333333333,
              "#9c179e"
             ],
             [
              0.4444444444444444,
              "#bd3786"
             ],
             [
              0.5555555555555556,
              "#d8576b"
             ],
             [
              0.6666666666666666,
              "#ed7953"
             ],
             [
              0.7777777777777778,
              "#fb9f3a"
             ],
             [
              0.8888888888888888,
              "#fdca26"
             ],
             [
              1,
              "#f0f921"
             ]
            ],
            "type": "contour"
           }
          ],
          "contourcarpet": [
           {
            "colorbar": {
             "outlinewidth": 0,
             "ticks": ""
            },
            "type": "contourcarpet"
           }
          ],
          "heatmap": [
           {
            "colorbar": {
             "outlinewidth": 0,
             "ticks": ""
            },
            "colorscale": [
             [
              0,
              "#0d0887"
             ],
             [
              0.1111111111111111,
              "#46039f"
             ],
             [
              0.2222222222222222,
              "#7201a8"
             ],
             [
              0.3333333333333333,
              "#9c179e"
             ],
             [
              0.4444444444444444,
              "#bd3786"
             ],
             [
              0.5555555555555556,
              "#d8576b"
             ],
             [
              0.6666666666666666,
              "#ed7953"
             ],
             [
              0.7777777777777778,
              "#fb9f3a"
             ],
             [
              0.8888888888888888,
              "#fdca26"
             ],
             [
              1,
              "#f0f921"
             ]
            ],
            "type": "heatmap"
           }
          ],
          "heatmapgl": [
           {
            "colorbar": {
             "outlinewidth": 0,
             "ticks": ""
            },
            "colorscale": [
             [
              0,
              "#0d0887"
             ],
             [
              0.1111111111111111,
              "#46039f"
             ],
             [
              0.2222222222222222,
              "#7201a8"
             ],
             [
              0.3333333333333333,
              "#9c179e"
             ],
             [
              0.4444444444444444,
              "#bd3786"
             ],
             [
              0.5555555555555556,
              "#d8576b"
             ],
             [
              0.6666666666666666,
              "#ed7953"
             ],
             [
              0.7777777777777778,
              "#fb9f3a"
             ],
             [
              0.8888888888888888,
              "#fdca26"
             ],
             [
              1,
              "#f0f921"
             ]
            ],
            "type": "heatmapgl"
           }
          ],
          "histogram": [
           {
            "marker": {
             "colorbar": {
              "outlinewidth": 0,
              "ticks": ""
             }
            },
            "type": "histogram"
           }
          ],
          "histogram2d": [
           {
            "colorbar": {
             "outlinewidth": 0,
             "ticks": ""
            },
            "colorscale": [
             [
              0,
              "#0d0887"
             ],
             [
              0.1111111111111111,
              "#46039f"
             ],
             [
              0.2222222222222222,
              "#7201a8"
             ],
             [
              0.3333333333333333,
              "#9c179e"
             ],
             [
              0.4444444444444444,
              "#bd3786"
             ],
             [
              0.5555555555555556,
              "#d8576b"
             ],
             [
              0.6666666666666666,
              "#ed7953"
             ],
             [
              0.7777777777777778,
              "#fb9f3a"
             ],
             [
              0.8888888888888888,
              "#fdca26"
             ],
             [
              1,
              "#f0f921"
             ]
            ],
            "type": "histogram2d"
           }
          ],
          "histogram2dcontour": [
           {
            "colorbar": {
             "outlinewidth": 0,
             "ticks": ""
            },
            "colorscale": [
             [
              0,
              "#0d0887"
             ],
             [
              0.1111111111111111,
              "#46039f"
             ],
             [
              0.2222222222222222,
              "#7201a8"
             ],
             [
              0.3333333333333333,
              "#9c179e"
             ],
             [
              0.4444444444444444,
              "#bd3786"
             ],
             [
              0.5555555555555556,
              "#d8576b"
             ],
             [
              0.6666666666666666,
              "#ed7953"
             ],
             [
              0.7777777777777778,
              "#fb9f3a"
             ],
             [
              0.8888888888888888,
              "#fdca26"
             ],
             [
              1,
              "#f0f921"
             ]
            ],
            "type": "histogram2dcontour"
           }
          ],
          "mesh3d": [
           {
            "colorbar": {
             "outlinewidth": 0,
             "ticks": ""
            },
            "type": "mesh3d"
           }
          ],
          "parcoords": [
           {
            "line": {
             "colorbar": {
              "outlinewidth": 0,
              "ticks": ""
             }
            },
            "type": "parcoords"
           }
          ],
          "pie": [
           {
            "automargin": true,
            "type": "pie"
           }
          ],
          "scatter": [
           {
            "marker": {
             "colorbar": {
              "outlinewidth": 0,
              "ticks": ""
             }
            },
            "type": "scatter"
           }
          ],
          "scatter3d": [
           {
            "line": {
             "colorbar": {
              "outlinewidth": 0,
              "ticks": ""
             }
            },
            "marker": {
             "colorbar": {
              "outlinewidth": 0,
              "ticks": ""
             }
            },
            "type": "scatter3d"
           }
          ],
          "scattercarpet": [
           {
            "marker": {
             "colorbar": {
              "outlinewidth": 0,
              "ticks": ""
             }
            },
            "type": "scattercarpet"
           }
          ],
          "scattergeo": [
           {
            "marker": {
             "colorbar": {
              "outlinewidth": 0,
              "ticks": ""
             }
            },
            "type": "scattergeo"
           }
          ],
          "scattergl": [
           {
            "marker": {
             "colorbar": {
              "outlinewidth": 0,
              "ticks": ""
             }
            },
            "type": "scattergl"
           }
          ],
          "scattermapbox": [
           {
            "marker": {
             "colorbar": {
              "outlinewidth": 0,
              "ticks": ""
             }
            },
            "type": "scattermapbox"
           }
          ],
          "scatterpolar": [
           {
            "marker": {
             "colorbar": {
              "outlinewidth": 0,
              "ticks": ""
             }
            },
            "type": "scatterpolar"
           }
          ],
          "scatterpolargl": [
           {
            "marker": {
             "colorbar": {
              "outlinewidth": 0,
              "ticks": ""
             }
            },
            "type": "scatterpolargl"
           }
          ],
          "scatterternary": [
           {
            "marker": {
             "colorbar": {
              "outlinewidth": 0,
              "ticks": ""
             }
            },
            "type": "scatterternary"
           }
          ],
          "surface": [
           {
            "colorbar": {
             "outlinewidth": 0,
             "ticks": ""
            },
            "colorscale": [
             [
              0,
              "#0d0887"
             ],
             [
              0.1111111111111111,
              "#46039f"
             ],
             [
              0.2222222222222222,
              "#7201a8"
             ],
             [
              0.3333333333333333,
              "#9c179e"
             ],
             [
              0.4444444444444444,
              "#bd3786"
             ],
             [
              0.5555555555555556,
              "#d8576b"
             ],
             [
              0.6666666666666666,
              "#ed7953"
             ],
             [
              0.7777777777777778,
              "#fb9f3a"
             ],
             [
              0.8888888888888888,
              "#fdca26"
             ],
             [
              1,
              "#f0f921"
             ]
            ],
            "type": "surface"
           }
          ],
          "table": [
           {
            "cells": {
             "fill": {
              "color": "#EBF0F8"
             },
             "line": {
              "color": "white"
             }
            },
            "header": {
             "fill": {
              "color": "#C8D4E3"
             },
             "line": {
              "color": "white"
             }
            },
            "type": "table"
           }
          ]
         },
         "layout": {
          "annotationdefaults": {
           "arrowcolor": "#2a3f5f",
           "arrowhead": 0,
           "arrowwidth": 1
          },
          "autotypenumbers": "strict",
          "coloraxis": {
           "colorbar": {
            "outlinewidth": 0,
            "ticks": ""
           }
          },
          "colorscale": {
           "diverging": [
            [
             0,
             "#8e0152"
            ],
            [
             0.1,
             "#c51b7d"
            ],
            [
             0.2,
             "#de77ae"
            ],
            [
             0.3,
             "#f1b6da"
            ],
            [
             0.4,
             "#fde0ef"
            ],
            [
             0.5,
             "#f7f7f7"
            ],
            [
             0.6,
             "#e6f5d0"
            ],
            [
             0.7,
             "#b8e186"
            ],
            [
             0.8,
             "#7fbc41"
            ],
            [
             0.9,
             "#4d9221"
            ],
            [
             1,
             "#276419"
            ]
           ],
           "sequential": [
            [
             0,
             "#0d0887"
            ],
            [
             0.1111111111111111,
             "#46039f"
            ],
            [
             0.2222222222222222,
             "#7201a8"
            ],
            [
             0.3333333333333333,
             "#9c179e"
            ],
            [
             0.4444444444444444,
             "#bd3786"
            ],
            [
             0.5555555555555556,
             "#d8576b"
            ],
            [
             0.6666666666666666,
             "#ed7953"
            ],
            [
             0.7777777777777778,
             "#fb9f3a"
            ],
            [
             0.8888888888888888,
             "#fdca26"
            ],
            [
             1,
             "#f0f921"
            ]
           ],
           "sequentialminus": [
            [
             0,
             "#0d0887"
            ],
            [
             0.1111111111111111,
             "#46039f"
            ],
            [
             0.2222222222222222,
             "#7201a8"
            ],
            [
             0.3333333333333333,
             "#9c179e"
            ],
            [
             0.4444444444444444,
             "#bd3786"
            ],
            [
             0.5555555555555556,
             "#d8576b"
            ],
            [
             0.6666666666666666,
             "#ed7953"
            ],
            [
             0.7777777777777778,
             "#fb9f3a"
            ],
            [
             0.8888888888888888,
             "#fdca26"
            ],
            [
             1,
             "#f0f921"
            ]
           ]
          },
          "colorway": [
           "#636efa",
           "#EF553B",
           "#00cc96",
           "#ab63fa",
           "#FFA15A",
           "#19d3f3",
           "#FF6692",
           "#B6E880",
           "#FF97FF",
           "#FECB52"
          ],
          "font": {
           "color": "#2a3f5f"
          },
          "geo": {
           "bgcolor": "white",
           "lakecolor": "white",
           "landcolor": "#E5ECF6",
           "showlakes": true,
           "showland": true,
           "subunitcolor": "white"
          },
          "hoverlabel": {
           "align": "left"
          },
          "hovermode": "closest",
          "mapbox": {
           "style": "light"
          },
          "paper_bgcolor": "white",
          "plot_bgcolor": "#E5ECF6",
          "polar": {
           "angularaxis": {
            "gridcolor": "white",
            "linecolor": "white",
            "ticks": ""
           },
           "bgcolor": "#E5ECF6",
           "radialaxis": {
            "gridcolor": "white",
            "linecolor": "white",
            "ticks": ""
           }
          },
          "scene": {
           "xaxis": {
            "backgroundcolor": "#E5ECF6",
            "gridcolor": "white",
            "gridwidth": 2,
            "linecolor": "white",
            "showbackground": true,
            "ticks": "",
            "zerolinecolor": "white"
           },
           "yaxis": {
            "backgroundcolor": "#E5ECF6",
            "gridcolor": "white",
            "gridwidth": 2,
            "linecolor": "white",
            "showbackground": true,
            "ticks": "",
            "zerolinecolor": "white"
           },
           "zaxis": {
            "backgroundcolor": "#E5ECF6",
            "gridcolor": "white",
            "gridwidth": 2,
            "linecolor": "white",
            "showbackground": true,
            "ticks": "",
            "zerolinecolor": "white"
           }
          },
          "shapedefaults": {
           "line": {
            "color": "#2a3f5f"
           }
          },
          "ternary": {
           "aaxis": {
            "gridcolor": "white",
            "linecolor": "white",
            "ticks": ""
           },
           "baxis": {
            "gridcolor": "white",
            "linecolor": "white",
            "ticks": ""
           },
           "bgcolor": "#E5ECF6",
           "caxis": {
            "gridcolor": "white",
            "linecolor": "white",
            "ticks": ""
           }
          },
          "title": {
           "x": 0.05
          },
          "xaxis": {
           "automargin": true,
           "gridcolor": "white",
           "linecolor": "white",
           "ticks": "",
           "title": {
            "standoff": 15
           },
           "zerolinecolor": "white",
           "zerolinewidth": 2
          },
          "yaxis": {
           "automargin": true,
           "gridcolor": "white",
           "linecolor": "white",
           "ticks": "",
           "title": {
            "standoff": 15
           },
           "zerolinecolor": "white",
           "zerolinewidth": 2
          }
         }
        },
        "title": {
         "text": "Players similar to  \" G. Wijnaldum \""
        }
       }
      },
      "text/html": [
       "<div>                            <div id=\"96dbbef7-eaa6-43d2-9174-8850a251020c\" class=\"plotly-graph-div\" style=\"height:525px; width:100%;\"></div>            <script type=\"text/javascript\">                require([\"plotly\"], function(Plotly) {                    window.PLOTLYENV=window.PLOTLYENV || {};                                    if (document.getElementById(\"96dbbef7-eaa6-43d2-9174-8850a251020c\")) {                    Plotly.newPlot(                        \"96dbbef7-eaa6-43d2-9174-8850a251020c\",                        [{\"orientation\": \"h\", \"type\": \"bar\", \"x\": [0.0300201235309751, 0.030653430031715508, 0.03125, 0.03145682010209219, 0.03170069602854349, 0.031916759277699894, 0.03227542171618029, 0.03301241193903573, 0.03303103076706646, 0.0345894234883107], \"y\": [\"Arthur\", \"D. Caligiuri\", \"D. Baselli\", \"Maur\\u00edcio\", \"Fred\", \"G. Bonaventura\", \"A. Rabiot\", \"M. Sanson\", \"A. Dzagoev\", \"V. Moses\"]}],                        {\"template\": {\"data\": {\"bar\": [{\"error_x\": {\"color\": \"#2a3f5f\"}, \"error_y\": {\"color\": \"#2a3f5f\"}, \"marker\": {\"line\": {\"color\": \"#E5ECF6\", \"width\": 0.5}}, \"type\": \"bar\"}], \"barpolar\": [{\"marker\": {\"line\": {\"color\": \"#E5ECF6\", \"width\": 0.5}}, \"type\": \"barpolar\"}], \"carpet\": [{\"aaxis\": {\"endlinecolor\": \"#2a3f5f\", \"gridcolor\": \"white\", \"linecolor\": \"white\", \"minorgridcolor\": \"white\", \"startlinecolor\": \"#2a3f5f\"}, \"baxis\": {\"endlinecolor\": \"#2a3f5f\", \"gridcolor\": \"white\", \"linecolor\": \"white\", \"minorgridcolor\": \"white\", \"startlinecolor\": \"#2a3f5f\"}, \"type\": \"carpet\"}], \"choropleth\": [{\"colorbar\": {\"outlinewidth\": 0, \"ticks\": \"\"}, \"type\": \"choropleth\"}], \"contour\": [{\"colorbar\": {\"outlinewidth\": 0, \"ticks\": \"\"}, \"colorscale\": [[0.0, \"#0d0887\"], [0.1111111111111111, \"#46039f\"], [0.2222222222222222, \"#7201a8\"], [0.3333333333333333, \"#9c179e\"], [0.4444444444444444, \"#bd3786\"], [0.5555555555555556, \"#d8576b\"], [0.6666666666666666, \"#ed7953\"], [0.7777777777777778, \"#fb9f3a\"], [0.8888888888888888, \"#fdca26\"], [1.0, \"#f0f921\"]], \"type\": \"contour\"}], \"contourcarpet\": [{\"colorbar\": {\"outlinewidth\": 0, \"ticks\": \"\"}, \"type\": \"contourcarpet\"}], \"heatmap\": [{\"colorbar\": {\"outlinewidth\": 0, \"ticks\": \"\"}, \"colorscale\": [[0.0, \"#0d0887\"], [0.1111111111111111, \"#46039f\"], [0.2222222222222222, \"#7201a8\"], [0.3333333333333333, \"#9c179e\"], [0.4444444444444444, \"#bd3786\"], [0.5555555555555556, \"#d8576b\"], [0.6666666666666666, \"#ed7953\"], [0.7777777777777778, \"#fb9f3a\"], [0.8888888888888888, \"#fdca26\"], [1.0, \"#f0f921\"]], \"type\": \"heatmap\"}], \"heatmapgl\": [{\"colorbar\": {\"outlinewidth\": 0, \"ticks\": \"\"}, \"colorscale\": [[0.0, \"#0d0887\"], [0.1111111111111111, \"#46039f\"], [0.2222222222222222, \"#7201a8\"], [0.3333333333333333, \"#9c179e\"], [0.4444444444444444, \"#bd3786\"], [0.5555555555555556, \"#d8576b\"], [0.6666666666666666, \"#ed7953\"], [0.7777777777777778, \"#fb9f3a\"], [0.8888888888888888, \"#fdca26\"], [1.0, \"#f0f921\"]], \"type\": \"heatmapgl\"}], \"histogram\": [{\"marker\": {\"colorbar\": {\"outlinewidth\": 0, \"ticks\": \"\"}}, \"type\": \"histogram\"}], \"histogram2d\": [{\"colorbar\": {\"outlinewidth\": 0, \"ticks\": \"\"}, \"colorscale\": [[0.0, \"#0d0887\"], [0.1111111111111111, \"#46039f\"], [0.2222222222222222, \"#7201a8\"], [0.3333333333333333, \"#9c179e\"], [0.4444444444444444, \"#bd3786\"], [0.5555555555555556, \"#d8576b\"], [0.6666666666666666, \"#ed7953\"], [0.7777777777777778, \"#fb9f3a\"], [0.8888888888888888, \"#fdca26\"], [1.0, \"#f0f921\"]], \"type\": \"histogram2d\"}], \"histogram2dcontour\": [{\"colorbar\": {\"outlinewidth\": 0, \"ticks\": \"\"}, \"colorscale\": [[0.0, \"#0d0887\"], [0.1111111111111111, \"#46039f\"], [0.2222222222222222, \"#7201a8\"], [0.3333333333333333, \"#9c179e\"], [0.4444444444444444, \"#bd3786\"], [0.5555555555555556, \"#d8576b\"], [0.6666666666666666, \"#ed7953\"], [0.7777777777777778, \"#fb9f3a\"], [0.8888888888888888, \"#fdca26\"], [1.0, \"#f0f921\"]], \"type\": \"histogram2dcontour\"}], \"mesh3d\": [{\"colorbar\": {\"outlinewidth\": 0, \"ticks\": \"\"}, \"type\": \"mesh3d\"}], \"parcoords\": [{\"line\": {\"colorbar\": {\"outlinewidth\": 0, \"ticks\": \"\"}}, \"type\": \"parcoords\"}], \"pie\": [{\"automargin\": true, \"type\": \"pie\"}], \"scatter\": [{\"marker\": {\"colorbar\": {\"outlinewidth\": 0, \"ticks\": \"\"}}, \"type\": \"scatter\"}], \"scatter3d\": [{\"line\": {\"colorbar\": {\"outlinewidth\": 0, \"ticks\": \"\"}}, \"marker\": {\"colorbar\": {\"outlinewidth\": 0, \"ticks\": \"\"}}, \"type\": \"scatter3d\"}], \"scattercarpet\": [{\"marker\": {\"colorbar\": {\"outlinewidth\": 0, \"ticks\": \"\"}}, \"type\": \"scattercarpet\"}], \"scattergeo\": [{\"marker\": {\"colorbar\": {\"outlinewidth\": 0, \"ticks\": \"\"}}, \"type\": \"scattergeo\"}], \"scattergl\": [{\"marker\": {\"colorbar\": {\"outlinewidth\": 0, \"ticks\": \"\"}}, \"type\": \"scattergl\"}], \"scattermapbox\": [{\"marker\": {\"colorbar\": {\"outlinewidth\": 0, \"ticks\": \"\"}}, \"type\": \"scattermapbox\"}], \"scatterpolar\": [{\"marker\": {\"colorbar\": {\"outlinewidth\": 0, \"ticks\": \"\"}}, \"type\": \"scatterpolar\"}], \"scatterpolargl\": [{\"marker\": {\"colorbar\": {\"outlinewidth\": 0, \"ticks\": \"\"}}, \"type\": \"scatterpolargl\"}], \"scatterternary\": [{\"marker\": {\"colorbar\": {\"outlinewidth\": 0, \"ticks\": \"\"}}, \"type\": \"scatterternary\"}], \"surface\": [{\"colorbar\": {\"outlinewidth\": 0, \"ticks\": \"\"}, \"colorscale\": [[0.0, \"#0d0887\"], [0.1111111111111111, \"#46039f\"], [0.2222222222222222, \"#7201a8\"], [0.3333333333333333, \"#9c179e\"], [0.4444444444444444, \"#bd3786\"], [0.5555555555555556, \"#d8576b\"], [0.6666666666666666, \"#ed7953\"], [0.7777777777777778, \"#fb9f3a\"], [0.8888888888888888, \"#fdca26\"], [1.0, \"#f0f921\"]], \"type\": \"surface\"}], \"table\": [{\"cells\": {\"fill\": {\"color\": \"#EBF0F8\"}, \"line\": {\"color\": \"white\"}}, \"header\": {\"fill\": {\"color\": \"#C8D4E3\"}, \"line\": {\"color\": \"white\"}}, \"type\": \"table\"}]}, \"layout\": {\"annotationdefaults\": {\"arrowcolor\": \"#2a3f5f\", \"arrowhead\": 0, \"arrowwidth\": 1}, \"autotypenumbers\": \"strict\", \"coloraxis\": {\"colorbar\": {\"outlinewidth\": 0, \"ticks\": \"\"}}, \"colorscale\": {\"diverging\": [[0, \"#8e0152\"], [0.1, \"#c51b7d\"], [0.2, \"#de77ae\"], [0.3, \"#f1b6da\"], [0.4, \"#fde0ef\"], [0.5, \"#f7f7f7\"], [0.6, \"#e6f5d0\"], [0.7, \"#b8e186\"], [0.8, \"#7fbc41\"], [0.9, \"#4d9221\"], [1, \"#276419\"]], \"sequential\": [[0.0, \"#0d0887\"], [0.1111111111111111, \"#46039f\"], [0.2222222222222222, \"#7201a8\"], [0.3333333333333333, \"#9c179e\"], [0.4444444444444444, \"#bd3786\"], [0.5555555555555556, \"#d8576b\"], [0.6666666666666666, \"#ed7953\"], [0.7777777777777778, \"#fb9f3a\"], [0.8888888888888888, \"#fdca26\"], [1.0, \"#f0f921\"]], \"sequentialminus\": [[0.0, \"#0d0887\"], [0.1111111111111111, \"#46039f\"], [0.2222222222222222, \"#7201a8\"], [0.3333333333333333, \"#9c179e\"], [0.4444444444444444, \"#bd3786\"], [0.5555555555555556, \"#d8576b\"], [0.6666666666666666, \"#ed7953\"], [0.7777777777777778, \"#fb9f3a\"], [0.8888888888888888, \"#fdca26\"], [1.0, \"#f0f921\"]]}, \"colorway\": [\"#636efa\", \"#EF553B\", \"#00cc96\", \"#ab63fa\", \"#FFA15A\", \"#19d3f3\", \"#FF6692\", \"#B6E880\", \"#FF97FF\", \"#FECB52\"], \"font\": {\"color\": \"#2a3f5f\"}, \"geo\": {\"bgcolor\": \"white\", \"lakecolor\": \"white\", \"landcolor\": \"#E5ECF6\", \"showlakes\": true, \"showland\": true, \"subunitcolor\": \"white\"}, \"hoverlabel\": {\"align\": \"left\"}, \"hovermode\": \"closest\", \"mapbox\": {\"style\": \"light\"}, \"paper_bgcolor\": \"white\", \"plot_bgcolor\": \"#E5ECF6\", \"polar\": {\"angularaxis\": {\"gridcolor\": \"white\", \"linecolor\": \"white\", \"ticks\": \"\"}, \"bgcolor\": \"#E5ECF6\", \"radialaxis\": {\"gridcolor\": \"white\", \"linecolor\": \"white\", \"ticks\": \"\"}}, \"scene\": {\"xaxis\": {\"backgroundcolor\": \"#E5ECF6\", \"gridcolor\": \"white\", \"gridwidth\": 2, \"linecolor\": \"white\", \"showbackground\": true, \"ticks\": \"\", \"zerolinecolor\": \"white\"}, \"yaxis\": {\"backgroundcolor\": \"#E5ECF6\", \"gridcolor\": \"white\", \"gridwidth\": 2, \"linecolor\": \"white\", \"showbackground\": true, \"ticks\": \"\", \"zerolinecolor\": \"white\"}, \"zaxis\": {\"backgroundcolor\": \"#E5ECF6\", \"gridcolor\": \"white\", \"gridwidth\": 2, \"linecolor\": \"white\", \"showbackground\": true, \"ticks\": \"\", \"zerolinecolor\": \"white\"}}, \"shapedefaults\": {\"line\": {\"color\": \"#2a3f5f\"}}, \"ternary\": {\"aaxis\": {\"gridcolor\": \"white\", \"linecolor\": \"white\", \"ticks\": \"\"}, \"baxis\": {\"gridcolor\": \"white\", \"linecolor\": \"white\", \"ticks\": \"\"}, \"bgcolor\": \"#E5ECF6\", \"caxis\": {\"gridcolor\": \"white\", \"linecolor\": \"white\", \"ticks\": \"\"}}, \"title\": {\"x\": 0.05}, \"xaxis\": {\"automargin\": true, \"gridcolor\": \"white\", \"linecolor\": \"white\", \"ticks\": \"\", \"title\": {\"standoff\": 15}, \"zerolinecolor\": \"white\", \"zerolinewidth\": 2}, \"yaxis\": {\"automargin\": true, \"gridcolor\": \"white\", \"linecolor\": \"white\", \"ticks\": \"\", \"title\": {\"standoff\": 15}, \"zerolinecolor\": \"white\", \"zerolinewidth\": 2}}}, \"title\": {\"text\": \"Players similar to  \\\" G. Wijnaldum \\\"\"}},                        {\"responsive\": true}                    ).then(function(){\n",
       "                            \n",
       "var gd = document.getElementById('96dbbef7-eaa6-43d2-9174-8850a251020c');\n",
       "var x = new MutationObserver(function (mutations, observer) {{\n",
       "        var display = window.getComputedStyle(gd).display;\n",
       "        if (!display || display === 'none') {{\n",
       "            console.log([gd, 'removed!']);\n",
       "            Plotly.purge(gd);\n",
       "            observer.disconnect();\n",
       "        }}\n",
       "}});\n",
       "\n",
       "// Listen for the removal of the full notebook cells\n",
       "var notebookContainer = gd.closest('#notebook-container');\n",
       "if (notebookContainer) {{\n",
       "    x.observe(notebookContainer, {childList: true});\n",
       "}}\n",
       "\n",
       "// Listen for the clearing of the current output cell\n",
       "var outputEl = gd.closest('.output');\n",
       "if (outputEl) {{\n",
       "    x.observe(outputEl, {childList: true});\n",
       "}}\n",
       "\n",
       "                        })                };                });            </script>        </div>"
      ]
     },
     "metadata": {},
     "output_type": "display_data"
    },
    {
     "data": {
      "text/html": [
       "<div>\n",
       "<style scoped>\n",
       "    .dataframe tbody tr th:only-of-type {\n",
       "        vertical-align: middle;\n",
       "    }\n",
       "\n",
       "    .dataframe tbody tr th {\n",
       "        vertical-align: top;\n",
       "    }\n",
       "\n",
       "    .dataframe thead th {\n",
       "        text-align: right;\n",
       "    }\n",
       "</style>\n",
       "<table border=\"1\" class=\"dataframe\">\n",
       "  <thead>\n",
       "    <tr style=\"text-align: right;\">\n",
       "      <th></th>\n",
       "      <th>Club</th>\n",
       "      <th>Name</th>\n",
       "      <th>Age</th>\n",
       "      <th>Nationality</th>\n",
       "      <th>Overall</th>\n",
       "      <th>Potential</th>\n",
       "      <th>Preferred Foot</th>\n",
       "      <th>Weak Foot</th>\n",
       "      <th>Wage</th>\n",
       "      <th>Value</th>\n",
       "    </tr>\n",
       "  </thead>\n",
       "  <tbody>\n",
       "    <tr>\n",
       "      <th>0</th>\n",
       "      <td>Chelsea</td>\n",
       "      <td>V. Moses</td>\n",
       "      <td>27</td>\n",
       "      <td>Nigeria</td>\n",
       "      <td>78</td>\n",
       "      <td>78</td>\n",
       "      <td>1</td>\n",
       "      <td>4</td>\n",
       "      <td>105000</td>\n",
       "      <td>1e+07</td>\n",
       "    </tr>\n",
       "    <tr>\n",
       "      <th>1</th>\n",
       "      <td>PFC CSKA Moscow</td>\n",
       "      <td>A. Dzagoev</td>\n",
       "      <td>28</td>\n",
       "      <td>Russia</td>\n",
       "      <td>79</td>\n",
       "      <td>79</td>\n",
       "      <td>1</td>\n",
       "      <td>3</td>\n",
       "      <td>1000</td>\n",
       "      <td>1e+07</td>\n",
       "    </tr>\n",
       "    <tr>\n",
       "      <th>2</th>\n",
       "      <td>Olympique de Marseille</td>\n",
       "      <td>M. Sanson</td>\n",
       "      <td>23</td>\n",
       "      <td>France</td>\n",
       "      <td>80</td>\n",
       "      <td>85</td>\n",
       "      <td>1</td>\n",
       "      <td>4</td>\n",
       "      <td>47000</td>\n",
       "      <td>2e+07</td>\n",
       "    </tr>\n",
       "    <tr>\n",
       "      <th>3</th>\n",
       "      <td>Paris Saint-Germain</td>\n",
       "      <td>A. Rabiot</td>\n",
       "      <td>23</td>\n",
       "      <td>France</td>\n",
       "      <td>83</td>\n",
       "      <td>87</td>\n",
       "      <td>0</td>\n",
       "      <td>3</td>\n",
       "      <td>91000</td>\n",
       "      <td>3e+07</td>\n",
       "    </tr>\n",
       "    <tr>\n",
       "      <th>4</th>\n",
       "      <td>Milan</td>\n",
       "      <td>G. Bonaventura</td>\n",
       "      <td>28</td>\n",
       "      <td>Italy</td>\n",
       "      <td>82</td>\n",
       "      <td>82</td>\n",
       "      <td>1</td>\n",
       "      <td>3</td>\n",
       "      <td>115000</td>\n",
       "      <td>2e+07</td>\n",
       "    </tr>\n",
       "    <tr>\n",
       "      <th>5</th>\n",
       "      <td>Manchester United</td>\n",
       "      <td>Fred</td>\n",
       "      <td>25</td>\n",
       "      <td>Brazil</td>\n",
       "      <td>82</td>\n",
       "      <td>84</td>\n",
       "      <td>0</td>\n",
       "      <td>4</td>\n",
       "      <td>140000</td>\n",
       "      <td>3e+07</td>\n",
       "    </tr>\n",
       "    <tr>\n",
       "      <th>6</th>\n",
       "      <td>PAOK</td>\n",
       "      <td>Maurício</td>\n",
       "      <td>29</td>\n",
       "      <td>Brazil</td>\n",
       "      <td>76</td>\n",
       "      <td>76</td>\n",
       "      <td>1</td>\n",
       "      <td>4</td>\n",
       "      <td>1000</td>\n",
       "      <td>6e+06</td>\n",
       "    </tr>\n",
       "    <tr>\n",
       "      <th>7</th>\n",
       "      <td>Torino</td>\n",
       "      <td>D. Baselli</td>\n",
       "      <td>26</td>\n",
       "      <td>Italy</td>\n",
       "      <td>79</td>\n",
       "      <td>82</td>\n",
       "      <td>1</td>\n",
       "      <td>3</td>\n",
       "      <td>49000</td>\n",
       "      <td>2e+07</td>\n",
       "    </tr>\n",
       "    <tr>\n",
       "      <th>8</th>\n",
       "      <td>FC Schalke 04</td>\n",
       "      <td>D. Caligiuri</td>\n",
       "      <td>30</td>\n",
       "      <td>Italy</td>\n",
       "      <td>79</td>\n",
       "      <td>79</td>\n",
       "      <td>1</td>\n",
       "      <td>4</td>\n",
       "      <td>33000</td>\n",
       "      <td>9e+06</td>\n",
       "    </tr>\n",
       "    <tr>\n",
       "      <th>9</th>\n",
       "      <td>FC Barcelona</td>\n",
       "      <td>Arthur</td>\n",
       "      <td>21</td>\n",
       "      <td>Brazil</td>\n",
       "      <td>82</td>\n",
       "      <td>90</td>\n",
       "      <td>1</td>\n",
       "      <td>3</td>\n",
       "      <td>125000</td>\n",
       "      <td>3e+07</td>\n",
       "    </tr>\n",
       "  </tbody>\n",
       "</table>\n",
       "</div>"
      ],
      "text/plain": [
       "                     Club            Name  Age Nationality  Overall  \\\n",
       "0                 Chelsea        V. Moses   27     Nigeria       78   \n",
       "1         PFC CSKA Moscow      A. Dzagoev   28      Russia       79   \n",
       "2  Olympique de Marseille       M. Sanson   23      France       80   \n",
       "3     Paris Saint-Germain       A. Rabiot   23      France       83   \n",
       "4                   Milan  G. Bonaventura   28       Italy       82   \n",
       "5       Manchester United            Fred   25      Brazil       82   \n",
       "6                    PAOK        Maurício   29      Brazil       76   \n",
       "7                  Torino      D. Baselli   26       Italy       79   \n",
       "8           FC Schalke 04    D. Caligiuri   30       Italy       79   \n",
       "9            FC Barcelona          Arthur   21      Brazil       82   \n",
       "\n",
       "   Potential  Preferred Foot  Weak Foot    Wage  Value  \n",
       "0         78               1          4  105000  1e+07  \n",
       "1         79               1          3    1000  1e+07  \n",
       "2         85               1          4   47000  2e+07  \n",
       "3         87               0          3   91000  3e+07  \n",
       "4         82               1          3  115000  2e+07  \n",
       "5         84               0          4  140000  3e+07  \n",
       "6         76               1          4    1000  6e+06  \n",
       "7         82               1          3   49000  2e+07  \n",
       "8         79               1          4   33000  9e+06  \n",
       "9         90               1          3  125000  3e+07  "
      ]
     },
     "metadata": {},
     "output_type": "display_data"
    }
   ],
   "source": [
    "player_scouter(similar_df, dist_df, 181291)"
   ]
  },
  {
   "cell_type": "code",
   "execution_count": null,
   "metadata": {},
   "outputs": [],
   "source": []
  },
  {
   "cell_type": "code",
   "execution_count": null,
   "metadata": {},
   "outputs": [],
   "source": []
  },
  {
   "cell_type": "code",
   "execution_count": null,
   "metadata": {},
   "outputs": [],
   "source": []
  },
  {
   "cell_type": "code",
   "execution_count": null,
   "metadata": {},
   "outputs": [],
   "source": []
  },
  {
   "cell_type": "code",
   "execution_count": 13,
   "metadata": {},
   "outputs": [],
   "source": [
    "from sklearn.metrics.pairwise import pairwise_distances, cosine_distances, cosine_similarity"
   ]
  },
  {
   "cell_type": "code",
   "execution_count": 20,
   "metadata": {},
   "outputs": [
    {
     "data": {
      "text/html": [
       "<div>\n",
       "<style scoped>\n",
       "    .dataframe tbody tr th:only-of-type {\n",
       "        vertical-align: middle;\n",
       "    }\n",
       "\n",
       "    .dataframe tbody tr th {\n",
       "        vertical-align: top;\n",
       "    }\n",
       "\n",
       "    .dataframe thead th {\n",
       "        text-align: right;\n",
       "    }\n",
       "</style>\n",
       "<table border=\"1\" class=\"dataframe\">\n",
       "  <thead>\n",
       "    <tr style=\"text-align: right;\">\n",
       "      <th></th>\n",
       "      <th>ID</th>\n",
       "      <th>Name</th>\n",
       "      <th>Age</th>\n",
       "      <th>Nationality</th>\n",
       "      <th>Overall</th>\n",
       "      <th>Potential</th>\n",
       "      <th>Club</th>\n",
       "      <th>Value</th>\n",
       "      <th>Wage</th>\n",
       "      <th>Preferred Foot</th>\n",
       "      <th>International Reputation</th>\n",
       "      <th>Weak Foot</th>\n",
       "      <th>Skill Moves</th>\n",
       "      <th>Work Rate</th>\n",
       "      <th>Body Type</th>\n",
       "      <th>Position</th>\n",
       "      <th>Contract Expiration</th>\n",
       "      <th>Height</th>\n",
       "      <th>Weight</th>\n",
       "      <th>Crossing</th>\n",
       "      <th>Finishing</th>\n",
       "      <th>HeadingAccuracy</th>\n",
       "      <th>ShortPassing</th>\n",
       "      <th>Volleys</th>\n",
       "      <th>Dribbling</th>\n",
       "      <th>Curve</th>\n",
       "      <th>FKAccuracy</th>\n",
       "      <th>LongPassing</th>\n",
       "      <th>BallControl</th>\n",
       "      <th>Acceleration</th>\n",
       "      <th>SprintSpeed</th>\n",
       "      <th>Agility</th>\n",
       "      <th>Reactions</th>\n",
       "      <th>Balance</th>\n",
       "      <th>ShotPower</th>\n",
       "      <th>Jumping</th>\n",
       "      <th>Stamina</th>\n",
       "      <th>Strength</th>\n",
       "      <th>LongShots</th>\n",
       "      <th>Aggression</th>\n",
       "      <th>Interceptions</th>\n",
       "      <th>Positioning</th>\n",
       "      <th>Vision</th>\n",
       "      <th>Penalties</th>\n",
       "      <th>Composure</th>\n",
       "      <th>Marking</th>\n",
       "      <th>StandingTackle</th>\n",
       "      <th>SlidingTackle</th>\n",
       "      <th>GKDiving</th>\n",
       "      <th>GKHandling</th>\n",
       "      <th>GKKicking</th>\n",
       "      <th>GKPositioning</th>\n",
       "      <th>GKReflexes</th>\n",
       "      <th>Main Position</th>\n",
       "    </tr>\n",
       "  </thead>\n",
       "  <tbody>\n",
       "    <tr>\n",
       "      <th>0</th>\n",
       "      <td>158023</td>\n",
       "      <td>L. Messi</td>\n",
       "      <td>31</td>\n",
       "      <td>Argentina</td>\n",
       "      <td>94</td>\n",
       "      <td>94</td>\n",
       "      <td>FC Barcelona</td>\n",
       "      <td>1e+08</td>\n",
       "      <td>565000</td>\n",
       "      <td>0</td>\n",
       "      <td>5</td>\n",
       "      <td>4</td>\n",
       "      <td>4</td>\n",
       "      <td>Medium</td>\n",
       "      <td>Lean</td>\n",
       "      <td>RF</td>\n",
       "      <td>2021</td>\n",
       "      <td>5'7</td>\n",
       "      <td>159lbs</td>\n",
       "      <td>84</td>\n",
       "      <td>95</td>\n",
       "      <td>70</td>\n",
       "      <td>90</td>\n",
       "      <td>86</td>\n",
       "      <td>97</td>\n",
       "      <td>93</td>\n",
       "      <td>94</td>\n",
       "      <td>87</td>\n",
       "      <td>96</td>\n",
       "      <td>91</td>\n",
       "      <td>86</td>\n",
       "      <td>91</td>\n",
       "      <td>95</td>\n",
       "      <td>95</td>\n",
       "      <td>85</td>\n",
       "      <td>68</td>\n",
       "      <td>72</td>\n",
       "      <td>59</td>\n",
       "      <td>94</td>\n",
       "      <td>48</td>\n",
       "      <td>22</td>\n",
       "      <td>94</td>\n",
       "      <td>94</td>\n",
       "      <td>75</td>\n",
       "      <td>96</td>\n",
       "      <td>33</td>\n",
       "      <td>28</td>\n",
       "      <td>26</td>\n",
       "      <td>6</td>\n",
       "      <td>11</td>\n",
       "      <td>15</td>\n",
       "      <td>14</td>\n",
       "      <td>8</td>\n",
       "      <td>ST</td>\n",
       "    </tr>\n",
       "    <tr>\n",
       "      <th>1</th>\n",
       "      <td>20801</td>\n",
       "      <td>Cristiano Ronaldo</td>\n",
       "      <td>33</td>\n",
       "      <td>Portugal</td>\n",
       "      <td>94</td>\n",
       "      <td>94</td>\n",
       "      <td>Juventus</td>\n",
       "      <td>8e+07</td>\n",
       "      <td>405000</td>\n",
       "      <td>1</td>\n",
       "      <td>5</td>\n",
       "      <td>4</td>\n",
       "      <td>5</td>\n",
       "      <td>High</td>\n",
       "      <td>Stocky</td>\n",
       "      <td>ST</td>\n",
       "      <td>2022</td>\n",
       "      <td>6'2</td>\n",
       "      <td>183lbs</td>\n",
       "      <td>84</td>\n",
       "      <td>94</td>\n",
       "      <td>89</td>\n",
       "      <td>81</td>\n",
       "      <td>87</td>\n",
       "      <td>88</td>\n",
       "      <td>81</td>\n",
       "      <td>76</td>\n",
       "      <td>77</td>\n",
       "      <td>94</td>\n",
       "      <td>89</td>\n",
       "      <td>91</td>\n",
       "      <td>87</td>\n",
       "      <td>96</td>\n",
       "      <td>70</td>\n",
       "      <td>95</td>\n",
       "      <td>95</td>\n",
       "      <td>88</td>\n",
       "      <td>79</td>\n",
       "      <td>93</td>\n",
       "      <td>63</td>\n",
       "      <td>29</td>\n",
       "      <td>95</td>\n",
       "      <td>82</td>\n",
       "      <td>85</td>\n",
       "      <td>95</td>\n",
       "      <td>28</td>\n",
       "      <td>31</td>\n",
       "      <td>23</td>\n",
       "      <td>7</td>\n",
       "      <td>11</td>\n",
       "      <td>15</td>\n",
       "      <td>14</td>\n",
       "      <td>11</td>\n",
       "      <td>ST</td>\n",
       "    </tr>\n",
       "    <tr>\n",
       "      <th>2</th>\n",
       "      <td>190871</td>\n",
       "      <td>Neymar Jr</td>\n",
       "      <td>26</td>\n",
       "      <td>Brazil</td>\n",
       "      <td>92</td>\n",
       "      <td>93</td>\n",
       "      <td>Paris Saint-Germain</td>\n",
       "      <td>1e+08</td>\n",
       "      <td>290000</td>\n",
       "      <td>1</td>\n",
       "      <td>5</td>\n",
       "      <td>5</td>\n",
       "      <td>5</td>\n",
       "      <td>High</td>\n",
       "      <td>Lean</td>\n",
       "      <td>LW</td>\n",
       "      <td>2022</td>\n",
       "      <td>5'9</td>\n",
       "      <td>150lbs</td>\n",
       "      <td>79</td>\n",
       "      <td>87</td>\n",
       "      <td>62</td>\n",
       "      <td>84</td>\n",
       "      <td>84</td>\n",
       "      <td>96</td>\n",
       "      <td>88</td>\n",
       "      <td>87</td>\n",
       "      <td>78</td>\n",
       "      <td>95</td>\n",
       "      <td>94</td>\n",
       "      <td>90</td>\n",
       "      <td>96</td>\n",
       "      <td>94</td>\n",
       "      <td>84</td>\n",
       "      <td>80</td>\n",
       "      <td>61</td>\n",
       "      <td>81</td>\n",
       "      <td>49</td>\n",
       "      <td>82</td>\n",
       "      <td>56</td>\n",
       "      <td>36</td>\n",
       "      <td>89</td>\n",
       "      <td>87</td>\n",
       "      <td>81</td>\n",
       "      <td>94</td>\n",
       "      <td>27</td>\n",
       "      <td>24</td>\n",
       "      <td>33</td>\n",
       "      <td>9</td>\n",
       "      <td>9</td>\n",
       "      <td>15</td>\n",
       "      <td>15</td>\n",
       "      <td>11</td>\n",
       "      <td>WING</td>\n",
       "    </tr>\n",
       "    <tr>\n",
       "      <th>3</th>\n",
       "      <td>193080</td>\n",
       "      <td>De Gea</td>\n",
       "      <td>27</td>\n",
       "      <td>Spain</td>\n",
       "      <td>91</td>\n",
       "      <td>93</td>\n",
       "      <td>Manchester United</td>\n",
       "      <td>7e+07</td>\n",
       "      <td>260000</td>\n",
       "      <td>1</td>\n",
       "      <td>4</td>\n",
       "      <td>3</td>\n",
       "      <td>1</td>\n",
       "      <td>Medium</td>\n",
       "      <td>Lean</td>\n",
       "      <td>GK</td>\n",
       "      <td>2020</td>\n",
       "      <td>6'4</td>\n",
       "      <td>168lbs</td>\n",
       "      <td>17</td>\n",
       "      <td>13</td>\n",
       "      <td>21</td>\n",
       "      <td>50</td>\n",
       "      <td>13</td>\n",
       "      <td>18</td>\n",
       "      <td>21</td>\n",
       "      <td>19</td>\n",
       "      <td>51</td>\n",
       "      <td>42</td>\n",
       "      <td>57</td>\n",
       "      <td>58</td>\n",
       "      <td>60</td>\n",
       "      <td>90</td>\n",
       "      <td>43</td>\n",
       "      <td>31</td>\n",
       "      <td>67</td>\n",
       "      <td>43</td>\n",
       "      <td>64</td>\n",
       "      <td>12</td>\n",
       "      <td>38</td>\n",
       "      <td>30</td>\n",
       "      <td>12</td>\n",
       "      <td>68</td>\n",
       "      <td>40</td>\n",
       "      <td>68</td>\n",
       "      <td>15</td>\n",
       "      <td>21</td>\n",
       "      <td>13</td>\n",
       "      <td>90</td>\n",
       "      <td>85</td>\n",
       "      <td>87</td>\n",
       "      <td>88</td>\n",
       "      <td>94</td>\n",
       "      <td>GK</td>\n",
       "    </tr>\n",
       "    <tr>\n",
       "      <th>4</th>\n",
       "      <td>192985</td>\n",
       "      <td>K. De Bruyne</td>\n",
       "      <td>27</td>\n",
       "      <td>Belgium</td>\n",
       "      <td>91</td>\n",
       "      <td>92</td>\n",
       "      <td>Manchester City</td>\n",
       "      <td>1e+08</td>\n",
       "      <td>355000</td>\n",
       "      <td>1</td>\n",
       "      <td>4</td>\n",
       "      <td>5</td>\n",
       "      <td>4</td>\n",
       "      <td>High</td>\n",
       "      <td>Normal</td>\n",
       "      <td>RCM</td>\n",
       "      <td>2023</td>\n",
       "      <td>5'11</td>\n",
       "      <td>154lbs</td>\n",
       "      <td>93</td>\n",
       "      <td>82</td>\n",
       "      <td>55</td>\n",
       "      <td>92</td>\n",
       "      <td>82</td>\n",
       "      <td>86</td>\n",
       "      <td>85</td>\n",
       "      <td>83</td>\n",
       "      <td>91</td>\n",
       "      <td>91</td>\n",
       "      <td>78</td>\n",
       "      <td>76</td>\n",
       "      <td>79</td>\n",
       "      <td>91</td>\n",
       "      <td>77</td>\n",
       "      <td>91</td>\n",
       "      <td>63</td>\n",
       "      <td>90</td>\n",
       "      <td>75</td>\n",
       "      <td>91</td>\n",
       "      <td>76</td>\n",
       "      <td>61</td>\n",
       "      <td>87</td>\n",
       "      <td>94</td>\n",
       "      <td>79</td>\n",
       "      <td>88</td>\n",
       "      <td>68</td>\n",
       "      <td>58</td>\n",
       "      <td>51</td>\n",
       "      <td>15</td>\n",
       "      <td>13</td>\n",
       "      <td>5</td>\n",
       "      <td>10</td>\n",
       "      <td>13</td>\n",
       "      <td>CM</td>\n",
       "    </tr>\n",
       "  </tbody>\n",
       "</table>\n",
       "</div>"
      ],
      "text/plain": [
       "       ID               Name  Age Nationality  Overall  Potential  \\\n",
       "0  158023           L. Messi   31   Argentina       94         94   \n",
       "1   20801  Cristiano Ronaldo   33    Portugal       94         94   \n",
       "2  190871          Neymar Jr   26      Brazil       92         93   \n",
       "3  193080             De Gea   27       Spain       91         93   \n",
       "4  192985       K. De Bruyne   27     Belgium       91         92   \n",
       "\n",
       "                  Club  Value    Wage  Preferred Foot  \\\n",
       "0         FC Barcelona  1e+08  565000               0   \n",
       "1             Juventus  8e+07  405000               1   \n",
       "2  Paris Saint-Germain  1e+08  290000               1   \n",
       "3    Manchester United  7e+07  260000               1   \n",
       "4      Manchester City  1e+08  355000               1   \n",
       "\n",
       "   International Reputation  Weak Foot  Skill Moves Work Rate Body Type  \\\n",
       "0                         5          4            4    Medium      Lean   \n",
       "1                         5          4            5      High    Stocky   \n",
       "2                         5          5            5      High      Lean   \n",
       "3                         4          3            1    Medium      Lean   \n",
       "4                         4          5            4      High    Normal   \n",
       "\n",
       "  Position  Contract Expiration Height  Weight  Crossing  Finishing  \\\n",
       "0       RF                 2021    5'7  159lbs        84         95   \n",
       "1       ST                 2022    6'2  183lbs        84         94   \n",
       "2       LW                 2022    5'9  150lbs        79         87   \n",
       "3       GK                 2020    6'4  168lbs        17         13   \n",
       "4      RCM                 2023   5'11  154lbs        93         82   \n",
       "\n",
       "   HeadingAccuracy  ShortPassing  Volleys  Dribbling  Curve  FKAccuracy  \\\n",
       "0               70            90       86         97     93          94   \n",
       "1               89            81       87         88     81          76   \n",
       "2               62            84       84         96     88          87   \n",
       "3               21            50       13         18     21          19   \n",
       "4               55            92       82         86     85          83   \n",
       "\n",
       "   LongPassing  BallControl  Acceleration  SprintSpeed  Agility  Reactions  \\\n",
       "0           87           96            91           86       91         95   \n",
       "1           77           94            89           91       87         96   \n",
       "2           78           95            94           90       96         94   \n",
       "3           51           42            57           58       60         90   \n",
       "4           91           91            78           76       79         91   \n",
       "\n",
       "   Balance  ShotPower  Jumping  Stamina  Strength  LongShots  Aggression  \\\n",
       "0       95         85       68       72        59         94          48   \n",
       "1       70         95       95       88        79         93          63   \n",
       "2       84         80       61       81        49         82          56   \n",
       "3       43         31       67       43        64         12          38   \n",
       "4       77         91       63       90        75         91          76   \n",
       "\n",
       "   Interceptions  Positioning  Vision  Penalties  Composure  Marking  \\\n",
       "0             22           94      94         75         96       33   \n",
       "1             29           95      82         85         95       28   \n",
       "2             36           89      87         81         94       27   \n",
       "3             30           12      68         40         68       15   \n",
       "4             61           87      94         79         88       68   \n",
       "\n",
       "   StandingTackle  SlidingTackle  GKDiving  GKHandling  GKKicking  \\\n",
       "0              28             26         6          11         15   \n",
       "1              31             23         7          11         15   \n",
       "2              24             33         9           9         15   \n",
       "3              21             13        90          85         87   \n",
       "4              58             51        15          13          5   \n",
       "\n",
       "   GKPositioning  GKReflexes Main Position  \n",
       "0             14           8            ST  \n",
       "1             14          11            ST  \n",
       "2             15          11          WING  \n",
       "3             88          94            GK  \n",
       "4             10          13            CM  "
      ]
     },
     "execution_count": 20,
     "metadata": {},
     "output_type": "execute_result"
    }
   ],
   "source": [
    "df.head()"
   ]
  },
  {
   "cell_type": "code",
   "execution_count": 21,
   "metadata": {},
   "outputs": [
    {
     "data": {
      "text/html": [
       "<div>\n",
       "<style scoped>\n",
       "    .dataframe tbody tr th:only-of-type {\n",
       "        vertical-align: middle;\n",
       "    }\n",
       "\n",
       "    .dataframe tbody tr th {\n",
       "        vertical-align: top;\n",
       "    }\n",
       "\n",
       "    .dataframe thead th {\n",
       "        text-align: right;\n",
       "    }\n",
       "</style>\n",
       "<table border=\"1\" class=\"dataframe\">\n",
       "  <thead>\n",
       "    <tr style=\"text-align: right;\">\n",
       "      <th></th>\n",
       "      <th>ID</th>\n",
       "      <th>Name</th>\n",
       "      <th>Age</th>\n",
       "      <th>Nationality</th>\n",
       "      <th>Overall</th>\n",
       "      <th>Potential</th>\n",
       "      <th>Club</th>\n",
       "      <th>Value</th>\n",
       "      <th>Wage</th>\n",
       "      <th>Preferred Foot</th>\n",
       "      <th>International Reputation</th>\n",
       "      <th>Weak Foot</th>\n",
       "      <th>Skill Moves</th>\n",
       "      <th>Work Rate</th>\n",
       "      <th>Body Type</th>\n",
       "      <th>Position</th>\n",
       "      <th>Contract Expiration</th>\n",
       "      <th>Height</th>\n",
       "      <th>Weight</th>\n",
       "      <th>Crossing</th>\n",
       "      <th>Finishing</th>\n",
       "      <th>HeadingAccuracy</th>\n",
       "      <th>ShortPassing</th>\n",
       "      <th>Volleys</th>\n",
       "      <th>Dribbling</th>\n",
       "      <th>Curve</th>\n",
       "      <th>FKAccuracy</th>\n",
       "      <th>LongPassing</th>\n",
       "      <th>BallControl</th>\n",
       "      <th>Acceleration</th>\n",
       "      <th>SprintSpeed</th>\n",
       "      <th>Agility</th>\n",
       "      <th>Reactions</th>\n",
       "      <th>Balance</th>\n",
       "      <th>ShotPower</th>\n",
       "      <th>Jumping</th>\n",
       "      <th>Stamina</th>\n",
       "      <th>Strength</th>\n",
       "      <th>LongShots</th>\n",
       "      <th>Aggression</th>\n",
       "      <th>Interceptions</th>\n",
       "      <th>Positioning</th>\n",
       "      <th>Vision</th>\n",
       "      <th>Penalties</th>\n",
       "      <th>Composure</th>\n",
       "      <th>Marking</th>\n",
       "      <th>StandingTackle</th>\n",
       "      <th>SlidingTackle</th>\n",
       "      <th>GKDiving</th>\n",
       "      <th>GKHandling</th>\n",
       "      <th>GKKicking</th>\n",
       "      <th>GKPositioning</th>\n",
       "      <th>GKReflexes</th>\n",
       "      <th>Main Position</th>\n",
       "    </tr>\n",
       "  </thead>\n",
       "  <tbody>\n",
       "    <tr>\n",
       "      <th>0</th>\n",
       "      <td>158023</td>\n",
       "      <td>L. Messi</td>\n",
       "      <td>31</td>\n",
       "      <td>Argentina</td>\n",
       "      <td>94</td>\n",
       "      <td>94</td>\n",
       "      <td>FC Barcelona</td>\n",
       "      <td>1e+08</td>\n",
       "      <td>565000</td>\n",
       "      <td>0</td>\n",
       "      <td>5</td>\n",
       "      <td>4</td>\n",
       "      <td>4</td>\n",
       "      <td>Medium</td>\n",
       "      <td>Lean</td>\n",
       "      <td>RF</td>\n",
       "      <td>2021</td>\n",
       "      <td>5'7</td>\n",
       "      <td>159lbs</td>\n",
       "      <td>84</td>\n",
       "      <td>95</td>\n",
       "      <td>70</td>\n",
       "      <td>90</td>\n",
       "      <td>86</td>\n",
       "      <td>97</td>\n",
       "      <td>93</td>\n",
       "      <td>94</td>\n",
       "      <td>87</td>\n",
       "      <td>96</td>\n",
       "      <td>91</td>\n",
       "      <td>86</td>\n",
       "      <td>91</td>\n",
       "      <td>95</td>\n",
       "      <td>95</td>\n",
       "      <td>85</td>\n",
       "      <td>68</td>\n",
       "      <td>72</td>\n",
       "      <td>59</td>\n",
       "      <td>94</td>\n",
       "      <td>48</td>\n",
       "      <td>22</td>\n",
       "      <td>94</td>\n",
       "      <td>94</td>\n",
       "      <td>75</td>\n",
       "      <td>96</td>\n",
       "      <td>33</td>\n",
       "      <td>28</td>\n",
       "      <td>26</td>\n",
       "      <td>6</td>\n",
       "      <td>11</td>\n",
       "      <td>15</td>\n",
       "      <td>14</td>\n",
       "      <td>8</td>\n",
       "      <td>ST</td>\n",
       "    </tr>\n",
       "  </tbody>\n",
       "</table>\n",
       "</div>"
      ],
      "text/plain": [
       "       ID      Name  Age Nationality  Overall  Potential          Club  Value  \\\n",
       "0  158023  L. Messi   31   Argentina       94         94  FC Barcelona  1e+08   \n",
       "\n",
       "     Wage  Preferred Foot  International Reputation  Weak Foot  Skill Moves  \\\n",
       "0  565000               0                         5          4            4   \n",
       "\n",
       "  Work Rate Body Type Position  Contract Expiration Height  Weight  Crossing  \\\n",
       "0    Medium      Lean       RF                 2021    5'7  159lbs        84   \n",
       "\n",
       "   Finishing  HeadingAccuracy  ShortPassing  Volleys  Dribbling  Curve  \\\n",
       "0         95               70            90       86         97     93   \n",
       "\n",
       "   FKAccuracy  LongPassing  BallControl  Acceleration  SprintSpeed  Agility  \\\n",
       "0          94           87           96            91           86       91   \n",
       "\n",
       "   Reactions  Balance  ShotPower  Jumping  Stamina  Strength  LongShots  \\\n",
       "0         95       95         85       68       72        59         94   \n",
       "\n",
       "   Aggression  Interceptions  Positioning  Vision  Penalties  Composure  \\\n",
       "0          48             22           94      94         75         96   \n",
       "\n",
       "   Marking  StandingTackle  SlidingTackle  GKDiving  GKHandling  GKKicking  \\\n",
       "0       33              28             26         6          11         15   \n",
       "\n",
       "   GKPositioning  GKReflexes Main Position  \n",
       "0             14           8            ST  "
      ]
     },
     "execution_count": 21,
     "metadata": {},
     "output_type": "execute_result"
    }
   ],
   "source": [
    "#df.loc[df.Name, 'M. Salah']\n",
    "df[df.Name == 'L. Messi']"
   ]
  },
  {
   "cell_type": "code",
   "execution_count": 22,
   "metadata": {},
   "outputs": [],
   "source": [
    "messi_x = df[df.Name == 'L. Messi'].values.reshape(1,-1)\n",
    "ronaldo_x = df[df.Name == 'Cristiano Ronaldo'].values.reshape(1,-1)"
   ]
  },
  {
   "cell_type": "code",
   "execution_count": 23,
   "metadata": {},
   "outputs": [
    {
     "ename": "ValueError",
     "evalue": "could not convert string to float: 'L. Messi'",
     "output_type": "error",
     "traceback": [
      "\u001b[0;31m---------------------------------------------------------------------------\u001b[0m",
      "\u001b[0;31mValueError\u001b[0m                                Traceback (most recent call last)",
      "\u001b[0;32m<ipython-input-23-9a888554061b>\u001b[0m in \u001b[0;36m<module>\u001b[0;34m\u001b[0m\n\u001b[0;32m----> 1\u001b[0;31m \u001b[0mprint\u001b[0m\u001b[0;34m(\u001b[0m\u001b[0;34m'Messi vs. Ronaldo = '\u001b[0m\u001b[0;34m,\u001b[0m \u001b[0mcosine_similarity\u001b[0m\u001b[0;34m(\u001b[0m\u001b[0mmessi_x\u001b[0m\u001b[0;34m,\u001b[0m \u001b[0mronaldo_x\u001b[0m\u001b[0;34m)\u001b[0m\u001b[0;34m)\u001b[0m\u001b[0;34m\u001b[0m\u001b[0;34m\u001b[0m\u001b[0m\n\u001b[0m",
      "\u001b[0;32m~/opt/anaconda3/lib/python3.8/site-packages/sklearn/metrics/pairwise.py\u001b[0m in \u001b[0;36mcosine_similarity\u001b[0;34m(X, Y, dense_output)\u001b[0m\n\u001b[1;32m   1177\u001b[0m     \u001b[0;31m# to avoid recursive import\u001b[0m\u001b[0;34m\u001b[0m\u001b[0;34m\u001b[0m\u001b[0;34m\u001b[0m\u001b[0m\n\u001b[1;32m   1178\u001b[0m \u001b[0;34m\u001b[0m\u001b[0m\n\u001b[0;32m-> 1179\u001b[0;31m     \u001b[0mX\u001b[0m\u001b[0;34m,\u001b[0m \u001b[0mY\u001b[0m \u001b[0;34m=\u001b[0m \u001b[0mcheck_pairwise_arrays\u001b[0m\u001b[0;34m(\u001b[0m\u001b[0mX\u001b[0m\u001b[0;34m,\u001b[0m \u001b[0mY\u001b[0m\u001b[0;34m)\u001b[0m\u001b[0;34m\u001b[0m\u001b[0;34m\u001b[0m\u001b[0m\n\u001b[0m\u001b[1;32m   1180\u001b[0m \u001b[0;34m\u001b[0m\u001b[0m\n\u001b[1;32m   1181\u001b[0m     \u001b[0mX_normalized\u001b[0m \u001b[0;34m=\u001b[0m \u001b[0mnormalize\u001b[0m\u001b[0;34m(\u001b[0m\u001b[0mX\u001b[0m\u001b[0;34m,\u001b[0m \u001b[0mcopy\u001b[0m\u001b[0;34m=\u001b[0m\u001b[0;32mTrue\u001b[0m\u001b[0;34m)\u001b[0m\u001b[0;34m\u001b[0m\u001b[0;34m\u001b[0m\u001b[0m\n",
      "\u001b[0;32m~/opt/anaconda3/lib/python3.8/site-packages/sklearn/utils/validation.py\u001b[0m in \u001b[0;36minner_f\u001b[0;34m(*args, **kwargs)\u001b[0m\n\u001b[1;32m     70\u001b[0m                           FutureWarning)\n\u001b[1;32m     71\u001b[0m         \u001b[0mkwargs\u001b[0m\u001b[0;34m.\u001b[0m\u001b[0mupdate\u001b[0m\u001b[0;34m(\u001b[0m\u001b[0;34m{\u001b[0m\u001b[0mk\u001b[0m\u001b[0;34m:\u001b[0m \u001b[0marg\u001b[0m \u001b[0;32mfor\u001b[0m \u001b[0mk\u001b[0m\u001b[0;34m,\u001b[0m \u001b[0marg\u001b[0m \u001b[0;32min\u001b[0m \u001b[0mzip\u001b[0m\u001b[0;34m(\u001b[0m\u001b[0msig\u001b[0m\u001b[0;34m.\u001b[0m\u001b[0mparameters\u001b[0m\u001b[0;34m,\u001b[0m \u001b[0margs\u001b[0m\u001b[0;34m)\u001b[0m\u001b[0;34m}\u001b[0m\u001b[0;34m)\u001b[0m\u001b[0;34m\u001b[0m\u001b[0;34m\u001b[0m\u001b[0m\n\u001b[0;32m---> 72\u001b[0;31m         \u001b[0;32mreturn\u001b[0m \u001b[0mf\u001b[0m\u001b[0;34m(\u001b[0m\u001b[0;34m**\u001b[0m\u001b[0mkwargs\u001b[0m\u001b[0;34m)\u001b[0m\u001b[0;34m\u001b[0m\u001b[0;34m\u001b[0m\u001b[0m\n\u001b[0m\u001b[1;32m     73\u001b[0m     \u001b[0;32mreturn\u001b[0m \u001b[0minner_f\u001b[0m\u001b[0;34m\u001b[0m\u001b[0;34m\u001b[0m\u001b[0m\n\u001b[1;32m     74\u001b[0m \u001b[0;34m\u001b[0m\u001b[0m\n",
      "\u001b[0;32m~/opt/anaconda3/lib/python3.8/site-packages/sklearn/metrics/pairwise.py\u001b[0m in \u001b[0;36mcheck_pairwise_arrays\u001b[0;34m(X, Y, precomputed, dtype, accept_sparse, force_all_finite, copy)\u001b[0m\n\u001b[1;32m    143\u001b[0m                             estimator=estimator)\n\u001b[1;32m    144\u001b[0m     \u001b[0;32melse\u001b[0m\u001b[0;34m:\u001b[0m\u001b[0;34m\u001b[0m\u001b[0;34m\u001b[0m\u001b[0m\n\u001b[0;32m--> 145\u001b[0;31m         X = check_array(X, accept_sparse=accept_sparse, dtype=dtype,\n\u001b[0m\u001b[1;32m    146\u001b[0m                         \u001b[0mcopy\u001b[0m\u001b[0;34m=\u001b[0m\u001b[0mcopy\u001b[0m\u001b[0;34m,\u001b[0m \u001b[0mforce_all_finite\u001b[0m\u001b[0;34m=\u001b[0m\u001b[0mforce_all_finite\u001b[0m\u001b[0;34m,\u001b[0m\u001b[0;34m\u001b[0m\u001b[0;34m\u001b[0m\u001b[0m\n\u001b[1;32m    147\u001b[0m                         estimator=estimator)\n",
      "\u001b[0;32m~/opt/anaconda3/lib/python3.8/site-packages/sklearn/utils/validation.py\u001b[0m in \u001b[0;36minner_f\u001b[0;34m(*args, **kwargs)\u001b[0m\n\u001b[1;32m     70\u001b[0m                           FutureWarning)\n\u001b[1;32m     71\u001b[0m         \u001b[0mkwargs\u001b[0m\u001b[0;34m.\u001b[0m\u001b[0mupdate\u001b[0m\u001b[0;34m(\u001b[0m\u001b[0;34m{\u001b[0m\u001b[0mk\u001b[0m\u001b[0;34m:\u001b[0m \u001b[0marg\u001b[0m \u001b[0;32mfor\u001b[0m \u001b[0mk\u001b[0m\u001b[0;34m,\u001b[0m \u001b[0marg\u001b[0m \u001b[0;32min\u001b[0m \u001b[0mzip\u001b[0m\u001b[0;34m(\u001b[0m\u001b[0msig\u001b[0m\u001b[0;34m.\u001b[0m\u001b[0mparameters\u001b[0m\u001b[0;34m,\u001b[0m \u001b[0margs\u001b[0m\u001b[0;34m)\u001b[0m\u001b[0;34m}\u001b[0m\u001b[0;34m)\u001b[0m\u001b[0;34m\u001b[0m\u001b[0;34m\u001b[0m\u001b[0m\n\u001b[0;32m---> 72\u001b[0;31m         \u001b[0;32mreturn\u001b[0m \u001b[0mf\u001b[0m\u001b[0;34m(\u001b[0m\u001b[0;34m**\u001b[0m\u001b[0mkwargs\u001b[0m\u001b[0;34m)\u001b[0m\u001b[0;34m\u001b[0m\u001b[0;34m\u001b[0m\u001b[0m\n\u001b[0m\u001b[1;32m     73\u001b[0m     \u001b[0;32mreturn\u001b[0m \u001b[0minner_f\u001b[0m\u001b[0;34m\u001b[0m\u001b[0;34m\u001b[0m\u001b[0m\n\u001b[1;32m     74\u001b[0m \u001b[0;34m\u001b[0m\u001b[0m\n",
      "\u001b[0;32m~/opt/anaconda3/lib/python3.8/site-packages/sklearn/utils/validation.py\u001b[0m in \u001b[0;36mcheck_array\u001b[0;34m(array, accept_sparse, accept_large_sparse, dtype, order, copy, force_all_finite, ensure_2d, allow_nd, ensure_min_samples, ensure_min_features, estimator)\u001b[0m\n\u001b[1;32m    596\u001b[0m                     \u001b[0marray\u001b[0m \u001b[0;34m=\u001b[0m \u001b[0marray\u001b[0m\u001b[0;34m.\u001b[0m\u001b[0mastype\u001b[0m\u001b[0;34m(\u001b[0m\u001b[0mdtype\u001b[0m\u001b[0;34m,\u001b[0m \u001b[0mcasting\u001b[0m\u001b[0;34m=\u001b[0m\u001b[0;34m\"unsafe\"\u001b[0m\u001b[0;34m,\u001b[0m \u001b[0mcopy\u001b[0m\u001b[0;34m=\u001b[0m\u001b[0;32mFalse\u001b[0m\u001b[0;34m)\u001b[0m\u001b[0;34m\u001b[0m\u001b[0;34m\u001b[0m\u001b[0m\n\u001b[1;32m    597\u001b[0m                 \u001b[0;32melse\u001b[0m\u001b[0;34m:\u001b[0m\u001b[0;34m\u001b[0m\u001b[0;34m\u001b[0m\u001b[0m\n\u001b[0;32m--> 598\u001b[0;31m                     \u001b[0marray\u001b[0m \u001b[0;34m=\u001b[0m \u001b[0mnp\u001b[0m\u001b[0;34m.\u001b[0m\u001b[0masarray\u001b[0m\u001b[0;34m(\u001b[0m\u001b[0marray\u001b[0m\u001b[0;34m,\u001b[0m \u001b[0morder\u001b[0m\u001b[0;34m=\u001b[0m\u001b[0morder\u001b[0m\u001b[0;34m,\u001b[0m \u001b[0mdtype\u001b[0m\u001b[0;34m=\u001b[0m\u001b[0mdtype\u001b[0m\u001b[0;34m)\u001b[0m\u001b[0;34m\u001b[0m\u001b[0;34m\u001b[0m\u001b[0m\n\u001b[0m\u001b[1;32m    599\u001b[0m             \u001b[0;32mexcept\u001b[0m \u001b[0mComplexWarning\u001b[0m\u001b[0;34m:\u001b[0m\u001b[0;34m\u001b[0m\u001b[0;34m\u001b[0m\u001b[0m\n\u001b[1;32m    600\u001b[0m                 raise ValueError(\"Complex data not supported\\n\"\n",
      "\u001b[0;32m~/opt/anaconda3/lib/python3.8/site-packages/numpy/core/_asarray.py\u001b[0m in \u001b[0;36masarray\u001b[0;34m(a, dtype, order)\u001b[0m\n\u001b[1;32m     81\u001b[0m \u001b[0;34m\u001b[0m\u001b[0m\n\u001b[1;32m     82\u001b[0m     \"\"\"\n\u001b[0;32m---> 83\u001b[0;31m     \u001b[0;32mreturn\u001b[0m \u001b[0marray\u001b[0m\u001b[0;34m(\u001b[0m\u001b[0ma\u001b[0m\u001b[0;34m,\u001b[0m \u001b[0mdtype\u001b[0m\u001b[0;34m,\u001b[0m \u001b[0mcopy\u001b[0m\u001b[0;34m=\u001b[0m\u001b[0;32mFalse\u001b[0m\u001b[0;34m,\u001b[0m \u001b[0morder\u001b[0m\u001b[0;34m=\u001b[0m\u001b[0morder\u001b[0m\u001b[0;34m)\u001b[0m\u001b[0;34m\u001b[0m\u001b[0;34m\u001b[0m\u001b[0m\n\u001b[0m\u001b[1;32m     84\u001b[0m \u001b[0;34m\u001b[0m\u001b[0m\n\u001b[1;32m     85\u001b[0m \u001b[0;34m\u001b[0m\u001b[0m\n",
      "\u001b[0;31mValueError\u001b[0m: could not convert string to float: 'L. Messi'"
     ]
    }
   ],
   "source": [
    "print('Messi vs. Ronaldo = ', cosine_similarity(messi_x, ronaldo_x))"
   ]
  },
  {
   "cell_type": "code",
   "execution_count": null,
   "metadata": {},
   "outputs": [],
   "source": [
    "from scipy import spatialdef Similarity(movieId1, movieId2):\n",
    "    a = movies.iloc[movieId1]\n",
    "    b = movies.iloc[movieId2]\n",
    "    \n",
    "    genresA = a['genres_bin']\n",
    "    genresB = b['genres_bin']\n",
    "    \n",
    "    genreDistance = spatial.distance.cosine(genresA, genresB)\n",
    "    \n",
    "    scoreA = a['cast_bin']\n",
    "    scoreB = b['cast_bin']\n",
    "    scoreDistance = spatial.distance.cosine(scoreA, scoreB)\n",
    "    \n",
    "    directA = a['director_bin']\n",
    "    directB = b['director_bin']\n",
    "    directDistance = spatial.distance.cosine(directA, directB)\n",
    "    \n",
    "    wordsA = a['words_bin']\n",
    "    wordsB = b['words_bin']\n",
    "    wordsDistance = spatial.distance.cosine(directA, directB)\n",
    "    return genreDistance + directDistance + scoreDistance + wordsDistance"
   ]
  },
  {
   "cell_type": "code",
   "execution_count": null,
   "metadata": {},
   "outputs": [],
   "source": [
    "Similarity(3,160)"
   ]
  },
  {
   "cell_type": "code",
   "execution_count": null,
   "metadata": {},
   "outputs": [],
   "source": [
    "import operatordef predict_score():\n",
    "    name = input('Enter a movie title: ')\n",
    "    new_movie = movies[movies['original_title'].str.contains(name)].iloc[0].to_frame().T\n",
    "    print('Selected Movie: ',new_movie.original_title.values[0])\n",
    "    def getNeighbors(baseMovie, K):\n",
    "        distances = []\n",
    "    \n",
    "        for index, movie in movies.iterrows():\n",
    "            if movie['new_id'] != baseMovie['new_id'].values[0]:\n",
    "                dist = Similarity(baseMovie['new_id'].values[0], movie['new_id'])\n",
    "                distances.append((movie['new_id'], dist))\n",
    "    \n",
    "        distances.sort(key=operator.itemgetter(1))\n",
    "        neighbors = []\n",
    "    \n",
    "        for x in range(K):\n",
    "            neighbors.append(distances[x])\n",
    "        return neighbors\n",
    "    \n",
    "    K = 10\n",
    "    avgRating = 0\n",
    "    neighbors = getNeighbors(new_movie, K)print('\\nRecommended Movies: \\n')\n",
    "    for neighbor in neighbors:\n",
    "        avgRating = avgRating+movies.iloc[neighbor[0]][2]  \n",
    "        print( movies.iloc[neighbor[0]][0]+\" | Genres: \"+str(movies.iloc[neighbor[0]][1]).strip('[]').replace(' ','')+\" | Rating: \"+str(movies.iloc[neighbor[0]][2]))\n",
    "    \n",
    "    print('\\n')\n",
    "    avgRating = avgRating/K\n",
    "    print('The predicted rating for %s is: %f' %(new_movie['original_title'].values[0],avgRating))\n",
    "    print('The actual rating for %s is %f' %(new_movie['original_title'].values[0],new_movie['vote_average']))"
   ]
  }
 ],
 "metadata": {
  "kernelspec": {
   "display_name": "Python 3",
   "language": "python",
   "name": "python3"
  },
  "language_info": {
   "codemirror_mode": {
    "name": "ipython",
    "version": 3
   },
   "file_extension": ".py",
   "mimetype": "text/x-python",
   "name": "python",
   "nbconvert_exporter": "python",
   "pygments_lexer": "ipython3",
   "version": "3.8.5"
  }
 },
 "nbformat": 4,
 "nbformat_minor": 4
}
