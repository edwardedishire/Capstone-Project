{
 "cells": [
  {
   "cell_type": "markdown",
   "metadata": {},
   "source": [
    "### Imports"
   ]
  },
  {
   "cell_type": "code",
   "execution_count": 1,
   "metadata": {},
   "outputs": [],
   "source": [
    "#from plotly.offline import init_notebook_mode, iplot, plot\n",
    "#from plotly.subplots import make_subplots\n",
    "#import plotly.express as px\n",
    "#import plotly as py\n",
    "#init_notebook_mode(connected=True)\n",
    "#import plotly.graph_objs as go\n",
    "\n",
    "#from sklearn.preprocessing import LabelEncoder\n",
    "#from sklearn.preprocessing import StandardScaler"
   ]
  },
  {
   "cell_type": "code",
   "execution_count": null,
   "metadata": {},
   "outputs": [],
   "source": [
    "import requests\n",
    "import pandas as pd\n",
    "import numpy as np\n",
    "import matplotlib.pyplot as plt\n",
    "import seaborn as sns\n",
    "import random\n",
    "import string\n",
    "import plotly.graph_objects as go\n",
    "\n",
    "from sklearn.feature_extraction.text import CountVectorizer, TfidfVectorizer\n",
    "from scipy import sparse\n",
    "from sklearn.metrics.pairwise import pairwise_distances, cosine_distances, cosine_similarity\n",
    "\n",
    "\n",
    "\n",
    "from sklearn.preprocessing import LabelEncoder\n",
    "from sklearn.preprocessing import StandardScaler\n",
    "from sklearn.decomposition import PCA\n",
    "from sklearn.neighbors import NearestNeighbors\n",
    "\n",
    "import warnings\n",
    "warnings.filterwarnings('ignore')\n",
    "\n",
    "import os\n",
    "os.environ['KMP_DUPLICATE_LIB_OK']='True'\n",
    "\n",
    "pd.set_option('max_rows',None)\n",
    "%matplotlib inline\n",
    "sns.set()"
   ]
  },
  {
   "cell_type": "markdown",
   "metadata": {},
   "source": [
    "### Modeling"
   ]
  },
  {
   "cell_type": "code",
   "execution_count": null,
   "metadata": {},
   "outputs": [],
   "source": [
    "#https://towardsdatascience.com/feature-selection-correlation-and-p-value-da8921bfb3cf"
   ]
  },
  {
   "cell_type": "code",
   "execution_count": null,
   "metadata": {},
   "outputs": [],
   "source": [
    "#X_validate_pred = X_test.drop(columns=['ID'])"
   ]
  },
  {
   "cell_type": "code",
   "execution_count": null,
   "metadata": {},
   "outputs": [],
   "source": [
    "## Finding the optimal number of neighbors for KNN regression\n",
    "#from sklearn.neighbors import KNeighborsRegressor\n",
    "#knnRange = range(1,21,1)\n",
    "##scores_list = []\n",
    "#for i in knnRange:\n",
    "    regressor_knn = KNeighborsRegressor(n_neighbors=i)\n",
    "    regressor_knn.fit(X_train,y_train)\n",
    "    y_pred = regressor_knn.predict(X_test)\n",
    "    scores_list.append(r2_score(y_test,pred_lr))\n",
    "plt.plot(knnRange,scores_list,linewidth=2,color='green')\n",
    "plt.xticks(knnRange)\n",
    "plt.xlabel('No. of neighbors')\n",
    "plt.ylabel('r2 score of KNN')\n",
    "plt.show()"
   ]
  },
  {
   "cell_type": "code",
   "execution_count": null,
   "metadata": {},
   "outputs": [],
   "source": [
    "regressor_knn = KNeighborsRegressor(n_neighbors=6)\n",
    "regressor_knn.fit(X_train,y_train)\n",
    "pred_knn = regressor_knn.predict(X_test)\n",
    "r2_knn = r2_score(y_test,pred_knn)\n",
    "print(r2_knn)"
   ]
  },
  {
   "cell_type": "code",
   "execution_count": null,
   "metadata": {},
   "outputs": [],
   "source": [
    "#pred_lr = lr.predict(X_test)\n",
    "#pred_lr = lr.predict(X_test)\n",
    "#lr_r2 = metrics.r2_score(y_test, pred_lr)\n",
    "#lr_r2"
   ]
  },
  {
   "cell_type": "code",
   "execution_count": 2,
   "metadata": {},
   "outputs": [],
   "source": [
    "#plt.hist(residuals)\n",
    "#plt.title('Residual Distribution')\n",
    "\n",
    "#plt.hist(np.log(y_test))\n",
    "#plt.title('Transformed Residuals')\n",
    "\n",
    "#sample_value = y_test.values[0]\n",
    "#np.log(sample_value)\n",
    "\n",
    "# np.log(y_test).values.min()"
   ]
  },
  {
   "cell_type": "code",
   "execution_count": 3,
   "metadata": {},
   "outputs": [],
   "source": [
    "#id_col = pd.DataFrame(X_val.iloc[:,0])\n",
    "#rf_preds = pd.DataFrame(rf_pred)\n",
    "#id_col = id_col.reset_index(drop=True)"
   ]
  },
  {
   "cell_type": "code",
   "execution_count": 1,
   "metadata": {},
   "outputs": [],
   "source": [
    "#id_col.head(10)\n",
    "#rf_preds.head(10)\n",
    "#rf_preds.values/1000\n",
    "#prediction_df = pd.concat([id_col, rf_preds], axis=1)\n",
    "#prediction_df.rename(columns={0: 'Value'}, inplace=True)\n",
    "#prediction_df.head(10)"
   ]
  },
  {
   "cell_type": "code",
   "execution_count": 1,
   "metadata": {},
   "outputs": [],
   "source": [
    "#feature importance\n",
    "#https://towardsdatascience.com/feature-selection-with-pandas-e3690ad8504b"
   ]
  },
  {
   "cell_type": "code",
   "execution_count": 4,
   "metadata": {},
   "outputs": [],
   "source": [
    "# pd.DataFrame({'Feature':X_test.columns,\n",
    "#              'Importance': rf.feature_importances_}).sort_values('Importance', ascending=False)\n"
   ]
  },
  {
   "cell_type": "code",
   "execution_count": 5,
   "metadata": {},
   "outputs": [],
   "source": [
    "#https://neptune.ai/blog/random-forest-regression-when-does-it-fail-and-why"
   ]
  },
  {
   "cell_type": "code",
   "execution_count": null,
   "metadata": {},
   "outputs": [],
   "source": [
    "player_features = (\n",
    "    'Acceleration', 'Aggression', 'Agility', \n",
    "    'Balance', 'BallControl', 'Composure', \n",
    "    'Crossing', 'Dribbling', 'FKAccuracy', \n",
    "    'Finishing', 'GKDiving', 'GKHandling', \n",
    "    'GKKicking', 'GKPositioning', 'GKReflexes', \n",
    "    'HeadingAccuracy', 'Interceptions', 'Jumping', \n",
    "    'LongPassing', 'LongShots', 'Marking', 'Penalties'\n",
    ")\n",
    "\n",
    "from math import pi\n",
    "idx = 1\n",
    "plt.figure(figsize=(15,45))\n",
    "for position_name, features in df.groupby(df['Position'])[player_features].mean().iterrows():\n",
    "    top_features = dict(features.nlargest(5))\n",
    "    \n",
    "    # number of variable\n",
    "    categories=top_features.keys()\n",
    "    N = len(categories)\n",
    "\n",
    "    # We are going to plot the first line of the data frame.\n",
    "    # But we need to repeat the first value to close the circular graph:\n",
    "    values = list(top_features.values())\n",
    "    values += values[:1]\n",
    "\n",
    "    # What will be the angle of each axis in the plot? (we divide the plot / number of variable)\n",
    "    angles = [n / float(N) * 2 * pi for n in range(N)]\n",
    "    angles += angles[:1]\n",
    "\n",
    "    # Initialise the spider plot\n",
    "    ax = plt.subplot(10, 3, idx, polar=True)\n",
    "\n",
    "    # Draw one axe per variable + add labels labels yet\n",
    "    plt.xticks(angles[:-1], categories, color='grey', size=8)\n",
    " # Draw ylabels\n",
    "    ax.set_rlabel_position(0)\n",
    "    plt.yticks([25,50,75], [\"25\",\"50\",\"75\"], color=\"grey\", size=7)\n",
    "    plt.ylim(0,100)\n",
    "    \n",
    "    plt.subplots_adjust(hspace = 0.5)\n",
    "    \n",
    "    # Plot data\n",
    "    ax.plot(angles, values, linewidth=1, linestyle='solid')\n",
    "\n",
    "    # Fill area\n",
    "    ax.fill(angles, values, 'b', alpha=0.1)\n",
    "    \n",
    "    plt.title(position_name, size=11, y=1.1)\n",
    "    \n",
    "    idx += 1"
   ]
  },
  {
   "cell_type": "markdown",
   "metadata": {},
   "source": [
    "### Recommender"
   ]
  },
  {
   "cell_type": "code",
   "execution_count": null,
   "metadata": {},
   "outputs": [],
   "source": [
    "# Combining ID, Name and features into a df\n",
    "df2 = df[['ID','Name']+features]\n",
    "\n",
    "# Create a dict with name and ID\n",
    "id_name = df[['Name','ID']].set_index('ID')['Name'].to_dict()"
   ]
  },
  {
   "cell_type": "code",
   "execution_count": null,
   "metadata": {},
   "outputs": [],
   "source": [
    "NUM_RECOM = 10\n",
    "\n",
    "X = tr[field_cols].dropna().values\n",
    "nbrs = NearestNeighbors(n_neighbors=NUM_RECOM+1, algorithm='ball_tree').fit(X)\n",
    "dist, rank = nbrs.kneighbors(X)\n",
    "\n",
    "similar_df = pd.DataFrame(columns=[f'rank_{i}'for i in range(1,NUM_RECOM+1)],\n",
    "                          index=tr['ID'].values,\n",
    "                          data=rank[:,1:])\n",
    "dist_df = pd.DataFrame(columns=[f'rank_{i}'for i in range(1,NUM_RECOM+1)],\n",
    "                       index=tr['ID'].values,\n",
    "                       data=dist[:,1:])\n",
    "\n",
    "\n",
    "for cols in list(similar_df):\n",
    "    tg_col = similar_df[cols]\n",
    "    new_value = tr['ID'].iloc[tg_col].tolist()\n",
    "    similar_df[cols] = new_value"
   ]
  },
  {
   "cell_type": "code",
   "execution_count": null,
   "metadata": {},
   "outputs": [],
   "source": [
    "def similar_player(similar_df, dist_df, player_id):\n",
    "    player_id = int(player_id)\n",
    "    player_name = tr[tr['ID'] == player_id]['Name'].values[0]\n",
    "    \n",
    "    ## Bar chart\n",
    "    Xaxis = 1/(1+dist_df.loc[player_id].values[::-1])\n",
    "    Yaxis = similar_df.loc[player_id].map(id_name).values[::-1]\n",
    "\n",
    "    fig = go.Figure(go.Bar(\n",
    "                x=Xaxis,\n",
    "                y=Yaxis,\n",
    "                orientation='h'))\n",
    "    \n",
    "    fig.update_layout(title_text='Players similar to  \" '+str(player_name)+' \"')\n",
    "    fig.show()\n",
    "\n",
    "    ## Table display\n",
    "    sim_ply = similar_df.loc[player_id]\n",
    "    display_col = ['Name','Age','Nationality','Overall','Potential', 'Club', 'Preferred Foot','Weak Foot', \n",
    "               'Contract Expiration']\n",
    "\n",
    "    display_df = pd.DataFrame({'ID':similar_df.loc[player_id]})\\\n",
    "    .merge(train[['ID']+display_col], how='left', on='ID')[display_col]\n",
    "\n",
    "\n",
    "    display(display_df.style.highlight_max(color='lightgreen').highlight_min(color='#cd4f39'))"
   ]
  },
  {
   "cell_type": "code",
   "execution_count": null,
   "metadata": {},
   "outputs": [],
   "source": []
  },
  {
   "cell_type": "code",
   "execution_count": 1,
   "metadata": {},
   "outputs": [],
   "source": [
    "#from sklearn.neighbors import KDTree\n",
    "\n",
    "#X = df2[features]\n",
    "#kdt = KDTree(X, leaf_size=30, metric='euclidean')\n",
    "#kdt.query(X, k=2, return_distance=False)"
   ]
  },
  {
   "cell_type": "code",
   "execution_count": null,
   "metadata": {},
   "outputs": [],
   "source": []
  },
  {
   "cell_type": "code",
   "execution_count": null,
   "metadata": {},
   "outputs": [],
   "source": [
    "#df['Targetman'] = (c*df['HeadingAccuracy'] + c*df['Strength'] + a*df['FKAccuracy'] + b*df['BallControl'] + \n",
    " #                  a*df['Acceleration'] + a*df['SprintSpeed'] + b*df['Agility'] + c*df['Reactions'] + \n",
    "  #                 c*df['Balance'] + b*df['Stamina'] + a*df['LongShots'] + b*df['Aggression'] + b*df['Positioning'] +\n",
    "   #                a*df['Vision'] + b*df['Composure'] + a*df['Volleys'] + b*df['Penalties'] + c*df['Finishing'] +\n",
    "    #               c*df['Jumping'] + b*df['ShotPower'])/ (6*a + 8*b + 6*c)"
   ]
  },
  {
   "cell_type": "code",
   "execution_count": null,
   "metadata": {},
   "outputs": [],
   "source": [
    "plt.figure(figsize=(16,12))\n",
    "targetman = df[(df['Main Position'] == 'ST')].sort_values('Targetman', ascending=False)[0:10]\n",
    "X_tm = np.array(list(targetman['Name']))\n",
    "y_tm = np.array(list(targetman['Targetman']))\n",
    "sns.barplot(X_tm, y_tm, palette=sns.color_palette(\"Blues_d\"))\n",
    "plt.ylabel(\"Targetman Score\", fontsize=16)\n",
    "plt.xlabel(\"Player\", fontsize=16)\n",
    "plt.title(\"Targetman\", fontsize=16)"
   ]
  },
  {
   "cell_type": "code",
   "execution_count": null,
   "metadata": {},
   "outputs": [],
   "source": [
    "#finding suarez replacement\n",
    "df_recommender = df[(df['Potential'] > 85)&\n",
    "                                           (df['Value (€ Mil)'] < 50)&\n",
    "                                           (df['Age'] <= 30)&\n",
    "                                           (df['Position'] =='ST')\n",
    "                                           ]"
   ]
  }
 ],
 "metadata": {
  "kernelspec": {
   "display_name": "Python 3",
   "language": "python",
   "name": "python3"
  },
  "language_info": {
   "codemirror_mode": {
    "name": "ipython",
    "version": 3
   },
   "file_extension": ".py",
   "mimetype": "text/x-python",
   "name": "python",
   "nbconvert_exporter": "python",
   "pygments_lexer": "ipython3",
   "version": "3.8.5"
  }
 },
 "nbformat": 4,
 "nbformat_minor": 4
}
