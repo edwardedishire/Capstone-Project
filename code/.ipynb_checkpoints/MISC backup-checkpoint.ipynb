{
 "cells": [
  {
   "cell_type": "markdown",
   "metadata": {},
   "source": [
    "### Imports"
   ]
  },
  {
   "cell_type": "code",
   "execution_count": 1,
   "metadata": {},
   "outputs": [],
   "source": [
    "#from plotly.offline import init_notebook_mode, iplot, plot\n",
    "#from plotly.subplots import make_subplots\n",
    "#import plotly.express as px\n",
    "#import plotly as py\n",
    "#init_notebook_mode(connected=True)\n",
    "#import plotly.graph_objs as go\n",
    "\n",
    "#from sklearn.preprocessing import LabelEncoder\n",
    "#from sklearn.preprocessing import StandardScaler"
   ]
  },
  {
   "cell_type": "code",
   "execution_count": null,
   "metadata": {},
   "outputs": [],
   "source": []
  },
  {
   "cell_type": "markdown",
   "metadata": {},
   "source": [
    "### Recommender"
   ]
  },
  {
   "cell_type": "code",
   "execution_count": null,
   "metadata": {},
   "outputs": [],
   "source": [
    "# Combining ID, Name and features into a df\n",
    "df2 = df[['ID','Name']+features]\n",
    "\n",
    "# Create a dict with name and ID\n",
    "id_name = df[['Name','ID']].set_index('ID')['Name'].to_dict()"
   ]
  },
  {
   "cell_type": "code",
   "execution_count": null,
   "metadata": {},
   "outputs": [],
   "source": [
    "NUM_RECOM = 10\n",
    "\n",
    "X = tr[field_cols].dropna().values\n",
    "nbrs = NearestNeighbors(n_neighbors=NUM_RECOM+1, algorithm='ball_tree').fit(X)\n",
    "dist, rank = nbrs.kneighbors(X)\n",
    "\n",
    "similar_df = pd.DataFrame(columns=[f'rank_{i}'for i in range(1,NUM_RECOM+1)],\n",
    "                          index=tr['ID'].values,\n",
    "                          data=rank[:,1:])\n",
    "dist_df = pd.DataFrame(columns=[f'rank_{i}'for i in range(1,NUM_RECOM+1)],\n",
    "                       index=tr['ID'].values,\n",
    "                       data=dist[:,1:])\n",
    "\n",
    "\n",
    "for cols in list(similar_df):\n",
    "    tg_col = similar_df[cols]\n",
    "    new_value = tr['ID'].iloc[tg_col].tolist()\n",
    "    similar_df[cols] = new_value"
   ]
  },
  {
   "cell_type": "code",
   "execution_count": null,
   "metadata": {},
   "outputs": [],
   "source": [
    "def similar_player(similar_df, dist_df, player_id):\n",
    "    player_id = int(player_id)\n",
    "    player_name = tr[tr['ID'] == player_id]['Name'].values[0]\n",
    "    \n",
    "    ## Bar chart\n",
    "    Xaxis = 1/(1+dist_df.loc[player_id].values[::-1])\n",
    "    Yaxis = similar_df.loc[player_id].map(id_name).values[::-1]\n",
    "\n",
    "    fig = go.Figure(go.Bar(\n",
    "                x=Xaxis,\n",
    "                y=Yaxis,\n",
    "                orientation='h'))\n",
    "    \n",
    "    fig.update_layout(title_text='Players similar to  \" '+str(player_name)+' \"')\n",
    "    fig.show()\n",
    "\n",
    "    ## Table display\n",
    "    sim_ply = similar_df.loc[player_id]\n",
    "    display_col = ['Name','Age','Nationality','Overall','Potential', 'Club', 'Preferred Foot','Weak Foot', \n",
    "               'Contract Expiration']\n",
    "\n",
    "    display_df = pd.DataFrame({'ID':similar_df.loc[player_id]})\\\n",
    "    .merge(train[['ID']+display_col], how='left', on='ID')[display_col]\n",
    "\n",
    "\n",
    "    display(display_df.style.highlight_max(color='lightgreen').highlight_min(color='#cd4f39'))"
   ]
  },
  {
   "cell_type": "code",
   "execution_count": null,
   "metadata": {},
   "outputs": [],
   "source": []
  },
  {
   "cell_type": "code",
   "execution_count": null,
   "metadata": {},
   "outputs": [],
   "source": []
  },
  {
   "cell_type": "code",
   "execution_count": null,
   "metadata": {},
   "outputs": [],
   "source": []
  }
 ],
 "metadata": {
  "kernelspec": {
   "display_name": "Python 3",
   "language": "python",
   "name": "python3"
  },
  "language_info": {
   "codemirror_mode": {
    "name": "ipython",
    "version": 3
   },
   "file_extension": ".py",
   "mimetype": "text/x-python",
   "name": "python",
   "nbconvert_exporter": "python",
   "pygments_lexer": "ipython3",
   "version": "3.8.5"
  }
 },
 "nbformat": 4,
 "nbformat_minor": 4
}
